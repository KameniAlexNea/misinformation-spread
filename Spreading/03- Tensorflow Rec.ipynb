{
 "cells": [
  {
   "cell_type": "raw",
   "id": "880bf7f8-c377-48d6-b426-c2f7fdee8296",
   "metadata": {},
   "source": [
    "!wget http://nlp.stanford.edu/data/glove.6B.zip\n",
    "!unzip -q glove.6B.zip"
   ]
  },
  {
   "cell_type": "raw",
   "id": "776b2696-8497-4db2-b485-870b62e0bcbb",
   "metadata": {},
   "source": [
    "import os\n",
    "import numpy as np\n",
    "\n",
    "path_to_glove_file = \"./glove.6B.100d.txt\"\n",
    "embeddings_index = {}\n",
    "with open(path_to_glove_file) as f:\n",
    "    for line in f:\n",
    "        word, coefs = line.split(maxsplit=1)\n",
    "        coefs = np.fromstring(coefs, \"f\", sep=\" \")\n",
    "        embeddings_index[word] = coefs\n",
    "\n",
    "print(\"Found %s word vectors.\" % len(embeddings_index))"
   ]
  },
  {
   "cell_type": "code",
   "execution_count": 1,
   "id": "563a57fb-1c87-4dcc-8991-4e2c6f1adace",
   "metadata": {},
   "outputs": [],
   "source": [
    "import os\n",
    "import datetime\n",
    "\n",
    "import IPython\n",
    "import IPython.display\n",
    "import matplotlib as mpl\n",
    "import matplotlib.pyplot as plt\n",
    "import numpy as np\n",
    "import pandas as pd\n",
    "import seaborn as sns\n",
    "import warnings\n",
    "from IPython.display import Markdown\n",
    "from IPython.display import display\n",
    "\n",
    "import glob\n",
    "import json\n",
    "import warnings\n",
    "import networkx as nx\n",
    "import collections\n",
    "\n",
    "mpl.rcParams['figure.figsize'] = (8, 6)\n",
    "mpl.rcParams['axes.grid'] = False\n",
    "\n",
    "warnings.filterwarnings(\"ignore\")\n",
    "plt.style.use('seaborn-whitegrid')"
   ]
  },
  {
   "cell_type": "code",
   "execution_count": 2,
   "id": "09cf2cb3-3936-4b68-afca-5bc1abb1b232",
   "metadata": {},
   "outputs": [],
   "source": [
    "from typing import Dict, Text\n",
    "\n",
    "import numpy as np\n",
    "import tensorflow as tf\n",
    "\n",
    "import tensorflow_datasets as tfds\n",
    "import tensorflow_recommenders as tfrs"
   ]
  },
  {
   "cell_type": "code",
   "execution_count": 3,
   "id": "0cff77d2-488b-42f9-9a6d-baa2bf1c6352",
   "metadata": {},
   "outputs": [
    {
     "name": "stdout",
     "output_type": "stream",
     "text": [
      "DiGraph with 77118 nodes and 6673 edges\n"
     ]
    }
   ],
   "source": [
    "graph = nx.read_gpickle(\"./fakes_tweets/small_graph.pkl\")\n",
    "\n",
    "print(graph)"
   ]
  },
  {
   "cell_type": "code",
   "execution_count": 4,
   "id": "7090a04b-800a-4baa-956d-8a1728c0c692",
   "metadata": {},
   "outputs": [
    {
     "data": {
      "text/plain": [
       "77118"
      ]
     },
     "execution_count": 4,
     "metadata": {},
     "output_type": "execute_result"
    }
   ],
   "source": [
    "nodes = nx.get_node_attributes(graph, \"author_id\")\n",
    "len(nodes)"
   ]
  },
  {
   "cell_type": "code",
   "execution_count": 5,
   "id": "e8377d11-22ef-4173-b6bd-7a8784f4e69f",
   "metadata": {},
   "outputs": [
    {
     "name": "stdout",
     "output_type": "stream",
     "text": [
      "DiGraph with 77118 nodes and 6673 edges\n"
     ]
    }
   ],
   "source": [
    "graph = graph.subgraph(list(nodes.keys()))\n",
    "print(graph)"
   ]
  },
  {
   "cell_type": "markdown",
   "id": "60e80ba1-8cef-4f21-aa3c-b20e188072a1",
   "metadata": {},
   "source": [
    "## Build dataset"
   ]
  },
  {
   "cell_type": "code",
   "execution_count": 6,
   "id": "97d62ad1-384c-455e-8d1d-72b191e29804",
   "metadata": {},
   "outputs": [],
   "source": [
    "def construct_ds(graph: nx.DiGraph):\n",
    "    user_replies = []\n",
    "    user_ids = []\n",
    "    for n_id, data in graph.nodes(data=True):\n",
    "        if \"text\" in data:\n",
    "            \"\"\"user_replies.append({\n",
    "                \"user_ids\": str(data[\"author_id\"]),\n",
    "                \"text\": str(data[\"text\"]),\n",
    "                \"tweet_id\": str(n_id)\n",
    "            })\"\"\"\n",
    "            for e_id in graph.successors(n_id):\n",
    "                u_id = graph.nodes[e_id].get(\"author_id\", None)\n",
    "                if not (u_id is None):\n",
    "                    user_replies.append({\n",
    "                        \"user_ids\": u_id,\n",
    "                        \"text\": data[\"text\"],\n",
    "                        \"tweet_id\": n_id\n",
    "                    })\n",
    "                    user_ids.append([n_id, u_id])\n",
    "                else:\n",
    "                    print(u_id)\n",
    "    return user_replies, user_ids"
   ]
  },
  {
   "cell_type": "code",
   "execution_count": 7,
   "id": "1c5539d4-58a0-4249-89e4-0c363b6c694c",
   "metadata": {},
   "outputs": [
    {
     "name": "stdout",
     "output_type": "stream",
     "text": [
      "6673 6673\n"
     ]
    }
   ],
   "source": [
    "user_replies, user_ids = construct_ds(graph)\n",
    "\n",
    "# print(user_ids[0])\n",
    "print(len(user_ids), len(user_replies))"
   ]
  },
  {
   "cell_type": "code",
   "execution_count": 8,
   "id": "4d11dbc1-4a70-4ac4-a43a-090280f3c26c",
   "metadata": {},
   "outputs": [
    {
     "data": {
      "text/plain": [
       "dict_keys(['user_ids', 'text', 'tweet_id'])"
      ]
     },
     "execution_count": 8,
     "metadata": {},
     "output_type": "execute_result"
    }
   ],
   "source": [
    "user_replies[0].keys()"
   ]
  },
  {
   "cell_type": "code",
   "execution_count": 9,
   "id": "4338adb8-4607-4ce6-b934-87b61bfdae2d",
   "metadata": {},
   "outputs": [
    {
     "data": {
      "text/html": [
       "<div>\n",
       "<style scoped>\n",
       "    .dataframe tbody tr th:only-of-type {\n",
       "        vertical-align: middle;\n",
       "    }\n",
       "\n",
       "    .dataframe tbody tr th {\n",
       "        vertical-align: top;\n",
       "    }\n",
       "\n",
       "    .dataframe thead th {\n",
       "        text-align: right;\n",
       "    }\n",
       "</style>\n",
       "<table border=\"1\" class=\"dataframe\">\n",
       "  <thead>\n",
       "    <tr style=\"text-align: right;\">\n",
       "      <th></th>\n",
       "      <th>user_ids</th>\n",
       "      <th>text</th>\n",
       "      <th>tweet_id</th>\n",
       "    </tr>\n",
       "  </thead>\n",
       "  <tbody>\n",
       "    <tr>\n",
       "      <th>6659</th>\n",
       "      <td>199585426</td>\n",
       "      <td>A Discussion about Fraud and \"Vaccines\" and th...</td>\n",
       "      <td>1505526927259484163</td>\n",
       "    </tr>\n",
       "    <tr>\n",
       "      <th>1352</th>\n",
       "      <td>454007741</td>\n",
       "      <td>Doug Ford won't allow masks to be mandated in ...</td>\n",
       "      <td>1505523012610707456</td>\n",
       "    </tr>\n",
       "    <tr>\n",
       "      <th>5174</th>\n",
       "      <td>850710096032092160</td>\n",
       "      <td>I was thinking how good it would be if all of ...</td>\n",
       "      <td>1505398251658219522</td>\n",
       "    </tr>\n",
       "    <tr>\n",
       "      <th>5940</th>\n",
       "      <td>136591386</td>\n",
       "      <td>Sleazy is raking in £7MILLION A DAY in VAT on ...</td>\n",
       "      <td>1505692221844209665</td>\n",
       "    </tr>\n",
       "    <tr>\n",
       "      <th>330</th>\n",
       "      <td>28375334</td>\n",
       "      <td>How could a box \"KC Novel Coronavirus Vaccine\"...</td>\n",
       "      <td>1505376114256003075</td>\n",
       "    </tr>\n",
       "    <tr>\n",
       "      <th>5136</th>\n",
       "      <td>1491776087684104193</td>\n",
       "      <td>#stayhome #onlinejobs Accounts Payable Clerk -...</td>\n",
       "      <td>1505033052904468487</td>\n",
       "    </tr>\n",
       "    <tr>\n",
       "      <th>5848</th>\n",
       "      <td>1485439106578456577</td>\n",
       "      <td>REAL PEOPLE ARE REALLY DYING FROM #COVID BECAU...</td>\n",
       "      <td>1505625081053171712</td>\n",
       "    </tr>\n",
       "    <tr>\n",
       "      <th>3553</th>\n",
       "      <td>120603927</td>\n",
       "      <td>And it’s because of people like you that no on...</td>\n",
       "      <td>1505581030916431883</td>\n",
       "    </tr>\n",
       "    <tr>\n",
       "      <th>3570</th>\n",
       "      <td>1160964450</td>\n",
       "      <td>And it’s because of people like you that no on...</td>\n",
       "      <td>1505581030916431883</td>\n",
       "    </tr>\n",
       "    <tr>\n",
       "      <th>2626</th>\n",
       "      <td>964336968812253184</td>\n",
       "      <td>Blessings \\n🙏 \\n. https://t.co/c2t3pX1RH9</td>\n",
       "      <td>1505401161314373632</td>\n",
       "    </tr>\n",
       "  </tbody>\n",
       "</table>\n",
       "</div>"
      ],
      "text/plain": [
       "                 user_ids                                               text  \\\n",
       "6659            199585426  A Discussion about Fraud and \"Vaccines\" and th...   \n",
       "1352            454007741  Doug Ford won't allow masks to be mandated in ...   \n",
       "5174   850710096032092160  I was thinking how good it would be if all of ...   \n",
       "5940            136591386  Sleazy is raking in £7MILLION A DAY in VAT on ...   \n",
       "330              28375334  How could a box \"KC Novel Coronavirus Vaccine\"...   \n",
       "5136  1491776087684104193  #stayhome #onlinejobs Accounts Payable Clerk -...   \n",
       "5848  1485439106578456577  REAL PEOPLE ARE REALLY DYING FROM #COVID BECAU...   \n",
       "3553            120603927  And it’s because of people like you that no on...   \n",
       "3570           1160964450  And it’s because of people like you that no on...   \n",
       "2626   964336968812253184          Blessings \\n🙏 \\n. https://t.co/c2t3pX1RH9   \n",
       "\n",
       "                 tweet_id  \n",
       "6659  1505526927259484163  \n",
       "1352  1505523012610707456  \n",
       "5174  1505398251658219522  \n",
       "5940  1505692221844209665  \n",
       "330   1505376114256003075  \n",
       "5136  1505033052904468487  \n",
       "5848  1505625081053171712  \n",
       "3553  1505581030916431883  \n",
       "3570  1505581030916431883  \n",
       "2626  1505401161314373632  "
      ]
     },
     "execution_count": 9,
     "metadata": {},
     "output_type": "execute_result"
    }
   ],
   "source": [
    "df = pd.DataFrame(user_replies)\n",
    "df.sample(10)"
   ]
  },
  {
   "cell_type": "code",
   "execution_count": 10,
   "id": "8fda91fc-f606-4c1f-84ca-526182b0e193",
   "metadata": {},
   "outputs": [
    {
     "data": {
      "text/plain": [
       "count    2318.000000\n",
       "mean        2.878775\n",
       "std         4.507555\n",
       "min         1.000000\n",
       "25%         1.000000\n",
       "50%         2.000000\n",
       "75%         3.000000\n",
       "max        77.000000\n",
       "Name: user_ids, dtype: float64"
      ]
     },
     "execution_count": 10,
     "metadata": {},
     "output_type": "execute_result"
    }
   ],
   "source": [
    "user_count = df.user_ids.value_counts().sort_values()\n",
    "user_count.describe()"
   ]
  },
  {
   "cell_type": "code",
   "execution_count": 11,
   "id": "f7f0583e-f10a-4e6f-a29c-58dfce6ca3c6",
   "metadata": {},
   "outputs": [
    {
     "data": {
      "text/plain": [
       "(297,)"
      ]
     },
     "execution_count": 11,
     "metadata": {},
     "output_type": "execute_result"
    }
   ],
   "source": [
    "user_count = user_count[user_count>4]\n",
    "user_count.shape"
   ]
  },
  {
   "cell_type": "code",
   "execution_count": 12,
   "id": "679cea4a-c29e-4bce-b35d-4dacc5481357",
   "metadata": {},
   "outputs": [
    {
     "data": {
      "text/plain": [
       "(3114, 3)"
      ]
     },
     "execution_count": 12,
     "metadata": {},
     "output_type": "execute_result"
    }
   ],
   "source": [
    "df = df[df.user_ids.isin(user_count.index)]\n",
    "df.shape"
   ]
  },
  {
   "cell_type": "code",
   "execution_count": 13,
   "id": "693fdfbf-efea-401a-a36e-279d2427d8ee",
   "metadata": {},
   "outputs": [],
   "source": [
    "df[\"text\"] = df.text.apply(lambda x: \" \".join(tf.keras.preprocessing.text.text_to_word_sequence(x)))"
   ]
  },
  {
   "cell_type": "code",
   "execution_count": 14,
   "id": "ec664fa2-e60d-4608-92c0-640b3d97c733",
   "metadata": {},
   "outputs": [],
   "source": [
    "np.random.seed(1000)"
   ]
  },
  {
   "cell_type": "code",
   "execution_count": 15,
   "id": "99aae885-a0de-4f34-a249-e9bd0fefa9dd",
   "metadata": {},
   "outputs": [],
   "source": [
    "train = df.groupby(\"user_ids\").sample(frac=0.8)\n",
    "test = df.drop(index=train.index)"
   ]
  },
  {
   "cell_type": "code",
   "execution_count": 16,
   "id": "3c3bdebb-9832-426a-ab6d-9159d72039d7",
   "metadata": {},
   "outputs": [
    {
     "data": {
      "text/plain": [
       "((3114, 3), (2504, 3), (610, 3))"
      ]
     },
     "execution_count": 16,
     "metadata": {},
     "output_type": "execute_result"
    }
   ],
   "source": [
    "df.shape, train.shape, test.shape"
   ]
  },
  {
   "cell_type": "code",
   "execution_count": 17,
   "id": "b119f4ef-1f60-4d44-acdf-9a90b4df8504",
   "metadata": {},
   "outputs": [
    {
     "name": "stdout",
     "output_type": "stream",
     "text": [
      "<class 'pandas.core.frame.DataFrame'>\n",
      "Int64Index: 3114 entries, 0 to 6670\n",
      "Data columns (total 3 columns):\n",
      " #   Column    Non-Null Count  Dtype \n",
      "---  ------    --------------  ----- \n",
      " 0   user_ids  3114 non-null   object\n",
      " 1   text      3114 non-null   object\n",
      " 2   tweet_id  3114 non-null   object\n",
      "dtypes: object(3)\n",
      "memory usage: 161.9+ KB\n"
     ]
    }
   ],
   "source": [
    "df.info()"
   ]
  },
  {
   "cell_type": "code",
   "execution_count": 18,
   "id": "4a7a2f2a-0895-4465-b90f-7d54eb219f0e",
   "metadata": {},
   "outputs": [],
   "source": [
    "def apply_embedding(x):\n",
    "    return list(x)[0]"
   ]
  },
  {
   "cell_type": "raw",
   "id": "91219d59-a334-470a-9fbc-afba1a5b9906",
   "metadata": {},
   "source": [
    "tweet_repr.to_csv(\"./tweet_repr.csv\", index=True)"
   ]
  },
  {
   "cell_type": "code",
   "execution_count": 19,
   "id": "d0323048-c0ba-45cf-b441-395d4170e063",
   "metadata": {},
   "outputs": [
    {
     "data": {
      "text/html": [
       "<div>\n",
       "<style scoped>\n",
       "    .dataframe tbody tr th:only-of-type {\n",
       "        vertical-align: middle;\n",
       "    }\n",
       "\n",
       "    .dataframe tbody tr th {\n",
       "        vertical-align: top;\n",
       "    }\n",
       "\n",
       "    .dataframe thead th {\n",
       "        text-align: right;\n",
       "    }\n",
       "</style>\n",
       "<table border=\"1\" class=\"dataframe\">\n",
       "  <thead>\n",
       "    <tr style=\"text-align: right;\">\n",
       "      <th></th>\n",
       "      <th>text</th>\n",
       "    </tr>\n",
       "    <tr>\n",
       "      <th>tweet_id</th>\n",
       "      <th></th>\n",
       "    </tr>\n",
       "  </thead>\n",
       "  <tbody>\n",
       "    <tr>\n",
       "      <th>1504992458111086592</th>\n",
       "      <td>safeschoolsny tedhminhi drleanawen wolfblitzer...</td>\n",
       "    </tr>\n",
       "    <tr>\n",
       "      <th>1504992768506368001</th>\n",
       "      <td>graham moloney2 in au watch video premier of n...</td>\n",
       "    </tr>\n",
       "    <tr>\n",
       "      <th>1504992890740686850</th>\n",
       "      <td>integrity is a good look ocdsb should take not...</td>\n",
       "    </tr>\n",
       "    <tr>\n",
       "      <th>1504993470888488971</th>\n",
       "      <td>pfizermule my goodness contrarian non experts ...</td>\n",
       "    </tr>\n",
       "    <tr>\n",
       "      <th>1504994082732797953</th>\n",
       "      <td>9 in 10 covid deaths are in vaccinated people ...</td>\n",
       "    </tr>\n",
       "  </tbody>\n",
       "</table>\n",
       "</div>"
      ],
      "text/plain": [
       "                                                                  text\n",
       "tweet_id                                                              \n",
       "1504992458111086592  safeschoolsny tedhminhi drleanawen wolfblitzer...\n",
       "1504992768506368001  graham moloney2 in au watch video premier of n...\n",
       "1504992890740686850  integrity is a good look ocdsb should take not...\n",
       "1504993470888488971  pfizermule my goodness contrarian non experts ...\n",
       "1504994082732797953  9 in 10 covid deaths are in vaccinated people ..."
      ]
     },
     "execution_count": 19,
     "metadata": {},
     "output_type": "execute_result"
    }
   ],
   "source": [
    "tweet_repr = df.groupby(\"tweet_id\").agg({\"text\": apply_embedding})\n",
    "tweet_repr.head()"
   ]
  },
  {
   "cell_type": "code",
   "execution_count": 20,
   "id": "a313809b-ad20-4342-914a-1ba5b0e46e6c",
   "metadata": {},
   "outputs": [
    {
     "data": {
      "text/plain": [
       "(1210, 1)"
      ]
     },
     "execution_count": 20,
     "metadata": {},
     "output_type": "execute_result"
    }
   ],
   "source": [
    "tweet_repr.shape"
   ]
  },
  {
   "cell_type": "code",
   "execution_count": 21,
   "id": "a99a56ac-441a-4faa-a83b-bb5cd30efeab",
   "metadata": {},
   "outputs": [],
   "source": [
    "tweet_replies = tf.data.Dataset.from_tensor_slices(\n",
    "    {\n",
    "        \"text\": train.text.values,\n",
    "        \"user_id\": train.user_ids.values\n",
    "    }\n",
    ")\n",
    "\n",
    "test_replies = tf.data.Dataset.from_tensor_slices(\n",
    "    {\n",
    "        \"text\": test.text.values,\n",
    "        \"user_id\": test.user_ids.values\n",
    "    }\n",
    ")\n",
    "\n",
    "tweets = tf.data.Dataset.from_generator(\n",
    "    lambda: train.text.unique(),\n",
    "    tf.string, output_shapes= ()\n",
    ")"
   ]
  },
  {
   "cell_type": "code",
   "execution_count": 22,
   "id": "2d85197d-d075-4208-a045-f2cb0ba898e0",
   "metadata": {},
   "outputs": [
    {
     "data": {
      "text/plain": [
       "<TensorSliceDataset element_spec={'text': TensorSpec(shape=(), dtype=tf.string, name=None), 'user_id': TensorSpec(shape=(), dtype=tf.string, name=None)}>"
      ]
     },
     "execution_count": 22,
     "metadata": {},
     "output_type": "execute_result"
    }
   ],
   "source": [
    "tweet_replies"
   ]
  },
  {
   "cell_type": "code",
   "execution_count": 23,
   "id": "9224c633-10c2-4bd8-af33-86c80b90b99c",
   "metadata": {},
   "outputs": [
    {
     "data": {
      "text/plain": [
       "<FlatMapDataset element_spec=TensorSpec(shape=(), dtype=tf.string, name=None)>"
      ]
     },
     "execution_count": 23,
     "metadata": {},
     "output_type": "execute_result"
    }
   ],
   "source": [
    "tweets"
   ]
  },
  {
   "cell_type": "code",
   "execution_count": 24,
   "id": "7c405f3e-08d8-48a7-9aff-e061cbad8456",
   "metadata": {},
   "outputs": [
    {
     "name": "stdout",
     "output_type": "stream",
     "text": [
      "297\n"
     ]
    }
   ],
   "source": [
    "users = set(df.user_ids)\n",
    "print(len(users))"
   ]
  },
  {
   "cell_type": "code",
   "execution_count": 25,
   "id": "c97f6e82-7ab9-47a5-8204-855b4dc1fa0b",
   "metadata": {},
   "outputs": [],
   "source": [
    "class UserModel(tf.keras.Model):\n",
    "    def __init__(self, users_id, embedding_size=64):\n",
    "        super().__init__()\n",
    "        \n",
    "        users_id = list(set(users_id))\n",
    "\n",
    "        self.user_embedding = tf.keras.Sequential([\n",
    "            tf.keras.layers.StringLookup(\n",
    "                vocabulary=users_id, mask_token=None),\n",
    "            tf.keras.layers.Embedding(len(users_id) + 1, embedding_size),\n",
    "        ])\n",
    "\n",
    "    def call(self, inputs):\n",
    "        # Take the input dictionary, pass it through each input layer,\n",
    "        # and concatenate the result.\n",
    "        return self.user_embedding(inputs[\"user_id\"])"
   ]
  },
  {
   "cell_type": "code",
   "execution_count": 26,
   "id": "e97a695d-aded-4644-ae04-1b1dca2c1e91",
   "metadata": {},
   "outputs": [],
   "source": [
    "class QueryModel(tf.keras.Model):\n",
    "    \"\"\"Model for encoding user queries.\"\"\"\n",
    "\n",
    "    def __init__(self, users_id, layer_sizes, embedding_size=64):\n",
    "        \"\"\"Model for encoding user queries.\n",
    "\n",
    "        Args:\n",
    "          layer_sizes:\n",
    "            A list of integers where the i-th entry represents the number of units\n",
    "            the i-th layer contains.\n",
    "        \"\"\"\n",
    "        super().__init__()\n",
    "\n",
    "        # We first use the user model for generating embeddings.\n",
    "        self.embedding_model = UserModel(users_id, embedding_size)\n",
    "\n",
    "        # Then construct the layers.\n",
    "        self.dense_layers = tfrs.layers.blocks.MLP(\n",
    "            units = layer_sizes,\n",
    "            use_bias = True,\n",
    "            activation = 'relu',\n",
    "            final_activation = None\n",
    "        )\n",
    "\n",
    "    def call(self, inputs):\n",
    "        feature_embedding = self.embedding_model(inputs)\n",
    "        return self.dense_layers(feature_embedding)"
   ]
  },
  {
   "cell_type": "code",
   "execution_count": 27,
   "id": "b5152276-e414-4638-a7f2-837eb72f1721",
   "metadata": {},
   "outputs": [],
   "source": [
    "class TweetModel(tf.keras.Model):\n",
    "    def __init__(self, tweets, embedding_dim = 100, max_tokens = 10000):\n",
    "        super().__init__()\n",
    "        \n",
    "        self.tweet_vectorizer = tf.keras.layers.TextVectorization(\n",
    "            max_tokens=max_tokens,)\n",
    "        self.tweet_vectorizer.adapt(tweets)\n",
    "            \n",
    "        self.tweet_text_embedding = tf.keras.Sequential([\n",
    "            self.tweet_vectorizer,\n",
    "            tf.keras.layers.Embedding(\n",
    "                max_tokens, \n",
    "                embedding_dim,\n",
    "            ),\n",
    "            tf.keras.layers.GlobalAveragePooling1D(),\n",
    "        ])\n",
    "\n",
    "    def call(self, tweets):\n",
    "        return self.tweet_text_embedding(tweets)"
   ]
  },
  {
   "cell_type": "code",
   "execution_count": 28,
   "id": "f4e917f3-cc50-43dc-bed3-20e1d4e10053",
   "metadata": {},
   "outputs": [],
   "source": [
    "class CandidateModel(tf.keras.Model):\n",
    "    \"\"\"Model for encoding movies.\"\"\"\n",
    "\n",
    "    def __init__(self, tweets, layer_sizes, embedding_dim = 100,  max_tokens = 10000):\n",
    "        \"\"\"Model for encoding movies.\n",
    "\n",
    "        Args:\n",
    "          layer_sizes:\n",
    "            A list of integers where the i-th entry represents the number of units\n",
    "            the i-th layer contains.\n",
    "        \"\"\"\n",
    "        super().__init__()\n",
    "\n",
    "        self.embedding_model = TweetModel(tweets, embedding_dim, max_tokens)\n",
    "\n",
    "        # Then construct the layers.\n",
    "        self.dense_layers = tfrs.layers.blocks.MLP(\n",
    "            units = layer_sizes,\n",
    "            use_bias = True,\n",
    "            activation = 'relu',\n",
    "            final_activation = None\n",
    "        )\n",
    "\n",
    "    def call(self, inputs):\n",
    "        feature_embedding = self.embedding_model(inputs)\n",
    "        return self.dense_layers(feature_embedding)"
   ]
  },
  {
   "cell_type": "code",
   "execution_count": 29,
   "id": "929b3e5a-49d2-44c1-bac2-a37ddb32b076",
   "metadata": {},
   "outputs": [],
   "source": [
    "class TweetRecModel(tfrs.models.Model):\n",
    "\n",
    "    def __init__(self, tweets, layer_sizes, users_id, user_embedding_dim = 100, tweet_embedding_size=64, max_tokens = 10000):\n",
    "        super().__init__()\n",
    "        self.query_model = QueryModel(users_id, layer_sizes, user_embedding_dim)\n",
    "        self.candidate_model = CandidateModel(tweets, layer_sizes, tweet_embedding_size,  max_tokens)\n",
    "        self.task = tfrs.tasks.Retrieval(\n",
    "            metrics=tfrs.metrics.FactorizedTopK(\n",
    "                candidates=tweets.batch(1024).map(self.candidate_model),\n",
    "                # k=4\n",
    "            ),\n",
    "        )\n",
    "\n",
    "    def compute_loss(self, features, training=False):\n",
    "        query_embeddings = self.query_model({\n",
    "            \"user_id\": features[\"user_id\"],\n",
    "        })\n",
    "        movie_embeddings = self.candidate_model(features[\"text\"])\n",
    "        return self.task(\n",
    "            query_embeddings, movie_embeddings, compute_metrics=not training) # "
   ]
  },
  {
   "cell_type": "code",
   "execution_count": 30,
   "id": "38835a70-87d2-432b-884e-c7017d5be956",
   "metadata": {},
   "outputs": [],
   "source": [
    "tf.random.set_seed(42)\n",
    "shuffled = tweet_replies.shuffle(100_000, seed=42, reshuffle_each_iteration=False)"
   ]
  },
  {
   "cell_type": "code",
   "execution_count": 31,
   "id": "46305dd2-0b16-4d64-b627-3e23915364da",
   "metadata": {},
   "outputs": [],
   "source": [
    "cached_train = shuffled.batch(64)\n",
    "cached_test = test_replies.batch(1024).cache()"
   ]
  },
  {
   "cell_type": "code",
   "execution_count": 32,
   "id": "ec1f9d02-de02-44ae-94dd-ad94c6837d9d",
   "metadata": {},
   "outputs": [
    {
     "data": {
      "text/plain": [
       "<CacheDataset element_spec={'text': TensorSpec(shape=(None,), dtype=tf.string, name=None), 'user_id': TensorSpec(shape=(None,), dtype=tf.string, name=None)}>"
      ]
     },
     "execution_count": 32,
     "metadata": {},
     "output_type": "execute_result"
    }
   ],
   "source": [
    "cached_test"
   ]
  },
  {
   "cell_type": "code",
   "execution_count": 33,
   "id": "86f74146-d91e-47e0-a07b-98e82aed7fcd",
   "metadata": {},
   "outputs": [],
   "source": [
    "num_epochs = 100\n",
    "\n",
    "model = TweetRecModel(\n",
    "    tweets=tweets, \n",
    "    layer_sizes=[500, 250, 64], # 500, 250,\n",
    "    users_id=list(users), \n",
    "    user_embedding_dim = 100, \n",
    "    tweet_embedding_size=100, \n",
    "    max_tokens = 10000\n",
    ")\n",
    "\n",
    "model.compile(optimizer=tf.keras.optimizers.Adam(\n",
    "    learning_rate=tf.keras.optimizers.schedules.ExponentialDecay(\n",
    "    initial_learning_rate=0.005,\n",
    "    decay_steps=15,\n",
    "    decay_rate=0.98,\n",
    "    staircase=True)\n",
    "))"
   ]
  },
  {
   "cell_type": "code",
   "execution_count": 34,
   "id": "8908e27f-627d-4477-8475-89ceb0cbb2f0",
   "metadata": {},
   "outputs": [],
   "source": [
    "my_callbacks = [\n",
    "    tf.keras.callbacks.EarlyStopping(patience=3),\n",
    "]"
   ]
  },
  {
   "cell_type": "code",
   "execution_count": 35,
   "id": "f196c340-3dfe-4206-b9bb-7d883306a2ce",
   "metadata": {
    "collapsed": true,
    "jupyter": {
     "outputs_hidden": true
    },
    "tags": []
   },
   "outputs": [
    {
     "name": "stdout",
     "output_type": "stream",
     "text": [
      "Epoch 1/100\n",
      "39/40 [============================>.] - ETA: 0s - factorized_top_k/top_1_categorical_accuracy: 0.0000e+00 - factorized_top_k/top_5_categorical_accuracy: 0.0000e+00 - factorized_top_k/top_10_categorical_accuracy: 0.0000e+00 - factorized_top_k/top_50_categorical_accuracy: 0.0000e+00 - factorized_top_k/top_100_categorical_accuracy: 0.0000e+00 - loss: 249.0064 - regularization_loss: 0.0000e+00 - total_loss: 249.0064WARNING:tensorflow:Early stopping conditioned on metric `val_loss` which is not available. Available metrics are: factorized_top_k/top_1_categorical_accuracy,factorized_top_k/top_5_categorical_accuracy,factorized_top_k/top_10_categorical_accuracy,factorized_top_k/top_50_categorical_accuracy,factorized_top_k/top_100_categorical_accuracy,loss,regularization_loss,total_loss\n",
      "40/40 [==============================] - 1s 10ms/step - factorized_top_k/top_1_categorical_accuracy: 0.0000e+00 - factorized_top_k/top_5_categorical_accuracy: 0.0000e+00 - factorized_top_k/top_10_categorical_accuracy: 0.0000e+00 - factorized_top_k/top_50_categorical_accuracy: 0.0000e+00 - factorized_top_k/top_100_categorical_accuracy: 0.0000e+00 - loss: 237.5231 - regularization_loss: 0.0000e+00 - total_loss: 237.5231\n",
      "Epoch 2/100\n",
      "35/40 [=========================>....] - ETA: 0s - factorized_top_k/top_1_categorical_accuracy: 0.0000e+00 - factorized_top_k/top_5_categorical_accuracy: 0.0000e+00 - factorized_top_k/top_10_categorical_accuracy: 0.0000e+00 - factorized_top_k/top_50_categorical_accuracy: 0.0000e+00 - factorized_top_k/top_100_categorical_accuracy: 0.0000e+00 - loss: 216.8926 - regularization_loss: 0.0000e+00 - total_loss: 216.8926WARNING:tensorflow:Early stopping conditioned on metric `val_loss` which is not available. Available metrics are: factorized_top_k/top_1_categorical_accuracy,factorized_top_k/top_5_categorical_accuracy,factorized_top_k/top_10_categorical_accuracy,factorized_top_k/top_50_categorical_accuracy,factorized_top_k/top_100_categorical_accuracy,loss,regularization_loss,total_loss\n",
      "40/40 [==============================] - 0s 10ms/step - factorized_top_k/top_1_categorical_accuracy: 0.0000e+00 - factorized_top_k/top_5_categorical_accuracy: 0.0000e+00 - factorized_top_k/top_10_categorical_accuracy: 0.0000e+00 - factorized_top_k/top_50_categorical_accuracy: 0.0000e+00 - factorized_top_k/top_100_categorical_accuracy: 0.0000e+00 - loss: 206.9880 - regularization_loss: 0.0000e+00 - total_loss: 206.9880\n",
      "Epoch 3/100\n",
      "40/40 [==============================] - ETA: 0s - factorized_top_k/top_1_categorical_accuracy: 0.0000e+00 - factorized_top_k/top_5_categorical_accuracy: 0.0000e+00 - factorized_top_k/top_10_categorical_accuracy: 0.0000e+00 - factorized_top_k/top_50_categorical_accuracy: 0.0000e+00 - factorized_top_k/top_100_categorical_accuracy: 0.0000e+00 - loss: 201.6086 - regularization_loss: 0.0000e+00 - total_loss: 201.6086WARNING:tensorflow:Early stopping conditioned on metric `val_loss` which is not available. Available metrics are: factorized_top_k/top_1_categorical_accuracy,factorized_top_k/top_5_categorical_accuracy,factorized_top_k/top_10_categorical_accuracy,factorized_top_k/top_50_categorical_accuracy,factorized_top_k/top_100_categorical_accuracy,loss,regularization_loss,total_loss\n",
      "40/40 [==============================] - 0s 10ms/step - factorized_top_k/top_1_categorical_accuracy: 0.0000e+00 - factorized_top_k/top_5_categorical_accuracy: 0.0000e+00 - factorized_top_k/top_10_categorical_accuracy: 0.0000e+00 - factorized_top_k/top_50_categorical_accuracy: 0.0000e+00 - factorized_top_k/top_100_categorical_accuracy: 0.0000e+00 - loss: 196.9551 - regularization_loss: 0.0000e+00 - total_loss: 196.9551\n",
      "Epoch 4/100\n",
      "36/40 [==========================>...] - ETA: 0s - factorized_top_k/top_1_categorical_accuracy: 0.0000e+00 - factorized_top_k/top_5_categorical_accuracy: 0.0000e+00 - factorized_top_k/top_10_categorical_accuracy: 0.0000e+00 - factorized_top_k/top_50_categorical_accuracy: 0.0000e+00 - factorized_top_k/top_100_categorical_accuracy: 0.0000e+00 - loss: 196.9950 - regularization_loss: 0.0000e+00 - total_loss: 196.9950WARNING:tensorflow:Early stopping conditioned on metric `val_loss` which is not available. Available metrics are: factorized_top_k/top_1_categorical_accuracy,factorized_top_k/top_5_categorical_accuracy,factorized_top_k/top_10_categorical_accuracy,factorized_top_k/top_50_categorical_accuracy,factorized_top_k/top_100_categorical_accuracy,loss,regularization_loss,total_loss\n",
      "40/40 [==============================] - 0s 10ms/step - factorized_top_k/top_1_categorical_accuracy: 0.0000e+00 - factorized_top_k/top_5_categorical_accuracy: 0.0000e+00 - factorized_top_k/top_10_categorical_accuracy: 0.0000e+00 - factorized_top_k/top_50_categorical_accuracy: 0.0000e+00 - factorized_top_k/top_100_categorical_accuracy: 0.0000e+00 - loss: 188.1961 - regularization_loss: 0.0000e+00 - total_loss: 188.1961\n",
      "Epoch 5/100\n",
      "40/40 [==============================] - 1s 26ms/step - factorized_top_k/top_1_categorical_accuracy: 0.0000e+00 - factorized_top_k/top_5_categorical_accuracy: 0.0000e+00 - factorized_top_k/top_10_categorical_accuracy: 0.0000e+00 - factorized_top_k/top_50_categorical_accuracy: 0.0000e+00 - factorized_top_k/top_100_categorical_accuracy: 0.0000e+00 - loss: 186.3003 - regularization_loss: 0.0000e+00 - total_loss: 186.3003 - val_factorized_top_k/top_1_categorical_accuracy: 0.0885 - val_factorized_top_k/top_5_categorical_accuracy: 0.2148 - val_factorized_top_k/top_10_categorical_accuracy: 0.2639 - val_factorized_top_k/top_50_categorical_accuracy: 0.5033 - val_factorized_top_k/top_100_categorical_accuracy: 0.6590 - val_loss: 3323.3186 - val_regularization_loss: 0.0000e+00 - val_total_loss: 3323.3186\n",
      "Epoch 6/100\n",
      "36/40 [==========================>...] - ETA: 0s - factorized_top_k/top_1_categorical_accuracy: 0.0000e+00 - factorized_top_k/top_5_categorical_accuracy: 0.0000e+00 - factorized_top_k/top_10_categorical_accuracy: 0.0000e+00 - factorized_top_k/top_50_categorical_accuracy: 0.0000e+00 - factorized_top_k/top_100_categorical_accuracy: 0.0000e+00 - loss: 189.9802 - regularization_loss: 0.0000e+00 - total_loss: 189.9802WARNING:tensorflow:Early stopping conditioned on metric `val_loss` which is not available. Available metrics are: factorized_top_k/top_1_categorical_accuracy,factorized_top_k/top_5_categorical_accuracy,factorized_top_k/top_10_categorical_accuracy,factorized_top_k/top_50_categorical_accuracy,factorized_top_k/top_100_categorical_accuracy,loss,regularization_loss,total_loss\n",
      "40/40 [==============================] - 0s 9ms/step - factorized_top_k/top_1_categorical_accuracy: 0.0000e+00 - factorized_top_k/top_5_categorical_accuracy: 0.0000e+00 - factorized_top_k/top_10_categorical_accuracy: 0.0000e+00 - factorized_top_k/top_50_categorical_accuracy: 0.0000e+00 - factorized_top_k/top_100_categorical_accuracy: 0.0000e+00 - loss: 181.1389 - regularization_loss: 0.0000e+00 - total_loss: 181.1389\n",
      "Epoch 7/100\n",
      "39/40 [============================>.] - ETA: 0s - factorized_top_k/top_1_categorical_accuracy: 0.0000e+00 - factorized_top_k/top_5_categorical_accuracy: 0.0000e+00 - factorized_top_k/top_10_categorical_accuracy: 0.0000e+00 - factorized_top_k/top_50_categorical_accuracy: 0.0000e+00 - factorized_top_k/top_100_categorical_accuracy: 0.0000e+00 - loss: 178.2539 - regularization_loss: 0.0000e+00 - total_loss: 178.2539WARNING:tensorflow:Early stopping conditioned on metric `val_loss` which is not available. Available metrics are: factorized_top_k/top_1_categorical_accuracy,factorized_top_k/top_5_categorical_accuracy,factorized_top_k/top_10_categorical_accuracy,factorized_top_k/top_50_categorical_accuracy,factorized_top_k/top_100_categorical_accuracy,loss,regularization_loss,total_loss\n",
      "40/40 [==============================] - 0s 10ms/step - factorized_top_k/top_1_categorical_accuracy: 0.0000e+00 - factorized_top_k/top_5_categorical_accuracy: 0.0000e+00 - factorized_top_k/top_10_categorical_accuracy: 0.0000e+00 - factorized_top_k/top_50_categorical_accuracy: 0.0000e+00 - factorized_top_k/top_100_categorical_accuracy: 0.0000e+00 - loss: 170.1001 - regularization_loss: 0.0000e+00 - total_loss: 170.1001\n",
      "Epoch 8/100\n",
      "34/40 [========================>.....] - ETA: 0s - factorized_top_k/top_1_categorical_accuracy: 0.0000e+00 - factorized_top_k/top_5_categorical_accuracy: 0.0000e+00 - factorized_top_k/top_10_categorical_accuracy: 0.0000e+00 - factorized_top_k/top_50_categorical_accuracy: 0.0000e+00 - factorized_top_k/top_100_categorical_accuracy: 0.0000e+00 - loss: 169.1384 - regularization_loss: 0.0000e+00 - total_loss: 169.1384WARNING:tensorflow:Early stopping conditioned on metric `val_loss` which is not available. Available metrics are: factorized_top_k/top_1_categorical_accuracy,factorized_top_k/top_5_categorical_accuracy,factorized_top_k/top_10_categorical_accuracy,factorized_top_k/top_50_categorical_accuracy,factorized_top_k/top_100_categorical_accuracy,loss,regularization_loss,total_loss\n",
      "40/40 [==============================] - 0s 10ms/step - factorized_top_k/top_1_categorical_accuracy: 0.0000e+00 - factorized_top_k/top_5_categorical_accuracy: 0.0000e+00 - factorized_top_k/top_10_categorical_accuracy: 0.0000e+00 - factorized_top_k/top_50_categorical_accuracy: 0.0000e+00 - factorized_top_k/top_100_categorical_accuracy: 0.0000e+00 - loss: 160.8245 - regularization_loss: 0.0000e+00 - total_loss: 160.8245\n",
      "Epoch 9/100\n",
      "35/40 [=========================>....] - ETA: 0s - factorized_top_k/top_1_categorical_accuracy: 0.0000e+00 - factorized_top_k/top_5_categorical_accuracy: 0.0000e+00 - factorized_top_k/top_10_categorical_accuracy: 0.0000e+00 - factorized_top_k/top_50_categorical_accuracy: 0.0000e+00 - factorized_top_k/top_100_categorical_accuracy: 0.0000e+00 - loss: 165.8219 - regularization_loss: 0.0000e+00 - total_loss: 165.8219WARNING:tensorflow:Early stopping conditioned on metric `val_loss` which is not available. Available metrics are: factorized_top_k/top_1_categorical_accuracy,factorized_top_k/top_5_categorical_accuracy,factorized_top_k/top_10_categorical_accuracy,factorized_top_k/top_50_categorical_accuracy,factorized_top_k/top_100_categorical_accuracy,loss,regularization_loss,total_loss\n",
      "40/40 [==============================] - 0s 10ms/step - factorized_top_k/top_1_categorical_accuracy: 0.0000e+00 - factorized_top_k/top_5_categorical_accuracy: 0.0000e+00 - factorized_top_k/top_10_categorical_accuracy: 0.0000e+00 - factorized_top_k/top_50_categorical_accuracy: 0.0000e+00 - factorized_top_k/top_100_categorical_accuracy: 0.0000e+00 - loss: 157.8370 - regularization_loss: 0.0000e+00 - total_loss: 157.8370\n",
      "Epoch 10/100\n",
      "40/40 [==============================] - 1s 13ms/step - factorized_top_k/top_1_categorical_accuracy: 0.0000e+00 - factorized_top_k/top_5_categorical_accuracy: 0.0000e+00 - factorized_top_k/top_10_categorical_accuracy: 0.0000e+00 - factorized_top_k/top_50_categorical_accuracy: 0.0000e+00 - factorized_top_k/top_100_categorical_accuracy: 0.0000e+00 - loss: 157.5141 - regularization_loss: 0.0000e+00 - total_loss: 157.5141 - val_factorized_top_k/top_1_categorical_accuracy: 0.0787 - val_factorized_top_k/top_5_categorical_accuracy: 0.1459 - val_factorized_top_k/top_10_categorical_accuracy: 0.1984 - val_factorized_top_k/top_50_categorical_accuracy: 0.3918 - val_factorized_top_k/top_100_categorical_accuracy: 0.5869 - val_loss: 3431.5549 - val_regularization_loss: 0.0000e+00 - val_total_loss: 3431.5549\n",
      "Epoch 11/100\n",
      "35/40 [=========================>....] - ETA: 0s - factorized_top_k/top_1_categorical_accuracy: 0.0000e+00 - factorized_top_k/top_5_categorical_accuracy: 0.0000e+00 - factorized_top_k/top_10_categorical_accuracy: 0.0000e+00 - factorized_top_k/top_50_categorical_accuracy: 0.0000e+00 - factorized_top_k/top_100_categorical_accuracy: 0.0000e+00 - loss: 160.1354 - regularization_loss: 0.0000e+00 - total_loss: 160.1354WARNING:tensorflow:Early stopping conditioned on metric `val_loss` which is not available. Available metrics are: factorized_top_k/top_1_categorical_accuracy,factorized_top_k/top_5_categorical_accuracy,factorized_top_k/top_10_categorical_accuracy,factorized_top_k/top_50_categorical_accuracy,factorized_top_k/top_100_categorical_accuracy,loss,regularization_loss,total_loss\n",
      "40/40 [==============================] - 0s 10ms/step - factorized_top_k/top_1_categorical_accuracy: 0.0000e+00 - factorized_top_k/top_5_categorical_accuracy: 0.0000e+00 - factorized_top_k/top_10_categorical_accuracy: 0.0000e+00 - factorized_top_k/top_50_categorical_accuracy: 0.0000e+00 - factorized_top_k/top_100_categorical_accuracy: 0.0000e+00 - loss: 152.9336 - regularization_loss: 0.0000e+00 - total_loss: 152.9336\n",
      "Epoch 12/100\n",
      "35/40 [=========================>....] - ETA: 0s - factorized_top_k/top_1_categorical_accuracy: 0.0000e+00 - factorized_top_k/top_5_categorical_accuracy: 0.0000e+00 - factorized_top_k/top_10_categorical_accuracy: 0.0000e+00 - factorized_top_k/top_50_categorical_accuracy: 0.0000e+00 - factorized_top_k/top_100_categorical_accuracy: 0.0000e+00 - loss: 158.0246 - regularization_loss: 0.0000e+00 - total_loss: 158.0246WARNING:tensorflow:Early stopping conditioned on metric `val_loss` which is not available. Available metrics are: factorized_top_k/top_1_categorical_accuracy,factorized_top_k/top_5_categorical_accuracy,factorized_top_k/top_10_categorical_accuracy,factorized_top_k/top_50_categorical_accuracy,factorized_top_k/top_100_categorical_accuracy,loss,regularization_loss,total_loss\n",
      "40/40 [==============================] - 0s 10ms/step - factorized_top_k/top_1_categorical_accuracy: 0.0000e+00 - factorized_top_k/top_5_categorical_accuracy: 0.0000e+00 - factorized_top_k/top_10_categorical_accuracy: 0.0000e+00 - factorized_top_k/top_50_categorical_accuracy: 0.0000e+00 - factorized_top_k/top_100_categorical_accuracy: 0.0000e+00 - loss: 150.2324 - regularization_loss: 0.0000e+00 - total_loss: 150.2324\n",
      "Epoch 13/100\n",
      "40/40 [==============================] - ETA: 0s - factorized_top_k/top_1_categorical_accuracy: 0.0000e+00 - factorized_top_k/top_5_categorical_accuracy: 0.0000e+00 - factorized_top_k/top_10_categorical_accuracy: 0.0000e+00 - factorized_top_k/top_50_categorical_accuracy: 0.0000e+00 - factorized_top_k/top_100_categorical_accuracy: 0.0000e+00 - loss: 146.2992 - regularization_loss: 0.0000e+00 - total_loss: 146.2992WARNING:tensorflow:Early stopping conditioned on metric `val_loss` which is not available. Available metrics are: factorized_top_k/top_1_categorical_accuracy,factorized_top_k/top_5_categorical_accuracy,factorized_top_k/top_10_categorical_accuracy,factorized_top_k/top_50_categorical_accuracy,factorized_top_k/top_100_categorical_accuracy,loss,regularization_loss,total_loss\n",
      "40/40 [==============================] - 0s 10ms/step - factorized_top_k/top_1_categorical_accuracy: 0.0000e+00 - factorized_top_k/top_5_categorical_accuracy: 0.0000e+00 - factorized_top_k/top_10_categorical_accuracy: 0.0000e+00 - factorized_top_k/top_50_categorical_accuracy: 0.0000e+00 - factorized_top_k/top_100_categorical_accuracy: 0.0000e+00 - loss: 142.8819 - regularization_loss: 0.0000e+00 - total_loss: 142.8819\n",
      "Epoch 14/100\n",
      "39/40 [============================>.] - ETA: 0s - factorized_top_k/top_1_categorical_accuracy: 0.0000e+00 - factorized_top_k/top_5_categorical_accuracy: 0.0000e+00 - factorized_top_k/top_10_categorical_accuracy: 0.0000e+00 - factorized_top_k/top_50_categorical_accuracy: 0.0000e+00 - factorized_top_k/top_100_categorical_accuracy: 0.0000e+00 - loss: 144.1749 - regularization_loss: 0.0000e+00 - total_loss: 144.1749WARNING:tensorflow:Early stopping conditioned on metric `val_loss` which is not available. Available metrics are: factorized_top_k/top_1_categorical_accuracy,factorized_top_k/top_5_categorical_accuracy,factorized_top_k/top_10_categorical_accuracy,factorized_top_k/top_50_categorical_accuracy,factorized_top_k/top_100_categorical_accuracy,loss,regularization_loss,total_loss\n",
      "40/40 [==============================] - 0s 10ms/step - factorized_top_k/top_1_categorical_accuracy: 0.0000e+00 - factorized_top_k/top_5_categorical_accuracy: 0.0000e+00 - factorized_top_k/top_10_categorical_accuracy: 0.0000e+00 - factorized_top_k/top_50_categorical_accuracy: 0.0000e+00 - factorized_top_k/top_100_categorical_accuracy: 0.0000e+00 - loss: 137.4284 - regularization_loss: 0.0000e+00 - total_loss: 137.4284\n",
      "Epoch 15/100\n",
      "40/40 [==============================] - 1s 13ms/step - factorized_top_k/top_1_categorical_accuracy: 0.0000e+00 - factorized_top_k/top_5_categorical_accuracy: 0.0000e+00 - factorized_top_k/top_10_categorical_accuracy: 0.0000e+00 - factorized_top_k/top_50_categorical_accuracy: 0.0000e+00 - factorized_top_k/top_100_categorical_accuracy: 0.0000e+00 - loss: 137.5804 - regularization_loss: 0.0000e+00 - total_loss: 137.5804 - val_factorized_top_k/top_1_categorical_accuracy: 0.0852 - val_factorized_top_k/top_5_categorical_accuracy: 0.2115 - val_factorized_top_k/top_10_categorical_accuracy: 0.3213 - val_factorized_top_k/top_50_categorical_accuracy: 0.5721 - val_factorized_top_k/top_100_categorical_accuracy: 0.7410 - val_loss: 3256.9419 - val_regularization_loss: 0.0000e+00 - val_total_loss: 3256.9419\n",
      "Epoch 16/100\n",
      "36/40 [==========================>...] - ETA: 0s - factorized_top_k/top_1_categorical_accuracy: 0.0000e+00 - factorized_top_k/top_5_categorical_accuracy: 0.0000e+00 - factorized_top_k/top_10_categorical_accuracy: 0.0000e+00 - factorized_top_k/top_50_categorical_accuracy: 0.0000e+00 - factorized_top_k/top_100_categorical_accuracy: 0.0000e+00 - loss: 139.9274 - regularization_loss: 0.0000e+00 - total_loss: 139.9274WARNING:tensorflow:Early stopping conditioned on metric `val_loss` which is not available. Available metrics are: factorized_top_k/top_1_categorical_accuracy,factorized_top_k/top_5_categorical_accuracy,factorized_top_k/top_10_categorical_accuracy,factorized_top_k/top_50_categorical_accuracy,factorized_top_k/top_100_categorical_accuracy,loss,regularization_loss,total_loss\n",
      "40/40 [==============================] - 0s 10ms/step - factorized_top_k/top_1_categorical_accuracy: 0.0000e+00 - factorized_top_k/top_5_categorical_accuracy: 0.0000e+00 - factorized_top_k/top_10_categorical_accuracy: 0.0000e+00 - factorized_top_k/top_50_categorical_accuracy: 0.0000e+00 - factorized_top_k/top_100_categorical_accuracy: 0.0000e+00 - loss: 132.7054 - regularization_loss: 0.0000e+00 - total_loss: 132.7054\n",
      "Epoch 17/100\n",
      "35/40 [=========================>....] - ETA: 0s - factorized_top_k/top_1_categorical_accuracy: 0.0000e+00 - factorized_top_k/top_5_categorical_accuracy: 0.0000e+00 - factorized_top_k/top_10_categorical_accuracy: 0.0000e+00 - factorized_top_k/top_50_categorical_accuracy: 0.0000e+00 - factorized_top_k/top_100_categorical_accuracy: 0.0000e+00 - loss: 133.2651 - regularization_loss: 0.0000e+00 - total_loss: 133.2651WARNING:tensorflow:Early stopping conditioned on metric `val_loss` which is not available. Available metrics are: factorized_top_k/top_1_categorical_accuracy,factorized_top_k/top_5_categorical_accuracy,factorized_top_k/top_10_categorical_accuracy,factorized_top_k/top_50_categorical_accuracy,factorized_top_k/top_100_categorical_accuracy,loss,regularization_loss,total_loss\n",
      "40/40 [==============================] - 0s 10ms/step - factorized_top_k/top_1_categorical_accuracy: 0.0000e+00 - factorized_top_k/top_5_categorical_accuracy: 0.0000e+00 - factorized_top_k/top_10_categorical_accuracy: 0.0000e+00 - factorized_top_k/top_50_categorical_accuracy: 0.0000e+00 - factorized_top_k/top_100_categorical_accuracy: 0.0000e+00 - loss: 126.9836 - regularization_loss: 0.0000e+00 - total_loss: 126.9836\n",
      "Epoch 18/100\n",
      "37/40 [==========================>...] - ETA: 0s - factorized_top_k/top_1_categorical_accuracy: 0.0000e+00 - factorized_top_k/top_5_categorical_accuracy: 0.0000e+00 - factorized_top_k/top_10_categorical_accuracy: 0.0000e+00 - factorized_top_k/top_50_categorical_accuracy: 0.0000e+00 - factorized_top_k/top_100_categorical_accuracy: 0.0000e+00 - loss: 131.1164 - regularization_loss: 0.0000e+00 - total_loss: 131.1164WARNING:tensorflow:Early stopping conditioned on metric `val_loss` which is not available. Available metrics are: factorized_top_k/top_1_categorical_accuracy,factorized_top_k/top_5_categorical_accuracy,factorized_top_k/top_10_categorical_accuracy,factorized_top_k/top_50_categorical_accuracy,factorized_top_k/top_100_categorical_accuracy,loss,regularization_loss,total_loss\n",
      "40/40 [==============================] - 0s 9ms/step - factorized_top_k/top_1_categorical_accuracy: 0.0000e+00 - factorized_top_k/top_5_categorical_accuracy: 0.0000e+00 - factorized_top_k/top_10_categorical_accuracy: 0.0000e+00 - factorized_top_k/top_50_categorical_accuracy: 0.0000e+00 - factorized_top_k/top_100_categorical_accuracy: 0.0000e+00 - loss: 124.8443 - regularization_loss: 0.0000e+00 - total_loss: 124.8443\n",
      "Epoch 19/100\n",
      "36/40 [==========================>...] - ETA: 0s - factorized_top_k/top_1_categorical_accuracy: 0.0000e+00 - factorized_top_k/top_5_categorical_accuracy: 0.0000e+00 - factorized_top_k/top_10_categorical_accuracy: 0.0000e+00 - factorized_top_k/top_50_categorical_accuracy: 0.0000e+00 - factorized_top_k/top_100_categorical_accuracy: 0.0000e+00 - loss: 130.1293 - regularization_loss: 0.0000e+00 - total_loss: 130.1293WARNING:tensorflow:Early stopping conditioned on metric `val_loss` which is not available. Available metrics are: factorized_top_k/top_1_categorical_accuracy,factorized_top_k/top_5_categorical_accuracy,factorized_top_k/top_10_categorical_accuracy,factorized_top_k/top_50_categorical_accuracy,factorized_top_k/top_100_categorical_accuracy,loss,regularization_loss,total_loss\n",
      "40/40 [==============================] - 0s 9ms/step - factorized_top_k/top_1_categorical_accuracy: 0.0000e+00 - factorized_top_k/top_5_categorical_accuracy: 0.0000e+00 - factorized_top_k/top_10_categorical_accuracy: 0.0000e+00 - factorized_top_k/top_50_categorical_accuracy: 0.0000e+00 - factorized_top_k/top_100_categorical_accuracy: 0.0000e+00 - loss: 123.7419 - regularization_loss: 0.0000e+00 - total_loss: 123.7419\n",
      "Epoch 20/100\n",
      "40/40 [==============================] - 1s 13ms/step - factorized_top_k/top_1_categorical_accuracy: 0.0000e+00 - factorized_top_k/top_5_categorical_accuracy: 0.0000e+00 - factorized_top_k/top_10_categorical_accuracy: 0.0000e+00 - factorized_top_k/top_50_categorical_accuracy: 0.0000e+00 - factorized_top_k/top_100_categorical_accuracy: 0.0000e+00 - loss: 124.8455 - regularization_loss: 0.0000e+00 - total_loss: 124.8455 - val_factorized_top_k/top_1_categorical_accuracy: 0.0787 - val_factorized_top_k/top_5_categorical_accuracy: 0.2049 - val_factorized_top_k/top_10_categorical_accuracy: 0.2672 - val_factorized_top_k/top_50_categorical_accuracy: 0.5197 - val_factorized_top_k/top_100_categorical_accuracy: 0.7033 - val_loss: 3588.1084 - val_regularization_loss: 0.0000e+00 - val_total_loss: 3588.1084\n",
      "Epoch 21/100\n",
      "37/40 [==========================>...] - ETA: 0s - factorized_top_k/top_1_categorical_accuracy: 0.0000e+00 - factorized_top_k/top_5_categorical_accuracy: 0.0000e+00 - factorized_top_k/top_10_categorical_accuracy: 0.0000e+00 - factorized_top_k/top_50_categorical_accuracy: 0.0000e+00 - factorized_top_k/top_100_categorical_accuracy: 0.0000e+00 - loss: 127.2728 - regularization_loss: 0.0000e+00 - total_loss: 127.2728WARNING:tensorflow:Early stopping conditioned on metric `val_loss` which is not available. Available metrics are: factorized_top_k/top_1_categorical_accuracy,factorized_top_k/top_5_categorical_accuracy,factorized_top_k/top_10_categorical_accuracy,factorized_top_k/top_50_categorical_accuracy,factorized_top_k/top_100_categorical_accuracy,loss,regularization_loss,total_loss\n",
      "40/40 [==============================] - 0s 10ms/step - factorized_top_k/top_1_categorical_accuracy: 0.0000e+00 - factorized_top_k/top_5_categorical_accuracy: 0.0000e+00 - factorized_top_k/top_10_categorical_accuracy: 0.0000e+00 - factorized_top_k/top_50_categorical_accuracy: 0.0000e+00 - factorized_top_k/top_100_categorical_accuracy: 0.0000e+00 - loss: 120.7994 - regularization_loss: 0.0000e+00 - total_loss: 120.7994\n",
      "Epoch 22/100\n",
      "36/40 [==========================>...] - ETA: 0s - factorized_top_k/top_1_categorical_accuracy: 0.0000e+00 - factorized_top_k/top_5_categorical_accuracy: 0.0000e+00 - factorized_top_k/top_10_categorical_accuracy: 0.0000e+00 - factorized_top_k/top_50_categorical_accuracy: 0.0000e+00 - factorized_top_k/top_100_categorical_accuracy: 0.0000e+00 - loss: 121.8988 - regularization_loss: 0.0000e+00 - total_loss: 121.8988WARNING:tensorflow:Early stopping conditioned on metric `val_loss` which is not available. Available metrics are: factorized_top_k/top_1_categorical_accuracy,factorized_top_k/top_5_categorical_accuracy,factorized_top_k/top_10_categorical_accuracy,factorized_top_k/top_50_categorical_accuracy,factorized_top_k/top_100_categorical_accuracy,loss,regularization_loss,total_loss\n",
      "40/40 [==============================] - 0s 9ms/step - factorized_top_k/top_1_categorical_accuracy: 0.0000e+00 - factorized_top_k/top_5_categorical_accuracy: 0.0000e+00 - factorized_top_k/top_10_categorical_accuracy: 0.0000e+00 - factorized_top_k/top_50_categorical_accuracy: 0.0000e+00 - factorized_top_k/top_100_categorical_accuracy: 0.0000e+00 - loss: 115.8992 - regularization_loss: 0.0000e+00 - total_loss: 115.8992\n",
      "Epoch 23/100\n",
      "35/40 [=========================>....] - ETA: 0s - factorized_top_k/top_1_categorical_accuracy: 0.0000e+00 - factorized_top_k/top_5_categorical_accuracy: 0.0000e+00 - factorized_top_k/top_10_categorical_accuracy: 0.0000e+00 - factorized_top_k/top_50_categorical_accuracy: 0.0000e+00 - factorized_top_k/top_100_categorical_accuracy: 0.0000e+00 - loss: 116.8685 - regularization_loss: 0.0000e+00 - total_loss: 116.8685WARNING:tensorflow:Early stopping conditioned on metric `val_loss` which is not available. Available metrics are: factorized_top_k/top_1_categorical_accuracy,factorized_top_k/top_5_categorical_accuracy,factorized_top_k/top_10_categorical_accuracy,factorized_top_k/top_50_categorical_accuracy,factorized_top_k/top_100_categorical_accuracy,loss,regularization_loss,total_loss\n",
      "40/40 [==============================] - 0s 10ms/step - factorized_top_k/top_1_categorical_accuracy: 0.0000e+00 - factorized_top_k/top_5_categorical_accuracy: 0.0000e+00 - factorized_top_k/top_10_categorical_accuracy: 0.0000e+00 - factorized_top_k/top_50_categorical_accuracy: 0.0000e+00 - factorized_top_k/top_100_categorical_accuracy: 0.0000e+00 - loss: 111.7588 - regularization_loss: 0.0000e+00 - total_loss: 111.7588\n",
      "Epoch 24/100\n",
      "37/40 [==========================>...] - ETA: 0s - factorized_top_k/top_1_categorical_accuracy: 0.0000e+00 - factorized_top_k/top_5_categorical_accuracy: 0.0000e+00 - factorized_top_k/top_10_categorical_accuracy: 0.0000e+00 - factorized_top_k/top_50_categorical_accuracy: 0.0000e+00 - factorized_top_k/top_100_categorical_accuracy: 0.0000e+00 - loss: 115.0863 - regularization_loss: 0.0000e+00 - total_loss: 115.0863WARNING:tensorflow:Early stopping conditioned on metric `val_loss` which is not available. Available metrics are: factorized_top_k/top_1_categorical_accuracy,factorized_top_k/top_5_categorical_accuracy,factorized_top_k/top_10_categorical_accuracy,factorized_top_k/top_50_categorical_accuracy,factorized_top_k/top_100_categorical_accuracy,loss,regularization_loss,total_loss\n",
      "40/40 [==============================] - 0s 10ms/step - factorized_top_k/top_1_categorical_accuracy: 0.0000e+00 - factorized_top_k/top_5_categorical_accuracy: 0.0000e+00 - factorized_top_k/top_10_categorical_accuracy: 0.0000e+00 - factorized_top_k/top_50_categorical_accuracy: 0.0000e+00 - factorized_top_k/top_100_categorical_accuracy: 0.0000e+00 - loss: 109.2667 - regularization_loss: 0.0000e+00 - total_loss: 109.2667\n",
      "Epoch 25/100\n",
      "40/40 [==============================] - 1s 13ms/step - factorized_top_k/top_1_categorical_accuracy: 0.0000e+00 - factorized_top_k/top_5_categorical_accuracy: 0.0000e+00 - factorized_top_k/top_10_categorical_accuracy: 0.0000e+00 - factorized_top_k/top_50_categorical_accuracy: 0.0000e+00 - factorized_top_k/top_100_categorical_accuracy: 0.0000e+00 - loss: 107.5512 - regularization_loss: 0.0000e+00 - total_loss: 107.5512 - val_factorized_top_k/top_1_categorical_accuracy: 0.0984 - val_factorized_top_k/top_5_categorical_accuracy: 0.2492 - val_factorized_top_k/top_10_categorical_accuracy: 0.3230 - val_factorized_top_k/top_50_categorical_accuracy: 0.5754 - val_factorized_top_k/top_100_categorical_accuracy: 0.7475 - val_loss: 4212.4961 - val_regularization_loss: 0.0000e+00 - val_total_loss: 4212.4961\n",
      "Epoch 26/100\n",
      "37/40 [==========================>...] - ETA: 0s - factorized_top_k/top_1_categorical_accuracy: 0.0000e+00 - factorized_top_k/top_5_categorical_accuracy: 0.0000e+00 - factorized_top_k/top_10_categorical_accuracy: 0.0000e+00 - factorized_top_k/top_50_categorical_accuracy: 0.0000e+00 - factorized_top_k/top_100_categorical_accuracy: 0.0000e+00 - loss: 111.7709 - regularization_loss: 0.0000e+00 - total_loss: 111.7709WARNING:tensorflow:Early stopping conditioned on metric `val_loss` which is not available. Available metrics are: factorized_top_k/top_1_categorical_accuracy,factorized_top_k/top_5_categorical_accuracy,factorized_top_k/top_10_categorical_accuracy,factorized_top_k/top_50_categorical_accuracy,factorized_top_k/top_100_categorical_accuracy,loss,regularization_loss,total_loss\n",
      "40/40 [==============================] - 0s 9ms/step - factorized_top_k/top_1_categorical_accuracy: 0.0000e+00 - factorized_top_k/top_5_categorical_accuracy: 0.0000e+00 - factorized_top_k/top_10_categorical_accuracy: 0.0000e+00 - factorized_top_k/top_50_categorical_accuracy: 0.0000e+00 - factorized_top_k/top_100_categorical_accuracy: 0.0000e+00 - loss: 106.1065 - regularization_loss: 0.0000e+00 - total_loss: 106.1065\n",
      "Epoch 27/100\n",
      "35/40 [=========================>....] - ETA: 0s - factorized_top_k/top_1_categorical_accuracy: 0.0000e+00 - factorized_top_k/top_5_categorical_accuracy: 0.0000e+00 - factorized_top_k/top_10_categorical_accuracy: 0.0000e+00 - factorized_top_k/top_50_categorical_accuracy: 0.0000e+00 - factorized_top_k/top_100_categorical_accuracy: 0.0000e+00 - loss: 109.7757 - regularization_loss: 0.0000e+00 - total_loss: 109.7757WARNING:tensorflow:Early stopping conditioned on metric `val_loss` which is not available. Available metrics are: factorized_top_k/top_1_categorical_accuracy,factorized_top_k/top_5_categorical_accuracy,factorized_top_k/top_10_categorical_accuracy,factorized_top_k/top_50_categorical_accuracy,factorized_top_k/top_100_categorical_accuracy,loss,regularization_loss,total_loss\n",
      "40/40 [==============================] - 0s 10ms/step - factorized_top_k/top_1_categorical_accuracy: 0.0000e+00 - factorized_top_k/top_5_categorical_accuracy: 0.0000e+00 - factorized_top_k/top_10_categorical_accuracy: 0.0000e+00 - factorized_top_k/top_50_categorical_accuracy: 0.0000e+00 - factorized_top_k/top_100_categorical_accuracy: 0.0000e+00 - loss: 104.9359 - regularization_loss: 0.0000e+00 - total_loss: 104.9359\n",
      "Epoch 28/100\n",
      "36/40 [==========================>...] - ETA: 0s - factorized_top_k/top_1_categorical_accuracy: 0.0000e+00 - factorized_top_k/top_5_categorical_accuracy: 0.0000e+00 - factorized_top_k/top_10_categorical_accuracy: 0.0000e+00 - factorized_top_k/top_50_categorical_accuracy: 0.0000e+00 - factorized_top_k/top_100_categorical_accuracy: 0.0000e+00 - loss: 109.0194 - regularization_loss: 0.0000e+00 - total_loss: 109.0194WARNING:tensorflow:Early stopping conditioned on metric `val_loss` which is not available. Available metrics are: factorized_top_k/top_1_categorical_accuracy,factorized_top_k/top_5_categorical_accuracy,factorized_top_k/top_10_categorical_accuracy,factorized_top_k/top_50_categorical_accuracy,factorized_top_k/top_100_categorical_accuracy,loss,regularization_loss,total_loss\n",
      "40/40 [==============================] - 0s 10ms/step - factorized_top_k/top_1_categorical_accuracy: 0.0000e+00 - factorized_top_k/top_5_categorical_accuracy: 0.0000e+00 - factorized_top_k/top_10_categorical_accuracy: 0.0000e+00 - factorized_top_k/top_50_categorical_accuracy: 0.0000e+00 - factorized_top_k/top_100_categorical_accuracy: 0.0000e+00 - loss: 103.8213 - regularization_loss: 0.0000e+00 - total_loss: 103.8213\n",
      "Epoch 29/100\n",
      "40/40 [==============================] - ETA: 0s - factorized_top_k/top_1_categorical_accuracy: 0.0000e+00 - factorized_top_k/top_5_categorical_accuracy: 0.0000e+00 - factorized_top_k/top_10_categorical_accuracy: 0.0000e+00 - factorized_top_k/top_50_categorical_accuracy: 0.0000e+00 - factorized_top_k/top_100_categorical_accuracy: 0.0000e+00 - loss: 105.3822 - regularization_loss: 0.0000e+00 - total_loss: 105.3822WARNING:tensorflow:Early stopping conditioned on metric `val_loss` which is not available. Available metrics are: factorized_top_k/top_1_categorical_accuracy,factorized_top_k/top_5_categorical_accuracy,factorized_top_k/top_10_categorical_accuracy,factorized_top_k/top_50_categorical_accuracy,factorized_top_k/top_100_categorical_accuracy,loss,regularization_loss,total_loss\n",
      "40/40 [==============================] - 0s 10ms/step - factorized_top_k/top_1_categorical_accuracy: 0.0000e+00 - factorized_top_k/top_5_categorical_accuracy: 0.0000e+00 - factorized_top_k/top_10_categorical_accuracy: 0.0000e+00 - factorized_top_k/top_50_categorical_accuracy: 0.0000e+00 - factorized_top_k/top_100_categorical_accuracy: 0.0000e+00 - loss: 102.9301 - regularization_loss: 0.0000e+00 - total_loss: 102.9301\n",
      "Epoch 30/100\n",
      "40/40 [==============================] - 1s 13ms/step - factorized_top_k/top_1_categorical_accuracy: 0.0000e+00 - factorized_top_k/top_5_categorical_accuracy: 0.0000e+00 - factorized_top_k/top_10_categorical_accuracy: 0.0000e+00 - factorized_top_k/top_50_categorical_accuracy: 0.0000e+00 - factorized_top_k/top_100_categorical_accuracy: 0.0000e+00 - loss: 102.1961 - regularization_loss: 0.0000e+00 - total_loss: 102.1961 - val_factorized_top_k/top_1_categorical_accuracy: 0.1082 - val_factorized_top_k/top_5_categorical_accuracy: 0.2344 - val_factorized_top_k/top_10_categorical_accuracy: 0.3066 - val_factorized_top_k/top_50_categorical_accuracy: 0.5721 - val_factorized_top_k/top_100_categorical_accuracy: 0.7426 - val_loss: 4414.9897 - val_regularization_loss: 0.0000e+00 - val_total_loss: 4414.9897\n"
     ]
    }
   ],
   "source": [
    "one_layer_history = model.fit(\n",
    "    cached_train,\n",
    "    epochs=num_epochs,\n",
    "    validation_freq=5,\n",
    "    validation_data=cached_test,\n",
    "    callbacks=my_callbacks\n",
    "    # verbose=1,\n",
    ")"
   ]
  },
  {
   "cell_type": "code",
   "execution_count": 36,
   "id": "ded1f0ee-f760-42ea-aae9-6308271cefc3",
   "metadata": {},
   "outputs": [
    {
     "data": {
      "image/png": "[encoded data removed]",
      "text/plain": [
       "<Figure size 576x432 with 1 Axes>"
      ]
     },
     "metadata": {},
     "output_type": "display_data"
    }
   ],
   "source": [
    "plt.plot(one_layer_history.history[\"val_factorized_top_k/top_1_categorical_accuracy\"])\n",
    "plt.plot(one_layer_history.history[\"val_factorized_top_k/top_5_categorical_accuracy\"])\n",
    "plt.plot(one_layer_history.history[\"val_factorized_top_k/top_10_categorical_accuracy\"])\n",
    "plt.plot(one_layer_history.history[\"val_factorized_top_k/top_50_categorical_accuracy\"])\n",
    "plt.plot(one_layer_history.history[\"val_factorized_top_k/top_100_categorical_accuracy\"])\n",
    "plt.legend([\"top-1\", \"top-5\", \"top-10\", \"top-50\", \"top-100\"])\n",
    "plt.xlabel(\"epochs\")\n",
    "plt.ylabel(\"accuracy\")\n",
    "plt.show()"
   ]
  },
  {
   "cell_type": "code",
   "execution_count": 37,
   "id": "372f20b3-c518-4d26-bae3-2f42b5289b1b",
   "metadata": {},
   "outputs": [
    {
     "data": {
      "image/png": "[encoded data removed]",
      "text/plain": [
       "<Figure size 576x432 with 1 Axes>"
      ]
     },
     "metadata": {},
     "output_type": "display_data"
    }
   ],
   "source": [
    "plt.bar(\n",
    "    [\"top-1\", \"top-5\", \"top-10\", \"top-50\", \"top-100\"], \n",
    "    [\n",
    "        one_layer_history.history[\"val_factorized_top_k/top_1_categorical_accuracy\"][-1],\n",
    "        one_layer_history.history[\"val_factorized_top_k/top_5_categorical_accuracy\"][-1],\n",
    "        one_layer_history.history[\"val_factorized_top_k/top_10_categorical_accuracy\"][-1],\n",
    "        one_layer_history.history[\"val_factorized_top_k/top_50_categorical_accuracy\"][-1],\n",
    "        one_layer_history.history[\"val_factorized_top_k/top_100_categorical_accuracy\"][-1],\n",
    "    ])\n",
    "\n",
    "plt.xlabel(\"metrics\")\n",
    "plt.ylabel(\"accuracy\")\n",
    "plt.show()"
   ]
  },
  {
   "cell_type": "code",
   "execution_count": 38,
   "id": "6369d388-81be-41cd-987a-abc0c9120aa0",
   "metadata": {},
   "outputs": [
    {
     "data": {
      "image/png": "[encoded data removed]",
      "text/plain": [
       "<Figure size 576x432 with 1 Axes>"
      ]
     },
     "metadata": {},
     "output_type": "display_data"
    }
   ],
   "source": [
    "plt.plot(one_layer_history.history[\"loss\"])\n",
    "plt.plot([i*5 for i in range(len(one_layer_history.history[\"val_loss\"]))], one_layer_history.history[\"val_loss\"])\n",
    "plt.legend([\"loss\", \"val_loss\"])\n",
    "plt.xlabel(\"epochs\")\n",
    "plt.ylabel(\"val_loss\")\n",
    "plt.show()"
   ]
  },
  {
   "cell_type": "code",
   "execution_count": 39,
   "id": "0cffd956-4cce-462c-b9d2-469fe5db9af0",
   "metadata": {},
   "outputs": [
    {
     "name": "stdout",
     "output_type": "stream",
     "text": [
      "1/1 [==============================] - 0s 147ms/step - factorized_top_k/top_1_categorical_accuracy: 0.1082 - factorized_top_k/top_5_categorical_accuracy: 0.2344 - factorized_top_k/top_10_categorical_accuracy: 0.3066 - factorized_top_k/top_50_categorical_accuracy: 0.5721 - factorized_top_k/top_100_categorical_accuracy: 0.7426 - loss: 4414.9897 - regularization_loss: 0.0000e+00 - total_loss: 4414.9897\n"
     ]
    },
    {
     "data": {
      "text/plain": [
       "{'factorized_top_k/top_1_categorical_accuracy': 0.10819672048091888,\n",
       " 'factorized_top_k/top_5_categorical_accuracy': 0.23442623019218445,\n",
       " 'factorized_top_k/top_10_categorical_accuracy': 0.30655738711357117,\n",
       " 'factorized_top_k/top_50_categorical_accuracy': 0.5721311569213867,\n",
       " 'factorized_top_k/top_100_categorical_accuracy': 0.742622971534729,\n",
       " 'loss': 4414.98974609375,\n",
       " 'regularization_loss': 0,\n",
       " 'total_loss': 4414.98974609375}"
      ]
     },
     "execution_count": 39,
     "metadata": {},
     "output_type": "execute_result"
    }
   ],
   "source": [
    "model.evaluate(cached_test, return_dict=True)"
   ]
  },
  {
   "cell_type": "code",
   "execution_count": 40,
   "id": "d4ed5ba8-17c8-40f2-a644-fd9b755452c6",
   "metadata": {
    "tags": []
   },
   "outputs": [
    {
     "data": {
      "text/plain": [
       "<tensorflow_recommenders.layers.factorized_top_k.BruteForce at 0x7fe07c094f10>"
      ]
     },
     "execution_count": 40,
     "metadata": {},
     "output_type": "execute_result"
    }
   ],
   "source": [
    "# Create a model that takes in raw query features, and\n",
    "index = tfrs.layers.factorized_top_k.BruteForce(model.query_model)\n",
    "# recommends movies out of the entire movies dataset.\n",
    "index.index_from_dataset(\n",
    "  tf.data.Dataset.zip((tweets.batch(512), tweets.batch(512).map(model.candidate_model)))\n",
    ")"
   ]
  },
  {
   "cell_type": "code",
   "execution_count": 41,
   "id": "368563b2-ba31-44d1-9565-dbecaa8bb606",
   "metadata": {},
   "outputs": [
    {
     "name": "stdout",
     "output_type": "stream",
     "text": [
      "Recommendations for user 2491664966:\n",
      "\n",
      "tf.Tensor(b'anyone that follows me knows i actually advocate for vaccination ryan\\xe2\\x80\\x99s behavior and the silence in response is why people are vaccine hesitant this behavior from a physician helps no one character counts', shape=(), dtype=string)\n",
      "tf.Tensor(b\"apollo walked into the clinic w out a mask workers asked him to put a mask on \\xe2\\x80\\x9che said \\xe2\\x80\\x98i don\\xe2\\x80\\x99t need a mask i don\\xe2\\x80\\x99t have the virus amp you are the ones making people sick \\xe2\\x80\\x99 apollo clenched his fists as he denounced workers as 'murderers' amp lunged\\xe2\\x80\\x9d https t co nfoyfsrjcv 03\", shape=(), dtype=string)\n",
      "tf.Tensor(b'cryptocurrencytrading do you believe the world will get back to normal finance wise after the pandemic craze is over i know there are many people out there will try to the night the pandemic or about will say the pandemic is over but we all know\\xe2\\x80\\xa6 https t co vi8i48agzd', shape=(), dtype=string)\n",
      "tf.Tensor(b'wearamask go ahead dontwearamask go ahead getavaccine go ahead dontgetavaccine go ahead do whatever you feel is right for you but don\\xe2\\x80\\x99t virtue signal don\\xe2\\x80\\x99t coerce and don\\xe2\\x80\\x99t shame others who think differently than you endthemandatesnow', shape=(), dtype=string)\n",
      "tf.Tensor(b\"donaldjtrumpjr https t co iqyf6qog8l let's be clear putin is reading from same global transnational pandemic script vaccines only solution let's not look into what appears to be an infinite global transnational bio defense lab network possibly dumping infinite disease into the environment\", shape=(), dtype=string)\n"
     ]
    }
   ],
   "source": [
    "# Get recommendations.\n",
    "_, titles = index({\"user_id\": np.array([\"2491664966\"])})\n",
    "print(\"Recommendations for user 2491664966:\\n\")\n",
    "for tweet in titles[0, :5]:\n",
    "    print(tweet)"
   ]
  },
  {
   "cell_type": "raw",
   "id": "63d78a08-62c2-4ad5-8e66-47b0f6e46d7d",
   "metadata": {},
   "source": [
    "import tempfile"
   ]
  },
  {
   "cell_type": "raw",
   "id": "8d5b5648-c816-487e-9dee-bf6206863aa9",
   "metadata": {},
   "source": [
    "# Export the query model.\n",
    "with tempfile.TemporaryDirectory() as tmp:\n",
    "    path = os.path.join(tmp, \"recmodel\")\n",
    "\n",
    "    # Save the index.\n",
    "    tf.saved_model.save(index, path)"
   ]
  },
  {
   "cell_type": "raw",
   "id": "3f522b4b-06ed-43f5-a915-005137f180d6",
   "metadata": {},
   "source": [
    "!pip install -q scann"
   ]
  },
  {
   "cell_type": "code",
   "execution_count": 42,
   "id": "30fe619c-db45-4b9e-8ebb-d163532e70a8",
   "metadata": {
    "tags": []
   },
   "outputs": [
    {
     "data": {
      "text/plain": [
       "<tensorflow_recommenders.layers.factorized_top_k.ScaNN at 0x7fe07c0f78e0>"
      ]
     },
     "execution_count": 42,
     "metadata": {},
     "output_type": "execute_result"
    }
   ],
   "source": [
    "scann_index = tfrs.layers.factorized_top_k.ScaNN(model.query_model)\n",
    "scann_index.index_from_dataset(\n",
    "  tf.data.Dataset.zip((tweets.batch(512), tweets.batch(512).map(model.candidate_model)))\n",
    ")"
   ]
  },
  {
   "cell_type": "code",
   "execution_count": 43,
   "id": "52671b03-20f4-4d9b-b1a1-f6e59f3b5c36",
   "metadata": {},
   "outputs": [
    {
     "name": "stdout",
     "output_type": "stream",
     "text": [
      "Recommendations for user 2491664966: \n",
      "\n",
      "tf.Tensor(b\"apollo walked into the clinic w out a mask workers asked him to put a mask on \\xe2\\x80\\x9che said \\xe2\\x80\\x98i don\\xe2\\x80\\x99t need a mask i don\\xe2\\x80\\x99t have the virus amp you are the ones making people sick \\xe2\\x80\\x99 apollo clenched his fists as he denounced workers as 'murderers' amp lunged\\xe2\\x80\\x9d https t co nfoyfsrjcv 03\", shape=(), dtype=string)\n",
      "tf.Tensor(b'anyone that follows me knows i actually advocate for vaccination ryan\\xe2\\x80\\x99s behavior and the silence in response is why people are vaccine hesitant this behavior from a physician helps no one character counts', shape=(), dtype=string)\n",
      "tf.Tensor(b'cryptocurrencytrading do you believe the world will get back to normal finance wise after the pandemic craze is over i know there are many people out there will try to the night the pandemic or about will say the pandemic is over but we all know\\xe2\\x80\\xa6 https t co vi8i48agzd', shape=(), dtype=string)\n",
      "tf.Tensor(b'wearamask go ahead dontwearamask go ahead getavaccine go ahead dontgetavaccine go ahead do whatever you feel is right for you but don\\xe2\\x80\\x99t virtue signal don\\xe2\\x80\\x99t coerce and don\\xe2\\x80\\x99t shame others who think differently than you endthemandatesnow', shape=(), dtype=string)\n",
      "tf.Tensor(b\"donaldjtrumpjr https t co iqyf6qog8l let's be clear putin is reading from same global transnational pandemic script vaccines only solution let's not look into what appears to be an infinite global transnational bio defense lab network possibly dumping infinite disease into the environment\", shape=(), dtype=string)\n"
     ]
    }
   ],
   "source": [
    "# Get recommendations.\n",
    "_, titles = scann_index({\"user_id\": tf.constant([\"2491664966\"])})\n",
    "print(\"Recommendations for user 2491664966: \\n\")\n",
    "for tweet in titles[0, :5]:\n",
    "    print(tweet)"
   ]
  },
  {
   "cell_type": "raw",
   "id": "2d089aa5-caf5-432c-b876-b78dd150193e",
   "metadata": {},
   "source": [
    "train.to_json(\"./data_used/train.csv\")\n",
    "test.to_json(\"./data_used/test.csv\")"
   ]
  },
  {
   "cell_type": "code",
   "execution_count": 44,
   "id": "14dd2978-1f16-4ab7-94ed-6cb905dbc2ab",
   "metadata": {},
   "outputs": [
    {
     "data": {
      "text/html": [
       "<div>\n",
       "<style scoped>\n",
       "    .dataframe tbody tr th:only-of-type {\n",
       "        vertical-align: middle;\n",
       "    }\n",
       "\n",
       "    .dataframe tbody tr th {\n",
       "        vertical-align: top;\n",
       "    }\n",
       "\n",
       "    .dataframe thead th {\n",
       "        text-align: right;\n",
       "    }\n",
       "</style>\n",
       "<table border=\"1\" class=\"dataframe\">\n",
       "  <thead>\n",
       "    <tr style=\"text-align: right;\">\n",
       "      <th></th>\n",
       "      <th>user_ids</th>\n",
       "      <th>text</th>\n",
       "      <th>tweet_id</th>\n",
       "    </tr>\n",
       "  </thead>\n",
       "  <tbody>\n",
       "  </tbody>\n",
       "</table>\n",
       "</div>"
      ],
      "text/plain": [
       "Empty DataFrame\n",
       "Columns: [user_ids, text, tweet_id]\n",
       "Index: []"
      ]
     },
     "execution_count": 44,
     "metadata": {},
     "output_type": "execute_result"
    }
   ],
   "source": [
    "test[test.user_ids==\"2491664966\"]"
   ]
  },
  {
   "cell_type": "code",
   "execution_count": null,
   "id": "d81e0fc4-2e8f-44ab-a3ed-c471f2ad2147",
   "metadata": {},
   "outputs": [],
   "source": []
  }
 ],
 "metadata": {
  "kernelspec": {
   "display_name": "Python 3",
   "language": "python",
   "name": "python3"
  },
  "language_info": {
   "codemirror_mode": {
    "name": "ipython",
    "version": 3
   },
   "file_extension": ".py",
   "mimetype": "text/x-python",
   "name": "python",
   "nbconvert_exporter": "python",
   "pygments_lexer": "ipython3",
   "version": "3.8.8"
  }
 },
 "nbformat": 4,
 "nbformat_minor": 5
}
