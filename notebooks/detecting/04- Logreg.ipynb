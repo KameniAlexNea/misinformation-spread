{
 "cells": [
  {
   "cell_type": "code",
   "execution_count": 1,
   "id": "e8ed85d7-2f9c-4204-830c-b9e3eada386c",
   "metadata": {},
   "outputs": [],
   "source": [
    "%reload_ext autoreload\n",
    "%autoreload 2\n",
    "%matplotlib inline\n",
    "import os\n",
    "os.environ[\"CUDA_DEVICE_ORDER\"]=\"PCI_BUS_ID\";\n",
    "os.environ[\"CUDA_VISIBLE_DEVICES\"]=\"0\";"
   ]
  },
  {
   "cell_type": "code",
   "execution_count": 2,
   "id": "40a85a0e-088a-4573-8ceb-cc268a9d7ef2",
   "metadata": {},
   "outputs": [],
   "source": [
    "import ktrain\n",
    "from ktrain import text"
   ]
  },
  {
   "cell_type": "code",
   "execution_count": 3,
   "id": "c792db7a-e0b7-4af0-b7f9-55ce595f5d27",
   "metadata": {},
   "outputs": [],
   "source": [
    "import os\n",
    "import datetime\n",
    "\n",
    "import IPython\n",
    "import IPython.display\n",
    "import matplotlib as mpl\n",
    "import matplotlib.pyplot as plt\n",
    "import numpy as np\n",
    "import pandas as pd\n",
    "import seaborn as sns\n",
    "import warnings\n",
    "from IPython.display import Markdown\n",
    "from IPython.display import display\n",
    "\n",
    "mpl.rcParams['figure.figsize'] = (8, 6)\n",
    "mpl.rcParams['axes.grid'] = False\n",
    "warnings.filterwarnings(\"ignore\")\n",
    "\n",
    "pd.set_option('display.max_columns', None)"
   ]
  },
  {
   "cell_type": "code",
   "execution_count": 4,
   "id": "980c5db0-aeeb-4c4b-8d60-08926b86487f",
   "metadata": {},
   "outputs": [
    {
     "data": {
      "text/html": [
       "<div>\n",
       "<style scoped>\n",
       "    .dataframe tbody tr th:only-of-type {\n",
       "        vertical-align: middle;\n",
       "    }\n",
       "\n",
       "    .dataframe tbody tr th {\n",
       "        vertical-align: top;\n",
       "    }\n",
       "\n",
       "    .dataframe thead th {\n",
       "        text-align: right;\n",
       "    }\n",
       "</style>\n",
       "<table border=\"1\" class=\"dataframe\">\n",
       "  <thead>\n",
       "    <tr style=\"text-align: right;\">\n",
       "      <th></th>\n",
       "      <th>text</th>\n",
       "      <th>author_id</th>\n",
       "      <th>label</th>\n",
       "      <th>created_at</th>\n",
       "      <th>retweet_count</th>\n",
       "      <th>reply_count</th>\n",
       "      <th>like_count</th>\n",
       "      <th>quote_count</th>\n",
       "      <th>in_reply_to_user_id</th>\n",
       "    </tr>\n",
       "  </thead>\n",
       "  <tbody>\n",
       "    <tr>\n",
       "      <th>53275</th>\n",
       "      <td>The prolonged use of medical masks* when prope...</td>\n",
       "      <td>964949498</td>\n",
       "      <td>real</td>\n",
       "      <td>2020-06-13T06:13:40.000Z</td>\n",
       "      <td>3</td>\n",
       "      <td>0</td>\n",
       "      <td>8</td>\n",
       "      <td>0</td>\n",
       "      <td>True</td>\n",
       "    </tr>\n",
       "    <tr>\n",
       "      <th>241987</th>\n",
       "      <td>@XXELiteTURkey @FraiseAdam @stamford_dan @E91_...</td>\n",
       "      <td>19927339</td>\n",
       "      <td>real</td>\n",
       "      <td>2020-04-28T15:06:23.000Z</td>\n",
       "      <td>0</td>\n",
       "      <td>1</td>\n",
       "      <td>0</td>\n",
       "      <td>0</td>\n",
       "      <td>False</td>\n",
       "    </tr>\n",
       "    <tr>\n",
       "      <th>20053</th>\n",
       "      <td>Guidance for Cleaning and Disinfecting https:/...</td>\n",
       "      <td>826283663658737666</td>\n",
       "      <td>real</td>\n",
       "      <td>2020-05-08T12:31:07.000Z</td>\n",
       "      <td>3</td>\n",
       "      <td>0</td>\n",
       "      <td>0</td>\n",
       "      <td>0</td>\n",
       "      <td>True</td>\n",
       "    </tr>\n",
       "    <tr>\n",
       "      <th>32540</th>\n",
       "      <td>COVID-19 Daily: New Study Tracks US Response, ...</td>\n",
       "      <td>20057016</td>\n",
       "      <td>real</td>\n",
       "      <td>2020-05-04T19:30:11.000Z</td>\n",
       "      <td>0</td>\n",
       "      <td>0</td>\n",
       "      <td>0</td>\n",
       "      <td>0</td>\n",
       "      <td>True</td>\n",
       "    </tr>\n",
       "    <tr>\n",
       "      <th>35846</th>\n",
       "      <td>#VACCINE #WAITINGFORGODOT\\n'Pfizer: COVID-19 V...</td>\n",
       "      <td>1575659701</td>\n",
       "      <td>real</td>\n",
       "      <td>2020-05-14T22:37:29.000Z</td>\n",
       "      <td>0</td>\n",
       "      <td>0</td>\n",
       "      <td>0</td>\n",
       "      <td>0</td>\n",
       "      <td>True</td>\n",
       "    </tr>\n",
       "    <tr>\n",
       "      <th>150306</th>\n",
       "      <td>Portable AI Device Turns Coughing Sounds into ...</td>\n",
       "      <td>93417622</td>\n",
       "      <td>real</td>\n",
       "      <td>2020-03-21T10:08:24.000Z</td>\n",
       "      <td>0</td>\n",
       "      <td>0</td>\n",
       "      <td>0</td>\n",
       "      <td>0</td>\n",
       "      <td>True</td>\n",
       "    </tr>\n",
       "    <tr>\n",
       "      <th>252172</th>\n",
       "      <td>@pagetsam I don't want anyone to be on my side...</td>\n",
       "      <td>409941783</td>\n",
       "      <td>real</td>\n",
       "      <td>2020-05-01T22:10:41.000Z</td>\n",
       "      <td>0</td>\n",
       "      <td>2</td>\n",
       "      <td>0</td>\n",
       "      <td>0</td>\n",
       "      <td>False</td>\n",
       "    </tr>\n",
       "    <tr>\n",
       "      <th>97915</th>\n",
       "      <td>@GuyOpperman Our thoughts are with you and all...</td>\n",
       "      <td>1089231518160044033</td>\n",
       "      <td>real</td>\n",
       "      <td>2020-07-01T09:01:10.000Z</td>\n",
       "      <td>0</td>\n",
       "      <td>0</td>\n",
       "      <td>0</td>\n",
       "      <td>0</td>\n",
       "      <td>False</td>\n",
       "    </tr>\n",
       "    <tr>\n",
       "      <th>21793</th>\n",
       "      <td>New adjuvant successful in extending immunity ...</td>\n",
       "      <td>21558596</td>\n",
       "      <td>real</td>\n",
       "      <td>2020-06-21T09:37:26.000Z</td>\n",
       "      <td>3</td>\n",
       "      <td>0</td>\n",
       "      <td>2</td>\n",
       "      <td>0</td>\n",
       "      <td>True</td>\n",
       "    </tr>\n",
       "    <tr>\n",
       "      <th>136932</th>\n",
       "      <td>New coronavirus stable for hours on surfaces h...</td>\n",
       "      <td>160734860</td>\n",
       "      <td>real</td>\n",
       "      <td>2020-03-26T05:35:15.000Z</td>\n",
       "      <td>1</td>\n",
       "      <td>0</td>\n",
       "      <td>0</td>\n",
       "      <td>0</td>\n",
       "      <td>True</td>\n",
       "    </tr>\n",
       "  </tbody>\n",
       "</table>\n",
       "</div>"
      ],
      "text/plain": [
       "                                                     text  \\\n",
       "53275   The prolonged use of medical masks* when prope...   \n",
       "241987  @XXELiteTURkey @FraiseAdam @stamford_dan @E91_...   \n",
       "20053   Guidance for Cleaning and Disinfecting https:/...   \n",
       "32540   COVID-19 Daily: New Study Tracks US Response, ...   \n",
       "35846   #VACCINE #WAITINGFORGODOT\\n'Pfizer: COVID-19 V...   \n",
       "150306  Portable AI Device Turns Coughing Sounds into ...   \n",
       "252172  @pagetsam I don't want anyone to be on my side...   \n",
       "97915   @GuyOpperman Our thoughts are with you and all...   \n",
       "21793   New adjuvant successful in extending immunity ...   \n",
       "136932  New coronavirus stable for hours on surfaces h...   \n",
       "\n",
       "                  author_id label                created_at  retweet_count  \\\n",
       "53275             964949498  real  2020-06-13T06:13:40.000Z              3   \n",
       "241987             19927339  real  2020-04-28T15:06:23.000Z              0   \n",
       "20053    826283663658737666  real  2020-05-08T12:31:07.000Z              3   \n",
       "32540              20057016  real  2020-05-04T19:30:11.000Z              0   \n",
       "35846            1575659701  real  2020-05-14T22:37:29.000Z              0   \n",
       "150306             93417622  real  2020-03-21T10:08:24.000Z              0   \n",
       "252172            409941783  real  2020-05-01T22:10:41.000Z              0   \n",
       "97915   1089231518160044033  real  2020-07-01T09:01:10.000Z              0   \n",
       "21793              21558596  real  2020-06-21T09:37:26.000Z              3   \n",
       "136932            160734860  real  2020-03-26T05:35:15.000Z              1   \n",
       "\n",
       "        reply_count  like_count  quote_count  in_reply_to_user_id  \n",
       "53275             0           8            0                 True  \n",
       "241987            1           0            0                False  \n",
       "20053             0           0            0                 True  \n",
       "32540             0           0            0                 True  \n",
       "35846             0           0            0                 True  \n",
       "150306            0           0            0                 True  \n",
       "252172            2           0            0                False  \n",
       "97915             0           0            0                False  \n",
       "21793             0           2            0                 True  \n",
       "136932            0           0            0                 True  "
      ]
     },
     "execution_count": 4,
     "metadata": {},
     "output_type": "execute_result"
    }
   ],
   "source": [
    "import json\n",
    "\n",
    "data = json.load(open(\"./data/dataset.json\", \"r\"))\n",
    "\n",
    "data = pd.DataFrame(data)\n",
    "data.sample(10)"
   ]
  },
  {
   "cell_type": "code",
   "execution_count": 5,
   "id": "2d9d12cb",
   "metadata": {},
   "outputs": [],
   "source": [
    "test_data = data.groupby(\"label\").sample(frac=0.2)\n",
    "data = data.drop(index=test_data.index)"
   ]
  },
  {
   "cell_type": "code",
   "execution_count": 7,
   "id": "58a8ffa5-0c6f-4ec8-982f-08b97d1640ac",
   "metadata": {},
   "outputs": [
    {
     "data": {
      "text/plain": [
       "count    177151.000000\n",
       "mean         25.556926\n",
       "std          14.728556\n",
       "min           1.000000\n",
       "25%          12.000000\n",
       "50%          23.000000\n",
       "75%          38.000000\n",
       "90%          46.000000\n",
       "95%          50.000000\n",
       "max         106.000000\n",
       "Name: text, dtype: float64"
      ]
     },
     "execution_count": 7,
     "metadata": {},
     "output_type": "execute_result"
    }
   ],
   "source": [
    "data.text.str.split().apply(len).describe(percentiles=[0.25, 0.5, 0.75, 0.9, 0.95])"
   ]
  },
  {
   "cell_type": "code",
   "execution_count": 8,
   "id": "aea1a563-ac0c-4b06-86fe-9e372a07a70a",
   "metadata": {},
   "outputs": [
    {
     "data": {
      "text/plain": [
       "real    168620\n",
       "fake      8531\n",
       "Name: label, dtype: int64"
      ]
     },
     "execution_count": 8,
     "metadata": {},
     "output_type": "execute_result"
    }
   ],
   "source": [
    "data.label.value_counts()"
   ]
  },
  {
   "cell_type": "code",
   "execution_count": 9,
   "id": "a5af6ab6-a6d8-4dc1-aa7a-81437327665e",
   "metadata": {},
   "outputs": [
    {
     "name": "stdout",
     "output_type": "stream",
     "text": [
      "['fake', 'real']\n",
      "        fake  real\n",
      "80978    0.0   1.0\n",
      "14424    0.0   1.0\n",
      "216659   0.0   1.0\n",
      "41885    0.0   1.0\n",
      "23087    0.0   1.0\n",
      "['fake', 'real']\n",
      "        fake  real\n",
      "208413   0.0   1.0\n",
      "37163    0.0   1.0\n",
      "77548    0.0   1.0\n",
      "151794   0.0   1.0\n",
      "19242    0.0   1.0\n",
      "language: en\n",
      "Word Counts: 249888\n",
      "Nrows: 159435\n",
      "159435 train sequences\n",
      "train sequence lengths:\n",
      "\tmean : 26\n",
      "\t95percentile : 49\n",
      "\t99percentile : 54\n",
      "x_train shape: (159435,50)\n",
      "y_train shape: (159435, 2)\n",
      "Is Multi-Label? False\n",
      "17716 test sequences\n",
      "test sequence lengths:\n",
      "\tmean : 26\n",
      "\t95percentile : 49\n",
      "\t99percentile : 54\n",
      "x_test shape: (17716,50)\n",
      "y_test shape: (17716, 2)\n"
     ]
    }
   ],
   "source": [
    "trn, val, preproc = text.texts_from_df(\n",
    "    data,\n",
    "    text_column = \"text\",\n",
    "    label_columns=\"label\",\n",
    "    maxlen=50,\n",
    "    ngram_range=1,\n",
    "    random_state=41,\n",
    "    preprocess_mode=\"standard\"\n",
    ")"
   ]
  },
  {
   "cell_type": "code",
   "execution_count": 10,
   "id": "171fee3d-ffdd-4c95-8919-ff17804ef7ea",
   "metadata": {},
   "outputs": [
    {
     "name": "stdout",
     "output_type": "stream",
     "text": [
      "Is Multi-Label? False\n",
      "compiling word ID features...\n",
      "maxlen is 50\n",
      "done.\n"
     ]
    }
   ],
   "source": [
    "model = text.text_classifier('logreg', trn , preproc=preproc)"
   ]
  },
  {
   "cell_type": "code",
   "execution_count": 11,
   "id": "8f4da6d3-0c2b-42ea-9f24-74ad44b0ad4c",
   "metadata": {
    "tags": []
   },
   "outputs": [
    {
     "name": "stdout",
     "output_type": "stream",
     "text": [
      "Model: \"model\"\n",
      "__________________________________________________________________________________________________\n",
      " Layer (type)                   Output Shape         Param #     Connected to                     \n",
      "==================================================================================================\n",
      " input_1 (InputLayer)           [(None, 50)]         0           []                               \n",
      "                                                                                                  \n",
      " embedding_1 (Embedding)        (None, 50, 2)        40000       ['input_1[0][0]']                \n",
      "                                                                                                  \n",
      " embedding (Embedding)          (None, 50, 1)        20000       ['input_1[0][0]']                \n",
      "                                                                                                  \n",
      " dot (Dot)                      (None, 2, 1)         0           ['embedding_1[0][0]',            \n",
      "                                                                  'embedding[0][0]']              \n",
      "                                                                                                  \n",
      " flatten (Flatten)              (None, 2)            0           ['dot[0][0]']                    \n",
      "                                                                                                  \n",
      " activation (Activation)        (None, 2)            0           ['flatten[0][0]']                \n",
      "                                                                                                  \n",
      "==================================================================================================\n",
      "Total params: 60,000\n",
      "Trainable params: 40,000\n",
      "Non-trainable params: 20,000\n",
      "__________________________________________________________________________________________________\n"
     ]
    }
   ],
   "source": [
    "model.summary()"
   ]
  },
  {
   "cell_type": "code",
   "execution_count": 12,
   "id": "c6a54462-890d-4562-ae5d-dc109da0dd5b",
   "metadata": {},
   "outputs": [],
   "source": [
    "learner = ktrain.get_learner(model, \n",
    "                             train_data=trn, \n",
    "                             val_data=val, \n",
    "                             batch_size=128)"
   ]
  },
  {
   "cell_type": "code",
   "execution_count": 13,
   "id": "56da6128-a787-4d6c-af32-39d4e2087446",
   "metadata": {},
   "outputs": [
    {
     "name": "stdout",
     "output_type": "stream",
     "text": [
      "simulating training for different learning rates... this may take a few moments...\n",
      "Epoch 1/1024\n",
      "1246/1246 [==============================] - 2s 1ms/step - loss: 0.4958 - accuracy: 0.7742\n",
      "Epoch 2/1024\n",
      "1246/1246 [==============================] - 1s 470us/step - loss: 0.5844 - accuracy: 0.9620\n",
      "\n",
      "\n",
      "done.\n",
      "Please invoke the Learner.lr_plot() method to visually inspect the loss plot to help identify the maximal learning rate associated with falling loss.\n"
     ]
    }
   ],
   "source": [
    "learner.lr_find()"
   ]
  },
  {
   "cell_type": "code",
   "execution_count": 14,
   "id": "0545e789-f5a4-4a88-876b-25df03bc8698",
   "metadata": {},
   "outputs": [
    {
     "name": "stdout",
     "output_type": "stream",
     "text": [
      "Three possible suggestions for LR from plot:\n",
      "\tLongest valley (red): 2.08E-04\n",
      "\tMin numerical gradient (purple): 1.80E-02\n",
      "\tMin loss divided by 10 (omitted from plot): 2.08E-02\n"
     ]
    },
    {
     "data": {
      "image/png": "[encoded data removed]",
      "text/plain": [
       "<Figure size 576x432 with 1 Axes>"
      ]
     },
     "metadata": {
      "needs_background": "light"
     },
     "output_type": "display_data"
    }
   ],
   "source": [
    "learner.lr_plot(suggest=True)"
   ]
  },
  {
   "cell_type": "code",
   "execution_count": 15,
   "id": "eb53b3ef-9c77-4b58-8652-39ff1b820d96",
   "metadata": {},
   "outputs": [
    {
     "data": {
      "text/plain": [
       "15340"
      ]
     },
     "execution_count": 15,
     "metadata": {},
     "output_type": "execute_result"
    }
   ],
   "source": [
    "import gc\n",
    "gc.collect()"
   ]
  },
  {
   "cell_type": "code",
   "execution_count": 16,
   "id": "9a7bc33e-33ba-4a33-899e-21723b1f25e9",
   "metadata": {},
   "outputs": [
    {
     "name": "stdout",
     "output_type": "stream",
     "text": [
      "\n",
      "\n",
      "begin training using onecycle policy with max lr of 0.000208...\n",
      "Epoch 1/10\n",
      "1246/1246 [==============================] - 2s 1ms/step - loss: 0.4800 - accuracy: 0.9224 - val_loss: 0.3161 - val_accuracy: 0.9517\n",
      "Epoch 2/10\n",
      "1246/1246 [==============================] - 2s 1ms/step - loss: 0.2525 - accuracy: 0.9519 - val_loss: 0.2095 - val_accuracy: 0.9530\n",
      "Epoch 3/10\n",
      "1246/1246 [==============================] - 2s 1ms/step - loss: 0.1894 - accuracy: 0.9535 - val_loss: 0.1727 - val_accuracy: 0.9558\n",
      "Epoch 4/10\n",
      "1246/1246 [==============================] - 2s 1ms/step - loss: 0.1592 - accuracy: 0.9608 - val_loss: 0.1487 - val_accuracy: 0.9642\n",
      "Epoch 5/10\n",
      "1246/1246 [==============================] - 2s 1ms/step - loss: 0.1370 - accuracy: 0.9677 - val_loss: 0.1302 - val_accuracy: 0.9697\n",
      "Epoch 6/10\n",
      "1246/1246 [==============================] - 2s 1ms/step - loss: 0.1206 - accuracy: 0.9715 - val_loss: 0.1187 - val_accuracy: 0.9718\n",
      "Epoch 7/10\n",
      "1246/1246 [==============================] - 2s 2ms/step - loss: 0.1107 - accuracy: 0.9734 - val_loss: 0.1122 - val_accuracy: 0.9741\n",
      "Epoch 8/10\n",
      "1246/1246 [==============================] - 2s 2ms/step - loss: 0.1047 - accuracy: 0.9752 - val_loss: 0.1084 - val_accuracy: 0.9745\n",
      "Epoch 9/10\n",
      "1246/1246 [==============================] - 2s 1ms/step - loss: 0.1011 - accuracy: 0.9756 - val_loss: 0.1064 - val_accuracy: 0.9748\n",
      "Epoch 10/10\n",
      "1246/1246 [==============================] - 2s 1ms/step - loss: 0.0994 - accuracy: 0.9759 - val_loss: 0.1058 - val_accuracy: 0.9748\n"
     ]
    },
    {
     "data": {
      "text/plain": [
       "<keras.callbacks.History at 0x7f0cc20e79a0>"
      ]
     },
     "execution_count": 16,
     "metadata": {},
     "output_type": "execute_result"
    }
   ],
   "source": [
    "# 2e-5 is one of the LRs  recommended by Google and is consistent with the plot above.\n",
    "learner.fit_onecycle(2.08E-04, 10)"
   ]
  },
  {
   "cell_type": "code",
   "execution_count": 17,
   "id": "9d5f6df3-7f10-47bd-99de-bcf48a300ea3",
   "metadata": {},
   "outputs": [
    {
     "data": {
      "image/png": "[encoded data removed]",
      "text/plain": [
       "<Figure size 576x432 with 1 Axes>"
      ]
     },
     "metadata": {
      "needs_background": "light"
     },
     "output_type": "display_data"
    }
   ],
   "source": [
    "plt.plot(learner.history.history[\"accuracy\"])\n",
    "plt.plot(learner.history.history[\"val_accuracy\"])\n",
    "plt.legend([\"acc\", \"val-acc\"])\n",
    "plt.xlabel(\"epochs\")\n",
    "plt.ylabel(\"accuracy\")\n",
    "plt.show()"
   ]
  },
  {
   "cell_type": "code",
   "execution_count": 18,
   "id": "904da882-1d19-41ac-89ad-54d270619f6d",
   "metadata": {},
   "outputs": [
    {
     "data": {
      "image/png": "[encoded data removed]",
      "text/plain": [
       "<Figure size 576x432 with 1 Axes>"
      ]
     },
     "metadata": {
      "needs_background": "light"
     },
     "output_type": "display_data"
    }
   ],
   "source": [
    "plt.plot(learner.history.history[\"loss\"])\n",
    "plt.plot(learner.history.history[\"val_loss\"])\n",
    "plt.legend([\"loss\", \"val-loss\"])\n",
    "plt.xlabel(\"epochs\")\n",
    "plt.ylabel(\"loss\")\n",
    "plt.show()"
   ]
  },
  {
   "cell_type": "code",
   "execution_count": 19,
   "id": "1c03a40f-c452-450a-9040-9718c244f9ea",
   "metadata": {},
   "outputs": [],
   "source": [
    "predictor = ktrain.get_predictor(learner.model, preproc)"
   ]
  },
  {
   "cell_type": "code",
   "execution_count": 20,
   "id": "a319c9d0-d385-4e1e-a3c1-be407dfb9d64",
   "metadata": {},
   "outputs": [
    {
     "data": {
      "text/plain": [
       "array([[0.2843219 , 0.7156781 ],\n",
       "       [0.39816812, 0.60183185],\n",
       "       [0.97159123, 0.02840879],\n",
       "       [0.74573547, 0.2542645 ],\n",
       "       [0.8886261 , 0.11137389]], dtype=float32)"
      ]
     },
     "execution_count": 20,
     "metadata": {},
     "output_type": "execute_result"
    }
   ],
   "source": [
    "probs = predictor.predict_proba(test_data[\"text\"].values)\n",
    "probs[:5]"
   ]
  },
  {
   "cell_type": "code",
   "execution_count": 21,
   "id": "169052d4-d00b-473a-a4cb-4d30d9d383a4",
   "metadata": {},
   "outputs": [
    {
     "data": {
      "text/plain": [
       "193047    True\n",
       "181937    True\n",
       "191933    True\n",
       "51948     True\n",
       "194849    True\n",
       "Name: label, dtype: bool"
      ]
     },
     "execution_count": 21,
     "metadata": {},
     "output_type": "execute_result"
    }
   ],
   "source": [
    "y = (test_data.label == \"fake\")\n",
    "y.head()"
   ]
  },
  {
   "cell_type": "code",
   "execution_count": 22,
   "id": "99f0de1c-1ef8-4c32-99d3-fcbbd9e97b8c",
   "metadata": {},
   "outputs": [],
   "source": [
    "import metrics as mmetrics"
   ]
  },
  {
   "cell_type": "code",
   "execution_count": 23,
   "id": "837e6430-da39-4f69-b298-d6a3f43fb348",
   "metadata": {},
   "outputs": [
    {
     "data": {
      "text/html": [
       "<div>\n",
       "<style scoped>\n",
       "    .dataframe tbody tr th:only-of-type {\n",
       "        vertical-align: middle;\n",
       "    }\n",
       "\n",
       "    .dataframe tbody tr th {\n",
       "        vertical-align: top;\n",
       "    }\n",
       "\n",
       "    .dataframe thead th {\n",
       "        text-align: right;\n",
       "    }\n",
       "</style>\n",
       "<table border=\"1\" class=\"dataframe\">\n",
       "  <thead>\n",
       "    <tr style=\"text-align: right;\">\n",
       "      <th></th>\n",
       "      <th>TP</th>\n",
       "      <th>TN</th>\n",
       "      <th>FP</th>\n",
       "      <th>FN</th>\n",
       "      <th>Accuracy</th>\n",
       "      <th>Prevalence</th>\n",
       "      <th>Sensitivity</th>\n",
       "      <th>Specificity</th>\n",
       "      <th>PPV</th>\n",
       "      <th>NPV</th>\n",
       "      <th>AUC</th>\n",
       "      <th>F1</th>\n",
       "      <th>Threshold</th>\n",
       "    </tr>\n",
       "    <tr>\n",
       "      <th></th>\n",
       "      <th></th>\n",
       "      <th></th>\n",
       "      <th></th>\n",
       "      <th></th>\n",
       "      <th></th>\n",
       "      <th></th>\n",
       "      <th></th>\n",
       "      <th></th>\n",
       "      <th></th>\n",
       "      <th></th>\n",
       "      <th></th>\n",
       "      <th></th>\n",
       "      <th></th>\n",
       "    </tr>\n",
       "  </thead>\n",
       "  <tbody>\n",
       "    <tr>\n",
       "      <th>LogREG</th>\n",
       "      <td>1121</td>\n",
       "      <td>42043</td>\n",
       "      <td>112</td>\n",
       "      <td>1012</td>\n",
       "      <td>0.975</td>\n",
       "      <td>0.048</td>\n",
       "      <td>0.526</td>\n",
       "      <td>0.997</td>\n",
       "      <td>0.909</td>\n",
       "      <td>0.976</td>\n",
       "      <td>0.926</td>\n",
       "      <td>0.666</td>\n",
       "      <td>0.5</td>\n",
       "    </tr>\n",
       "  </tbody>\n",
       "</table>\n",
       "</div>"
      ],
      "text/plain": [
       "          TP     TN   FP    FN  Accuracy  Prevalence  Sensitivity  \\\n",
       "                                                                    \n",
       "LogREG  1121  42043  112  1012     0.975       0.048        0.526   \n",
       "\n",
       "        Specificity    PPV    NPV    AUC     F1  Threshold  \n",
       "                                                            \n",
       "LogREG        0.997  0.909  0.976  0.926  0.666        0.5  "
      ]
     },
     "execution_count": 23,
     "metadata": {},
     "output_type": "execute_result"
    }
   ],
   "source": [
    "y = y.values.reshape((-1, 1))\n",
    "\n",
    "perfs = mmetrics.get_performance_metrics(y, probs[:, :1], [\"LogREG\"])\n",
    "perfs"
   ]
  },
  {
   "cell_type": "code",
   "execution_count": null,
   "id": "02a0aa4a-3e3e-4f64-b6ee-865611cc4068",
   "metadata": {},
   "outputs": [],
   "source": []
  }
 ],
 "metadata": {
  "kernelspec": {
   "display_name": "Python 3",
   "language": "python",
   "name": "python3"
  },
  "language_info": {
   "codemirror_mode": {
    "name": "ipython",
    "version": 3
   },
   "file_extension": ".py",
   "mimetype": "text/x-python",
   "name": "python",
   "nbconvert_exporter": "python",
   "pygments_lexer": "ipython3",
   "version": "3.9.7"
  }
 },
 "nbformat": 4,
 "nbformat_minor": 5
}
