{
 "cells": [
  {
   "cell_type": "code",
   "execution_count": 1,
   "id": "e8ed85d7-2f9c-4204-830c-b9e3eada386c",
   "metadata": {},
   "outputs": [],
   "source": [
    "%reload_ext autoreload\n",
    "%autoreload 2\n",
    "%matplotlib inline\n",
    "import os\n",
    "os.environ[\"CUDA_DEVICE_ORDER\"]=\"PCI_BUS_ID\";\n",
    "os.environ[\"CUDA_VISIBLE_DEVICES\"]=\"0\";"
   ]
  },
  {
   "cell_type": "code",
   "execution_count": 2,
   "id": "40a85a0e-088a-4573-8ceb-cc268a9d7ef2",
   "metadata": {},
   "outputs": [],
   "source": [
    "import ktrain\n",
    "from ktrain import text"
   ]
  },
  {
   "cell_type": "code",
   "execution_count": 3,
   "id": "c792db7a-e0b7-4af0-b7f9-55ce595f5d27",
   "metadata": {},
   "outputs": [],
   "source": [
    "import os\n",
    "import datetime\n",
    "\n",
    "import IPython\n",
    "import IPython.display\n",
    "import matplotlib as mpl\n",
    "import matplotlib.pyplot as plt\n",
    "import numpy as np\n",
    "import pandas as pd\n",
    "import seaborn as sns\n",
    "import warnings\n",
    "from IPython.display import Markdown\n",
    "from IPython.display import display\n",
    "\n",
    "mpl.rcParams['figure.figsize'] = (8, 6)\n",
    "mpl.rcParams['axes.grid'] = False\n",
    "warnings.filterwarnings(\"ignore\")\n",
    "\n",
    "pd.set_option('display.max_columns', None)"
   ]
  },
  {
   "cell_type": "code",
   "execution_count": 4,
   "id": "980c5db0-aeeb-4c4b-8d60-08926b86487f",
   "metadata": {},
   "outputs": [
    {
     "data": {
      "text/html": [
       "<div>\n",
       "<style scoped>\n",
       "    .dataframe tbody tr th:only-of-type {\n",
       "        vertical-align: middle;\n",
       "    }\n",
       "\n",
       "    .dataframe tbody tr th {\n",
       "        vertical-align: top;\n",
       "    }\n",
       "\n",
       "    .dataframe thead th {\n",
       "        text-align: right;\n",
       "    }\n",
       "</style>\n",
       "<table border=\"1\" class=\"dataframe\">\n",
       "  <thead>\n",
       "    <tr style=\"text-align: right;\">\n",
       "      <th></th>\n",
       "      <th>text</th>\n",
       "      <th>author_id</th>\n",
       "      <th>label</th>\n",
       "      <th>created_at</th>\n",
       "      <th>retweet_count</th>\n",
       "      <th>reply_count</th>\n",
       "      <th>like_count</th>\n",
       "      <th>quote_count</th>\n",
       "      <th>in_reply_to_user_id</th>\n",
       "    </tr>\n",
       "  </thead>\n",
       "  <tbody>\n",
       "    <tr>\n",
       "      <th>252121</th>\n",
       "      <td>Today's update - our story about the 200% spik...</td>\n",
       "      <td>20451881</td>\n",
       "      <td>real</td>\n",
       "      <td>2020-04-29T07:19:32.000Z</td>\n",
       "      <td>3</td>\n",
       "      <td>0</td>\n",
       "      <td>2</td>\n",
       "      <td>0</td>\n",
       "      <td>False</td>\n",
       "    </tr>\n",
       "    <tr>\n",
       "      <th>227884</th>\n",
       "      <td>@bsdavidson360 @realDonaldTrump @POTUS @VP Wha...</td>\n",
       "      <td>198415967</td>\n",
       "      <td>real</td>\n",
       "      <td>2020-04-05T06:11:12.000Z</td>\n",
       "      <td>0</td>\n",
       "      <td>1</td>\n",
       "      <td>0</td>\n",
       "      <td>0</td>\n",
       "      <td>False</td>\n",
       "    </tr>\n",
       "    <tr>\n",
       "      <th>158180</th>\n",
       "      <td>@bashy_io The epidemiological context, cross r...</td>\n",
       "      <td>88703977</td>\n",
       "      <td>real</td>\n",
       "      <td>2020-04-28T08:09:04.000Z</td>\n",
       "      <td>1</td>\n",
       "      <td>1</td>\n",
       "      <td>2</td>\n",
       "      <td>0</td>\n",
       "      <td>False</td>\n",
       "    </tr>\n",
       "    <tr>\n",
       "      <th>62002</th>\n",
       "      <td>@laralogan Hey Rex, Block or Charge?</td>\n",
       "      <td>34348391</td>\n",
       "      <td>real</td>\n",
       "      <td>2020-06-28T04:35:51.000Z</td>\n",
       "      <td>0</td>\n",
       "      <td>0</td>\n",
       "      <td>0</td>\n",
       "      <td>0</td>\n",
       "      <td>False</td>\n",
       "    </tr>\n",
       "    <tr>\n",
       "      <th>64962</th>\n",
       "      <td>@blairanderson35 Maybe this is definition wobb...</td>\n",
       "      <td>284611951</td>\n",
       "      <td>real</td>\n",
       "      <td>2020-06-29T23:41:06.000Z</td>\n",
       "      <td>0</td>\n",
       "      <td>1</td>\n",
       "      <td>0</td>\n",
       "      <td>0</td>\n",
       "      <td>False</td>\n",
       "    </tr>\n",
       "    <tr>\n",
       "      <th>70255</th>\n",
       "      <td>@dodgeluvr1 @hsmiceli @furflys @richdavisphd @...</td>\n",
       "      <td>178213281</td>\n",
       "      <td>real</td>\n",
       "      <td>2020-07-01T16:50:45.000Z</td>\n",
       "      <td>0</td>\n",
       "      <td>1</td>\n",
       "      <td>0</td>\n",
       "      <td>0</td>\n",
       "      <td>False</td>\n",
       "    </tr>\n",
       "    <tr>\n",
       "      <th>142346</th>\n",
       "      <td>COVID-19 Is Making Psychiatric Treatment Tough...</td>\n",
       "      <td>1241760764828024833</td>\n",
       "      <td>real</td>\n",
       "      <td>2020-04-09T23:54:28.000Z</td>\n",
       "      <td>0</td>\n",
       "      <td>0</td>\n",
       "      <td>0</td>\n",
       "      <td>0</td>\n",
       "      <td>True</td>\n",
       "    </tr>\n",
       "    <tr>\n",
       "      <th>215901</th>\n",
       "      <td>@AlterEgon75 @GovMLG What, are you too cool to...</td>\n",
       "      <td>116568523</td>\n",
       "      <td>real</td>\n",
       "      <td>2020-05-01T21:00:19.000Z</td>\n",
       "      <td>0</td>\n",
       "      <td>5</td>\n",
       "      <td>18</td>\n",
       "      <td>0</td>\n",
       "      <td>False</td>\n",
       "    </tr>\n",
       "    <tr>\n",
       "      <th>144427</th>\n",
       "      <td>@Grainne43 I think you’ve outlined pretty much...</td>\n",
       "      <td>963913183</td>\n",
       "      <td>real</td>\n",
       "      <td>2020-05-01T23:02:14.000Z</td>\n",
       "      <td>0</td>\n",
       "      <td>0</td>\n",
       "      <td>2</td>\n",
       "      <td>0</td>\n",
       "      <td>False</td>\n",
       "    </tr>\n",
       "    <tr>\n",
       "      <th>31678</th>\n",
       "      <td>Tanky talks about her My Pet #Monster and othe...</td>\n",
       "      <td>812186204586311680</td>\n",
       "      <td>real</td>\n",
       "      <td>2020-06-28T16:17:13.000Z</td>\n",
       "      <td>0</td>\n",
       "      <td>0</td>\n",
       "      <td>0</td>\n",
       "      <td>0</td>\n",
       "      <td>True</td>\n",
       "    </tr>\n",
       "  </tbody>\n",
       "</table>\n",
       "</div>"
      ],
      "text/plain": [
       "                                                     text  \\\n",
       "252121  Today's update - our story about the 200% spik...   \n",
       "227884  @bsdavidson360 @realDonaldTrump @POTUS @VP Wha...   \n",
       "158180  @bashy_io The epidemiological context, cross r...   \n",
       "62002                @laralogan Hey Rex, Block or Charge?   \n",
       "64962   @blairanderson35 Maybe this is definition wobb...   \n",
       "70255   @dodgeluvr1 @hsmiceli @furflys @richdavisphd @...   \n",
       "142346  COVID-19 Is Making Psychiatric Treatment Tough...   \n",
       "215901  @AlterEgon75 @GovMLG What, are you too cool to...   \n",
       "144427  @Grainne43 I think you’ve outlined pretty much...   \n",
       "31678   Tanky talks about her My Pet #Monster and othe...   \n",
       "\n",
       "                  author_id label                created_at  retweet_count  \\\n",
       "252121             20451881  real  2020-04-29T07:19:32.000Z              3   \n",
       "227884            198415967  real  2020-04-05T06:11:12.000Z              0   \n",
       "158180             88703977  real  2020-04-28T08:09:04.000Z              1   \n",
       "62002              34348391  real  2020-06-28T04:35:51.000Z              0   \n",
       "64962             284611951  real  2020-06-29T23:41:06.000Z              0   \n",
       "70255             178213281  real  2020-07-01T16:50:45.000Z              0   \n",
       "142346  1241760764828024833  real  2020-04-09T23:54:28.000Z              0   \n",
       "215901            116568523  real  2020-05-01T21:00:19.000Z              0   \n",
       "144427            963913183  real  2020-05-01T23:02:14.000Z              0   \n",
       "31678    812186204586311680  real  2020-06-28T16:17:13.000Z              0   \n",
       "\n",
       "        reply_count  like_count  quote_count  in_reply_to_user_id  \n",
       "252121            0           2            0                False  \n",
       "227884            1           0            0                False  \n",
       "158180            1           2            0                False  \n",
       "62002             0           0            0                False  \n",
       "64962             1           0            0                False  \n",
       "70255             1           0            0                False  \n",
       "142346            0           0            0                 True  \n",
       "215901            5          18            0                False  \n",
       "144427            0           2            0                False  \n",
       "31678             0           0            0                 True  "
      ]
     },
     "execution_count": 4,
     "metadata": {},
     "output_type": "execute_result"
    }
   ],
   "source": [
    "import json\n",
    "\n",
    "data = json.load(open(\"./data/dataset.json\", \"r\"))\n",
    "\n",
    "data = pd.DataFrame(data)\n",
    "data.sample(10)"
   ]
  },
  {
   "cell_type": "code",
   "execution_count": 5,
   "id": "9f53ef10",
   "metadata": {},
   "outputs": [],
   "source": [
    "test_data = data.groupby(\"label\").sample(frac=0.2)\n",
    "data = data.drop(index=test_data.index)"
   ]
  },
  {
   "cell_type": "code",
   "execution_count": 6,
   "id": "58a8ffa5-0c6f-4ec8-982f-08b97d1640ac",
   "metadata": {},
   "outputs": [
    {
     "data": {
      "text/plain": [
       "count    177151.000000\n",
       "mean         25.558772\n",
       "std          14.739339\n",
       "min           1.000000\n",
       "25%          12.000000\n",
       "50%          23.000000\n",
       "75%          38.000000\n",
       "90%          46.000000\n",
       "95%          50.000000\n",
       "max         106.000000\n",
       "Name: text, dtype: float64"
      ]
     },
     "execution_count": 6,
     "metadata": {},
     "output_type": "execute_result"
    }
   ],
   "source": [
    "data.text.str.split().apply(len).describe(percentiles=[0.25, 0.5, 0.75, 0.9, 0.95])"
   ]
  },
  {
   "cell_type": "code",
   "execution_count": 7,
   "id": "aea1a563-ac0c-4b06-86fe-9e372a07a70a",
   "metadata": {},
   "outputs": [
    {
     "data": {
      "text/plain": [
       "real    168620\n",
       "fake      8531\n",
       "Name: label, dtype: int64"
      ]
     },
     "execution_count": 7,
     "metadata": {},
     "output_type": "execute_result"
    }
   ],
   "source": [
    "data.label.value_counts()"
   ]
  },
  {
   "cell_type": "code",
   "execution_count": 8,
   "id": "a5af6ab6-a6d8-4dc1-aa7a-81437327665e",
   "metadata": {},
   "outputs": [
    {
     "name": "stdout",
     "output_type": "stream",
     "text": [
      "['fake', 'real']\n",
      "        fake  real\n",
      "80890    0.0   1.0\n",
      "14311    0.0   1.0\n",
      "216719   0.0   1.0\n",
      "41661    0.0   1.0\n",
      "22878    0.0   1.0\n",
      "['fake', 'real']\n",
      "        fake  real\n",
      "208472   0.0   1.0\n",
      "36960    0.0   1.0\n",
      "77453    0.0   1.0\n",
      "151760   0.0   1.0\n",
      "19093    0.0   1.0\n",
      "language: en\n",
      "Word Counts: 249420\n",
      "Nrows: 159435\n",
      "159435 train sequences\n",
      "train sequence lengths:\n",
      "\tmean : 26\n",
      "\t95percentile : 49\n",
      "\t99percentile : 54\n",
      "x_train shape: (159435,50)\n",
      "y_train shape: (159435, 2)\n",
      "Is Multi-Label? False\n",
      "17716 test sequences\n",
      "test sequence lengths:\n",
      "\tmean : 26\n",
      "\t95percentile : 49\n",
      "\t99percentile : 54\n",
      "x_test shape: (17716,50)\n",
      "y_test shape: (17716, 2)\n"
     ]
    }
   ],
   "source": [
    "trn, val, preproc = text.texts_from_df(\n",
    "    data,\n",
    "    text_column = \"text\",\n",
    "    label_columns=\"label\",\n",
    "    maxlen=50,\n",
    "    ngram_range=1,\n",
    "    random_state=41,\n",
    "    preprocess_mode=\"standard\"\n",
    ")"
   ]
  },
  {
   "cell_type": "code",
   "execution_count": 9,
   "id": "171fee3d-ffdd-4c95-8919-ff17804ef7ea",
   "metadata": {},
   "outputs": [
    {
     "name": "stdout",
     "output_type": "stream",
     "text": [
      "Is Multi-Label? False\n",
      "compiling word ID features...\n",
      "maxlen is 50\n",
      "building document-term matrix... this may take a few moments...\n",
      "rows: 1-10000\n",
      "rows: 10001-20000\n",
      "rows: 20001-30000\n",
      "rows: 30001-40000\n",
      "rows: 40001-50000\n",
      "rows: 50001-60000\n",
      "rows: 60001-70000\n",
      "rows: 70001-80000\n",
      "rows: 80001-90000\n",
      "rows: 90001-100000\n",
      "rows: 100001-110000\n",
      "rows: 110001-120000\n",
      "rows: 120001-130000\n",
      "rows: 130001-140000\n",
      "rows: 140001-150000\n",
      "rows: 150001-159435\n",
      "computing log-count ratios...\n",
      "done.\n"
     ]
    }
   ],
   "source": [
    "model = text.text_classifier('nbsvm', trn , preproc=preproc)"
   ]
  },
  {
   "cell_type": "code",
   "execution_count": 10,
   "id": "8f4da6d3-0c2b-42ea-9f24-74ad44b0ad4c",
   "metadata": {
    "tags": []
   },
   "outputs": [
    {
     "name": "stdout",
     "output_type": "stream",
     "text": [
      "Model: \"model\"\n",
      "__________________________________________________________________________________________________\n",
      " Layer (type)                   Output Shape         Param #     Connected to                     \n",
      "==================================================================================================\n",
      " input_1 (InputLayer)           [(None, 50)]         0           []                               \n",
      "                                                                                                  \n",
      " embedding (Embedding)          (None, 50, 2)        40000       ['input_1[0][0]']                \n",
      "                                                                                                  \n",
      " embedding_1 (Embedding)        (None, 50, 1)        20000       ['input_1[0][0]']                \n",
      "                                                                                                  \n",
      " dot (Dot)                      (None, 2, 1)         0           ['embedding[0][0]',              \n",
      "                                                                  'embedding_1[0][0]']            \n",
      "                                                                                                  \n",
      " flatten (Flatten)              (None, 2)            0           ['dot[0][0]']                    \n",
      "                                                                                                  \n",
      " activation (Activation)        (None, 2)            0           ['flatten[0][0]']                \n",
      "                                                                                                  \n",
      "==================================================================================================\n",
      "Total params: 60,000\n",
      "Trainable params: 20,000\n",
      "Non-trainable params: 40,000\n",
      "__________________________________________________________________________________________________\n"
     ]
    }
   ],
   "source": [
    "model.summary()"
   ]
  },
  {
   "cell_type": "code",
   "execution_count": 11,
   "id": "c6a54462-890d-4562-ae5d-dc109da0dd5b",
   "metadata": {},
   "outputs": [],
   "source": [
    "learner = ktrain.get_learner(model, \n",
    "                             train_data=trn, \n",
    "                             val_data=val, \n",
    "                             batch_size=128)"
   ]
  },
  {
   "cell_type": "code",
   "execution_count": 12,
   "id": "56da6128-a787-4d6c-af32-39d4e2087446",
   "metadata": {},
   "outputs": [
    {
     "name": "stdout",
     "output_type": "stream",
     "text": [
      "simulating training for different learning rates... this may take a few moments...\n",
      "Epoch 1/1024\n",
      "1246/1246 [==============================] - 2s 1ms/step - loss: 0.5072 - accuracy: 0.7489\n",
      "Epoch 2/1024\n",
      "1246/1246 [==============================] - 1s 466us/step - loss: 0.5472 - accuracy: 0.9685\n",
      "\n",
      "\n",
      "done.\n",
      "Please invoke the Learner.lr_plot() method to visually inspect the loss plot to help identify the maximal learning rate associated with falling loss.\n"
     ]
    }
   ],
   "source": [
    "learner.lr_find()"
   ]
  },
  {
   "cell_type": "code",
   "execution_count": 13,
   "id": "0545e789-f5a4-4a88-876b-25df03bc8698",
   "metadata": {},
   "outputs": [
    {
     "name": "stdout",
     "output_type": "stream",
     "text": [
      "Three possible suggestions for LR from plot:\n",
      "\tLongest valley (red): 1.71E-04\n",
      "\tMin numerical gradient (purple): 1.80E-02\n",
      "\tMin loss divided by 10 (omitted from plot): 2.51E-02\n"
     ]
    },
    {
     "data": {
      "image/png": "[encoded data removed]",
      "text/plain": [
       "<Figure size 576x432 with 1 Axes>"
      ]
     },
     "metadata": {
      "needs_background": "light"
     },
     "output_type": "display_data"
    }
   ],
   "source": [
    "learner.lr_plot(suggest=True)"
   ]
  },
  {
   "cell_type": "code",
   "execution_count": 14,
   "id": "eb53b3ef-9c77-4b58-8652-39ff1b820d96",
   "metadata": {},
   "outputs": [
    {
     "data": {
      "text/plain": [
       "16123"
      ]
     },
     "execution_count": 14,
     "metadata": {},
     "output_type": "execute_result"
    }
   ],
   "source": [
    "import gc\n",
    "gc.collect()"
   ]
  },
  {
   "cell_type": "code",
   "execution_count": 15,
   "id": "9a7bc33e-33ba-4a33-899e-21723b1f25e9",
   "metadata": {},
   "outputs": [
    {
     "name": "stdout",
     "output_type": "stream",
     "text": [
      "\n",
      "\n",
      "begin training using onecycle policy with max lr of 0.000171...\n",
      "Epoch 1/10\n",
      "1246/1246 [==============================] - 2s 1ms/step - loss: 0.5450 - accuracy: 0.8850 - val_loss: 0.3990 - val_accuracy: 0.9621\n",
      "Epoch 2/10\n",
      "1246/1246 [==============================] - 2s 1ms/step - loss: 0.3089 - accuracy: 0.9658 - val_loss: 0.2417 - val_accuracy: 0.9694\n",
      "Epoch 3/10\n",
      "1246/1246 [==============================] - 2s 1ms/step - loss: 0.2033 - accuracy: 0.9717 - val_loss: 0.1756 - val_accuracy: 0.9736\n",
      "Epoch 4/10\n",
      "1246/1246 [==============================] - 2s 1ms/step - loss: 0.1554 - accuracy: 0.9753 - val_loss: 0.1434 - val_accuracy: 0.9753\n",
      "Epoch 5/10\n",
      "1246/1246 [==============================] - 2s 1ms/step - loss: 0.1298 - accuracy: 0.9775 - val_loss: 0.1251 - val_accuracy: 0.9770\n",
      "Epoch 6/10\n",
      "1246/1246 [==============================] - 2s 1ms/step - loss: 0.1145 - accuracy: 0.9789 - val_loss: 0.1148 - val_accuracy: 0.9786\n",
      "Epoch 7/10\n",
      "1246/1246 [==============================] - 2s 1ms/step - loss: 0.1058 - accuracy: 0.9802 - val_loss: 0.1091 - val_accuracy: 0.9794\n",
      "Epoch 8/10\n",
      "1246/1246 [==============================] - 2s 1ms/step - loss: 0.1005 - accuracy: 0.9809 - val_loss: 0.1058 - val_accuracy: 0.9795\n",
      "Epoch 9/10\n",
      "1246/1246 [==============================] - 2s 1ms/step - loss: 0.0974 - accuracy: 0.9813 - val_loss: 0.1040 - val_accuracy: 0.9798\n",
      "Epoch 10/10\n",
      "1246/1246 [==============================] - 2s 1ms/step - loss: 0.0959 - accuracy: 0.9815 - val_loss: 0.1034 - val_accuracy: 0.9799\n"
     ]
    },
    {
     "data": {
      "text/plain": [
       "<keras.callbacks.History at 0x7fdd3e664a00>"
      ]
     },
     "execution_count": 15,
     "metadata": {},
     "output_type": "execute_result"
    }
   ],
   "source": [
    "# 2e-5 is one of the LRs  recommended by Google and is consistent with the plot above.\n",
    "learner.fit_onecycle(1.71E-04, 10)"
   ]
  },
  {
   "cell_type": "code",
   "execution_count": 16,
   "id": "9d5f6df3-7f10-47bd-99de-bcf48a300ea3",
   "metadata": {},
   "outputs": [
    {
     "data": {
      "image/png": "[encoded data removed]",
      "text/plain": [
       "<Figure size 576x432 with 1 Axes>"
      ]
     },
     "metadata": {
      "needs_background": "light"
     },
     "output_type": "display_data"
    }
   ],
   "source": [
    "plt.plot(learner.history.history[\"accuracy\"])\n",
    "plt.plot(learner.history.history[\"val_accuracy\"])\n",
    "plt.legend([\"acc\", \"val-acc\"])\n",
    "plt.xlabel(\"epochs\")\n",
    "plt.ylabel(\"accuracy\")\n",
    "plt.show()"
   ]
  },
  {
   "cell_type": "code",
   "execution_count": 17,
   "id": "904da882-1d19-41ac-89ad-54d270619f6d",
   "metadata": {},
   "outputs": [
    {
     "data": {
      "image/png": "[encoded data removed]",
      "text/plain": [
       "<Figure size 576x432 with 1 Axes>"
      ]
     },
     "metadata": {
      "needs_background": "light"
     },
     "output_type": "display_data"
    }
   ],
   "source": [
    "plt.plot(learner.history.history[\"loss\"])\n",
    "plt.plot(learner.history.history[\"val_loss\"])\n",
    "plt.legend([\"loss\", \"val-loss\"])\n",
    "plt.xlabel(\"epochs\")\n",
    "plt.ylabel(\"loss\")\n",
    "plt.show()"
   ]
  },
  {
   "cell_type": "code",
   "execution_count": 18,
   "id": "1c03a40f-c452-450a-9040-9718c244f9ea",
   "metadata": {},
   "outputs": [],
   "source": [
    "predictor = ktrain.get_predictor(learner.model, preproc)"
   ]
  },
  {
   "cell_type": "code",
   "execution_count": 19,
   "id": "a319c9d0-d385-4e1e-a3c1-be407dfb9d64",
   "metadata": {},
   "outputs": [
    {
     "data": {
      "text/plain": [
       "array([[0.9982293 , 0.00177074],\n",
       "       [0.98882306, 0.01117694],\n",
       "       [0.991899  , 0.00810096],\n",
       "       [0.00774136, 0.9922586 ],\n",
       "       [0.9873333 , 0.01266665]], dtype=float32)"
      ]
     },
     "execution_count": 19,
     "metadata": {},
     "output_type": "execute_result"
    }
   ],
   "source": [
    "probs = predictor.predict_proba(test_data[\"text\"].values)\n",
    "probs[:5]"
   ]
  },
  {
   "cell_type": "code",
   "execution_count": 20,
   "id": "169052d4-d00b-473a-a4cb-4d30d9d383a4",
   "metadata": {},
   "outputs": [
    {
     "data": {
      "text/plain": [
       "190350    True\n",
       "193845    True\n",
       "53917     True\n",
       "183541    True\n",
       "194533    True\n",
       "Name: label, dtype: bool"
      ]
     },
     "execution_count": 20,
     "metadata": {},
     "output_type": "execute_result"
    }
   ],
   "source": [
    "y = (test_data.label == \"fake\")\n",
    "y.head()"
   ]
  },
  {
   "cell_type": "code",
   "execution_count": 21,
   "id": "99f0de1c-1ef8-4c32-99d3-fcbbd9e97b8c",
   "metadata": {},
   "outputs": [],
   "source": [
    "import metrics as mmetrics"
   ]
  },
  {
   "cell_type": "code",
   "execution_count": 22,
   "id": "837e6430-da39-4f69-b298-d6a3f43fb348",
   "metadata": {},
   "outputs": [
    {
     "data": {
      "text/html": [
       "<div>\n",
       "<style scoped>\n",
       "    .dataframe tbody tr th:only-of-type {\n",
       "        vertical-align: middle;\n",
       "    }\n",
       "\n",
       "    .dataframe tbody tr th {\n",
       "        vertical-align: top;\n",
       "    }\n",
       "\n",
       "    .dataframe thead th {\n",
       "        text-align: right;\n",
       "    }\n",
       "</style>\n",
       "<table border=\"1\" class=\"dataframe\">\n",
       "  <thead>\n",
       "    <tr style=\"text-align: right;\">\n",
       "      <th></th>\n",
       "      <th>TP</th>\n",
       "      <th>TN</th>\n",
       "      <th>FP</th>\n",
       "      <th>FN</th>\n",
       "      <th>Accuracy</th>\n",
       "      <th>Prevalence</th>\n",
       "      <th>Sensitivity</th>\n",
       "      <th>Specificity</th>\n",
       "      <th>PPV</th>\n",
       "      <th>NPV</th>\n",
       "      <th>AUC</th>\n",
       "      <th>F1</th>\n",
       "      <th>Threshold</th>\n",
       "    </tr>\n",
       "    <tr>\n",
       "      <th></th>\n",
       "      <th></th>\n",
       "      <th></th>\n",
       "      <th></th>\n",
       "      <th></th>\n",
       "      <th></th>\n",
       "      <th></th>\n",
       "      <th></th>\n",
       "      <th></th>\n",
       "      <th></th>\n",
       "      <th></th>\n",
       "      <th></th>\n",
       "      <th></th>\n",
       "      <th></th>\n",
       "    </tr>\n",
       "  </thead>\n",
       "  <tbody>\n",
       "    <tr>\n",
       "      <th>NBSVM</th>\n",
       "      <td>1334</td>\n",
       "      <td>42079</td>\n",
       "      <td>76</td>\n",
       "      <td>799</td>\n",
       "      <td>0.98</td>\n",
       "      <td>0.048</td>\n",
       "      <td>0.625</td>\n",
       "      <td>0.998</td>\n",
       "      <td>0.946</td>\n",
       "      <td>0.981</td>\n",
       "      <td>0.923</td>\n",
       "      <td>0.753</td>\n",
       "      <td>0.5</td>\n",
       "    </tr>\n",
       "  </tbody>\n",
       "</table>\n",
       "</div>"
      ],
      "text/plain": [
       "         TP     TN  FP   FN  Accuracy  Prevalence  Sensitivity  Specificity  \\\n",
       "                                                                              \n",
       "NBSVM  1334  42079  76  799      0.98       0.048        0.625        0.998   \n",
       "\n",
       "         PPV    NPV    AUC     F1  Threshold  \n",
       "                                              \n",
       "NBSVM  0.946  0.981  0.923  0.753        0.5  "
      ]
     },
     "execution_count": 22,
     "metadata": {},
     "output_type": "execute_result"
    }
   ],
   "source": [
    "y = y.values.reshape((-1, 1))\n",
    "\n",
    "perfs = mmetrics.get_performance_metrics(y, probs[:, :1], [\"NBSVM\"])\n",
    "perfs"
   ]
  },
  {
   "cell_type": "code",
   "execution_count": null,
   "id": "02a0aa4a-3e3e-4f64-b6ee-865611cc4068",
   "metadata": {},
   "outputs": [],
   "source": []
  }
 ],
 "metadata": {
  "kernelspec": {
   "display_name": "Python 3",
   "language": "python",
   "name": "python3"
  },
  "language_info": {
   "codemirror_mode": {
    "name": "ipython",
    "version": 3
   },
   "file_extension": ".py",
   "mimetype": "text/x-python",
   "name": "python",
   "nbconvert_exporter": "python",
   "pygments_lexer": "ipython3",
   "version": "3.9.7"
  }
 },
 "nbformat": 4,
 "nbformat_minor": 5
}
