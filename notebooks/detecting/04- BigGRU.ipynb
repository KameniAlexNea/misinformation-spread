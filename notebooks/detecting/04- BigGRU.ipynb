{
 "cells": [
  {
   "cell_type": "code",
   "execution_count": 1,
   "id": "e8ed85d7-2f9c-4204-830c-b9e3eada386c",
   "metadata": {},
   "outputs": [],
   "source": [
    "%reload_ext autoreload\n",
    "%autoreload 2\n",
    "%matplotlib inline\n",
    "import os\n",
    "os.environ[\"CUDA_DEVICE_ORDER\"]=\"PCI_BUS_ID\";\n",
    "os.environ[\"CUDA_VISIBLE_DEVICES\"]=\"0\";"
   ]
  },
  {
   "cell_type": "code",
   "execution_count": 2,
   "id": "40a85a0e-088a-4573-8ceb-cc268a9d7ef2",
   "metadata": {},
   "outputs": [],
   "source": [
    "import ktrain\n",
    "from ktrain import text"
   ]
  },
  {
   "cell_type": "code",
   "execution_count": 3,
   "id": "c792db7a-e0b7-4af0-b7f9-55ce595f5d27",
   "metadata": {},
   "outputs": [],
   "source": [
    "import os\n",
    "\n",
    "import IPython\n",
    "import IPython.display\n",
    "import matplotlib as mpl\n",
    "import matplotlib.pyplot as plt\n",
    "import numpy as np\n",
    "import pandas as pd\n",
    "import seaborn as sns\n",
    "import warnings\n",
    "from IPython.display import Markdown\n",
    "from IPython.display import display\n",
    "\n",
    "mpl.rcParams['figure.figsize'] = (8, 6)\n",
    "mpl.rcParams['axes.grid'] = False\n",
    "warnings.filterwarnings(\"ignore\")\n",
    "\n",
    "pd.set_option('display.max_columns', None)"
   ]
  },
  {
   "cell_type": "code",
   "execution_count": 4,
   "id": "980c5db0-aeeb-4c4b-8d60-08926b86487f",
   "metadata": {},
   "outputs": [
    {
     "data": {
      "text/html": [
       "<div>\n",
       "<style scoped>\n",
       "    .dataframe tbody tr th:only-of-type {\n",
       "        vertical-align: middle;\n",
       "    }\n",
       "\n",
       "    .dataframe tbody tr th {\n",
       "        vertical-align: top;\n",
       "    }\n",
       "\n",
       "    .dataframe thead th {\n",
       "        text-align: right;\n",
       "    }\n",
       "</style>\n",
       "<table border=\"1\" class=\"dataframe\">\n",
       "  <thead>\n",
       "    <tr style=\"text-align: right;\">\n",
       "      <th></th>\n",
       "      <th>text</th>\n",
       "      <th>author_id</th>\n",
       "      <th>label</th>\n",
       "      <th>created_at</th>\n",
       "      <th>retweet_count</th>\n",
       "      <th>reply_count</th>\n",
       "      <th>like_count</th>\n",
       "      <th>quote_count</th>\n",
       "      <th>in_reply_to_user_id</th>\n",
       "    </tr>\n",
       "  </thead>\n",
       "  <tbody>\n",
       "    <tr>\n",
       "      <th>182913</th>\n",
       "      <td>@BobBoudrot He didn't and hasn't locked down t...</td>\n",
       "      <td>3143294376</td>\n",
       "      <td>fake</td>\n",
       "      <td>2020-04-20T00:25:58.000Z</td>\n",
       "      <td>0</td>\n",
       "      <td>1</td>\n",
       "      <td>0</td>\n",
       "      <td>0</td>\n",
       "      <td>False</td>\n",
       "    </tr>\n",
       "    <tr>\n",
       "      <th>13448</th>\n",
       "      <td>COMMENTARY: Treating Liver Disease During COVI...</td>\n",
       "      <td>2276572748</td>\n",
       "      <td>real</td>\n",
       "      <td>2020-05-15T16:13:32.000Z</td>\n",
       "      <td>0</td>\n",
       "      <td>0</td>\n",
       "      <td>0</td>\n",
       "      <td>0</td>\n",
       "      <td>True</td>\n",
       "    </tr>\n",
       "    <tr>\n",
       "      <th>188939</th>\n",
       "      <td>What are the symptoms of COVID-19? \\n\\nPreside...</td>\n",
       "      <td>1082924334639833088</td>\n",
       "      <td>real</td>\n",
       "      <td>2020-03-12T02:21:12.000Z</td>\n",
       "      <td>0</td>\n",
       "      <td>0</td>\n",
       "      <td>0</td>\n",
       "      <td>0</td>\n",
       "      <td>True</td>\n",
       "    </tr>\n",
       "    <tr>\n",
       "      <th>6975</th>\n",
       "      <td>How to lead, manage and recruit your #team rem...</td>\n",
       "      <td>214403744</td>\n",
       "      <td>real</td>\n",
       "      <td>2020-05-29T10:24:07.000Z</td>\n",
       "      <td>0</td>\n",
       "      <td>0</td>\n",
       "      <td>1</td>\n",
       "      <td>0</td>\n",
       "      <td>True</td>\n",
       "    </tr>\n",
       "    <tr>\n",
       "      <th>13877</th>\n",
       "      <td>Postponed Surgeries Resume, Stretching Hospita...</td>\n",
       "      <td>940613966962806784</td>\n",
       "      <td>real</td>\n",
       "      <td>2020-06-01T17:41:06.000Z</td>\n",
       "      <td>0</td>\n",
       "      <td>0</td>\n",
       "      <td>0</td>\n",
       "      <td>0</td>\n",
       "      <td>True</td>\n",
       "    </tr>\n",
       "    <tr>\n",
       "      <th>150254</th>\n",
       "      <td>We aren’t going to do contact testing. We aren...</td>\n",
       "      <td>1172982758571945990</td>\n",
       "      <td>real</td>\n",
       "      <td>2020-05-01T23:53:29.000Z</td>\n",
       "      <td>0</td>\n",
       "      <td>0</td>\n",
       "      <td>0</td>\n",
       "      <td>0</td>\n",
       "      <td>True</td>\n",
       "    </tr>\n",
       "    <tr>\n",
       "      <th>79574</th>\n",
       "      <td>Don't mess with Prestige Ameritech's Mike Bowe...</td>\n",
       "      <td>593813785</td>\n",
       "      <td>real</td>\n",
       "      <td>2020-05-14T18:38:00.000Z</td>\n",
       "      <td>0</td>\n",
       "      <td>1</td>\n",
       "      <td>6</td>\n",
       "      <td>0</td>\n",
       "      <td>False</td>\n",
       "    </tr>\n",
       "    <tr>\n",
       "      <th>180330</th>\n",
       "      <td>@Millie__Weaver I have no idea if this is accu...</td>\n",
       "      <td>706562460942073857</td>\n",
       "      <td>fake</td>\n",
       "      <td>2020-02-03T14:44:34.000Z</td>\n",
       "      <td>0</td>\n",
       "      <td>0</td>\n",
       "      <td>0</td>\n",
       "      <td>0</td>\n",
       "      <td>False</td>\n",
       "    </tr>\n",
       "    <tr>\n",
       "      <th>212444</th>\n",
       "      <td>@philosophequeer I would also like to know</td>\n",
       "      <td>45191927</td>\n",
       "      <td>real</td>\n",
       "      <td>2020-03-28T12:46:16.000Z</td>\n",
       "      <td>0</td>\n",
       "      <td>0</td>\n",
       "      <td>0</td>\n",
       "      <td>0</td>\n",
       "      <td>False</td>\n",
       "    </tr>\n",
       "    <tr>\n",
       "      <th>91254</th>\n",
       "      <td>@mohammadaqib__ shitter parade krdo🥺 begairat ...</td>\n",
       "      <td>1127510945406656512</td>\n",
       "      <td>real</td>\n",
       "      <td>2020-07-01T13:48:22.000Z</td>\n",
       "      <td>0</td>\n",
       "      <td>0</td>\n",
       "      <td>0</td>\n",
       "      <td>0</td>\n",
       "      <td>False</td>\n",
       "    </tr>\n",
       "  </tbody>\n",
       "</table>\n",
       "</div>"
      ],
      "text/plain": [
       "                                                     text  \\\n",
       "182913  @BobBoudrot He didn't and hasn't locked down t...   \n",
       "13448   COMMENTARY: Treating Liver Disease During COVI...   \n",
       "188939  What are the symptoms of COVID-19? \\n\\nPreside...   \n",
       "6975    How to lead, manage and recruit your #team rem...   \n",
       "13877   Postponed Surgeries Resume, Stretching Hospita...   \n",
       "150254  We aren’t going to do contact testing. We aren...   \n",
       "79574   Don't mess with Prestige Ameritech's Mike Bowe...   \n",
       "180330  @Millie__Weaver I have no idea if this is accu...   \n",
       "212444         @philosophequeer I would also like to know   \n",
       "91254   @mohammadaqib__ shitter parade krdo🥺 begairat ...   \n",
       "\n",
       "                  author_id label                created_at  retweet_count  \\\n",
       "182913           3143294376  fake  2020-04-20T00:25:58.000Z              0   \n",
       "13448            2276572748  real  2020-05-15T16:13:32.000Z              0   \n",
       "188939  1082924334639833088  real  2020-03-12T02:21:12.000Z              0   \n",
       "6975              214403744  real  2020-05-29T10:24:07.000Z              0   \n",
       "13877    940613966962806784  real  2020-06-01T17:41:06.000Z              0   \n",
       "150254  1172982758571945990  real  2020-05-01T23:53:29.000Z              0   \n",
       "79574             593813785  real  2020-05-14T18:38:00.000Z              0   \n",
       "180330   706562460942073857  fake  2020-02-03T14:44:34.000Z              0   \n",
       "212444             45191927  real  2020-03-28T12:46:16.000Z              0   \n",
       "91254   1127510945406656512  real  2020-07-01T13:48:22.000Z              0   \n",
       "\n",
       "        reply_count  like_count  quote_count  in_reply_to_user_id  \n",
       "182913            1           0            0                False  \n",
       "13448             0           0            0                 True  \n",
       "188939            0           0            0                 True  \n",
       "6975              0           1            0                 True  \n",
       "13877             0           0            0                 True  \n",
       "150254            0           0            0                 True  \n",
       "79574             1           6            0                False  \n",
       "180330            0           0            0                False  \n",
       "212444            0           0            0                False  \n",
       "91254             0           0            0                False  "
      ]
     },
     "execution_count": 4,
     "metadata": {},
     "output_type": "execute_result"
    }
   ],
   "source": [
    "import json\n",
    "\n",
    "data = json.load(open(\"./data/dataset.json\", \"r\"))\n",
    "\n",
    "data = pd.DataFrame(data)\n",
    "data.sample(10)"
   ]
  },
  {
   "cell_type": "code",
   "execution_count": 5,
   "id": "3c94f907",
   "metadata": {},
   "outputs": [],
   "source": [
    "test_data = data.groupby(\"label\").sample(frac=0.2)\n",
    "data = data.drop(index=test_data.index)"
   ]
  },
  {
   "cell_type": "code",
   "execution_count": 6,
   "id": "58a8ffa5-0c6f-4ec8-982f-08b97d1640ac",
   "metadata": {},
   "outputs": [
    {
     "data": {
      "text/plain": [
       "count    177151.000000\n",
       "mean         25.564597\n",
       "std          14.753490\n",
       "min           1.000000\n",
       "25%          12.000000\n",
       "50%          23.000000\n",
       "75%          38.000000\n",
       "90%          46.000000\n",
       "95%          50.000000\n",
       "max         106.000000\n",
       "Name: text, dtype: float64"
      ]
     },
     "execution_count": 6,
     "metadata": {},
     "output_type": "execute_result"
    }
   ],
   "source": [
    "data.text.str.split().apply(len).describe(percentiles=[0.25, 0.5, 0.75, 0.9, 0.95])"
   ]
  },
  {
   "cell_type": "code",
   "execution_count": 7,
   "id": "aea1a563-ac0c-4b06-86fe-9e372a07a70a",
   "metadata": {},
   "outputs": [
    {
     "data": {
      "text/plain": [
       "real    168620\n",
       "fake      8531\n",
       "Name: label, dtype: int64"
      ]
     },
     "execution_count": 7,
     "metadata": {},
     "output_type": "execute_result"
    }
   ],
   "source": [
    "data.label.value_counts()"
   ]
  },
  {
   "cell_type": "code",
   "execution_count": 8,
   "id": "a5af6ab6-a6d8-4dc1-aa7a-81437327665e",
   "metadata": {},
   "outputs": [
    {
     "name": "stdout",
     "output_type": "stream",
     "text": [
      "['fake', 'real']\n",
      "        fake  real\n",
      "81057    0.0   1.0\n",
      "14435    0.0   1.0\n",
      "216678   0.0   1.0\n",
      "41953    0.0   1.0\n",
      "23075    0.0   1.0\n",
      "['fake', 'real']\n",
      "        fake  real\n",
      "208535   0.0   1.0\n",
      "37216    0.0   1.0\n",
      "77636    0.0   1.0\n",
      "151847   0.0   1.0\n",
      "19309    0.0   1.0\n",
      "language: en\n",
      "Word Counts: 249802\n",
      "Nrows: 159435\n",
      "159435 train sequences\n",
      "train sequence lengths:\n",
      "\tmean : 26\n",
      "\t95percentile : 49\n",
      "\t99percentile : 54\n",
      "x_train shape: (159435,50)\n",
      "y_train shape: (159435, 2)\n",
      "Is Multi-Label? False\n",
      "17716 test sequences\n",
      "test sequence lengths:\n",
      "\tmean : 26\n",
      "\t95percentile : 49\n",
      "\t99percentile : 54\n",
      "x_test shape: (17716,50)\n",
      "y_test shape: (17716, 2)\n"
     ]
    }
   ],
   "source": [
    "trn, val, preproc = text.texts_from_df(\n",
    "    data,\n",
    "    text_column = \"text\",\n",
    "    label_columns=\"label\",\n",
    "    maxlen=50,\n",
    "    ngram_range=1,\n",
    "    random_state=41,\n",
    "    preprocess_mode=\"standard\"\n",
    ")"
   ]
  },
  {
   "cell_type": "code",
   "execution_count": 9,
   "id": "171fee3d-ffdd-4c95-8919-ff17804ef7ea",
   "metadata": {},
   "outputs": [
    {
     "name": "stdout",
     "output_type": "stream",
     "text": [
      "done.\n"
     ]
    }
   ],
   "source": [
    "model = text.text_classifier('bigru', trn , preproc=preproc)"
   ]
  },
  {
   "cell_type": "code",
   "execution_count": 10,
   "id": "8f4da6d3-0c2b-42ea-9f24-74ad44b0ad4c",
   "metadata": {
    "tags": []
   },
   "outputs": [
    {
     "name": "stdout",
     "output_type": "stream",
     "text": [
      "Model: \"model\"\n",
      "__________________________________________________________________________________________________\n",
      " Layer (type)                   Output Shape         Param #     Connected to                     \n",
      "==================================================================================================\n",
      " input_1 (InputLayer)           [(None, 50)]         0           []                               \n",
      "                                                                                                  \n",
      " embedding (Embedding)          (None, 50, 300)      6000000     ['input_1[0][0]']                \n",
      "                                                                                                  \n",
      " spatial_dropout1d (SpatialDrop  (None, 50, 300)     0           ['embedding[0][0]']              \n",
      " out1D)                                                                                           \n",
      "                                                                                                  \n",
      " bidirectional (Bidirectional)  (None, 50, 160)      183360      ['spatial_dropout1d[0][0]']      \n",
      "                                                                                                  \n",
      " global_average_pooling1d (Glob  (None, 160)         0           ['bidirectional[0][0]']          \n",
      " alAveragePooling1D)                                                                              \n",
      "                                                                                                  \n",
      " global_max_pooling1d (GlobalMa  (None, 160)         0           ['bidirectional[0][0]']          \n",
      " xPooling1D)                                                                                      \n",
      "                                                                                                  \n",
      " concatenate (Concatenate)      (None, 320)          0           ['global_average_pooling1d[0][0]'\n",
      "                                                                 , 'global_max_pooling1d[0][0]']  \n",
      "                                                                                                  \n",
      " dense (Dense)                  (None, 2)            642         ['concatenate[0][0]']            \n",
      "                                                                                                  \n",
      "==================================================================================================\n",
      "Total params: 6,184,002\n",
      "Trainable params: 6,184,002\n",
      "Non-trainable params: 0\n",
      "__________________________________________________________________________________________________\n"
     ]
    }
   ],
   "source": [
    "model.summary()"
   ]
  },
  {
   "cell_type": "code",
   "execution_count": 11,
   "id": "c6a54462-890d-4562-ae5d-dc109da0dd5b",
   "metadata": {},
   "outputs": [],
   "source": [
    "learner = ktrain.get_learner(model, \n",
    "                             train_data=trn, \n",
    "                             val_data=val, \n",
    "                             batch_size=128)"
   ]
  },
  {
   "cell_type": "code",
   "execution_count": 12,
   "id": "56da6128-a787-4d6c-af32-39d4e2087446",
   "metadata": {},
   "outputs": [
    {
     "name": "stdout",
     "output_type": "stream",
     "text": [
      "simulating training for different learning rates... this may take a few moments...\n",
      "Epoch 1/1024\n",
      "1246/1246 [==============================] - 147s 116ms/step - loss: 0.3485 - accuracy: 0.9459\n",
      "Epoch 2/1024\n",
      "1246/1246 [==============================] - 25s 20ms/step - loss: 1.5289 - accuracy: 0.9348\n",
      "\n",
      "\n",
      "done.\n",
      "Please invoke the Learner.lr_plot() method to visually inspect the loss plot to help identify the maximal learning rate associated with falling loss.\n"
     ]
    }
   ],
   "source": [
    "learner.lr_find()"
   ]
  },
  {
   "cell_type": "code",
   "execution_count": 13,
   "id": "0545e789-f5a4-4a88-876b-25df03bc8698",
   "metadata": {},
   "outputs": [
    {
     "name": "stdout",
     "output_type": "stream",
     "text": [
      "Three possible suggestions for LR from plot:\n",
      "\tLongest valley (red): 7.19E-05\n",
      "\tMin numerical gradient (purple): 1.76E-02\n",
      "\tMin loss divided by 10 (omitted from plot): 3.61E-03\n"
     ]
    },
    {
     "data": {
      "image/png": "[encoded data removed]",
      "text/plain": [
       "<Figure size 576x432 with 1 Axes>"
      ]
     },
     "metadata": {
      "needs_background": "light"
     },
     "output_type": "display_data"
    }
   ],
   "source": [
    "learner.lr_plot(suggest=True)"
   ]
  },
  {
   "cell_type": "code",
   "execution_count": 14,
   "id": "eb53b3ef-9c77-4b58-8652-39ff1b820d96",
   "metadata": {},
   "outputs": [
    {
     "data": {
      "text/plain": [
       "12676"
      ]
     },
     "execution_count": 14,
     "metadata": {},
     "output_type": "execute_result"
    }
   ],
   "source": [
    "import gc\n",
    "gc.collect()"
   ]
  },
  {
   "cell_type": "code",
   "execution_count": 15,
   "id": "9a7bc33e-33ba-4a33-899e-21723b1f25e9",
   "metadata": {},
   "outputs": [
    {
     "name": "stdout",
     "output_type": "stream",
     "text": [
      "\n",
      "\n",
      "begin training using onecycle policy with max lr of 7.19e-05...\n",
      "Epoch 1/5\n",
      "1246/1246 [==============================] - 185s 147ms/step - loss: 0.2878 - accuracy: 0.9506 - val_loss: 0.1802 - val_accuracy: 0.9525\n",
      "Epoch 2/5\n",
      "1246/1246 [==============================] - 148s 119ms/step - loss: 0.1463 - accuracy: 0.9567 - val_loss: 0.0901 - val_accuracy: 0.9747\n",
      "Epoch 3/5\n",
      "1246/1246 [==============================] - 146s 117ms/step - loss: 0.0742 - accuracy: 0.9777 - val_loss: 0.0685 - val_accuracy: 0.9797\n",
      "Epoch 4/5\n",
      "1246/1246 [==============================] - 152s 122ms/step - loss: 0.0567 - accuracy: 0.9828 - val_loss: 0.0642 - val_accuracy: 0.9818\n",
      "Epoch 5/5\n",
      "1246/1246 [==============================] - 146s 117ms/step - loss: 0.0505 - accuracy: 0.9847 - val_loss: 0.0630 - val_accuracy: 0.9825\n"
     ]
    },
    {
     "data": {
      "text/plain": [
       "<keras.callbacks.History at 0x7ff826a37130>"
      ]
     },
     "execution_count": 15,
     "metadata": {},
     "output_type": "execute_result"
    }
   ],
   "source": [
    "# 2e-5 is one of the LRs  recommended by Google and is consistent with the plot above.\n",
    "learner.fit_onecycle(7.19E-05, 5)"
   ]
  },
  {
   "cell_type": "code",
   "execution_count": 16,
   "id": "9d5f6df3-7f10-47bd-99de-bcf48a300ea3",
   "metadata": {},
   "outputs": [
    {
     "data": {
      "image/png": "[encoded data removed]",
      "text/plain": [
       "<Figure size 576x432 with 1 Axes>"
      ]
     },
     "metadata": {
      "needs_background": "light"
     },
     "output_type": "display_data"
    }
   ],
   "source": [
    "plt.plot(learner.history.history[\"accuracy\"])\n",
    "plt.plot(learner.history.history[\"val_accuracy\"])\n",
    "plt.legend([\"acc\", \"val-acc\"])\n",
    "plt.xlabel(\"epochs\")\n",
    "plt.ylabel(\"accuracy\")\n",
    "plt.show()"
   ]
  },
  {
   "cell_type": "code",
   "execution_count": 17,
   "id": "904da882-1d19-41ac-89ad-54d270619f6d",
   "metadata": {},
   "outputs": [
    {
     "data": {
      "image/png": "[encoded data removed]",
      "text/plain": [
       "<Figure size 576x432 with 1 Axes>"
      ]
     },
     "metadata": {
      "needs_background": "light"
     },
     "output_type": "display_data"
    }
   ],
   "source": [
    "plt.plot(learner.history.history[\"loss\"])\n",
    "plt.plot(learner.history.history[\"val_loss\"])\n",
    "plt.legend([\"loss\", \"val-loss\"])\n",
    "plt.xlabel(\"epochs\")\n",
    "plt.ylabel(\"loss\")\n",
    "plt.show()"
   ]
  },
  {
   "cell_type": "code",
   "execution_count": 18,
   "id": "1c03a40f-c452-450a-9040-9718c244f9ea",
   "metadata": {},
   "outputs": [],
   "source": [
    "predictor = ktrain.get_predictor(learner.model, preproc)"
   ]
  },
  {
   "cell_type": "code",
   "execution_count": 19,
   "id": "a319c9d0-d385-4e1e-a3c1-be407dfb9d64",
   "metadata": {},
   "outputs": [
    {
     "data": {
      "text/plain": [
       "array([[0.01774224, 0.9822578 ],\n",
       "       [0.99544513, 0.00455485],\n",
       "       [0.9971462 , 0.00285381],\n",
       "       [0.99398863, 0.00601138],\n",
       "       [0.99660957, 0.00339048]], dtype=float32)"
      ]
     },
     "execution_count": 19,
     "metadata": {},
     "output_type": "execute_result"
    }
   ],
   "source": [
    "probs = predictor.predict_proba(test_data[\"text\"].values)\n",
    "probs[:5]"
   ]
  },
  {
   "cell_type": "code",
   "execution_count": 20,
   "id": "169052d4-d00b-473a-a4cb-4d30d9d383a4",
   "metadata": {},
   "outputs": [
    {
     "data": {
      "text/plain": [
       "189738    True\n",
       "182502    True\n",
       "193860    True\n",
       "193817    True\n",
       "193629    True\n",
       "Name: label, dtype: bool"
      ]
     },
     "execution_count": 20,
     "metadata": {},
     "output_type": "execute_result"
    }
   ],
   "source": [
    "y = (test_data.label == \"fake\")\n",
    "y.head()"
   ]
  },
  {
   "cell_type": "code",
   "execution_count": 21,
   "id": "99f0de1c-1ef8-4c32-99d3-fcbbd9e97b8c",
   "metadata": {},
   "outputs": [],
   "source": [
    "import metrics as mmetrics"
   ]
  },
  {
   "cell_type": "code",
   "execution_count": 22,
   "id": "837e6430-da39-4f69-b298-d6a3f43fb348",
   "metadata": {},
   "outputs": [
    {
     "data": {
      "text/html": [
       "<div>\n",
       "<style scoped>\n",
       "    .dataframe tbody tr th:only-of-type {\n",
       "        vertical-align: middle;\n",
       "    }\n",
       "\n",
       "    .dataframe tbody tr th {\n",
       "        vertical-align: top;\n",
       "    }\n",
       "\n",
       "    .dataframe thead th {\n",
       "        text-align: right;\n",
       "    }\n",
       "</style>\n",
       "<table border=\"1\" class=\"dataframe\">\n",
       "  <thead>\n",
       "    <tr style=\"text-align: right;\">\n",
       "      <th></th>\n",
       "      <th>TP</th>\n",
       "      <th>TN</th>\n",
       "      <th>FP</th>\n",
       "      <th>FN</th>\n",
       "      <th>Accuracy</th>\n",
       "      <th>Prevalence</th>\n",
       "      <th>Sensitivity</th>\n",
       "      <th>Specificity</th>\n",
       "      <th>PPV</th>\n",
       "      <th>NPV</th>\n",
       "      <th>AUC</th>\n",
       "      <th>F1</th>\n",
       "      <th>Threshold</th>\n",
       "    </tr>\n",
       "    <tr>\n",
       "      <th></th>\n",
       "      <th></th>\n",
       "      <th></th>\n",
       "      <th></th>\n",
       "      <th></th>\n",
       "      <th></th>\n",
       "      <th></th>\n",
       "      <th></th>\n",
       "      <th></th>\n",
       "      <th></th>\n",
       "      <th></th>\n",
       "      <th></th>\n",
       "      <th></th>\n",
       "      <th></th>\n",
       "    </tr>\n",
       "  </thead>\n",
       "  <tbody>\n",
       "    <tr>\n",
       "      <th>BiGRU</th>\n",
       "      <td>1511</td>\n",
       "      <td>42062</td>\n",
       "      <td>93</td>\n",
       "      <td>622</td>\n",
       "      <td>0.984</td>\n",
       "      <td>0.048</td>\n",
       "      <td>0.708</td>\n",
       "      <td>0.998</td>\n",
       "      <td>0.942</td>\n",
       "      <td>0.985</td>\n",
       "      <td>0.971</td>\n",
       "      <td>0.809</td>\n",
       "      <td>0.5</td>\n",
       "    </tr>\n",
       "  </tbody>\n",
       "</table>\n",
       "</div>"
      ],
      "text/plain": [
       "         TP     TN  FP   FN  Accuracy  Prevalence  Sensitivity  Specificity  \\\n",
       "                                                                              \n",
       "BiGRU  1511  42062  93  622     0.984       0.048        0.708        0.998   \n",
       "\n",
       "         PPV    NPV    AUC     F1  Threshold  \n",
       "                                              \n",
       "BiGRU  0.942  0.985  0.971  0.809        0.5  "
      ]
     },
     "execution_count": 22,
     "metadata": {},
     "output_type": "execute_result"
    }
   ],
   "source": [
    "y = y.values.reshape((-1, 1))\n",
    "\n",
    "perfs = mmetrics.get_performance_metrics(y, probs[:, :1], [\"BiGRU\"])\n",
    "perfs"
   ]
  },
  {
   "cell_type": "code",
   "execution_count": null,
   "id": "02a0aa4a-3e3e-4f64-b6ee-865611cc4068",
   "metadata": {},
   "outputs": [],
   "source": []
  }
 ],
 "metadata": {
  "kernelspec": {
   "display_name": "Python 3",
   "language": "python",
   "name": "python3"
  },
  "language_info": {
   "codemirror_mode": {
    "name": "ipython",
    "version": 3
   },
   "file_extension": ".py",
   "mimetype": "text/x-python",
   "name": "python",
   "nbconvert_exporter": "python",
   "pygments_lexer": "ipython3",
   "version": "3.9.7"
  }
 },
 "nbformat": 4,
 "nbformat_minor": 5
}
