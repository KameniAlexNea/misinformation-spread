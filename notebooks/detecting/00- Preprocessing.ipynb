{
 "cells": [
  {
   "cell_type": "code",
   "execution_count": 1,
   "metadata": {},
   "outputs": [],
   "source": [
    "import os\n",
    "import json\n",
    "\n",
    "import IPython\n",
    "import IPython.display\n",
    "import matplotlib as mpl\n",
    "import matplotlib.pyplot as plt\n",
    "import numpy as np\n",
    "import pandas as pd\n",
    "import seaborn as sns\n",
    "import warnings\n",
    "\n",
    "mpl.rcParams['figure.figsize'] = (8, 6)\n",
    "mpl.rcParams['axes.grid'] = False\n",
    "\n",
    "\n",
    "plt.style.use('seaborn-whitegrid')\n",
    "pd.set_option('display.max_columns', None)\n",
    "warnings.filterwarnings(\"ignore\")"
   ]
  },
  {
   "cell_type": "code",
   "execution_count": 2,
   "metadata": {},
   "outputs": [],
   "source": [
    "def load_json(pth):\n",
    "    return json.load(open(pth, \"r\"))"
   ]
  },
  {
   "cell_type": "code",
   "execution_count": 3,
   "metadata": {},
   "outputs": [
    {
     "data": {
      "text/html": [
       "<div>\n",
       "<style scoped>\n",
       "    .dataframe tbody tr th:only-of-type {\n",
       "        vertical-align: middle;\n",
       "    }\n",
       "\n",
       "    .dataframe tbody tr th {\n",
       "        vertical-align: top;\n",
       "    }\n",
       "\n",
       "    .dataframe thead th {\n",
       "        text-align: right;\n",
       "    }\n",
       "</style>\n",
       "<table border=\"1\" class=\"dataframe\">\n",
       "  <thead>\n",
       "    <tr style=\"text-align: right;\">\n",
       "      <th></th>\n",
       "      <th>public_metrics</th>\n",
       "      <th>id</th>\n",
       "      <th>lang</th>\n",
       "      <th>created_at</th>\n",
       "      <th>text</th>\n",
       "      <th>author_id</th>\n",
       "      <th>in_reply_to_user_id</th>\n",
       "      <th>referenced_tweets</th>\n",
       "      <th>withheld</th>\n",
       "      <th>label</th>\n",
       "    </tr>\n",
       "  </thead>\n",
       "  <tbody>\n",
       "    <tr>\n",
       "      <th>0</th>\n",
       "      <td>{'retweet_count': 2, 'reply_count': 0, 'like_c...</td>\n",
       "      <td>1281829444043382784</td>\n",
       "      <td>en</td>\n",
       "      <td>2020-07-11T05:55:29.000Z</td>\n",
       "      <td>Waltenburg MA, Victoroff T, Rose CE, et al. Up...</td>\n",
       "      <td>2889108801</td>\n",
       "      <td>None</td>\n",
       "      <td>None</td>\n",
       "      <td>None</td>\n",
       "      <td>real</td>\n",
       "    </tr>\n",
       "    <tr>\n",
       "      <th>1</th>\n",
       "      <td>{'retweet_count': 0, 'reply_count': 0, 'like_c...</td>\n",
       "      <td>1298537500152139776</td>\n",
       "      <td>en</td>\n",
       "      <td>2020-08-26T08:27:20.000Z</td>\n",
       "      <td>What to Do When You Clash with Your Kid’s Gran...</td>\n",
       "      <td>824963011546804225</td>\n",
       "      <td>None</td>\n",
       "      <td>None</td>\n",
       "      <td>None</td>\n",
       "      <td>real</td>\n",
       "    </tr>\n",
       "    <tr>\n",
       "      <th>2</th>\n",
       "      <td>{'retweet_count': 0, 'reply_count': 0, 'like_c...</td>\n",
       "      <td>1280262797088169984</td>\n",
       "      <td>en</td>\n",
       "      <td>2020-07-06T22:10:11.000Z</td>\n",
       "      <td>JUST IN: \\n\\nAtlanta Mayor Keisha Lance Bottom...</td>\n",
       "      <td>1275133819939586050</td>\n",
       "      <td>None</td>\n",
       "      <td>None</td>\n",
       "      <td>None</td>\n",
       "      <td>real</td>\n",
       "    </tr>\n",
       "    <tr>\n",
       "      <th>3</th>\n",
       "      <td>{'retweet_count': 0, 'reply_count': 0, 'like_c...</td>\n",
       "      <td>1284985315170480129</td>\n",
       "      <td>en</td>\n",
       "      <td>2020-07-19T22:55:47.000Z</td>\n",
       "      <td>Could Bats Hold Clues to COVID Treatments? Don...</td>\n",
       "      <td>56897900</td>\n",
       "      <td>None</td>\n",
       "      <td>None</td>\n",
       "      <td>None</td>\n",
       "      <td>real</td>\n",
       "    </tr>\n",
       "    <tr>\n",
       "      <th>4</th>\n",
       "      <td>{'retweet_count': 0, 'reply_count': 1, 'like_c...</td>\n",
       "      <td>1279402748438593538</td>\n",
       "      <td>en</td>\n",
       "      <td>2020-07-04T13:12:40.000Z</td>\n",
       "      <td>“MMR vaccine could prevent worst symptoms of C...</td>\n",
       "      <td>314706658</td>\n",
       "      <td>None</td>\n",
       "      <td>None</td>\n",
       "      <td>None</td>\n",
       "      <td>real</td>\n",
       "    </tr>\n",
       "  </tbody>\n",
       "</table>\n",
       "</div>"
      ],
      "text/plain": [
       "                                      public_metrics                   id  \\\n",
       "0  {'retweet_count': 2, 'reply_count': 0, 'like_c...  1281829444043382784   \n",
       "1  {'retweet_count': 0, 'reply_count': 0, 'like_c...  1298537500152139776   \n",
       "2  {'retweet_count': 0, 'reply_count': 0, 'like_c...  1280262797088169984   \n",
       "3  {'retweet_count': 0, 'reply_count': 0, 'like_c...  1284985315170480129   \n",
       "4  {'retweet_count': 0, 'reply_count': 1, 'like_c...  1279402748438593538   \n",
       "\n",
       "  lang                created_at  \\\n",
       "0   en  2020-07-11T05:55:29.000Z   \n",
       "1   en  2020-08-26T08:27:20.000Z   \n",
       "2   en  2020-07-06T22:10:11.000Z   \n",
       "3   en  2020-07-19T22:55:47.000Z   \n",
       "4   en  2020-07-04T13:12:40.000Z   \n",
       "\n",
       "                                                text            author_id  \\\n",
       "0  Waltenburg MA, Victoroff T, Rose CE, et al. Up...           2889108801   \n",
       "1  What to Do When You Clash with Your Kid’s Gran...   824963011546804225   \n",
       "2  JUST IN: \\n\\nAtlanta Mayor Keisha Lance Bottom...  1275133819939586050   \n",
       "3  Could Bats Hold Clues to COVID Treatments? Don...             56897900   \n",
       "4  “MMR vaccine could prevent worst symptoms of C...            314706658   \n",
       "\n",
       "  in_reply_to_user_id referenced_tweets withheld label  \n",
       "0                None              None     None  real  \n",
       "1                None              None     None  real  \n",
       "2                None              None     None  real  \n",
       "3                None              None     None  real  \n",
       "4                None              None     None  real  "
      ]
     },
     "execution_count": 3,
     "metadata": {},
     "output_type": "execute_result"
    }
   ],
   "source": [
    "data = load_json(\"./dataset.json\")\n",
    "train = pd.DataFrame(data)\n",
    "train.head()"
   ]
  },
  {
   "cell_type": "code",
   "execution_count": 4,
   "metadata": {},
   "outputs": [
    {
     "data": {
      "text/plain": [
       "real    0.948068\n",
       "fake    0.051932\n",
       "Name: label, dtype: float64"
      ]
     },
     "execution_count": 4,
     "metadata": {},
     "output_type": "execute_result"
    }
   ],
   "source": [
    "train[\"label\"].value_counts(normalize=True)"
   ]
  },
  {
   "cell_type": "code",
   "execution_count": 5,
   "metadata": {},
   "outputs": [
    {
     "data": {
      "text/plain": [
       "real    242587\n",
       "fake     13288\n",
       "Name: label, dtype: int64"
      ]
     },
     "execution_count": 5,
     "metadata": {},
     "output_type": "execute_result"
    }
   ],
   "source": [
    "train[\"label\"].value_counts()"
   ]
  },
  {
   "cell_type": "code",
   "execution_count": 6,
   "metadata": {},
   "outputs": [
    {
     "data": {
      "text/plain": [
       "(255875, 10)"
      ]
     },
     "execution_count": 6,
     "metadata": {},
     "output_type": "execute_result"
    }
   ],
   "source": [
    "train.shape"
   ]
  },
  {
   "cell_type": "code",
   "execution_count": 7,
   "metadata": {},
   "outputs": [
    {
     "data": {
      "text/plain": [
       "(221439, 10)"
      ]
     },
     "execution_count": 7,
     "metadata": {},
     "output_type": "execute_result"
    }
   ],
   "source": [
    "train.drop_duplicates(subset=[\"id\"], inplace=True)\n",
    "train = train[train.lang == \"en\"]\n",
    "train.shape"
   ]
  },
  {
   "cell_type": "code",
   "execution_count": 8,
   "metadata": {},
   "outputs": [
    {
     "data": {
      "image/png": "[encoded data removed]",
      "text/plain": [
       "<Figure size 576x432 with 1 Axes>"
      ]
     },
     "metadata": {},
     "output_type": "display_data"
    }
   ],
   "source": [
    "train[\"label\"].value_counts(normalize=True).plot.bar()\n",
    "plt.title(\"Label distribution\")\n",
    "plt.show()"
   ]
  },
  {
   "cell_type": "code",
   "execution_count": 9,
   "metadata": {},
   "outputs": [
    {
     "data": {
      "image/png": "[encoded data removed]",
      "text/plain": [
       "<Figure size 576x432 with 1 Axes>"
      ]
     },
     "metadata": {},
     "output_type": "display_data"
    }
   ],
   "source": [
    "train.isna().mean().plot.bar()\n",
    "plt.title(\"Nan distribution\")\n",
    "plt.show()"
   ]
  },
  {
   "cell_type": "code",
   "execution_count": 10,
   "metadata": {},
   "outputs": [
    {
     "data": {
      "text/plain": [
       "125235846              246\n",
       "92677101               257\n",
       "826283663658737666     285\n",
       "93422987               294\n",
       "3081725823             314\n",
       "15193667               413\n",
       "1903413444             419\n",
       "1247190654956064770    443\n",
       "1213805916048384000    479\n",
       "1166260127747280904    485\n",
       "Name: author_id, dtype: int64"
      ]
     },
     "execution_count": 10,
     "metadata": {},
     "output_type": "execute_result"
    }
   ],
   "source": [
    "train.author_id.value_counts().sort_values().tail(10)"
   ]
  },
  {
   "cell_type": "code",
   "execution_count": 11,
   "metadata": {},
   "outputs": [],
   "source": [
    "data = train[[\"text\", \"author_id\", \"label\", \"created_at\"]]\n",
    "public_metrics = pd.DataFrame(list(train[\"public_metrics\"].values))"
   ]
  },
  {
   "cell_type": "code",
   "execution_count": 12,
   "metadata": {},
   "outputs": [
    {
     "data": {
      "text/html": [
       "<div>\n",
       "<style scoped>\n",
       "    .dataframe tbody tr th:only-of-type {\n",
       "        vertical-align: middle;\n",
       "    }\n",
       "\n",
       "    .dataframe tbody tr th {\n",
       "        vertical-align: top;\n",
       "    }\n",
       "\n",
       "    .dataframe thead th {\n",
       "        text-align: right;\n",
       "    }\n",
       "</style>\n",
       "<table border=\"1\" class=\"dataframe\">\n",
       "  <thead>\n",
       "    <tr style=\"text-align: right;\">\n",
       "      <th></th>\n",
       "      <th>retweet_count</th>\n",
       "      <th>reply_count</th>\n",
       "      <th>like_count</th>\n",
       "      <th>quote_count</th>\n",
       "    </tr>\n",
       "  </thead>\n",
       "  <tbody>\n",
       "    <tr>\n",
       "      <th>0</th>\n",
       "      <td>2</td>\n",
       "      <td>0</td>\n",
       "      <td>2</td>\n",
       "      <td>0</td>\n",
       "    </tr>\n",
       "    <tr>\n",
       "      <th>1</th>\n",
       "      <td>0</td>\n",
       "      <td>0</td>\n",
       "      <td>0</td>\n",
       "      <td>0</td>\n",
       "    </tr>\n",
       "    <tr>\n",
       "      <th>2</th>\n",
       "      <td>0</td>\n",
       "      <td>0</td>\n",
       "      <td>0</td>\n",
       "      <td>0</td>\n",
       "    </tr>\n",
       "    <tr>\n",
       "      <th>3</th>\n",
       "      <td>0</td>\n",
       "      <td>0</td>\n",
       "      <td>0</td>\n",
       "      <td>0</td>\n",
       "    </tr>\n",
       "    <tr>\n",
       "      <th>4</th>\n",
       "      <td>0</td>\n",
       "      <td>1</td>\n",
       "      <td>5</td>\n",
       "      <td>0</td>\n",
       "    </tr>\n",
       "  </tbody>\n",
       "</table>\n",
       "</div>"
      ],
      "text/plain": [
       "   retweet_count  reply_count  like_count  quote_count\n",
       "0              2            0           2            0\n",
       "1              0            0           0            0\n",
       "2              0            0           0            0\n",
       "3              0            0           0            0\n",
       "4              0            1           5            0"
      ]
     },
     "execution_count": 12,
     "metadata": {},
     "output_type": "execute_result"
    }
   ],
   "source": [
    "public_metrics.head()"
   ]
  },
  {
   "cell_type": "code",
   "execution_count": 13,
   "metadata": {},
   "outputs": [
    {
     "data": {
      "text/html": [
       "<div>\n",
       "<style scoped>\n",
       "    .dataframe tbody tr th:only-of-type {\n",
       "        vertical-align: middle;\n",
       "    }\n",
       "\n",
       "    .dataframe tbody tr th {\n",
       "        vertical-align: top;\n",
       "    }\n",
       "\n",
       "    .dataframe thead th {\n",
       "        text-align: right;\n",
       "    }\n",
       "</style>\n",
       "<table border=\"1\" class=\"dataframe\">\n",
       "  <thead>\n",
       "    <tr style=\"text-align: right;\">\n",
       "      <th></th>\n",
       "      <th>text</th>\n",
       "      <th>author_id</th>\n",
       "      <th>label</th>\n",
       "      <th>created_at</th>\n",
       "      <th>retweet_count</th>\n",
       "      <th>reply_count</th>\n",
       "      <th>like_count</th>\n",
       "      <th>quote_count</th>\n",
       "    </tr>\n",
       "  </thead>\n",
       "  <tbody>\n",
       "    <tr>\n",
       "      <th>144395</th>\n",
       "      <td>@DaveHCovington Consider yourself lucky. A lot...</td>\n",
       "      <td>134805565</td>\n",
       "      <td>real</td>\n",
       "      <td>2020-03-18T20:35:41.000Z</td>\n",
       "      <td>0</td>\n",
       "      <td>1</td>\n",
       "      <td>0</td>\n",
       "      <td>0</td>\n",
       "    </tr>\n",
       "    <tr>\n",
       "      <th>227200</th>\n",
       "      <td>@GrotesqueLogic Hold on... Obama WAITED six mo...</td>\n",
       "      <td>886004179206057985</td>\n",
       "      <td>real</td>\n",
       "      <td>2020-03-10T14:11:14.000Z</td>\n",
       "      <td>0</td>\n",
       "      <td>2</td>\n",
       "      <td>0</td>\n",
       "      <td>0</td>\n",
       "    </tr>\n",
       "    <tr>\n",
       "      <th>25854</th>\n",
       "      <td>@GafferAnon She could be at home ort at a frie...</td>\n",
       "      <td>17329083</td>\n",
       "      <td>real</td>\n",
       "      <td>2020-07-01T23:57:48.000Z</td>\n",
       "      <td>0</td>\n",
       "      <td>0</td>\n",
       "      <td>0</td>\n",
       "      <td>0</td>\n",
       "    </tr>\n",
       "    <tr>\n",
       "      <th>190775</th>\n",
       "      <td>Can 5G exposure alter the structure and functi...</td>\n",
       "      <td>780120684320153600</td>\n",
       "      <td>fake</td>\n",
       "      <td>2020-04-07T19:50:24.000Z</td>\n",
       "      <td>0</td>\n",
       "      <td>0</td>\n",
       "      <td>0</td>\n",
       "      <td>0</td>\n",
       "    </tr>\n",
       "    <tr>\n",
       "      <th>170417</th>\n",
       "      <td>@globaltimesnews Where did the COVID-19 virus ...</td>\n",
       "      <td>1563299498</td>\n",
       "      <td>real</td>\n",
       "      <td>2020-03-17T04:23:58.000Z</td>\n",
       "      <td>0</td>\n",
       "      <td>0</td>\n",
       "      <td>2</td>\n",
       "      <td>0</td>\n",
       "    </tr>\n",
       "    <tr>\n",
       "      <th>70242</th>\n",
       "      <td>The important thing isn't the percentage break...</td>\n",
       "      <td>14769495</td>\n",
       "      <td>real</td>\n",
       "      <td>2020-05-30T21:23:48.000Z</td>\n",
       "      <td>0</td>\n",
       "      <td>1</td>\n",
       "      <td>3</td>\n",
       "      <td>0</td>\n",
       "    </tr>\n",
       "    <tr>\n",
       "      <th>10636</th>\n",
       "      <td>COVID-19 Planning Considerations: Guidance for...</td>\n",
       "      <td>80042553</td>\n",
       "      <td>real</td>\n",
       "      <td>2020-06-29T01:33:14.000Z</td>\n",
       "      <td>0</td>\n",
       "      <td>0</td>\n",
       "      <td>0</td>\n",
       "      <td>0</td>\n",
       "    </tr>\n",
       "    <tr>\n",
       "      <th>39125</th>\n",
       "      <td>Low-Dose Radiation Therapy May Help COVID Pati...</td>\n",
       "      <td>1255675679552581633</td>\n",
       "      <td>real</td>\n",
       "      <td>2020-06-18T17:56:11.000Z</td>\n",
       "      <td>0</td>\n",
       "      <td>0</td>\n",
       "      <td>0</td>\n",
       "      <td>0</td>\n",
       "    </tr>\n",
       "    <tr>\n",
       "      <th>125431</th>\n",
       "      <td>&amp;gt;&amp;gt;NEW&amp;lt;&amp;lt;  Interim resource document...</td>\n",
       "      <td>1042559236729917440</td>\n",
       "      <td>real</td>\n",
       "      <td>2020-04-15T00:40:54.000Z</td>\n",
       "      <td>5</td>\n",
       "      <td>0</td>\n",
       "      <td>4</td>\n",
       "      <td>2</td>\n",
       "    </tr>\n",
       "    <tr>\n",
       "      <th>59074</th>\n",
       "      <td>@NancyMi87040610 @santo_aol @politicususa Stil...</td>\n",
       "      <td>135002272</td>\n",
       "      <td>real</td>\n",
       "      <td>2020-06-30T21:46:54.000Z</td>\n",
       "      <td>0</td>\n",
       "      <td>1</td>\n",
       "      <td>0</td>\n",
       "      <td>0</td>\n",
       "    </tr>\n",
       "  </tbody>\n",
       "</table>\n",
       "</div>"
      ],
      "text/plain": [
       "                                                     text  \\\n",
       "144395  @DaveHCovington Consider yourself lucky. A lot...   \n",
       "227200  @GrotesqueLogic Hold on... Obama WAITED six mo...   \n",
       "25854   @GafferAnon She could be at home ort at a frie...   \n",
       "190775  Can 5G exposure alter the structure and functi...   \n",
       "170417  @globaltimesnews Where did the COVID-19 virus ...   \n",
       "70242   The important thing isn't the percentage break...   \n",
       "10636   COVID-19 Planning Considerations: Guidance for...   \n",
       "39125   Low-Dose Radiation Therapy May Help COVID Pati...   \n",
       "125431  &gt;&gt;NEW&lt;&lt;  Interim resource document...   \n",
       "59074   @NancyMi87040610 @santo_aol @politicususa Stil...   \n",
       "\n",
       "                  author_id label                created_at  retweet_count  \\\n",
       "144395            134805565  real  2020-03-18T20:35:41.000Z              0   \n",
       "227200   886004179206057985  real  2020-03-10T14:11:14.000Z              0   \n",
       "25854              17329083  real  2020-07-01T23:57:48.000Z              0   \n",
       "190775   780120684320153600  fake  2020-04-07T19:50:24.000Z              0   \n",
       "170417           1563299498  real  2020-03-17T04:23:58.000Z              0   \n",
       "70242              14769495  real  2020-05-30T21:23:48.000Z              0   \n",
       "10636              80042553  real  2020-06-29T01:33:14.000Z              0   \n",
       "39125   1255675679552581633  real  2020-06-18T17:56:11.000Z              0   \n",
       "125431  1042559236729917440  real  2020-04-15T00:40:54.000Z              5   \n",
       "59074             135002272  real  2020-06-30T21:46:54.000Z              0   \n",
       "\n",
       "        reply_count  like_count  quote_count  \n",
       "144395            1           0            0  \n",
       "227200            2           0            0  \n",
       "25854             0           0            0  \n",
       "190775            0           0            0  \n",
       "170417            0           2            0  \n",
       "70242             1           3            0  \n",
       "10636             0           0            0  \n",
       "39125             0           0            0  \n",
       "125431            0           4            2  \n",
       "59074             1           0            0  "
      ]
     },
     "execution_count": 13,
     "metadata": {},
     "output_type": "execute_result"
    }
   ],
   "source": [
    "for col in public_metrics.columns:\n",
    "    data[col] = public_metrics[col].values\n",
    "\n",
    "data.sample(10)"
   ]
  },
  {
   "cell_type": "code",
   "execution_count": 14,
   "metadata": {},
   "outputs": [
    {
     "data": {
      "text/html": [
       "<div>\n",
       "<style scoped>\n",
       "    .dataframe tbody tr th:only-of-type {\n",
       "        vertical-align: middle;\n",
       "    }\n",
       "\n",
       "    .dataframe tbody tr th {\n",
       "        vertical-align: top;\n",
       "    }\n",
       "\n",
       "    .dataframe thead th {\n",
       "        text-align: right;\n",
       "    }\n",
       "</style>\n",
       "<table border=\"1\" class=\"dataframe\">\n",
       "  <thead>\n",
       "    <tr style=\"text-align: right;\">\n",
       "      <th></th>\n",
       "      <th>text</th>\n",
       "      <th>author_id</th>\n",
       "      <th>label</th>\n",
       "      <th>created_at</th>\n",
       "      <th>retweet_count</th>\n",
       "      <th>reply_count</th>\n",
       "      <th>like_count</th>\n",
       "      <th>quote_count</th>\n",
       "      <th>in_reply_to_user_id</th>\n",
       "    </tr>\n",
       "  </thead>\n",
       "  <tbody>\n",
       "    <tr>\n",
       "      <th>0</th>\n",
       "      <td>Waltenburg MA, Victoroff T, Rose CE, et al. Up...</td>\n",
       "      <td>2889108801</td>\n",
       "      <td>real</td>\n",
       "      <td>2020-07-11T05:55:29.000Z</td>\n",
       "      <td>2</td>\n",
       "      <td>0</td>\n",
       "      <td>2</td>\n",
       "      <td>0</td>\n",
       "      <td>True</td>\n",
       "    </tr>\n",
       "    <tr>\n",
       "      <th>1</th>\n",
       "      <td>What to Do When You Clash with Your Kid’s Gran...</td>\n",
       "      <td>824963011546804225</td>\n",
       "      <td>real</td>\n",
       "      <td>2020-08-26T08:27:20.000Z</td>\n",
       "      <td>0</td>\n",
       "      <td>0</td>\n",
       "      <td>0</td>\n",
       "      <td>0</td>\n",
       "      <td>True</td>\n",
       "    </tr>\n",
       "    <tr>\n",
       "      <th>2</th>\n",
       "      <td>JUST IN: \\n\\nAtlanta Mayor Keisha Lance Bottom...</td>\n",
       "      <td>1275133819939586050</td>\n",
       "      <td>real</td>\n",
       "      <td>2020-07-06T22:10:11.000Z</td>\n",
       "      <td>0</td>\n",
       "      <td>0</td>\n",
       "      <td>0</td>\n",
       "      <td>0</td>\n",
       "      <td>True</td>\n",
       "    </tr>\n",
       "    <tr>\n",
       "      <th>3</th>\n",
       "      <td>Could Bats Hold Clues to COVID Treatments? Don...</td>\n",
       "      <td>56897900</td>\n",
       "      <td>real</td>\n",
       "      <td>2020-07-19T22:55:47.000Z</td>\n",
       "      <td>0</td>\n",
       "      <td>0</td>\n",
       "      <td>0</td>\n",
       "      <td>0</td>\n",
       "      <td>True</td>\n",
       "    </tr>\n",
       "    <tr>\n",
       "      <th>4</th>\n",
       "      <td>“MMR vaccine could prevent worst symptoms of C...</td>\n",
       "      <td>314706658</td>\n",
       "      <td>real</td>\n",
       "      <td>2020-07-04T13:12:40.000Z</td>\n",
       "      <td>0</td>\n",
       "      <td>1</td>\n",
       "      <td>5</td>\n",
       "      <td>0</td>\n",
       "      <td>True</td>\n",
       "    </tr>\n",
       "  </tbody>\n",
       "</table>\n",
       "</div>"
      ],
      "text/plain": [
       "                                                text            author_id  \\\n",
       "0  Waltenburg MA, Victoroff T, Rose CE, et al. Up...           2889108801   \n",
       "1  What to Do When You Clash with Your Kid’s Gran...   824963011546804225   \n",
       "2  JUST IN: \\n\\nAtlanta Mayor Keisha Lance Bottom...  1275133819939586050   \n",
       "3  Could Bats Hold Clues to COVID Treatments? Don...             56897900   \n",
       "4  “MMR vaccine could prevent worst symptoms of C...            314706658   \n",
       "\n",
       "  label                created_at  retweet_count  reply_count  like_count  \\\n",
       "0  real  2020-07-11T05:55:29.000Z              2            0           2   \n",
       "1  real  2020-08-26T08:27:20.000Z              0            0           0   \n",
       "2  real  2020-07-06T22:10:11.000Z              0            0           0   \n",
       "3  real  2020-07-19T22:55:47.000Z              0            0           0   \n",
       "4  real  2020-07-04T13:12:40.000Z              0            1           5   \n",
       "\n",
       "   quote_count  in_reply_to_user_id  \n",
       "0            0                 True  \n",
       "1            0                 True  \n",
       "2            0                 True  \n",
       "3            0                 True  \n",
       "4            0                 True  "
      ]
     },
     "execution_count": 14,
     "metadata": {},
     "output_type": "execute_result"
    }
   ],
   "source": [
    "data[\"in_reply_to_user_id\"] = train[\"in_reply_to_user_id\"].isna().values\n",
    "data.head()"
   ]
  },
  {
   "cell_type": "code",
   "execution_count": 15,
   "metadata": {},
   "outputs": [],
   "source": [
    "data.to_json(\"./data/dataset.json\")"
   ]
  },
  {
   "cell_type": "code",
   "execution_count": 16,
   "metadata": {},
   "outputs": [
    {
     "data": {
      "image/png": "[encoded data removed]",
      "text/plain": [
       "<Figure size 576x432 with 1 Axes>"
      ]
     },
     "metadata": {},
     "output_type": "display_data"
    }
   ],
   "source": [
    "tmp = data.created_at.astype(\"datetime64\")\n",
    "\n",
    "\n",
    "tmp.groupby(tmp.dt.month).count().plot(kind=\"bar\")\n",
    "plt.show()"
   ]
  },
  {
   "cell_type": "code",
   "execution_count": 17,
   "metadata": {},
   "outputs": [
    {
     "data": {
      "image/png": "[encoded data removed]",
      "text/plain": [
       "<Figure size 576x432 with 1 Axes>"
      ]
     },
     "metadata": {},
     "output_type": "display_data"
    }
   ],
   "source": [
    "tmp = data.created_at.astype(\"datetime64\")\n",
    "\n",
    "\n",
    "tmp.groupby(tmp.dt.hour).count().plot(kind=\"bar\")\n",
    "plt.show()"
   ]
  },
  {
   "cell_type": "code",
   "execution_count": 18,
   "metadata": {},
   "outputs": [
    {
     "data": {
      "text/plain": [
       "created_at  label\n",
       "0           real     0.944265\n",
       "            fake     0.055735\n",
       "1           real     0.935675\n",
       "            fake     0.064325\n",
       "2           real     0.926431\n",
       "Name: label, dtype: float64"
      ]
     },
     "execution_count": 18,
     "metadata": {},
     "output_type": "execute_result"
    }
   ],
   "source": [
    "tmp = data[[\"created_at\"]].astype(\"datetime64\")\n",
    "tmp[\"label\"] = data.label.values\n",
    "tmp = tmp.groupby(tmp.created_at.dt.hour)[\"label\"].value_counts(normalize=True)  # .plot(kind=\"bar\")\n",
    "tmp.head()"
   ]
  },
  {
   "cell_type": "code",
   "execution_count": 19,
   "metadata": {},
   "outputs": [
    {
     "data": {
      "text/html": [
       "<div>\n",
       "<style scoped>\n",
       "    .dataframe tbody tr th:only-of-type {\n",
       "        vertical-align: middle;\n",
       "    }\n",
       "\n",
       "    .dataframe tbody tr th {\n",
       "        vertical-align: top;\n",
       "    }\n",
       "\n",
       "    .dataframe thead th {\n",
       "        text-align: right;\n",
       "    }\n",
       "</style>\n",
       "<table border=\"1\" class=\"dataframe\">\n",
       "  <thead>\n",
       "    <tr style=\"text-align: right;\">\n",
       "      <th></th>\n",
       "      <th>created_at</th>\n",
       "      <th>label</th>\n",
       "      <th>created_count</th>\n",
       "    </tr>\n",
       "  </thead>\n",
       "  <tbody>\n",
       "    <tr>\n",
       "      <th>0</th>\n",
       "      <td>0</td>\n",
       "      <td>real</td>\n",
       "      <td>0.944265</td>\n",
       "    </tr>\n",
       "    <tr>\n",
       "      <th>1</th>\n",
       "      <td>0</td>\n",
       "      <td>fake</td>\n",
       "      <td>0.055735</td>\n",
       "    </tr>\n",
       "    <tr>\n",
       "      <th>2</th>\n",
       "      <td>1</td>\n",
       "      <td>real</td>\n",
       "      <td>0.935675</td>\n",
       "    </tr>\n",
       "    <tr>\n",
       "      <th>3</th>\n",
       "      <td>1</td>\n",
       "      <td>fake</td>\n",
       "      <td>0.064325</td>\n",
       "    </tr>\n",
       "    <tr>\n",
       "      <th>4</th>\n",
       "      <td>2</td>\n",
       "      <td>real</td>\n",
       "      <td>0.926431</td>\n",
       "    </tr>\n",
       "  </tbody>\n",
       "</table>\n",
       "</div>"
      ],
      "text/plain": [
       "   created_at label  created_count\n",
       "0           0  real       0.944265\n",
       "1           0  fake       0.055735\n",
       "2           1  real       0.935675\n",
       "3           1  fake       0.064325\n",
       "4           2  real       0.926431"
      ]
     },
     "execution_count": 19,
     "metadata": {},
     "output_type": "execute_result"
    }
   ],
   "source": [
    "# tmp_plot = pd.DataFrame(tmp.values, columns=)\n",
    "\n",
    "tmp.name = \"created_count\"\n",
    "tmp = tmp.reset_index()\n",
    "tmp.head()\n"
   ]
  },
  {
   "cell_type": "code",
   "execution_count": 20,
   "metadata": {},
   "outputs": [
    {
     "data": {
      "text/plain": [
       "created_at         int64\n",
       "label             object\n",
       "created_count    float64\n",
       "dtype: object"
      ]
     },
     "execution_count": 20,
     "metadata": {},
     "output_type": "execute_result"
    }
   ],
   "source": [
    "tmp.dtypes"
   ]
  },
  {
   "cell_type": "code",
   "execution_count": 22,
   "metadata": {},
   "outputs": [
    {
     "data": {
      "image/png": "[encoded data removed]",
      "text/plain": [
       "<Figure size 576x432 with 1 Axes>"
      ]
     },
     "metadata": {},
     "output_type": "display_data"
    }
   ],
   "source": [
    "sns.barplot(data=tmp, x=\"created_at\", y=\"created_count\", hue=\"label\",)\n",
    "plt.show()"
   ]
  },
  {
   "cell_type": "code",
   "execution_count": 24,
   "metadata": {},
   "outputs": [],
   "source": [
    "import tensorflow as tf"
   ]
  },
  {
   "cell_type": "code",
   "execution_count": 26,
   "metadata": {},
   "outputs": [
    {
     "data": {
      "text/plain": [
       "0    [waltenburg, ma, victoroff, t, rose, ce, et, a...\n",
       "1    [what, to, do, when, you, clash, with, your, k...\n",
       "2    [just, in, atlanta, mayor, keisha, lance, bott...\n",
       "3    [could, bats, hold, clues, to, covid, treatmen...\n",
       "4    [“mmr, vaccine, could, prevent, worst, symptom...\n",
       "Name: text, dtype: object"
      ]
     },
     "execution_count": 26,
     "metadata": {},
     "output_type": "execute_result"
    }
   ],
   "source": [
    "texts = data.text.apply(tf.keras.preprocessing.text.text_to_word_sequence)\n",
    "texts.head()"
   ]
  },
  {
   "cell_type": "code",
   "execution_count": 29,
   "metadata": {},
   "outputs": [
    {
     "data": {
      "image/png": "[encoded data removed]",
      "text/plain": [
       "<Figure size 576x432 with 1 Axes>"
      ]
     },
     "metadata": {},
     "output_type": "display_data"
    }
   ],
   "source": [
    "tmp = pd.DataFrame(texts.apply(len).values, columns=[\"LEN\"])\n",
    "tmp.index.name = \"ID\"\n",
    "tmp.reset_index(inplace=True)\n",
    "sns.histplot(tmp, x=\"LEN\")\n",
    "plt.title(\"Hist Word Count\")\n",
    "plt.show()"
   ]
  },
  {
   "cell_type": "code",
   "execution_count": 31,
   "metadata": {},
   "outputs": [
    {
     "data": {
      "image/png": "[encoded data removed]",
      "text/plain": [
       "<Figure size 576x432 with 1 Axes>"
      ]
     },
     "metadata": {},
     "output_type": "display_data"
    }
   ],
   "source": [
    "tmp = pd.DataFrame(texts.apply(lambda x: \" \".join(x)).apply(len).values, columns=[\"LEN\"])\n",
    "tmp.index.name = \"ID\"\n",
    "tmp.reset_index(inplace=True)\n",
    "sns.histplot(tmp, x=\"LEN\")\n",
    "plt.title(\"Hist Characters Count\")\n",
    "plt.show()"
   ]
  },
  {
   "cell_type": "code",
   "execution_count": 34,
   "metadata": {},
   "outputs": [],
   "source": [
    "tmp = pd.DataFrame(texts.apply(len).values, columns=[\"LEN\"])\n",
    "tmp[\"label\"] = data.label.values"
   ]
  },
  {
   "cell_type": "code",
   "execution_count": 35,
   "metadata": {},
   "outputs": [
    {
     "data": {
      "text/html": [
       "<div>\n",
       "<style scoped>\n",
       "    .dataframe tbody tr th:only-of-type {\n",
       "        vertical-align: middle;\n",
       "    }\n",
       "\n",
       "    .dataframe tbody tr th {\n",
       "        vertical-align: top;\n",
       "    }\n",
       "\n",
       "    .dataframe thead th {\n",
       "        text-align: right;\n",
       "    }\n",
       "</style>\n",
       "<table border=\"1\" class=\"dataframe\">\n",
       "  <thead>\n",
       "    <tr style=\"text-align: right;\">\n",
       "      <th></th>\n",
       "      <th>LEN</th>\n",
       "    </tr>\n",
       "    <tr>\n",
       "      <th>label</th>\n",
       "      <th></th>\n",
       "    </tr>\n",
       "  </thead>\n",
       "  <tbody>\n",
       "    <tr>\n",
       "      <th>fake</th>\n",
       "      <td>22.438672</td>\n",
       "    </tr>\n",
       "    <tr>\n",
       "      <th>real</th>\n",
       "      <td>28.381312</td>\n",
       "    </tr>\n",
       "  </tbody>\n",
       "</table>\n",
       "</div>"
      ],
      "text/plain": [
       "             LEN\n",
       "label           \n",
       "fake   22.438672\n",
       "real   28.381312"
      ]
     },
     "execution_count": 35,
     "metadata": {},
     "output_type": "execute_result"
    }
   ],
   "source": [
    "tmp.groupby(\"label\").mean()"
   ]
  },
  {
   "cell_type": "code",
   "execution_count": 36,
   "metadata": {},
   "outputs": [
    {
     "data": {
      "text/html": [
       "<div>\n",
       "<style scoped>\n",
       "    .dataframe tbody tr th:only-of-type {\n",
       "        vertical-align: middle;\n",
       "    }\n",
       "\n",
       "    .dataframe tbody tr th {\n",
       "        vertical-align: top;\n",
       "    }\n",
       "\n",
       "    .dataframe thead th {\n",
       "        text-align: right;\n",
       "    }\n",
       "</style>\n",
       "<table border=\"1\" class=\"dataframe\">\n",
       "  <thead>\n",
       "    <tr style=\"text-align: right;\">\n",
       "      <th></th>\n",
       "      <th>LEN</th>\n",
       "    </tr>\n",
       "    <tr>\n",
       "      <th>label</th>\n",
       "      <th></th>\n",
       "    </tr>\n",
       "  </thead>\n",
       "  <tbody>\n",
       "    <tr>\n",
       "      <th>fake</th>\n",
       "      <td>137.606433</td>\n",
       "    </tr>\n",
       "    <tr>\n",
       "      <th>real</th>\n",
       "      <td>168.637462</td>\n",
       "    </tr>\n",
       "  </tbody>\n",
       "</table>\n",
       "</div>"
      ],
      "text/plain": [
       "              LEN\n",
       "label            \n",
       "fake   137.606433\n",
       "real   168.637462"
      ]
     },
     "execution_count": 36,
     "metadata": {},
     "output_type": "execute_result"
    }
   ],
   "source": [
    "tmp = pd.DataFrame(texts.apply(lambda x: \" \".join(x)).apply(len).values, columns=[\"LEN\"])\n",
    "tmp[\"label\"] = data.label.values\n",
    "tmp.groupby(\"label\").mean()"
   ]
  },
  {
   "cell_type": "code",
   "execution_count": 37,
   "metadata": {},
   "outputs": [],
   "source": [
    "import nltk\n",
    "from nltk.corpus import stopwords\n",
    "import seaborn as sns\n",
    "from collections import Counter\n",
    "\n",
    "stop=set(stopwords.words('english'))"
   ]
  },
  {
   "cell_type": "code",
   "execution_count": 38,
   "metadata": {},
   "outputs": [],
   "source": [
    "tmp = pd.DataFrame(texts.values, columns=[\"text\"])\n",
    "tmp[\"label\"] = data.label.values\n",
    "\n",
    "real_text = tmp[tmp.label==\"real\"]['text'].tolist()\n",
    "fake_text = tmp[tmp.label==\"fake\"]['text'].tolist()\n",
    "\n",
    "real_text = [word for line in real_text for word in line]\n",
    "fake_text = [word for line in fake_text for word in line]"
   ]
  },
  {
   "cell_type": "code",
   "execution_count": 39,
   "metadata": {},
   "outputs": [
    {
     "data": {
      "image/png": "[encoded data removed]",
      "text/plain": [
       "<Figure size 576x432 with 1 Axes>"
      ]
     },
     "metadata": {},
     "output_type": "display_data"
    }
   ],
   "source": [
    "counter = Counter(real_text)\n",
    "\n",
    "most = counter.most_common()\n",
    "\n",
    "x, y = [], []\n",
    "\n",
    "for word,count in most[:15]:\n",
    "    x.append(word)\n",
    "    y.append(count)\n",
    "\n",
    "sns.barplot(x=y,y=x)\n",
    "plt.show()"
   ]
  },
  {
   "cell_type": "code",
   "execution_count": 40,
   "metadata": {},
   "outputs": [
    {
     "data": {
      "image/png": "[encoded data removed]",
      "text/plain": [
       "<Figure size 576x432 with 1 Axes>"
      ]
     },
     "metadata": {},
     "output_type": "display_data"
    }
   ],
   "source": [
    "counter = Counter(fake_text)\n",
    "\n",
    "most = counter.most_common()\n",
    "\n",
    "x, y = [], []\n",
    "\n",
    "for word,count in most[:15]:\n",
    "    x.append(word)\n",
    "    y.append(count)\n",
    "\n",
    "sns.barplot(x=y,y=x)\n",
    "plt.show()"
   ]
  },
  {
   "cell_type": "code",
   "execution_count": 41,
   "metadata": {},
   "outputs": [],
   "source": [
    "from sklearn.feature_extraction.text import CountVectorizer"
   ]
  },
  {
   "cell_type": "code",
   "execution_count": 46,
   "metadata": {},
   "outputs": [],
   "source": [
    "def get_top_ngram(corpus, n=None):\n",
    "    vec = CountVectorizer(ngram_range=(n, n), stop_words=\"english\") # .fit(corpus)\n",
    "    bag_of_words = vec.fit_transform(corpus)\n",
    "    sum_words = bag_of_words.sum(axis=0)\n",
    "    words_freq = [(word, sum_words[0, idx]) \n",
    "                  for word, idx in vec.vocabulary_.items()]\n",
    "    words_freq =sorted(words_freq, key = lambda x: x[1], reverse=True)\n",
    "    return words_freq[:10]"
   ]
  },
  {
   "cell_type": "code",
   "execution_count": 47,
   "metadata": {},
   "outputs": [
    {
     "data": {
      "image/png": "[encoded data removed]",
      "text/plain": [
       "<Figure size 576x432 with 1 Axes>"
      ]
     },
     "metadata": {},
     "output_type": "display_data"
    }
   ],
   "source": [
    "real_text = data[data.label==\"real\"]['text']\n",
    "top_n_bigrams=get_top_ngram(real_text, 2)[:15]\n",
    "x,y=map(list,zip(*top_n_bigrams))\n",
    "sns.barplot(x=y,y=x)\n",
    "plt.show()"
   ]
  },
  {
   "cell_type": "code",
   "execution_count": 48,
   "metadata": {},
   "outputs": [
    {
     "data": {
      "image/png": "[encoded data removed]",
      "text/plain": [
       "<Figure size 576x432 with 1 Axes>"
      ]
     },
     "metadata": {},
     "output_type": "display_data"
    }
   ],
   "source": [
    "real_text = data[data.label==\"fake\"]['text']\n",
    "top_n_bigrams=get_top_ngram(real_text, 2)[:15]\n",
    "x,y=map(list,zip(*top_n_bigrams))\n",
    "sns.barplot(x=y,y=x)\n",
    "plt.show()"
   ]
  },
  {
   "cell_type": "code",
   "execution_count": 49,
   "metadata": {},
   "outputs": [
    {
     "data": {
      "image/png": "[encoded data removed]",
      "text/plain": [
       "<Figure size 576x432 with 1 Axes>"
      ]
     },
     "metadata": {},
     "output_type": "display_data"
    }
   ],
   "source": [
    "real_text = data[data.label==\"real\"]['text']\n",
    "top_n_bigrams=get_top_ngram(real_text, 3)[:15]\n",
    "x,y=map(list,zip(*top_n_bigrams))\n",
    "sns.barplot(x=y,y=x)\n",
    "plt.show()"
   ]
  },
  {
   "cell_type": "code",
   "execution_count": 50,
   "metadata": {},
   "outputs": [
    {
     "data": {
      "image/png": "[encoded data removed]",
      "text/plain": [
       "<Figure size 576x432 with 1 Axes>"
      ]
     },
     "metadata": {},
     "output_type": "display_data"
    }
   ],
   "source": [
    "real_text = data[data.label==\"fake\"]['text']\n",
    "top_n_bigrams=get_top_ngram(real_text, 3)[:15]\n",
    "x,y=map(list,zip(*top_n_bigrams))\n",
    "sns.barplot(x=y,y=x)\n",
    "plt.show()"
   ]
  },
  {
   "cell_type": "code",
   "execution_count": null,
   "metadata": {},
   "outputs": [],
   "source": []
  }
 ],
 "metadata": {
  "interpreter": {
   "hash": "deb4cd576fbe22ce3c3e8c6a339ea5c3f0c0028cba72c812fd7f2209fcccb505"
  },
  "kernelspec": {
   "display_name": "Python 3.9.7 ('.venv': venv)",
   "language": "python",
   "name": "python3"
  },
  "language_info": {
   "codemirror_mode": {
    "name": "ipython",
    "version": 3
   },
   "file_extension": ".py",
   "mimetype": "text/x-python",
   "name": "python",
   "nbconvert_exporter": "python",
   "pygments_lexer": "ipython3",
   "version": "3.9.7"
  },
  "orig_nbformat": 4
 },
 "nbformat": 4,
 "nbformat_minor": 2
}
