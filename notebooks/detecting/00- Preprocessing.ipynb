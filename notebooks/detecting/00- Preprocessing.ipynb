{
 "cells": [
  {
   "cell_type": "code",
   "execution_count": 1,
   "metadata": {},
   "outputs": [],
   "source": [
    "import os\n",
    "import json\n",
    "\n",
    "import IPython\n",
    "import IPython.display\n",
    "import matplotlib as mpl\n",
    "import matplotlib.pyplot as plt\n",
    "import numpy as np\n",
    "import pandas as pd\n",
    "import seaborn as sns\n",
    "import warnings\n",
    "\n",
    "mpl.rcParams['figure.figsize'] = (8, 6)\n",
    "mpl.rcParams['axes.grid'] = False\n",
    "warnings.filterwarnings(\"ignore\")\n",
    "\n",
    "plt.style.use('seaborn-whitegrid')\n",
    "pd.set_option('display.max_columns', None)"
   ]
  },
  {
   "cell_type": "code",
   "execution_count": 2,
   "metadata": {},
   "outputs": [],
   "source": [
    "def load_json(pth):\n",
    "    return json.load(open(pth, \"r\"))"
   ]
  },
  {
   "cell_type": "code",
   "execution_count": 3,
   "metadata": {},
   "outputs": [
    {
     "data": {
      "text/html": [
       "<div>\n",
       "<style scoped>\n",
       "    .dataframe tbody tr th:only-of-type {\n",
       "        vertical-align: middle;\n",
       "    }\n",
       "\n",
       "    .dataframe tbody tr th {\n",
       "        vertical-align: top;\n",
       "    }\n",
       "\n",
       "    .dataframe thead th {\n",
       "        text-align: right;\n",
       "    }\n",
       "</style>\n",
       "<table border=\"1\" class=\"dataframe\">\n",
       "  <thead>\n",
       "    <tr style=\"text-align: right;\">\n",
       "      <th></th>\n",
       "      <th>public_metrics</th>\n",
       "      <th>id</th>\n",
       "      <th>lang</th>\n",
       "      <th>created_at</th>\n",
       "      <th>text</th>\n",
       "      <th>author_id</th>\n",
       "      <th>in_reply_to_user_id</th>\n",
       "      <th>referenced_tweets</th>\n",
       "      <th>withheld</th>\n",
       "      <th>label</th>\n",
       "    </tr>\n",
       "  </thead>\n",
       "  <tbody>\n",
       "    <tr>\n",
       "      <th>0</th>\n",
       "      <td>{'retweet_count': 2, 'reply_count': 0, 'like_c...</td>\n",
       "      <td>1281829444043382784</td>\n",
       "      <td>en</td>\n",
       "      <td>2020-07-11T05:55:29.000Z</td>\n",
       "      <td>Waltenburg MA, Victoroff T, Rose CE, et al. Up...</td>\n",
       "      <td>2889108801</td>\n",
       "      <td>None</td>\n",
       "      <td>None</td>\n",
       "      <td>None</td>\n",
       "      <td>real</td>\n",
       "    </tr>\n",
       "    <tr>\n",
       "      <th>1</th>\n",
       "      <td>{'retweet_count': 0, 'reply_count': 0, 'like_c...</td>\n",
       "      <td>1298537500152139776</td>\n",
       "      <td>en</td>\n",
       "      <td>2020-08-26T08:27:20.000Z</td>\n",
       "      <td>What to Do When You Clash with Your Kid’s Gran...</td>\n",
       "      <td>824963011546804225</td>\n",
       "      <td>None</td>\n",
       "      <td>None</td>\n",
       "      <td>None</td>\n",
       "      <td>real</td>\n",
       "    </tr>\n",
       "    <tr>\n",
       "      <th>2</th>\n",
       "      <td>{'retweet_count': 0, 'reply_count': 0, 'like_c...</td>\n",
       "      <td>1280262797088169984</td>\n",
       "      <td>en</td>\n",
       "      <td>2020-07-06T22:10:11.000Z</td>\n",
       "      <td>JUST IN: \\n\\nAtlanta Mayor Keisha Lance Bottom...</td>\n",
       "      <td>1275133819939586050</td>\n",
       "      <td>None</td>\n",
       "      <td>None</td>\n",
       "      <td>None</td>\n",
       "      <td>real</td>\n",
       "    </tr>\n",
       "    <tr>\n",
       "      <th>3</th>\n",
       "      <td>{'retweet_count': 0, 'reply_count': 0, 'like_c...</td>\n",
       "      <td>1284985315170480129</td>\n",
       "      <td>en</td>\n",
       "      <td>2020-07-19T22:55:47.000Z</td>\n",
       "      <td>Could Bats Hold Clues to COVID Treatments? Don...</td>\n",
       "      <td>56897900</td>\n",
       "      <td>None</td>\n",
       "      <td>None</td>\n",
       "      <td>None</td>\n",
       "      <td>real</td>\n",
       "    </tr>\n",
       "    <tr>\n",
       "      <th>4</th>\n",
       "      <td>{'retweet_count': 0, 'reply_count': 1, 'like_c...</td>\n",
       "      <td>1279402748438593538</td>\n",
       "      <td>en</td>\n",
       "      <td>2020-07-04T13:12:40.000Z</td>\n",
       "      <td>“MMR vaccine could prevent worst symptoms of C...</td>\n",
       "      <td>314706658</td>\n",
       "      <td>None</td>\n",
       "      <td>None</td>\n",
       "      <td>None</td>\n",
       "      <td>real</td>\n",
       "    </tr>\n",
       "  </tbody>\n",
       "</table>\n",
       "</div>"
      ],
      "text/plain": [
       "                                      public_metrics                   id  \\\n",
       "0  {'retweet_count': 2, 'reply_count': 0, 'like_c...  1281829444043382784   \n",
       "1  {'retweet_count': 0, 'reply_count': 0, 'like_c...  1298537500152139776   \n",
       "2  {'retweet_count': 0, 'reply_count': 0, 'like_c...  1280262797088169984   \n",
       "3  {'retweet_count': 0, 'reply_count': 0, 'like_c...  1284985315170480129   \n",
       "4  {'retweet_count': 0, 'reply_count': 1, 'like_c...  1279402748438593538   \n",
       "\n",
       "  lang                created_at  \\\n",
       "0   en  2020-07-11T05:55:29.000Z   \n",
       "1   en  2020-08-26T08:27:20.000Z   \n",
       "2   en  2020-07-06T22:10:11.000Z   \n",
       "3   en  2020-07-19T22:55:47.000Z   \n",
       "4   en  2020-07-04T13:12:40.000Z   \n",
       "\n",
       "                                                text            author_id  \\\n",
       "0  Waltenburg MA, Victoroff T, Rose CE, et al. Up...           2889108801   \n",
       "1  What to Do When You Clash with Your Kid’s Gran...   824963011546804225   \n",
       "2  JUST IN: \\n\\nAtlanta Mayor Keisha Lance Bottom...  1275133819939586050   \n",
       "3  Could Bats Hold Clues to COVID Treatments? Don...             56897900   \n",
       "4  “MMR vaccine could prevent worst symptoms of C...            314706658   \n",
       "\n",
       "  in_reply_to_user_id referenced_tweets withheld label  \n",
       "0                None              None     None  real  \n",
       "1                None              None     None  real  \n",
       "2                None              None     None  real  \n",
       "3                None              None     None  real  \n",
       "4                None              None     None  real  "
      ]
     },
     "execution_count": 3,
     "metadata": {},
     "output_type": "execute_result"
    }
   ],
   "source": [
    "data = load_json(\"./dataset.json\")\n",
    "train = pd.DataFrame(data)\n",
    "train.head()"
   ]
  },
  {
   "cell_type": "code",
   "execution_count": 4,
   "metadata": {},
   "outputs": [
    {
     "data": {
      "text/plain": [
       "real    0.948068\n",
       "fake    0.051932\n",
       "Name: label, dtype: float64"
      ]
     },
     "execution_count": 4,
     "metadata": {},
     "output_type": "execute_result"
    }
   ],
   "source": [
    "train[\"label\"].value_counts(normalize=True)"
   ]
  },
  {
   "cell_type": "code",
   "execution_count": 5,
   "metadata": {},
   "outputs": [
    {
     "data": {
      "text/plain": [
       "real    242587\n",
       "fake     13288\n",
       "Name: label, dtype: int64"
      ]
     },
     "execution_count": 5,
     "metadata": {},
     "output_type": "execute_result"
    }
   ],
   "source": [
    "train[\"label\"].value_counts()"
   ]
  },
  {
   "cell_type": "code",
   "execution_count": 6,
   "metadata": {},
   "outputs": [
    {
     "data": {
      "text/plain": [
       "(255875, 10)"
      ]
     },
     "execution_count": 6,
     "metadata": {},
     "output_type": "execute_result"
    }
   ],
   "source": [
    "train.shape"
   ]
  },
  {
   "cell_type": "code",
   "execution_count": 7,
   "metadata": {},
   "outputs": [
    {
     "data": {
      "text/plain": [
       "(221439, 10)"
      ]
     },
     "execution_count": 7,
     "metadata": {},
     "output_type": "execute_result"
    }
   ],
   "source": [
    "train.drop_duplicates(subset=[\"id\"], inplace=True)\n",
    "train = train[train.lang == \"en\"]\n",
    "train.shape"
   ]
  },
  {
   "cell_type": "code",
   "execution_count": 8,
   "metadata": {},
   "outputs": [
    {
     "data": {
      "image/png": "[encoded data removed]",
      "text/plain": [
       "<Figure size 576x432 with 1 Axes>"
      ]
     },
     "metadata": {},
     "output_type": "display_data"
    }
   ],
   "source": [
    "train[\"label\"].value_counts(normalize=True).plot.bar()\n",
    "plt.title(\"Label distribution\")\n",
    "plt.show()"
   ]
  },
  {
   "cell_type": "code",
   "execution_count": 9,
   "metadata": {},
   "outputs": [
    {
     "data": {
      "image/png": "[encoded data removed]",
      "text/plain": [
       "<Figure size 576x432 with 1 Axes>"
      ]
     },
     "metadata": {},
     "output_type": "display_data"
    }
   ],
   "source": [
    "train.isna().mean().plot.bar()\n",
    "plt.title(\"Nan distribution\")\n",
    "plt.show()"
   ]
  },
  {
   "cell_type": "code",
   "execution_count": null,
   "metadata": {},
   "outputs": [],
   "source": []
  }
 ],
 "metadata": {
  "interpreter": {
   "hash": "deb4cd576fbe22ce3c3e8c6a339ea5c3f0c0028cba72c812fd7f2209fcccb505"
  },
  "kernelspec": {
   "display_name": "Python 3.9.7 ('.venv': venv)",
   "language": "python",
   "name": "python3"
  },
  "language_info": {
   "codemirror_mode": {
    "name": "ipython",
    "version": 3
   },
   "file_extension": ".py",
   "mimetype": "text/x-python",
   "name": "python",
   "nbconvert_exporter": "python",
   "pygments_lexer": "ipython3",
   "version": "3.9.7"
  },
  "orig_nbformat": 4
 },
 "nbformat": 4,
 "nbformat_minor": 2
}
