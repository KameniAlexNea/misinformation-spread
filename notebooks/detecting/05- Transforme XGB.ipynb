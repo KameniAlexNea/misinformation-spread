{
 "cells": [
  {
   "cell_type": "code",
   "execution_count": 1,
   "id": "8986d768-c881-46a9-bd64-23af5959612f",
   "metadata": {},
   "outputs": [],
   "source": [
    "import os\n",
    "import datetime\n",
    "\n",
    "import IPython\n",
    "import IPython.display\n",
    "import matplotlib as mpl\n",
    "import matplotlib.pyplot as plt\n",
    "import numpy as np\n",
    "import pandas as pd\n",
    "import seaborn as sns\n",
    "import warnings\n",
    "from IPython.display import Markdown\n",
    "from IPython.display import display\n",
    "\n",
    "mpl.rcParams['figure.figsize'] = (8, 6)\n",
    "mpl.rcParams['axes.grid'] = False\n",
    "warnings.filterwarnings(\"ignore\")\n",
    "# pd.set_option('display.max_columns', None)"
   ]
  },
  {
   "cell_type": "code",
   "execution_count": 2,
   "id": "dc87197f-308a-464c-a758-109b955d98fc",
   "metadata": {},
   "outputs": [
    {
     "data": {
      "text/html": [
       "<div>\n",
       "<style scoped>\n",
       "    .dataframe tbody tr th:only-of-type {\n",
       "        vertical-align: middle;\n",
       "    }\n",
       "\n",
       "    .dataframe tbody tr th {\n",
       "        vertical-align: top;\n",
       "    }\n",
       "\n",
       "    .dataframe thead th {\n",
       "        text-align: right;\n",
       "    }\n",
       "</style>\n",
       "<table border=\"1\" class=\"dataframe\">\n",
       "  <thead>\n",
       "    <tr style=\"text-align: right;\">\n",
       "      <th></th>\n",
       "      <th>text</th>\n",
       "      <th>author_id</th>\n",
       "      <th>label</th>\n",
       "      <th>created_at</th>\n",
       "      <th>retweet_count</th>\n",
       "      <th>reply_count</th>\n",
       "      <th>like_count</th>\n",
       "      <th>quote_count</th>\n",
       "      <th>in_reply_to_user_id</th>\n",
       "    </tr>\n",
       "  </thead>\n",
       "  <tbody>\n",
       "    <tr>\n",
       "      <th>210341</th>\n",
       "      <td>News: #COVID19 causes sudden strokes in young ...</td>\n",
       "      <td>741314892</td>\n",
       "      <td>real</td>\n",
       "      <td>2020-04-23T15:52:31.000Z</td>\n",
       "      <td>0</td>\n",
       "      <td>1</td>\n",
       "      <td>0</td>\n",
       "      <td>0</td>\n",
       "      <td>False</td>\n",
       "    </tr>\n",
       "    <tr>\n",
       "      <th>177113</th>\n",
       "      <td>so antibiotics do not work. Antibiotics should...</td>\n",
       "      <td>817903682847182848</td>\n",
       "      <td>real</td>\n",
       "      <td>2020-04-13T06:17:18.000Z</td>\n",
       "      <td>0</td>\n",
       "      <td>1</td>\n",
       "      <td>0</td>\n",
       "      <td>0</td>\n",
       "      <td>False</td>\n",
       "    </tr>\n",
       "    <tr>\n",
       "      <th>144412</th>\n",
       "      <td>DECA CDC going on today. Seeing some great you...</td>\n",
       "      <td>159487652</td>\n",
       "      <td>real</td>\n",
       "      <td>2020-02-18T19:26:11.000Z</td>\n",
       "      <td>3</td>\n",
       "      <td>0</td>\n",
       "      <td>6</td>\n",
       "      <td>0</td>\n",
       "      <td>True</td>\n",
       "    </tr>\n",
       "    <tr>\n",
       "      <th>86642</th>\n",
       "      <td>@weareoversight @joncoopertweets If you track ...</td>\n",
       "      <td>1020399973274390536</td>\n",
       "      <td>real</td>\n",
       "      <td>2020-07-02T11:38:37.000Z</td>\n",
       "      <td>0</td>\n",
       "      <td>0</td>\n",
       "      <td>0</td>\n",
       "      <td>0</td>\n",
       "      <td>False</td>\n",
       "    </tr>\n",
       "    <tr>\n",
       "      <th>127813</th>\n",
       "      <td>As of today (April 29), a total of 6,569 COVID...</td>\n",
       "      <td>702153897272614912</td>\n",
       "      <td>real</td>\n",
       "      <td>2020-04-29T23:54:17.000Z</td>\n",
       "      <td>2</td>\n",
       "      <td>0</td>\n",
       "      <td>3</td>\n",
       "      <td>0</td>\n",
       "      <td>True</td>\n",
       "    </tr>\n",
       "    <tr>\n",
       "      <th>241982</th>\n",
       "      <td>Next, my son comes down stairs from sleeping i...</td>\n",
       "      <td>959535310328737792</td>\n",
       "      <td>real</td>\n",
       "      <td>2020-05-01T22:45:39.000Z</td>\n",
       "      <td>4</td>\n",
       "      <td>1</td>\n",
       "      <td>30</td>\n",
       "      <td>0</td>\n",
       "      <td>False</td>\n",
       "    </tr>\n",
       "    <tr>\n",
       "      <th>213439</th>\n",
       "      <td>DHMs for will be similar to Douglas, Sarpy and...</td>\n",
       "      <td>1083021189587656704</td>\n",
       "      <td>real</td>\n",
       "      <td>2020-04-29T19:41:22.000Z</td>\n",
       "      <td>0</td>\n",
       "      <td>1</td>\n",
       "      <td>1</td>\n",
       "      <td>0</td>\n",
       "      <td>False</td>\n",
       "    </tr>\n",
       "    <tr>\n",
       "      <th>136701</th>\n",
       "      <td>Latest Updates May 01\\n\\n➡️954 new cases and 2...</td>\n",
       "      <td>1190410214954151936</td>\n",
       "      <td>real</td>\n",
       "      <td>2020-05-01T12:55:04.000Z</td>\n",
       "      <td>0</td>\n",
       "      <td>0</td>\n",
       "      <td>1</td>\n",
       "      <td>0</td>\n",
       "      <td>True</td>\n",
       "    </tr>\n",
       "    <tr>\n",
       "      <th>75406</th>\n",
       "      <td>@Denverite @DavidASachs FFS Sales Taxes are im...</td>\n",
       "      <td>1228013127725268992</td>\n",
       "      <td>real</td>\n",
       "      <td>2020-07-01T19:49:39.000Z</td>\n",
       "      <td>0</td>\n",
       "      <td>0</td>\n",
       "      <td>0</td>\n",
       "      <td>0</td>\n",
       "      <td>False</td>\n",
       "    </tr>\n",
       "    <tr>\n",
       "      <th>166334</th>\n",
       "      <td>As a front line health care provider caring fo...</td>\n",
       "      <td>825800023967408129</td>\n",
       "      <td>real</td>\n",
       "      <td>2020-03-12T01:31:18.000Z</td>\n",
       "      <td>0</td>\n",
       "      <td>0</td>\n",
       "      <td>0</td>\n",
       "      <td>0</td>\n",
       "      <td>True</td>\n",
       "    </tr>\n",
       "  </tbody>\n",
       "</table>\n",
       "</div>"
      ],
      "text/plain": [
       "                                                     text  \\\n",
       "210341  News: #COVID19 causes sudden strokes in young ...   \n",
       "177113  so antibiotics do not work. Antibiotics should...   \n",
       "144412  DECA CDC going on today. Seeing some great you...   \n",
       "86642   @weareoversight @joncoopertweets If you track ...   \n",
       "127813  As of today (April 29), a total of 6,569 COVID...   \n",
       "241982  Next, my son comes down stairs from sleeping i...   \n",
       "213439  DHMs for will be similar to Douglas, Sarpy and...   \n",
       "136701  Latest Updates May 01\\n\\n➡️954 new cases and 2...   \n",
       "75406   @Denverite @DavidASachs FFS Sales Taxes are im...   \n",
       "166334  As a front line health care provider caring fo...   \n",
       "\n",
       "                  author_id label                created_at  retweet_count  \\\n",
       "210341            741314892  real  2020-04-23T15:52:31.000Z              0   \n",
       "177113   817903682847182848  real  2020-04-13T06:17:18.000Z              0   \n",
       "144412            159487652  real  2020-02-18T19:26:11.000Z              3   \n",
       "86642   1020399973274390536  real  2020-07-02T11:38:37.000Z              0   \n",
       "127813   702153897272614912  real  2020-04-29T23:54:17.000Z              2   \n",
       "241982   959535310328737792  real  2020-05-01T22:45:39.000Z              4   \n",
       "213439  1083021189587656704  real  2020-04-29T19:41:22.000Z              0   \n",
       "136701  1190410214954151936  real  2020-05-01T12:55:04.000Z              0   \n",
       "75406   1228013127725268992  real  2020-07-01T19:49:39.000Z              0   \n",
       "166334   825800023967408129  real  2020-03-12T01:31:18.000Z              0   \n",
       "\n",
       "        reply_count  like_count  quote_count  in_reply_to_user_id  \n",
       "210341            1           0            0                False  \n",
       "177113            1           0            0                False  \n",
       "144412            0           6            0                 True  \n",
       "86642             0           0            0                False  \n",
       "127813            0           3            0                 True  \n",
       "241982            1          30            0                False  \n",
       "213439            1           1            0                False  \n",
       "136701            0           1            0                 True  \n",
       "75406             0           0            0                False  \n",
       "166334            0           0            0                 True  "
      ]
     },
     "execution_count": 2,
     "metadata": {},
     "output_type": "execute_result"
    }
   ],
   "source": [
    "import json\n",
    "\n",
    "data = json.load(open(\"./data/dataset.json\", \"r\"))\n",
    "\n",
    "data = pd.DataFrame(data)\n",
    "data.sample(10)"
   ]
  },
  {
   "cell_type": "code",
   "execution_count": 3,
   "id": "2652ffe3",
   "metadata": {},
   "outputs": [],
   "source": [
    "test_data = data.groupby(\"label\").sample(frac=0.2)\n",
    "data = data.drop(index=test_data.index)"
   ]
  },
  {
   "cell_type": "code",
   "execution_count": 4,
   "id": "5189d5ca-c293-4140-bfd6-cf5f6dee7b88",
   "metadata": {},
   "outputs": [
    {
     "name": "stderr",
     "output_type": "stream",
     "text": [
      "2022-03-31 23:54:17.410640: W tensorflow/stream_executor/platform/default/dso_loader.cc:64] Could not load dynamic library 'libcudart.so.11.0'; dlerror: libcudart.so.11.0: cannot open shared object file: No such file or directory\n",
      "2022-03-31 23:54:17.410675: I tensorflow/stream_executor/cuda/cudart_stub.cc:29] Ignore above cudart dlerror if you do not have a GPU set up on your machine.\n"
     ]
    }
   ],
   "source": [
    "from xgboost import XGBClassifier\n",
    "from sentence_transformers import SentenceTransformer"
   ]
  },
  {
   "cell_type": "code",
   "execution_count": 5,
   "id": "2528f20a-5197-4aaf-abad-7ad68285e4ff",
   "metadata": {},
   "outputs": [],
   "source": [
    "class Model:\n",
    "    def __init__(self, params):\n",
    "        xgb_params= {\n",
    "            \"objective\": \"binary:logistic\",\n",
    "            \"n_estimators\": params[\"n_estimators\"],\n",
    "            \"max_depth\": params[\"max_depth\"],\n",
    "            \"n_jobs\": 7,\n",
    "            \"seed\": 1000,\n",
    "            \"verbosity\":0,\n",
    "            'tree_method': \"gpu_hist\",\n",
    "            \"gpu_id\": 0,\n",
    "            \"subsample\": params[\"subsample\"],#0.7\n",
    "            \"colsample_bytree\": params[\"colsample_bytree\"],\n",
    "            \"learning_rate\": params[\"learning_rate\"],\n",
    "            \"lambda\": params[\"lambda\"],\n",
    "            \"alpha\": params[\"alpha\"],\n",
    "            \"eval_metric\":'logloss'\n",
    "        }\n",
    "        \n",
    "        self.emb = SentenceTransformer(\"all-MiniLM-L6-v2\", device=\"cuda\")\n",
    "        self.xgb = XGBClassifier(**xgb_params)\n",
    "    \n",
    "    def fit(self, X_train, y_train):\n",
    "        X_emb = self.emb.encode(X_train)\n",
    "        self.xgb.fit(X_emb, y_train)\n",
    "        return self\n",
    "    \n",
    "    def predict(self, X_test):\n",
    "        X_emb = self.emb.encode(X_test)\n",
    "        preds = self.xgb.predict(X_emb)\n",
    "        return preds\n",
    "    \n",
    "    def predict_proba(self, X_test):\n",
    "        X_emb = self.emb.encode(X_test)\n",
    "        preds = self.xgb.predict_proba(X_emb)\n",
    "        return preds"
   ]
  },
  {
   "cell_type": "code",
   "execution_count": 6,
   "id": "7bfcfa76-d6ab-47d4-9f73-99af43d841f2",
   "metadata": {},
   "outputs": [],
   "source": [
    "params = {'ngram_range': 2, 'max_df': 0.6648896815644944, 'max_features': 1928, 'n_estimators': 605, 'max_depth': 10, 'subsample': 0.7159105584464553, \n",
    "          'colsample_bytree': 0.7851446292315494, 'learning_rate': 0.13139478930452317, 'lambda': 1.2081963210286712, 'alpha': 1.0087203749646416}\n",
    "\n",
    "model = Model(params)"
   ]
  },
  {
   "cell_type": "code",
   "execution_count": 7,
   "id": "ff5ea85c-b0ed-40a1-8bd3-83924e583f98",
   "metadata": {},
   "outputs": [
    {
     "data": {
      "text/plain": [
       "<__main__.Model at 0x7f1cc3c4fcd0>"
      ]
     },
     "execution_count": 7,
     "metadata": {},
     "output_type": "execute_result"
    }
   ],
   "source": [
    "model.fit(data.text.values, data.label.values)"
   ]
  },
  {
   "cell_type": "code",
   "execution_count": 8,
   "id": "a5378049-f8b1-42b0-90c5-ad4df06d584d",
   "metadata": {},
   "outputs": [],
   "source": [
    "probs = model.predict_proba(test_data.text.values)"
   ]
  },
  {
   "cell_type": "code",
   "execution_count": 9,
   "id": "56062cf7-88a3-493a-a0cd-453a1fb06151",
   "metadata": {},
   "outputs": [
    {
     "data": {
      "text/plain": [
       "array([[9.6880847e-01, 3.1191526e-02],\n",
       "       [9.9998558e-01, 1.4417770e-05],\n",
       "       [9.9998301e-01, 1.7009592e-05],\n",
       "       [3.1091899e-01, 6.8908101e-01],\n",
       "       [8.4113413e-01, 1.5886585e-01]], dtype=float32)"
      ]
     },
     "execution_count": 9,
     "metadata": {},
     "output_type": "execute_result"
    }
   ],
   "source": [
    "probs[:5]"
   ]
  },
  {
   "cell_type": "code",
   "execution_count": 10,
   "id": "d0a801dc-01b7-4550-89b8-56e8cd22c70d",
   "metadata": {},
   "outputs": [
    {
     "data": {
      "text/plain": [
       "51836     True\n",
       "194010    True\n",
       "191185    True\n",
       "183359    True\n",
       "190972    True\n",
       "Name: label, dtype: bool"
      ]
     },
     "execution_count": 10,
     "metadata": {},
     "output_type": "execute_result"
    }
   ],
   "source": [
    "y = (test_data.label == \"fake\")\n",
    "y.head()"
   ]
  },
  {
   "cell_type": "code",
   "execution_count": 11,
   "id": "3893244f-ffff-4541-9250-1e60fe0e8f48",
   "metadata": {},
   "outputs": [],
   "source": [
    "import metrics as mmetrics"
   ]
  },
  {
   "cell_type": "code",
   "execution_count": 12,
   "id": "c552d1b7-cdb4-4906-a629-975b531021d1",
   "metadata": {},
   "outputs": [
    {
     "data": {
      "text/html": [
       "<div>\n",
       "<style scoped>\n",
       "    .dataframe tbody tr th:only-of-type {\n",
       "        vertical-align: middle;\n",
       "    }\n",
       "\n",
       "    .dataframe tbody tr th {\n",
       "        vertical-align: top;\n",
       "    }\n",
       "\n",
       "    .dataframe thead th {\n",
       "        text-align: right;\n",
       "    }\n",
       "</style>\n",
       "<table border=\"1\" class=\"dataframe\">\n",
       "  <thead>\n",
       "    <tr style=\"text-align: right;\">\n",
       "      <th></th>\n",
       "      <th>TP</th>\n",
       "      <th>TN</th>\n",
       "      <th>FP</th>\n",
       "      <th>FN</th>\n",
       "      <th>Accuracy</th>\n",
       "      <th>Prevalence</th>\n",
       "      <th>Sensitivity</th>\n",
       "      <th>Specificity</th>\n",
       "      <th>PPV</th>\n",
       "      <th>NPV</th>\n",
       "      <th>AUC</th>\n",
       "      <th>F1</th>\n",
       "      <th>Threshold</th>\n",
       "    </tr>\n",
       "    <tr>\n",
       "      <th></th>\n",
       "      <th></th>\n",
       "      <th></th>\n",
       "      <th></th>\n",
       "      <th></th>\n",
       "      <th></th>\n",
       "      <th></th>\n",
       "      <th></th>\n",
       "      <th></th>\n",
       "      <th></th>\n",
       "      <th></th>\n",
       "      <th></th>\n",
       "      <th></th>\n",
       "      <th></th>\n",
       "    </tr>\n",
       "  </thead>\n",
       "  <tbody>\n",
       "    <tr>\n",
       "      <th>ST-XGB</th>\n",
       "      <td>1164</td>\n",
       "      <td>42142</td>\n",
       "      <td>13</td>\n",
       "      <td>969</td>\n",
       "      <td>0.978</td>\n",
       "      <td>0.048</td>\n",
       "      <td>0.546</td>\n",
       "      <td>1</td>\n",
       "      <td>0.989</td>\n",
       "      <td>0.978</td>\n",
       "      <td>0.96</td>\n",
       "      <td>0.703</td>\n",
       "      <td>0.5</td>\n",
       "    </tr>\n",
       "  </tbody>\n",
       "</table>\n",
       "</div>"
      ],
      "text/plain": [
       "          TP     TN  FP   FN  Accuracy  Prevalence  Sensitivity  Specificity  \\\n",
       "                                                                               \n",
       "ST-XGB  1164  42142  13  969     0.978       0.048        0.546            1   \n",
       "\n",
       "          PPV    NPV   AUC     F1  Threshold  \n",
       "                                              \n",
       "ST-XGB  0.989  0.978  0.96  0.703        0.5  "
      ]
     },
     "execution_count": 12,
     "metadata": {},
     "output_type": "execute_result"
    }
   ],
   "source": [
    "y = y.values.reshape((-1, 1))\n",
    "\n",
    "perfs = mmetrics.get_performance_metrics(y, probs[:, :1], [\"ST-XGB\"])\n",
    "perfs"
   ]
  },
  {
   "cell_type": "code",
   "execution_count": null,
   "id": "e71d0844-b69d-4ed2-8dd4-b316e3418a80",
   "metadata": {},
   "outputs": [],
   "source": []
  }
 ],
 "metadata": {
  "kernelspec": {
   "display_name": "Python 3",
   "language": "python",
   "name": "python3"
  },
  "language_info": {
   "codemirror_mode": {
    "name": "ipython",
    "version": 3
   },
   "file_extension": ".py",
   "mimetype": "text/x-python",
   "name": "python",
   "nbconvert_exporter": "python",
   "pygments_lexer": "ipython3",
   "version": "3.9.7"
  }
 },
 "nbformat": 4,
 "nbformat_minor": 5
}
