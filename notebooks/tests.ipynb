{
 "cells": [
  {
   "cell_type": "code",
   "execution_count": 1,
   "metadata": {},
   "outputs": [],
   "source": [
    "import json\n",
    "\n",
    "class Twitter:\n",
    "    def __init__(self, consumer_key, consumer_secret, access_token_key):\n",
    "        self.consumer_key = consumer_key\n",
    "        self.consumer_secret = consumer_secret\n",
    "        self.access_token_key = access_token_key\n",
    "    \n",
    "    @classmethod\n",
    "    def from_json(cls, twitter_json):\n",
    "        return cls(\n",
    "            twitter_json[\"API Key\"],\n",
    "            twitter_json[\"API Key Secret\"],\n",
    "            twitter_json[\"Bearer Token\"]\n",
    "        )\n",
    "    \n",
    "    @staticmethod\n",
    "    def get_twitter_credentials():\n",
    "        with open(\"../twitter/api.json\", \"r\") as conf:\n",
    "            configuration = json.load(conf)\n",
    "            twitter = Twitter.from_json(configuration)\n",
    "        return twitter"
   ]
  },
  {
   "cell_type": "code",
   "execution_count": 2,
   "metadata": {},
   "outputs": [],
   "source": [
    "from TwitterAPI import TwitterAPI\n",
    "\n",
    "twitter = Twitter.get_twitter_credentials()\n",
    "\n",
    "api = TwitterAPI(\n",
    "    consumer_key = twitter.consumer_key,\n",
    "    consumer_secret = twitter.consumer_secret,\n",
    "    access_token_key = twitter.access_token_key,\n",
    "    auth_type=\"oAuth2\"\n",
    ")"
   ]
  },
  {
   "cell_type": "code",
   "execution_count": 3,
   "metadata": {},
   "outputs": [
    {
     "name": "stdout",
     "output_type": "stream",
     "text": [
      "{\"created_at\":\"Fri May 03 16:30:22 +0000 2019\",\"id\":1124350496712556544,\"id_str\":\"1124350496712556544\",\"text\":\"RT @CnewsTb: Sonic is expected to be transgender in his upcoming movie in order to be \\u201cappropriate\\u201d for a 2019 audience. Full: https:\\/\\/t.co\\u2026\",\"truncated\":false,\"entities\":{\"hashtags\":[],\"symbols\":[],\"user_mentions\":[{\"screen_name\":\"CnewsTb\",\"name\":\"TBC News\",\"id\":1040819647266775041,\"id_str\":\"1040819647266775041\",\"indices\":[3,11]}],\"urls\":[]},\"source\":\"\\u003ca href=\\\"http:\\/\\/twitter.com\\/download\\/android\\\" rel=\\\"nofollow\\\"\\u003eTwitter for Android\\u003c\\/a\\u003e\",\"in_reply_to_status_id\":null,\"in_reply_to_status_id_str\":null,\"in_reply_to_user_id\":null,\"in_reply_to_user_id_str\":null,\"in_reply_to_screen_name\":null,\"user\":{\"id\":876555674,\"id_str\":\"876555674\",\"name\":\"J\",\"screen_name\":\"jjnwaogu\",\"location\":\"Shellington Crescent, England\",\"description\":\"Are you rushing or dragging?\",\"url\":null,\"entities\":{\"description\":{\"urls\":[]}},\"protected\":false,\"followers_count\":697,\"friends_count\":1670,\"listed_count\":6,\"created_at\":\"Fri Oct 12 22:26:16 +0000 2012\",\"favourites_count\":22931,\"utc_offset\":null,\"time_zone\":null,\"geo_enabled\":true,\"verified\":false,\"statuses_count\":62009,\"lang\":null,\"contributors_enabled\":false,\"is_translator\":false,\"is_translation_enabled\":false,\"profile_background_color\":\"080808\",\"profile_background_image_url\":\"http:\\/\\/abs.twimg.com\\/images\\/themes\\/theme1\\/bg.png\",\"profile_background_image_url_https\":\"https:\\/\\/abs.twimg.com\\/images\\/themes\\/theme1\\/bg.png\",\"profile_background_tile\":false,\"profile_image_url\":\"http:\\/\\/pbs.twimg.com\\/profile_images\\/1429800204627324942\\/FpmUCdt5_normal.jpg\",\"profile_image_url_https\":\"https:\\/\\/pbs.twimg.com\\/profile_images\\/1429800204627324942\\/FpmUCdt5_normal.jpg\",\"profile_banner_url\":\"https:\\/\\/pbs.twimg.com\\/profile_banners\\/876555674\\/1574032106\",\"profile_link_color\":\"29F50A\",\"profile_sidebar_border_color\":\"000000\",\"profile_sidebar_fill_color\":\"DDEEF6\",\"profile_text_color\":\"333333\",\"profile_use_background_image\":true,\"has_extended_profile\":false,\"default_profile\":false,\"default_profile_image\":false,\"following\":null,\"follow_request_sent\":null,\"notifications\":null,\"translator_type\":\"none\",\"withheld_in_countries\":[]},\"geo\":null,\"coordinates\":null,\"place\":null,\"contributors\":null,\"retweeted_status\":{\"created_at\":\"Thu May 02 03:00:42 +0000 2019\",\"id\":1123784351488065536,\"id_str\":\"1123784351488065536\",\"text\":\"Sonic is expected to be transgender in his upcoming movie in order to be \\u201cappropriate\\u201d for a 2019 audience. Full:\\u2026 https:\\/\\/t.co\\/Xz5oubM0ge\",\"truncated\":true,\"entities\":{\"hashtags\":[],\"symbols\":[],\"user_mentions\":[],\"urls\":[{\"url\":\"https:\\/\\/t.co\\/Xz5oubM0ge\",\"expanded_url\":\"https:\\/\\/twitter.com\\/i\\/web\\/status\\/1123784351488065536\",\"display_url\":\"twitter.com\\/i\\/web\\/status\\/1\\u2026\",\"indices\":[115,138]}]},\"source\":\"\\u003ca href=\\\"http:\\/\\/twitter.com\\/download\\/iphone\\\" rel=\\\"nofollow\\\"\\u003eTwitter for iPhone\\u003c\\/a\\u003e\",\"in_reply_to_status_id\":null,\"in_reply_to_status_id_str\":null,\"in_reply_to_user_id\":null,\"in_reply_to_user_id_str\":null,\"in_reply_to_screen_name\":null,\"user\":{\"id\":1040819647266775041,\"id_str\":\"1040819647266775041\",\"name\":\"TBC News\",\"screen_name\":\"CnewsTb\",\"location\":\"Parody\",\"description\":\"Someone needs coffee\",\"url\":null,\"entities\":{\"description\":{\"urls\":[]}},\"protected\":false,\"followers_count\":4708,\"friends_count\":2,\"listed_count\":4,\"created_at\":\"Sat Sep 15 04:28:36 +0000 2018\",\"favourites_count\":168,\"utc_offset\":null,\"time_zone\":null,\"geo_enabled\":true,\"verified\":false,\"statuses_count\":1273,\"lang\":null,\"contributors_enabled\":false,\"is_translator\":false,\"is_translation_enabled\":false,\"profile_background_color\":\"F5F8FA\",\"profile_background_image_url\":null,\"profile_background_image_url_https\":null,\"profile_background_tile\":false,\"profile_image_url\":\"http:\\/\\/pbs.twimg.com\\/profile_images\\/1177010946247512064\\/qMZd5csd_normal.jpg\",\"profile_image_url_https\":\"https:\\/\\/pbs.twimg.com\\/profile_images\\/1177010946247512064\\/qMZd5csd_normal.jpg\",\"profile_banner_url\":\"https:\\/\\/pbs.twimg.com\\/profile_banners\\/1040819647266775041\\/1536992580\",\"profile_link_color\":\"1DA1F2\",\"profile_sidebar_border_color\":\"C0DEED\",\"profile_sidebar_fill_color\":\"DDEEF6\",\"profile_text_color\":\"333333\",\"profile_use_background_image\":true,\"has_extended_profile\":false,\"default_profile\":true,\"default_profile_image\":false,\"following\":null,\"follow_request_sent\":null,\"notifications\":null,\"translator_type\":\"none\",\"withheld_in_countries\":[]},\"geo\":null,\"coordinates\":null,\"place\":null,\"contributors\":null,\"is_quote_status\":false,\"retweet_count\":1029,\"favorite_count\":3093,\"favorited\":false,\"retweeted\":false,\"possibly_sensitive\":false,\"possibly_sensitive_appealable\":false,\"lang\":\"en\"},\"is_quote_status\":false,\"retweet_count\":1029,\"favorite_count\":0,\"favorited\":false,\"retweeted\":false,\"lang\":\"en\"}\n"
     ]
    }
   ],
   "source": [
    "r = api.request('statuses/show/:%d' % 1124350496712556544)\n",
    "print(r.text)"
   ]
  },
  {
   "cell_type": "code",
   "execution_count": 4,
   "metadata": {},
   "outputs": [
    {
     "name": "stdout",
     "output_type": "stream",
     "text": [
      "created_at\n",
      "Fri May 03 16:30:22 +0000 2019\n",
      "\n",
      "id\n",
      "1124350496712556544\n",
      "\n",
      "id_str\n",
      "1124350496712556544\n",
      "\n",
      "text\n",
      "RT @CnewsTb: Sonic is expected to be transgender in his upcoming movie in order to be “appropriate” for a 2019 audience. Full: https://t.co…\n",
      "\n",
      "truncated\n",
      "False\n",
      "\n",
      "entities\n",
      "{'hashtags': [], 'symbols': [], 'user_mentions': [{'screen_name': 'CnewsTb', 'name': 'TBC News', 'id': 1040819647266775041, 'id_str': '1040819647266775041', 'indices': [3, 11]}], 'urls': []}\n",
      "\n",
      "source\n",
      "<a href=\"http://twitter.com/download/android\" rel=\"nofollow\">Twitter for Android</a>\n",
      "\n",
      "in_reply_to_status_id\n",
      "None\n",
      "\n",
      "in_reply_to_status_id_str\n",
      "None\n",
      "\n",
      "in_reply_to_user_id\n",
      "None\n",
      "\n",
      "in_reply_to_user_id_str\n",
      "None\n",
      "\n",
      "in_reply_to_screen_name\n",
      "None\n",
      "\n",
      "user\n",
      "{'id': 876555674, 'id_str': '876555674', 'name': 'J', 'screen_name': 'jjnwaogu', 'location': 'Shellington Crescent, England', 'description': 'Are you rushing or dragging?', 'url': None, 'entities': {'description': {'urls': []}}, 'protected': False, 'followers_count': 697, 'friends_count': 1670, 'listed_count': 6, 'created_at': 'Fri Oct 12 22:26:16 +0000 2012', 'favourites_count': 22931, 'utc_offset': None, 'time_zone': None, 'geo_enabled': True, 'verified': False, 'statuses_count': 62009, 'lang': None, 'contributors_enabled': False, 'is_translator': False, 'is_translation_enabled': False, 'profile_background_color': '080808', 'profile_background_image_url': 'http://abs.twimg.com/images/themes/theme1/bg.png', 'profile_background_image_url_https': 'https://abs.twimg.com/images/themes/theme1/bg.png', 'profile_background_tile': False, 'profile_image_url': 'http://pbs.twimg.com/profile_images/1429800204627324942/FpmUCdt5_normal.jpg', 'profile_image_url_https': 'https://pbs.twimg.com/profile_images/1429800204627324942/FpmUCdt5_normal.jpg', 'profile_banner_url': 'https://pbs.twimg.com/profile_banners/876555674/1574032106', 'profile_link_color': '29F50A', 'profile_sidebar_border_color': '000000', 'profile_sidebar_fill_color': 'DDEEF6', 'profile_text_color': '333333', 'profile_use_background_image': True, 'has_extended_profile': False, 'default_profile': False, 'default_profile_image': False, 'following': None, 'follow_request_sent': None, 'notifications': None, 'translator_type': 'none', 'withheld_in_countries': []}\n",
      "\n",
      "geo\n",
      "None\n",
      "\n",
      "coordinates\n",
      "None\n",
      "\n",
      "place\n",
      "None\n",
      "\n",
      "contributors\n",
      "None\n",
      "\n",
      "retweeted_status\n",
      "{'created_at': 'Thu May 02 03:00:42 +0000 2019', 'id': 1123784351488065536, 'id_str': '1123784351488065536', 'text': 'Sonic is expected to be transgender in his upcoming movie in order to be “appropriate” for a 2019 audience. Full:… https://t.co/Xz5oubM0ge', 'truncated': True, 'entities': {'hashtags': [], 'symbols': [], 'user_mentions': [], 'urls': [{'url': 'https://t.co/Xz5oubM0ge', 'expanded_url': 'https://twitter.com/i/web/status/1123784351488065536', 'display_url': 'twitter.com/i/web/status/1…', 'indices': [115, 138]}]}, 'source': '<a href=\"http://twitter.com/download/iphone\" rel=\"nofollow\">Twitter for iPhone</a>', 'in_reply_to_status_id': None, 'in_reply_to_status_id_str': None, 'in_reply_to_user_id': None, 'in_reply_to_user_id_str': None, 'in_reply_to_screen_name': None, 'user': {'id': 1040819647266775041, 'id_str': '1040819647266775041', 'name': 'TBC News', 'screen_name': 'CnewsTb', 'location': 'Parody', 'description': 'Someone needs coffee', 'url': None, 'entities': {'description': {'urls': []}}, 'protected': False, 'followers_count': 4708, 'friends_count': 2, 'listed_count': 4, 'created_at': 'Sat Sep 15 04:28:36 +0000 2018', 'favourites_count': 168, 'utc_offset': None, 'time_zone': None, 'geo_enabled': True, 'verified': False, 'statuses_count': 1273, 'lang': None, 'contributors_enabled': False, 'is_translator': False, 'is_translation_enabled': False, 'profile_background_color': 'F5F8FA', 'profile_background_image_url': None, 'profile_background_image_url_https': None, 'profile_background_tile': False, 'profile_image_url': 'http://pbs.twimg.com/profile_images/1177010946247512064/qMZd5csd_normal.jpg', 'profile_image_url_https': 'https://pbs.twimg.com/profile_images/1177010946247512064/qMZd5csd_normal.jpg', 'profile_banner_url': 'https://pbs.twimg.com/profile_banners/1040819647266775041/1536992580', 'profile_link_color': '1DA1F2', 'profile_sidebar_border_color': 'C0DEED', 'profile_sidebar_fill_color': 'DDEEF6', 'profile_text_color': '333333', 'profile_use_background_image': True, 'has_extended_profile': False, 'default_profile': True, 'default_profile_image': False, 'following': None, 'follow_request_sent': None, 'notifications': None, 'translator_type': 'none', 'withheld_in_countries': []}, 'geo': None, 'coordinates': None, 'place': None, 'contributors': None, 'is_quote_status': False, 'retweet_count': 1029, 'favorite_count': 3093, 'favorited': False, 'retweeted': False, 'possibly_sensitive': False, 'possibly_sensitive_appealable': False, 'lang': 'en'}\n",
      "\n",
      "is_quote_status\n",
      "False\n",
      "\n",
      "retweet_count\n",
      "1029\n",
      "\n",
      "favorite_count\n",
      "0\n",
      "\n",
      "favorited\n",
      "False\n",
      "\n",
      "retweeted\n",
      "False\n",
      "\n",
      "lang\n",
      "en\n",
      "\n"
     ]
    }
   ],
   "source": [
    "data = r.json()\n",
    "for key, value in data.items():\n",
    "    print(key)\n",
    "    print(value)\n",
    "    print()"
   ]
  },
  {
   "cell_type": "code",
   "execution_count": 5,
   "metadata": {},
   "outputs": [],
   "source": [
    "data = json.loads(r.text)"
   ]
  },
  {
   "cell_type": "code",
   "execution_count": 6,
   "metadata": {},
   "outputs": [
    {
     "data": {
      "text/plain": [
       "dict_keys(['created_at', 'id', 'id_str', 'text', 'truncated', 'entities', 'source', 'in_reply_to_status_id', 'in_reply_to_status_id_str', 'in_reply_to_user_id', 'in_reply_to_user_id_str', 'in_reply_to_screen_name', 'user', 'geo', 'coordinates', 'place', 'contributors', 'retweeted_status', 'is_quote_status', 'retweet_count', 'favorite_count', 'favorited', 'retweeted', 'lang'])"
      ]
     },
     "execution_count": 6,
     "metadata": {},
     "output_type": "execute_result"
    }
   ],
   "source": [
    "data.keys()"
   ]
  },
  {
   "cell_type": "code",
   "execution_count": 7,
   "metadata": {},
   "outputs": [
    {
     "name": "stdout",
     "output_type": "stream",
     "text": [
      "created_at\n",
      "Fri May 03 16:30:22 +0000 2019\n",
      "\n",
      "id\n",
      "1124350496712556544\n",
      "\n",
      "id_str\n",
      "1124350496712556544\n",
      "\n",
      "text\n",
      "RT @CnewsTb: Sonic is expected to be transgender in his upcoming movie in order to be “appropriate” for a 2019 audience. Full: https://t.co…\n",
      "\n",
      "truncated\n",
      "False\n",
      "\n",
      "entities\n",
      "{'hashtags': [], 'symbols': [], 'user_mentions': [{'screen_name': 'CnewsTb', 'name': 'TBC News', 'id': 1040819647266775041, 'id_str': '1040819647266775041', 'indices': [3, 11]}], 'urls': []}\n",
      "\n",
      "source\n",
      "<a href=\"http://twitter.com/download/android\" rel=\"nofollow\">Twitter for Android</a>\n",
      "\n",
      "in_reply_to_status_id\n",
      "None\n",
      "\n",
      "in_reply_to_status_id_str\n",
      "None\n",
      "\n",
      "in_reply_to_user_id\n",
      "None\n",
      "\n",
      "in_reply_to_user_id_str\n",
      "None\n",
      "\n",
      "in_reply_to_screen_name\n",
      "None\n",
      "\n",
      "user\n",
      "{'id': 876555674, 'id_str': '876555674', 'name': 'J', 'screen_name': 'jjnwaogu', 'location': 'Shellington Crescent, England', 'description': 'Are you rushing or dragging?', 'url': None, 'entities': {'description': {'urls': []}}, 'protected': False, 'followers_count': 697, 'friends_count': 1670, 'listed_count': 6, 'created_at': 'Fri Oct 12 22:26:16 +0000 2012', 'favourites_count': 22931, 'utc_offset': None, 'time_zone': None, 'geo_enabled': True, 'verified': False, 'statuses_count': 62009, 'lang': None, 'contributors_enabled': False, 'is_translator': False, 'is_translation_enabled': False, 'profile_background_color': '080808', 'profile_background_image_url': 'http://abs.twimg.com/images/themes/theme1/bg.png', 'profile_background_image_url_https': 'https://abs.twimg.com/images/themes/theme1/bg.png', 'profile_background_tile': False, 'profile_image_url': 'http://pbs.twimg.com/profile_images/1429800204627324942/FpmUCdt5_normal.jpg', 'profile_image_url_https': 'https://pbs.twimg.com/profile_images/1429800204627324942/FpmUCdt5_normal.jpg', 'profile_banner_url': 'https://pbs.twimg.com/profile_banners/876555674/1574032106', 'profile_link_color': '29F50A', 'profile_sidebar_border_color': '000000', 'profile_sidebar_fill_color': 'DDEEF6', 'profile_text_color': '333333', 'profile_use_background_image': True, 'has_extended_profile': False, 'default_profile': False, 'default_profile_image': False, 'following': None, 'follow_request_sent': None, 'notifications': None, 'translator_type': 'none', 'withheld_in_countries': []}\n",
      "\n",
      "geo\n",
      "None\n",
      "\n",
      "coordinates\n",
      "None\n",
      "\n",
      "place\n",
      "None\n",
      "\n",
      "contributors\n",
      "None\n",
      "\n",
      "retweeted_status\n",
      "{'created_at': 'Thu May 02 03:00:42 +0000 2019', 'id': 1123784351488065536, 'id_str': '1123784351488065536', 'text': 'Sonic is expected to be transgender in his upcoming movie in order to be “appropriate” for a 2019 audience. Full:… https://t.co/Xz5oubM0ge', 'truncated': True, 'entities': {'hashtags': [], 'symbols': [], 'user_mentions': [], 'urls': [{'url': 'https://t.co/Xz5oubM0ge', 'expanded_url': 'https://twitter.com/i/web/status/1123784351488065536', 'display_url': 'twitter.com/i/web/status/1…', 'indices': [115, 138]}]}, 'source': '<a href=\"http://twitter.com/download/iphone\" rel=\"nofollow\">Twitter for iPhone</a>', 'in_reply_to_status_id': None, 'in_reply_to_status_id_str': None, 'in_reply_to_user_id': None, 'in_reply_to_user_id_str': None, 'in_reply_to_screen_name': None, 'user': {'id': 1040819647266775041, 'id_str': '1040819647266775041', 'name': 'TBC News', 'screen_name': 'CnewsTb', 'location': 'Parody', 'description': 'Someone needs coffee', 'url': None, 'entities': {'description': {'urls': []}}, 'protected': False, 'followers_count': 4708, 'friends_count': 2, 'listed_count': 4, 'created_at': 'Sat Sep 15 04:28:36 +0000 2018', 'favourites_count': 168, 'utc_offset': None, 'time_zone': None, 'geo_enabled': True, 'verified': False, 'statuses_count': 1273, 'lang': None, 'contributors_enabled': False, 'is_translator': False, 'is_translation_enabled': False, 'profile_background_color': 'F5F8FA', 'profile_background_image_url': None, 'profile_background_image_url_https': None, 'profile_background_tile': False, 'profile_image_url': 'http://pbs.twimg.com/profile_images/1177010946247512064/qMZd5csd_normal.jpg', 'profile_image_url_https': 'https://pbs.twimg.com/profile_images/1177010946247512064/qMZd5csd_normal.jpg', 'profile_banner_url': 'https://pbs.twimg.com/profile_banners/1040819647266775041/1536992580', 'profile_link_color': '1DA1F2', 'profile_sidebar_border_color': 'C0DEED', 'profile_sidebar_fill_color': 'DDEEF6', 'profile_text_color': '333333', 'profile_use_background_image': True, 'has_extended_profile': False, 'default_profile': True, 'default_profile_image': False, 'following': None, 'follow_request_sent': None, 'notifications': None, 'translator_type': 'none', 'withheld_in_countries': []}, 'geo': None, 'coordinates': None, 'place': None, 'contributors': None, 'is_quote_status': False, 'retweet_count': 1029, 'favorite_count': 3093, 'favorited': False, 'retweeted': False, 'possibly_sensitive': False, 'possibly_sensitive_appealable': False, 'lang': 'en'}\n",
      "\n",
      "is_quote_status\n",
      "False\n",
      "\n",
      "retweet_count\n",
      "1029\n",
      "\n",
      "favorite_count\n",
      "0\n",
      "\n",
      "favorited\n",
      "False\n",
      "\n",
      "retweeted\n",
      "False\n",
      "\n",
      "lang\n",
      "en\n",
      "\n"
     ]
    }
   ],
   "source": [
    "for key, value in data.items():\n",
    "    print(key)\n",
    "    print(value)\n",
    "    print()"
   ]
  },
  {
   "cell_type": "code",
   "execution_count": null,
   "metadata": {},
   "outputs": [],
   "source": [
    "r = api.request('statuses/show/:%d' % 1124350496712556544)\n",
    "print(r.text)"
   ]
  }
 ],
 "metadata": {
  "interpreter": {
   "hash": "a6dc9b4143af48e281cb1c6df3d95c443508aedd32faeb1c4fc167a529b0cde9"
  },
  "kernelspec": {
   "display_name": "Python 3.9.7 64-bit ('.venv': venv)",
   "language": "python",
   "name": "python3"
  },
  "language_info": {
   "codemirror_mode": {
    "name": "ipython",
    "version": 3
   },
   "file_extension": ".py",
   "mimetype": "text/x-python",
   "name": "python",
   "nbconvert_exporter": "python",
   "pygments_lexer": "ipython3",
   "version": "3.9.7"
  },
  "orig_nbformat": 4
 },
 "nbformat": 4,
 "nbformat_minor": 2
}
