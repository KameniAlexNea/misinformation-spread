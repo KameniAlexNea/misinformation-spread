{
 "cells": [
  {
   "cell_type": "code",
   "execution_count": 1,
   "id": "e8ed85d7-2f9c-4204-830c-b9e3eada386c",
   "metadata": {},
   "outputs": [],
   "source": [
    "%reload_ext autoreload\n",
    "%autoreload 2\n",
    "%matplotlib inline\n",
    "import os\n",
    "os.environ[\"CUDA_DEVICE_ORDER\"]=\"PCI_BUS_ID\";\n",
    "os.environ[\"CUDA_VISIBLE_DEVICES\"]=\"0\";"
   ]
  },
  {
   "cell_type": "code",
   "execution_count": 2,
   "id": "40a85a0e-088a-4573-8ceb-cc268a9d7ef2",
   "metadata": {},
   "outputs": [],
   "source": [
    "import ktrain\n",
    "from ktrain import text"
   ]
  },
  {
   "cell_type": "code",
   "execution_count": 3,
   "id": "c792db7a-e0b7-4af0-b7f9-55ce595f5d27",
   "metadata": {},
   "outputs": [],
   "source": [
    "import os\n",
    "import datetime\n",
    "\n",
    "import IPython\n",
    "import IPython.display\n",
    "import matplotlib as mpl\n",
    "import matplotlib.pyplot as plt\n",
    "import numpy as np\n",
    "import pandas as pd\n",
    "import seaborn as sns\n",
    "import warnings\n",
    "from IPython.display import Markdown\n",
    "from IPython.display import display\n",
    "\n",
    "mpl.rcParams['figure.figsize'] = (8, 6)\n",
    "mpl.rcParams['axes.grid'] = False\n",
    "warnings.filterwarnings(\"ignore\")\n",
    "\n",
    "pd.set_option('display.max_columns', None)"
   ]
  },
  {
   "cell_type": "code",
   "execution_count": 4,
   "id": "980c5db0-aeeb-4c4b-8d60-08926b86487f",
   "metadata": {},
   "outputs": [
    {
     "data": {
      "text/html": [
       "<div>\n",
       "<style scoped>\n",
       "    .dataframe tbody tr th:only-of-type {\n",
       "        vertical-align: middle;\n",
       "    }\n",
       "\n",
       "    .dataframe tbody tr th {\n",
       "        vertical-align: top;\n",
       "    }\n",
       "\n",
       "    .dataframe thead th {\n",
       "        text-align: right;\n",
       "    }\n",
       "</style>\n",
       "<table border=\"1\" class=\"dataframe\">\n",
       "  <thead>\n",
       "    <tr style=\"text-align: right;\">\n",
       "      <th></th>\n",
       "      <th>tweet</th>\n",
       "      <th>label</th>\n",
       "      <th>tweet_cleaned</th>\n",
       "      <th>tweet_len</th>\n",
       "    </tr>\n",
       "  </thead>\n",
       "  <tbody>\n",
       "    <tr>\n",
       "      <th>4966</th>\n",
       "      <td>PUBLICATION @TheLancet ➡️#COVID19-related disr...</td>\n",
       "      <td>real</td>\n",
       "      <td>public ➡ ️covid 19 relat disrupt malaria contr...</td>\n",
       "      <td>32</td>\n",
       "    </tr>\n",
       "    <tr>\n",
       "      <th>4230</th>\n",
       "      <td>Trump Denies French Claims That Coronavirus Wa...</td>\n",
       "      <td>fake</td>\n",
       "      <td>trump deni french claim coronaviru present fra...</td>\n",
       "      <td>16</td>\n",
       "    </tr>\n",
       "    <tr>\n",
       "      <th>1176</th>\n",
       "      <td>Intrepid Investigative Reporting Reveals the M...</td>\n",
       "      <td>fake</td>\n",
       "      <td>intrepid investig report reveal mysteri ingred...</td>\n",
       "      <td>14</td>\n",
       "    </tr>\n",
       "    <tr>\n",
       "      <th>752</th>\n",
       "      <td>The coronavirus was created in a lab and paten...</td>\n",
       "      <td>fake</td>\n",
       "      <td>coronaviru creat lab patent</td>\n",
       "      <td>9</td>\n",
       "    </tr>\n",
       "    <tr>\n",
       "      <th>2343</th>\n",
       "      <td>RT @PIB_India: #CoronaWatch ◾ 2027074 total co...</td>\n",
       "      <td>real</td>\n",
       "      <td>coronawatch ◾ 2027074 total confirm case ◾ 137...</td>\n",
       "      <td>18</td>\n",
       "    </tr>\n",
       "    <tr>\n",
       "      <th>7765</th>\n",
       "      <td>476 new cases of #COVID19Nigeria; Lagos-235 FC...</td>\n",
       "      <td>real</td>\n",
       "      <td>476 new case covid 19nigeria lago 235 fct 44 k...</td>\n",
       "      <td>30</td>\n",
       "    </tr>\n",
       "    <tr>\n",
       "      <th>6995</th>\n",
       "      <td>Health Secretary Matt Hancock has not ruled ou...</td>\n",
       "      <td>real</td>\n",
       "      <td>health secretari matt hancock rule second nati...</td>\n",
       "      <td>25</td>\n",
       "    </tr>\n",
       "    <tr>\n",
       "      <th>4655</th>\n",
       "      <td>@FamiliaFeeling But you can always get that da...</td>\n",
       "      <td>real</td>\n",
       "      <td>alway get day day go spreadsheet look state da...</td>\n",
       "      <td>37</td>\n",
       "    </tr>\n",
       "    <tr>\n",
       "      <th>2470</th>\n",
       "      <td>Originator of Johns Hopkins COVID-19 Dashboard...</td>\n",
       "      <td>fake</td>\n",
       "      <td>origin john hopkin covid 19 dashboard sure dat...</td>\n",
       "      <td>19</td>\n",
       "    </tr>\n",
       "    <tr>\n",
       "      <th>3862</th>\n",
       "      <td>We‘ve received complaints from passengers depa...</td>\n",
       "      <td>real</td>\n",
       "      <td>‘ receiv complaint passeng depart nigeria airl...</td>\n",
       "      <td>38</td>\n",
       "    </tr>\n",
       "  </tbody>\n",
       "</table>\n",
       "</div>"
      ],
      "text/plain": [
       "                                                  tweet label  \\\n",
       "4966  PUBLICATION @TheLancet ➡️#COVID19-related disr...  real   \n",
       "4230  Trump Denies French Claims That Coronavirus Wa...  fake   \n",
       "1176  Intrepid Investigative Reporting Reveals the M...  fake   \n",
       "752   The coronavirus was created in a lab and paten...  fake   \n",
       "2343  RT @PIB_India: #CoronaWatch ◾ 2027074 total co...  real   \n",
       "7765  476 new cases of #COVID19Nigeria; Lagos-235 FC...  real   \n",
       "6995  Health Secretary Matt Hancock has not ruled ou...  real   \n",
       "4655  @FamiliaFeeling But you can always get that da...  real   \n",
       "2470  Originator of Johns Hopkins COVID-19 Dashboard...  fake   \n",
       "3862  We‘ve received complaints from passengers depa...  real   \n",
       "\n",
       "                                          tweet_cleaned  tweet_len  \n",
       "4966  public ➡ ️covid 19 relat disrupt malaria contr...         32  \n",
       "4230  trump deni french claim coronaviru present fra...         16  \n",
       "1176  intrepid investig report reveal mysteri ingred...         14  \n",
       "752                         coronaviru creat lab patent          9  \n",
       "2343  coronawatch ◾ 2027074 total confirm case ◾ 137...         18  \n",
       "7765  476 new case covid 19nigeria lago 235 fct 44 k...         30  \n",
       "6995  health secretari matt hancock rule second nati...         25  \n",
       "4655  alway get day day go spreadsheet look state da...         37  \n",
       "2470  origin john hopkin covid 19 dashboard sure dat...         19  \n",
       "3862  ‘ receiv complaint passeng depart nigeria airl...         38  "
      ]
     },
     "execution_count": 4,
     "metadata": {},
     "output_type": "execute_result"
    }
   ],
   "source": [
    "data = pd.read_csv(\"./data/TrainVal.csv\")\n",
    "data.sample(10)"
   ]
  },
  {
   "cell_type": "code",
   "execution_count": 5,
   "id": "58a8ffa5-0c6f-4ec8-982f-08b97d1640ac",
   "metadata": {},
   "outputs": [
    {
     "data": {
      "text/plain": [
       "count    8560.00000\n",
       "mean       26.94778\n",
       "std        22.45087\n",
       "min         3.00000\n",
       "25%        15.00000\n",
       "50%        25.00000\n",
       "75%        37.00000\n",
       "90%        44.00000\n",
       "95%        47.00000\n",
       "max      1456.00000\n",
       "Name: tweet, dtype: float64"
      ]
     },
     "execution_count": 5,
     "metadata": {},
     "output_type": "execute_result"
    }
   ],
   "source": [
    "data.tweet.str.split().apply(len).describe(percentiles=[0.25, 0.5, 0.75, 0.9, 0.95])"
   ]
  },
  {
   "cell_type": "code",
   "execution_count": 6,
   "id": "aea1a563-ac0c-4b06-86fe-9e372a07a70a",
   "metadata": {},
   "outputs": [
    {
     "data": {
      "text/plain": [
       "real    4480\n",
       "fake    4080\n",
       "Name: label, dtype: int64"
      ]
     },
     "execution_count": 6,
     "metadata": {},
     "output_type": "execute_result"
    }
   ],
   "source": [
    "data.label.value_counts()"
   ]
  },
  {
   "cell_type": "code",
   "execution_count": 7,
   "id": "a5af6ab6-a6d8-4dc1-aa7a-81437327665e",
   "metadata": {},
   "outputs": [
    {
     "name": "stdout",
     "output_type": "stream",
     "text": [
      "['fake', 'real']\n",
      "      fake  real\n",
      "5065   1.0   0.0\n",
      "4761   0.0   1.0\n",
      "2623   1.0   0.0\n",
      "7367   1.0   0.0\n",
      "3498   1.0   0.0\n",
      "['fake', 'real']\n",
      "      fake  real\n",
      "1214   1.0   0.0\n",
      "6002   1.0   0.0\n",
      "3262   1.0   0.0\n",
      "5198   0.0   1.0\n",
      "2164   0.0   1.0\n",
      "language: en\n",
      "Word Counts: 22133\n",
      "Nrows: 7704\n",
      "7704 train sequences\n",
      "train sequence lengths:\n",
      "\tmean : 30\n",
      "\t95percentile : 51\n",
      "\t99percentile : 58\n",
      "x_train shape: (7704,50)\n",
      "y_train shape: (7704, 2)\n",
      "Is Multi-Label? False\n",
      "856 test sequences\n",
      "test sequence lengths:\n",
      "\tmean : 28\n",
      "\t95percentile : 49\n",
      "\t99percentile : 56\n",
      "x_test shape: (856,50)\n",
      "y_test shape: (856, 2)\n"
     ]
    }
   ],
   "source": [
    "trn, val, preproc = text.texts_from_df(\n",
    "    data,\n",
    "    text_column = \"tweet\",\n",
    "    label_columns=\"label\",\n",
    "    maxlen=50,\n",
    "    ngram_range=1,\n",
    "    random_state=41,\n",
    "    preprocess_mode=\"standard\"\n",
    ")"
   ]
  },
  {
   "cell_type": "code",
   "execution_count": 8,
   "id": "171fee3d-ffdd-4c95-8919-ff17804ef7ea",
   "metadata": {},
   "outputs": [
    {
     "name": "stdout",
     "output_type": "stream",
     "text": [
      "Is Multi-Label? False\n",
      "compiling word ID features...\n",
      "maxlen is 50\n",
      "building document-term matrix... this may take a few moments...\n",
      "rows: 1-7704\n",
      "computing log-count ratios...\n",
      "done.\n"
     ]
    }
   ],
   "source": [
    "model = text.text_classifier('nbsvm', trn , preproc=preproc)"
   ]
  },
  {
   "cell_type": "code",
   "execution_count": 9,
   "id": "8f4da6d3-0c2b-42ea-9f24-74ad44b0ad4c",
   "metadata": {
    "tags": []
   },
   "outputs": [
    {
     "name": "stdout",
     "output_type": "stream",
     "text": [
      "Model: \"model\"\n",
      "__________________________________________________________________________________________________\n",
      " Layer (type)                   Output Shape         Param #     Connected to                     \n",
      "==================================================================================================\n",
      " input_1 (InputLayer)           [(None, 50)]         0           []                               \n",
      "                                                                                                  \n",
      " embedding (Embedding)          (None, 50, 2)        40000       ['input_1[0][0]']                \n",
      "                                                                                                  \n",
      " embedding_1 (Embedding)        (None, 50, 1)        20000       ['input_1[0][0]']                \n",
      "                                                                                                  \n",
      " dot (Dot)                      (None, 2, 1)         0           ['embedding[0][0]',              \n",
      "                                                                  'embedding_1[0][0]']            \n",
      "                                                                                                  \n",
      " flatten (Flatten)              (None, 2)            0           ['dot[0][0]']                    \n",
      "                                                                                                  \n",
      " activation (Activation)        (None, 2)            0           ['flatten[0][0]']                \n",
      "                                                                                                  \n",
      "==================================================================================================\n",
      "Total params: 60,000\n",
      "Trainable params: 20,000\n",
      "Non-trainable params: 40,000\n",
      "__________________________________________________________________________________________________\n"
     ]
    }
   ],
   "source": [
    "model.summary()"
   ]
  },
  {
   "cell_type": "code",
   "execution_count": 10,
   "id": "c6a54462-890d-4562-ae5d-dc109da0dd5b",
   "metadata": {},
   "outputs": [],
   "source": [
    "learner = ktrain.get_learner(model, \n",
    "                             train_data=trn, \n",
    "                             val_data=val, \n",
    "                             batch_size=64)"
   ]
  },
  {
   "cell_type": "code",
   "execution_count": 11,
   "id": "56da6128-a787-4d6c-af32-39d4e2087446",
   "metadata": {},
   "outputs": [
    {
     "name": "stdout",
     "output_type": "stream",
     "text": [
      "simulating training for different learning rates... this may take a few moments...\n",
      "Epoch 1/1024\n",
      "121/121 [==============================] - 0s 788us/step - loss: 0.7012 - accuracy: 0.4869\n",
      "Epoch 2/1024\n",
      "121/121 [==============================] - 0s 789us/step - loss: 0.7006 - accuracy: 0.4888\n",
      "Epoch 3/1024\n",
      "121/121 [==============================] - 0s 792us/step - loss: 0.6988 - accuracy: 0.4958\n",
      "Epoch 4/1024\n",
      "121/121 [==============================] - 0s 776us/step - loss: 0.6929 - accuracy: 0.5221\n",
      "Epoch 5/1024\n",
      "121/121 [==============================] - 0s 828us/step - loss: 0.6743 - accuracy: 0.5914\n",
      "Epoch 6/1024\n",
      "121/121 [==============================] - 0s 866us/step - loss: 0.6243 - accuracy: 0.7395\n",
      "Epoch 7/1024\n",
      "121/121 [==============================] - 0s 896us/step - loss: 0.5252 - accuracy: 0.8300\n",
      "Epoch 8/1024\n",
      "121/121 [==============================] - 0s 888us/step - loss: 0.3878 - accuracy: 0.9002\n",
      "Epoch 9/1024\n",
      "121/121 [==============================] - 0s 848us/step - loss: 0.2492 - accuracy: 0.9455\n",
      "Epoch 10/1024\n",
      "121/121 [==============================] - 0s 876us/step - loss: 0.1462 - accuracy: 0.9672\n",
      "Epoch 11/1024\n",
      "121/121 [==============================] - 0s 811us/step - loss: 0.0778 - accuracy: 0.9834\n",
      "Epoch 12/1024\n",
      "121/121 [==============================] - 0s 799us/step - loss: 0.0344 - accuracy: 0.9945\n",
      "Epoch 13/1024\n",
      "121/121 [==============================] - 0s 777us/step - loss: 0.0385 - accuracy: 0.9886\n",
      "Epoch 14/1024\n",
      "121/121 [==============================] - 0s 82us/step - loss: 0.2717 - accuracy: 0.9440\n",
      "\n",
      "\n",
      "done.\n",
      "Please invoke the Learner.lr_plot() method to visually inspect the loss plot to help identify the maximal learning rate associated with falling loss.\n"
     ]
    }
   ],
   "source": [
    "learner.lr_find()"
   ]
  },
  {
   "cell_type": "code",
   "execution_count": 12,
   "id": "0545e789-f5a4-4a88-876b-25df03bc8698",
   "metadata": {},
   "outputs": [
    {
     "name": "stdout",
     "output_type": "stream",
     "text": [
      "Three possible suggestions for LR from plot:\n",
      "\tLongest valley (red): 4.71E-04\n",
      "\tMin numerical gradient (purple): 1.13E-03\n",
      "\tMin loss divided by 10 (omitted from plot): 4.70E-02\n"
     ]
    },
    {
     "data": {
      "image/png": "[encoded data removed]",
      "text/plain": [
       "<Figure size 576x432 with 1 Axes>"
      ]
     },
     "metadata": {
      "needs_background": "light"
     },
     "output_type": "display_data"
    }
   ],
   "source": [
    "learner.lr_plot(suggest=True)"
   ]
  },
  {
   "cell_type": "code",
   "execution_count": 13,
   "id": "eb53b3ef-9c77-4b58-8652-39ff1b820d96",
   "metadata": {},
   "outputs": [
    {
     "data": {
      "text/plain": [
       "14555"
      ]
     },
     "execution_count": 13,
     "metadata": {},
     "output_type": "execute_result"
    }
   ],
   "source": [
    "import gc\n",
    "gc.collect()"
   ]
  },
  {
   "cell_type": "code",
   "execution_count": 14,
   "id": "9a7bc33e-33ba-4a33-899e-21723b1f25e9",
   "metadata": {},
   "outputs": [
    {
     "name": "stdout",
     "output_type": "stream",
     "text": [
      "\n",
      "\n",
      "begin training using onecycle policy with max lr of 0.000471...\n",
      "Epoch 1/10\n",
      "121/121 [==============================] - 0s 2ms/step - loss: 0.6554 - accuracy: 0.6467 - val_loss: 0.5992 - val_accuracy: 0.7629\n",
      "Epoch 2/10\n",
      "121/121 [==============================] - 0s 1ms/step - loss: 0.5449 - accuracy: 0.8136 - val_loss: 0.5000 - val_accuracy: 0.8236\n",
      "Epoch 3/10\n",
      "121/121 [==============================] - 0s 1ms/step - loss: 0.4507 - accuracy: 0.8673 - val_loss: 0.4240 - val_accuracy: 0.8703\n",
      "Epoch 4/10\n",
      "121/121 [==============================] - 0s 1ms/step - loss: 0.3772 - accuracy: 0.9058 - val_loss: 0.3648 - val_accuracy: 0.8972\n",
      "Epoch 5/10\n",
      "121/121 [==============================] - 0s 1ms/step - loss: 0.3191 - accuracy: 0.9298 - val_loss: 0.3184 - val_accuracy: 0.9182\n",
      "Epoch 6/10\n",
      "121/121 [==============================] - 0s 1ms/step - loss: 0.2753 - accuracy: 0.9415 - val_loss: 0.2878 - val_accuracy: 0.9311\n",
      "Epoch 7/10\n",
      "121/121 [==============================] - 0s 1ms/step - loss: 0.2476 - accuracy: 0.9489 - val_loss: 0.2695 - val_accuracy: 0.9334\n",
      "Epoch 8/10\n",
      "121/121 [==============================] - 0s 1ms/step - loss: 0.2306 - accuracy: 0.9526 - val_loss: 0.2586 - val_accuracy: 0.9346\n",
      "Epoch 9/10\n",
      "121/121 [==============================] - 0s 1ms/step - loss: 0.2204 - accuracy: 0.9555 - val_loss: 0.2524 - val_accuracy: 0.9369\n",
      "Epoch 10/10\n",
      "121/121 [==============================] - 0s 1ms/step - loss: 0.2153 - accuracy: 0.9572 - val_loss: 0.2505 - val_accuracy: 0.9393\n"
     ]
    },
    {
     "data": {
      "text/plain": [
       "<keras.callbacks.History at 0x7f6818954520>"
      ]
     },
     "execution_count": 14,
     "metadata": {},
     "output_type": "execute_result"
    }
   ],
   "source": [
    "# 2e-5 is one of the LRs  recommended by Google and is consistent with the plot above.\n",
    "learner.fit_onecycle(4.71E-04, 10)"
   ]
  },
  {
   "cell_type": "code",
   "execution_count": 15,
   "id": "9d5f6df3-7f10-47bd-99de-bcf48a300ea3",
   "metadata": {},
   "outputs": [
    {
     "data": {
      "image/png": "[encoded data removed]",
      "text/plain": [
       "<Figure size 576x432 with 1 Axes>"
      ]
     },
     "metadata": {
      "needs_background": "light"
     },
     "output_type": "display_data"
    }
   ],
   "source": [
    "plt.plot(learner.history.history[\"accuracy\"])\n",
    "plt.plot(learner.history.history[\"val_accuracy\"])\n",
    "plt.legend([\"acc\", \"val-acc\"])\n",
    "plt.xlabel(\"epochs\")\n",
    "plt.ylabel(\"accuracy\")\n",
    "plt.show()"
   ]
  },
  {
   "cell_type": "code",
   "execution_count": 16,
   "id": "904da882-1d19-41ac-89ad-54d270619f6d",
   "metadata": {},
   "outputs": [
    {
     "data": {
      "image/png": "[encoded data removed]",
      "text/plain": [
       "<Figure size 576x432 with 1 Axes>"
      ]
     },
     "metadata": {
      "needs_background": "light"
     },
     "output_type": "display_data"
    }
   ],
   "source": [
    "plt.plot(learner.history.history[\"loss\"])\n",
    "plt.plot(learner.history.history[\"val_loss\"])\n",
    "plt.legend([\"loss\", \"val-loss\"])\n",
    "plt.xlabel(\"epochs\")\n",
    "plt.ylabel(\"loss\")\n",
    "plt.show()"
   ]
  },
  {
   "cell_type": "code",
   "execution_count": 17,
   "id": "1c03a40f-c452-450a-9040-9718c244f9ea",
   "metadata": {},
   "outputs": [],
   "source": [
    "predictor = ktrain.get_predictor(learner.model, preproc)"
   ]
  },
  {
   "cell_type": "code",
   "execution_count": 18,
   "id": "41e25d55-d4d4-42b7-8b27-fbc44b36de2d",
   "metadata": {},
   "outputs": [
    {
     "data": {
      "text/html": [
       "<div>\n",
       "<style scoped>\n",
       "    .dataframe tbody tr th:only-of-type {\n",
       "        vertical-align: middle;\n",
       "    }\n",
       "\n",
       "    .dataframe tbody tr th {\n",
       "        vertical-align: top;\n",
       "    }\n",
       "\n",
       "    .dataframe thead th {\n",
       "        text-align: right;\n",
       "    }\n",
       "</style>\n",
       "<table border=\"1\" class=\"dataframe\">\n",
       "  <thead>\n",
       "    <tr style=\"text-align: right;\">\n",
       "      <th></th>\n",
       "      <th>tweet</th>\n",
       "      <th>label</th>\n",
       "    </tr>\n",
       "    <tr>\n",
       "      <th>id</th>\n",
       "      <th></th>\n",
       "      <th></th>\n",
       "    </tr>\n",
       "  </thead>\n",
       "  <tbody>\n",
       "    <tr>\n",
       "      <th>49</th>\n",
       "      <td>SUBHAN ALLAH: AFTER CORONA VIRUS CHINA GOVT LI...</td>\n",
       "      <td>fake</td>\n",
       "    </tr>\n",
       "    <tr>\n",
       "      <th>2110</th>\n",
       "      <td>#IndiaFightsCorona With more than 9 lakh #COVI...</td>\n",
       "      <td>real</td>\n",
       "    </tr>\n",
       "    <tr>\n",
       "      <th>1860</th>\n",
       "      <td>RT @alexismadrigal: Wanted to talk a little ab...</td>\n",
       "      <td>real</td>\n",
       "    </tr>\n",
       "    <tr>\n",
       "      <th>1509</th>\n",
       "      <td>Dr. VK Srinivas Vice-President of Bharath Biot...</td>\n",
       "      <td>fake</td>\n",
       "    </tr>\n",
       "    <tr>\n",
       "      <th>1609</th>\n",
       "      <td>There are 53 people linked to the community cl...</td>\n",
       "      <td>real</td>\n",
       "    </tr>\n",
       "    <tr>\n",
       "      <th>457</th>\n",
       "      <td>Sir Keir Starmer asks the prime minister about...</td>\n",
       "      <td>real</td>\n",
       "    </tr>\n",
       "    <tr>\n",
       "      <th>719</th>\n",
       "      <td>The World Health Organization (WHO) released a...</td>\n",
       "      <td>fake</td>\n",
       "    </tr>\n",
       "    <tr>\n",
       "      <th>298</th>\n",
       "      <td>Dr VK srinivas vice president Bharat biotech t...</td>\n",
       "      <td>fake</td>\n",
       "    </tr>\n",
       "    <tr>\n",
       "      <th>1872</th>\n",
       "      <td>We do face challenges. So far we have secured ...</td>\n",
       "      <td>real</td>\n",
       "    </tr>\n",
       "    <tr>\n",
       "      <th>245</th>\n",
       "      <td>FIRST CITY IN THE WORLD CONQUERS COVID-19 WITH...</td>\n",
       "      <td>fake</td>\n",
       "    </tr>\n",
       "  </tbody>\n",
       "</table>\n",
       "</div>"
      ],
      "text/plain": [
       "                                                  tweet label\n",
       "id                                                           \n",
       "49    SUBHAN ALLAH: AFTER CORONA VIRUS CHINA GOVT LI...  fake\n",
       "2110  #IndiaFightsCorona With more than 9 lakh #COVI...  real\n",
       "1860  RT @alexismadrigal: Wanted to talk a little ab...  real\n",
       "1509  Dr. VK Srinivas Vice-President of Bharath Biot...  fake\n",
       "1609  There are 53 people linked to the community cl...  real\n",
       "457   Sir Keir Starmer asks the prime minister about...  real\n",
       "719   The World Health Organization (WHO) released a...  fake\n",
       "298   Dr VK srinivas vice president Bharat biotech t...  fake\n",
       "1872  We do face challenges. So far we have secured ...  real\n",
       "245   FIRST CITY IN THE WORLD CONQUERS COVID-19 WITH...  fake"
      ]
     },
     "execution_count": 18,
     "metadata": {},
     "output_type": "execute_result"
    }
   ],
   "source": [
    "test_data = pd.read_csv(\"./data/TestLabel.csv\", index_col=0)\n",
    "test_data.sample(10)"
   ]
  },
  {
   "cell_type": "code",
   "execution_count": 19,
   "id": "a319c9d0-d385-4e1e-a3c1-be407dfb9d64",
   "metadata": {},
   "outputs": [
    {
     "data": {
      "text/plain": [
       "array([[0.02086469, 0.97913533],\n",
       "       [0.7626605 , 0.23733947],\n",
       "       [0.98934036, 0.01065964],\n",
       "       [0.02400439, 0.9759956 ],\n",
       "       [0.16104965, 0.8389504 ]], dtype=float32)"
      ]
     },
     "execution_count": 19,
     "metadata": {},
     "output_type": "execute_result"
    }
   ],
   "source": [
    "probs = predictor.predict_proba(test_data[\"tweet\"].values)\n",
    "probs[:5]"
   ]
  },
  {
   "cell_type": "code",
   "execution_count": 20,
   "id": "169052d4-d00b-473a-a4cb-4d30d9d383a4",
   "metadata": {},
   "outputs": [
    {
     "data": {
      "text/plain": [
       "id\n",
       "1     True\n",
       "2    False\n",
       "3    False\n",
       "4     True\n",
       "5     True\n",
       "Name: label, dtype: bool"
      ]
     },
     "execution_count": 20,
     "metadata": {},
     "output_type": "execute_result"
    }
   ],
   "source": [
    "y = (test_data.label == \"real\")\n",
    "y.head()"
   ]
  },
  {
   "cell_type": "code",
   "execution_count": 21,
   "id": "99f0de1c-1ef8-4c32-99d3-fcbbd9e97b8c",
   "metadata": {},
   "outputs": [],
   "source": [
    "import metrics as mmetrics"
   ]
  },
  {
   "cell_type": "code",
   "execution_count": 22,
   "id": "837e6430-da39-4f69-b298-d6a3f43fb348",
   "metadata": {},
   "outputs": [
    {
     "data": {
      "text/html": [
       "<div>\n",
       "<style scoped>\n",
       "    .dataframe tbody tr th:only-of-type {\n",
       "        vertical-align: middle;\n",
       "    }\n",
       "\n",
       "    .dataframe tbody tr th {\n",
       "        vertical-align: top;\n",
       "    }\n",
       "\n",
       "    .dataframe thead th {\n",
       "        text-align: right;\n",
       "    }\n",
       "</style>\n",
       "<table border=\"1\" class=\"dataframe\">\n",
       "  <thead>\n",
       "    <tr style=\"text-align: right;\">\n",
       "      <th></th>\n",
       "      <th>TP</th>\n",
       "      <th>TN</th>\n",
       "      <th>FP</th>\n",
       "      <th>FN</th>\n",
       "      <th>Accuracy</th>\n",
       "      <th>Prevalence</th>\n",
       "      <th>Sensitivity</th>\n",
       "      <th>Specificity</th>\n",
       "      <th>PPV</th>\n",
       "      <th>NPV</th>\n",
       "      <th>AUC</th>\n",
       "      <th>F1</th>\n",
       "      <th>Threshold</th>\n",
       "    </tr>\n",
       "    <tr>\n",
       "      <th></th>\n",
       "      <th></th>\n",
       "      <th></th>\n",
       "      <th></th>\n",
       "      <th></th>\n",
       "      <th></th>\n",
       "      <th></th>\n",
       "      <th></th>\n",
       "      <th></th>\n",
       "      <th></th>\n",
       "      <th></th>\n",
       "      <th></th>\n",
       "      <th></th>\n",
       "      <th></th>\n",
       "    </tr>\n",
       "  </thead>\n",
       "  <tbody>\n",
       "    <tr>\n",
       "      <th>logreg</th>\n",
       "      <td>1072</td>\n",
       "      <td>908</td>\n",
       "      <td>112</td>\n",
       "      <td>48</td>\n",
       "      <td>0.925</td>\n",
       "      <td>0.523</td>\n",
       "      <td>0.957</td>\n",
       "      <td>0.89</td>\n",
       "      <td>0.905</td>\n",
       "      <td>0.95</td>\n",
       "      <td>0.985</td>\n",
       "      <td>0.931</td>\n",
       "      <td>0.5</td>\n",
       "    </tr>\n",
       "  </tbody>\n",
       "</table>\n",
       "</div>"
      ],
      "text/plain": [
       "          TP   TN   FP  FN Accuracy Prevalence Sensitivity Specificity    PPV  \\\n",
       "                                                                                \n",
       "logreg  1072  908  112  48    0.925      0.523       0.957        0.89  0.905   \n",
       "\n",
       "         NPV    AUC     F1 Threshold  \n",
       "                                      \n",
       "logreg  0.95  0.985  0.931       0.5  "
      ]
     },
     "execution_count": 22,
     "metadata": {},
     "output_type": "execute_result"
    }
   ],
   "source": [
    "y = y.values.reshape((-1, 1))\n",
    "\n",
    "perfs = mmetrics.get_performance_metrics(y, probs[:, 1:], [\"logreg\"])\n",
    "perfs"
   ]
  },
  {
   "cell_type": "code",
   "execution_count": null,
   "id": "02a0aa4a-3e3e-4f64-b6ee-865611cc4068",
   "metadata": {},
   "outputs": [],
   "source": []
  }
 ],
 "metadata": {
  "kernelspec": {
   "display_name": "Python 3",
   "language": "python",
   "name": "python3"
  },
  "language_info": {
   "codemirror_mode": {
    "name": "ipython",
    "version": 3
   },
   "file_extension": ".py",
   "mimetype": "text/x-python",
   "name": "python",
   "nbconvert_exporter": "python",
   "pygments_lexer": "ipython3",
   "version": "3.8.8"
  }
 },
 "nbformat": 4,
 "nbformat_minor": 5
}
