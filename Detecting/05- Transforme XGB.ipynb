{
 "cells": [
  {
   "cell_type": "code",
   "execution_count": 1,
   "id": "8986d768-c881-46a9-bd64-23af5959612f",
   "metadata": {},
   "outputs": [],
   "source": [
    "import os\n",
    "import datetime\n",
    "\n",
    "import IPython\n",
    "import IPython.display\n",
    "import matplotlib as mpl\n",
    "import matplotlib.pyplot as plt\n",
    "import numpy as np\n",
    "import pandas as pd\n",
    "import seaborn as sns\n",
    "import warnings\n",
    "from IPython.display import Markdown\n",
    "from IPython.display import display\n",
    "\n",
    "mpl.rcParams['figure.figsize'] = (8, 6)\n",
    "mpl.rcParams['axes.grid'] = False\n",
    "warnings.filterwarnings(\"ignore\")\n",
    "# pd.set_option('display.max_columns', None)"
   ]
  },
  {
   "cell_type": "code",
   "execution_count": 2,
   "id": "dc87197f-308a-464c-a758-109b955d98fc",
   "metadata": {},
   "outputs": [
    {
     "data": {
      "text/html": [
       "<div>\n",
       "<style scoped>\n",
       "    .dataframe tbody tr th:only-of-type {\n",
       "        vertical-align: middle;\n",
       "    }\n",
       "\n",
       "    .dataframe tbody tr th {\n",
       "        vertical-align: top;\n",
       "    }\n",
       "\n",
       "    .dataframe thead th {\n",
       "        text-align: right;\n",
       "    }\n",
       "</style>\n",
       "<table border=\"1\" class=\"dataframe\">\n",
       "  <thead>\n",
       "    <tr style=\"text-align: right;\">\n",
       "      <th></th>\n",
       "      <th>tweet</th>\n",
       "      <th>label</th>\n",
       "      <th>tweet_cleaned</th>\n",
       "      <th>tweet_len</th>\n",
       "    </tr>\n",
       "  </thead>\n",
       "  <tbody>\n",
       "    <tr>\n",
       "      <th>7439</th>\n",
       "      <td>354 new cases of #COVID19Nigeria; FCT-78 Lagos...</td>\n",
       "      <td>real</td>\n",
       "      <td>354 new case covid 19nigeria fct 78 lago 76 ka...</td>\n",
       "      <td>30</td>\n",
       "    </tr>\n",
       "    <tr>\n",
       "      <th>1936</th>\n",
       "      <td>Bill Gates will make $200 billion through vacc...</td>\n",
       "      <td>fake</td>\n",
       "      <td>bill gate make billion vaccin</td>\n",
       "      <td>8</td>\n",
       "    </tr>\n",
       "    <tr>\n",
       "      <th>921</th>\n",
       "      <td>A number of areas have been added to the coron...</td>\n",
       "      <td>real</td>\n",
       "      <td>number area ad coronaviru watchlist scientist ...</td>\n",
       "      <td>35</td>\n",
       "    </tr>\n",
       "    <tr>\n",
       "      <th>6415</th>\n",
       "      <td>A tiger tested positive for COVID-19 please st...</td>\n",
       "      <td>fake</td>\n",
       "      <td>tiger test posit covid 19 pleas stay away pet ...</td>\n",
       "      <td>14</td>\n",
       "    </tr>\n",
       "    <tr>\n",
       "      <th>6490</th>\n",
       "      <td>6 of the 7 new cases are already linked to the...</td>\n",
       "      <td>real</td>\n",
       "      <td>6 7 new case alreadi link exist cluster auckla...</td>\n",
       "      <td>24</td>\n",
       "    </tr>\n",
       "    <tr>\n",
       "      <th>7316</th>\n",
       "      <td>Let us give one example of a difficult call. Y...</td>\n",
       "      <td>real</td>\n",
       "      <td>let us give one exampl difficult call yesterda...</td>\n",
       "      <td>40</td>\n",
       "    </tr>\n",
       "    <tr>\n",
       "      <th>5224</th>\n",
       "      <td>\"We???ve still had more deaths to the flu this...</td>\n",
       "      <td>fake</td>\n",
       "      <td>still death flu year we'v covid 19</td>\n",
       "      <td>14</td>\n",
       "    </tr>\n",
       "    <tr>\n",
       "      <th>5529</th>\n",
       "      <td>The first case of new coronavirus in Venezuela...</td>\n",
       "      <td>fake</td>\n",
       "      <td>first case new coronaviru venezuela regist com...</td>\n",
       "      <td>17</td>\n",
       "    </tr>\n",
       "    <tr>\n",
       "      <th>7661</th>\n",
       "      <td>Closing up the shop for the night. We're showi...</td>\n",
       "      <td>real</td>\n",
       "      <td>close shop night we'r show 19066 test 2182 pos...</td>\n",
       "      <td>28</td>\n",
       "    </tr>\n",
       "    <tr>\n",
       "      <th>4586</th>\n",
       "      <td>593 new cases of #COVID19Nigeria; Plateau-186 ...</td>\n",
       "      <td>real</td>\n",
       "      <td>593 new case covid 19nigeria plateau 186 lago ...</td>\n",
       "      <td>29</td>\n",
       "    </tr>\n",
       "  </tbody>\n",
       "</table>\n",
       "</div>"
      ],
      "text/plain": [
       "                                                  tweet label  \\\n",
       "7439  354 new cases of #COVID19Nigeria; FCT-78 Lagos...  real   \n",
       "1936  Bill Gates will make $200 billion through vacc...  fake   \n",
       "921   A number of areas have been added to the coron...  real   \n",
       "6415  A tiger tested positive for COVID-19 please st...  fake   \n",
       "6490  6 of the 7 new cases are already linked to the...  real   \n",
       "7316  Let us give one example of a difficult call. Y...  real   \n",
       "5224  \"We???ve still had more deaths to the flu this...  fake   \n",
       "5529  The first case of new coronavirus in Venezuela...  fake   \n",
       "7661  Closing up the shop for the night. We're showi...  real   \n",
       "4586  593 new cases of #COVID19Nigeria; Plateau-186 ...  real   \n",
       "\n",
       "                                          tweet_cleaned  tweet_len  \n",
       "7439  354 new case covid 19nigeria fct 78 lago 76 ka...         30  \n",
       "1936                      bill gate make billion vaccin          8  \n",
       "921   number area ad coronaviru watchlist scientist ...         35  \n",
       "6415  tiger test posit covid 19 pleas stay away pet ...         14  \n",
       "6490  6 7 new case alreadi link exist cluster auckla...         24  \n",
       "7316  let us give one exampl difficult call yesterda...         40  \n",
       "5224                 still death flu year we'v covid 19         14  \n",
       "5529  first case new coronaviru venezuela regist com...         17  \n",
       "7661  close shop night we'r show 19066 test 2182 pos...         28  \n",
       "4586  593 new case covid 19nigeria plateau 186 lago ...         29  "
      ]
     },
     "execution_count": 2,
     "metadata": {},
     "output_type": "execute_result"
    }
   ],
   "source": [
    "data = pd.read_csv(\"./data/TrainVal.csv\")\n",
    "data.sample(10)"
   ]
  },
  {
   "cell_type": "code",
   "execution_count": 3,
   "id": "dcd5c9de-166a-4d47-8146-7f5079fa661a",
   "metadata": {},
   "outputs": [],
   "source": [
    "def print_tweets_per_label(df, n=5):\n",
    "    real = df[df.label == \"real\"][\"tweet_cleaned\"].sample(n)\n",
    "    display(Markdown(\"### Real Tweets\"))\n",
    "    real.apply(print)\n",
    "    \n",
    "    fake = df[df.label == \"fake\"][\"tweet_cleaned\"].sample(n)\n",
    "    display(Markdown(\"### Fake Tweets\"))\n",
    "    fake.apply(print)"
   ]
  },
  {
   "cell_type": "code",
   "execution_count": 4,
   "id": "9afff2a4-cc3c-4e05-824b-e2870560c147",
   "metadata": {},
   "outputs": [
    {
     "data": {
      "text/markdown": [
       "### Real Tweets"
      ],
      "text/plain": [
       "<IPython.core.display.Markdown object>"
      ]
     },
     "metadata": {},
     "output_type": "display_data"
    },
    {
     "name": "stdout",
     "output_type": "stream",
     "text": [
      "septemb 7 nation forecast suggest 3300 8000 new covid 19 death report week end octob 3 forecast predict 205000 217000 total covid 19 death us octob 3 learn\n",
      "high level covid 19 recoveri result 100 increas number recov case past 30 day\n",
      "correct missouri recent chang way report case follow chang mistakenli use older method today initi made seem like state case regret error\n",
      "last day juli seen stagger resurg covid 19 america worst month ever case averag number hospit peopl unsurprisingli declin sinc april death rose month\n",
      "11:25 pm 22nd april breakdown case state lago 504 fct 119 kano 73 ogun 24 katsina 21 osun 20 oyo 17 edo 17 kwara 10 kaduna 9 akwa ibom 9 borno 9 bauchi 8 delta 6 gomb 5 ekiti 4 ondo 3 river 3 jigawa 2 enugu 2 niger 2 abia 2 benu 1 anambra 1 sokoto 1 adamawa 1\n",
      "five previous report case consid recov bring number activ case covid 19 manag isol facil new zealand 22 ​ total number confirm case remain 1217 number report\n"
     ]
    },
    {
     "data": {
      "text/markdown": [
       "### Fake Tweets"
      ],
      "text/plain": [
       "<IPython.core.display.Markdown object>"
      ]
     },
     "metadata": {},
     "output_type": "display_data"
    },
    {
     "name": "stdout",
     "output_type": "stream",
     "text": [
      "governor gretchen whitmer spent past weekend vacat cottag birch lake violat execut order �\n",
      "death blame coronaviru actual due flu\n",
      "six month sinc first confirm case covid 19 unit state presid trump still effect plan contain spread unjustifi failur leadership cost live everi day\n",
      "bbc reliabl news sourc imag doctor make look like british outlet report ghislain maxwel intens care covid 19\n",
      "season influenza vaccin mandatori georgia fall covid 19 mortal rate significantli lower fatal caus virus\n",
      "also joke covid 19 still receiv rt pcr report ..\n"
     ]
    }
   ],
   "source": [
    "print_tweets_per_label(data, n=6)"
   ]
  },
  {
   "cell_type": "code",
   "execution_count": 5,
   "id": "93d6f3ab-f117-4896-9b79-4f89446a02c1",
   "metadata": {},
   "outputs": [
    {
     "name": "stdout",
     "output_type": "stream",
     "text": [
      "Shape before removing duplicate (8560, 4)\n",
      "Shape after removing duplicate (8413, 4)\n"
     ]
    }
   ],
   "source": [
    "print(\"Shape before removing duplicate\", data.shape)\n",
    "data.dropna(inplace=True)\n",
    "data.drop_duplicates(subset=[\"tweet_cleaned\"], inplace=True)\n",
    "print(\"Shape after removing duplicate\", data.shape)"
   ]
  },
  {
   "cell_type": "code",
   "execution_count": 6,
   "id": "5189d5ca-c293-4140-bfd6-cf5f6dee7b88",
   "metadata": {},
   "outputs": [],
   "source": [
    "from xgboost import XGBClassifier\n",
    "from sentence_transformers import SentenceTransformer"
   ]
  },
  {
   "cell_type": "code",
   "execution_count": 7,
   "id": "2528f20a-5197-4aaf-abad-7ad68285e4ff",
   "metadata": {},
   "outputs": [],
   "source": [
    "class Model:\n",
    "    def __init__(self, params):\n",
    "        xgb_params= {\n",
    "            \"objective\": \"binary:logistic\",\n",
    "            \"n_estimators\": params[\"n_estimators\"],\n",
    "            \"max_depth\": params[\"max_depth\"],\n",
    "            \"n_jobs\": 7,\n",
    "            \"seed\": 1000,\n",
    "            \"verbosity\":0,\n",
    "            'tree_method': \"gpu_hist\",\n",
    "            \"gpu_id\": 0,\n",
    "            \"subsample\": params[\"subsample\"],#0.7\n",
    "            \"colsample_bytree\": params[\"colsample_bytree\"],\n",
    "            \"learning_rate\": params[\"learning_rate\"],\n",
    "            \"lambda\": params[\"lambda\"],\n",
    "            \"alpha\": params[\"alpha\"],\n",
    "            \"eval_metric\":'logloss'\n",
    "        }\n",
    "        \n",
    "        self.emb = SentenceTransformer(\"all-MiniLM-L6-v2\", device=\"cuda\")\n",
    "        self.xgb = XGBClassifier(**xgb_params)\n",
    "    \n",
    "    def fit(self, X_train, y_train):\n",
    "        X_emb = self.emb.encode(X_train)\n",
    "        self.xgb.fit(X_emb, y_train)\n",
    "        return self\n",
    "    \n",
    "    def predict(self, X_test):\n",
    "        X_emb = self.emb.encode(X_test)\n",
    "        preds = self.xgb.predict(X_emb)\n",
    "        return preds\n",
    "    \n",
    "    def predict_proba(self, X_test):\n",
    "        X_emb = self.emb.encode(X_test)\n",
    "        preds = self.xgb.predict_proba(X_emb)\n",
    "        return preds"
   ]
  },
  {
   "cell_type": "code",
   "execution_count": 8,
   "id": "7bfcfa76-d6ab-47d4-9f73-99af43d841f2",
   "metadata": {},
   "outputs": [],
   "source": [
    "params = {'ngram_range': 2, 'max_df': 0.6648896815644944, 'max_features': 1928, 'n_estimators': 605, 'max_depth': 10, 'subsample': 0.7159105584464553, \n",
    "          'colsample_bytree': 0.7851446292315494, 'learning_rate': 0.13139478930452317, 'lambda': 1.2081963210286712, 'alpha': 1.0087203749646416}\n",
    "\n",
    "model = Model(params)"
   ]
  },
  {
   "cell_type": "code",
   "execution_count": 9,
   "id": "ff5ea85c-b0ed-40a1-8bd3-83924e583f98",
   "metadata": {},
   "outputs": [
    {
     "data": {
      "text/plain": [
       "<__main__.Model at 0x7f5516e88820>"
      ]
     },
     "execution_count": 9,
     "metadata": {},
     "output_type": "execute_result"
    }
   ],
   "source": [
    "model.fit(data.tweet.values, data.label.values)"
   ]
  },
  {
   "cell_type": "code",
   "execution_count": 10,
   "id": "a49133fc-2287-4449-9263-1f4130fdb9e5",
   "metadata": {},
   "outputs": [
    {
     "data": {
      "text/html": [
       "<div>\n",
       "<style scoped>\n",
       "    .dataframe tbody tr th:only-of-type {\n",
       "        vertical-align: middle;\n",
       "    }\n",
       "\n",
       "    .dataframe tbody tr th {\n",
       "        vertical-align: top;\n",
       "    }\n",
       "\n",
       "    .dataframe thead th {\n",
       "        text-align: right;\n",
       "    }\n",
       "</style>\n",
       "<table border=\"1\" class=\"dataframe\">\n",
       "  <thead>\n",
       "    <tr style=\"text-align: right;\">\n",
       "      <th></th>\n",
       "      <th>tweet</th>\n",
       "      <th>label</th>\n",
       "    </tr>\n",
       "    <tr>\n",
       "      <th>id</th>\n",
       "      <th></th>\n",
       "      <th></th>\n",
       "    </tr>\n",
       "  </thead>\n",
       "  <tbody>\n",
       "    <tr>\n",
       "      <th>1347</th>\n",
       "      <td>CDC &amp;amp; partners are working together to coo...</td>\n",
       "      <td>real</td>\n",
       "    </tr>\n",
       "    <tr>\n",
       "      <th>1736</th>\n",
       "      <td>Air Canada promises 100 bonus Aeroplan Miles t...</td>\n",
       "      <td>fake</td>\n",
       "    </tr>\n",
       "    <tr>\n",
       "      <th>1626</th>\n",
       "      <td>The world's poorest and most marginalised peop...</td>\n",
       "      <td>real</td>\n",
       "    </tr>\n",
       "    <tr>\n",
       "      <th>605</th>\n",
       "      <td>Olive Garden employees are allowed to wear Bla...</td>\n",
       "      <td>fake</td>\n",
       "    </tr>\n",
       "    <tr>\n",
       "      <th>531</th>\n",
       "      <td>A video (already removed from YouTube) in whic...</td>\n",
       "      <td>fake</td>\n",
       "    </tr>\n",
       "    <tr>\n",
       "      <th>877</th>\n",
       "      <td>Here are the states reporting over 400 cases t...</td>\n",
       "      <td>real</td>\n",
       "    </tr>\n",
       "    <tr>\n",
       "      <th>92</th>\n",
       "      <td>We fact-checked a range of statements from the...</td>\n",
       "      <td>fake</td>\n",
       "    </tr>\n",
       "    <tr>\n",
       "      <th>1443</th>\n",
       "      <td>NEWS! Government finalising plans to comprehen...</td>\n",
       "      <td>fake</td>\n",
       "    </tr>\n",
       "    <tr>\n",
       "      <th>664</th>\n",
       "      <td>_Israeli scientists at the MIGAL Research Inst...</td>\n",
       "      <td>fake</td>\n",
       "    </tr>\n",
       "    <tr>\n",
       "      <th>297</th>\n",
       "      <td>Italy registered 4200 new recovering cases fro...</td>\n",
       "      <td>fake</td>\n",
       "    </tr>\n",
       "  </tbody>\n",
       "</table>\n",
       "</div>"
      ],
      "text/plain": [
       "                                                  tweet label\n",
       "id                                                           \n",
       "1347  CDC &amp; partners are working together to coo...  real\n",
       "1736  Air Canada promises 100 bonus Aeroplan Miles t...  fake\n",
       "1626  The world's poorest and most marginalised peop...  real\n",
       "605   Olive Garden employees are allowed to wear Bla...  fake\n",
       "531   A video (already removed from YouTube) in whic...  fake\n",
       "877   Here are the states reporting over 400 cases t...  real\n",
       "92    We fact-checked a range of statements from the...  fake\n",
       "1443  NEWS! Government finalising plans to comprehen...  fake\n",
       "664   _Israeli scientists at the MIGAL Research Inst...  fake\n",
       "297   Italy registered 4200 new recovering cases fro...  fake"
      ]
     },
     "execution_count": 10,
     "metadata": {},
     "output_type": "execute_result"
    }
   ],
   "source": [
    "test_data = pd.read_csv(\"./data/TestLabel.csv\", index_col=0)\n",
    "test_data.sample(10)"
   ]
  },
  {
   "cell_type": "code",
   "execution_count": 12,
   "id": "a5378049-f8b1-42b0-90c5-ad4df06d584d",
   "metadata": {},
   "outputs": [],
   "source": [
    "probs = model.predict_proba(test_data.tweet.values)"
   ]
  },
  {
   "cell_type": "code",
   "execution_count": 13,
   "id": "56062cf7-88a3-493a-a0cd-453a1fb06151",
   "metadata": {},
   "outputs": [
    {
     "data": {
      "text/plain": [
       "array([[9.6559525e-06, 9.9999034e-01],\n",
       "       [9.9967712e-01, 3.2289056e-04],\n",
       "       [9.9994826e-01, 5.1749685e-05],\n",
       "       [2.0033121e-04, 9.9979967e-01],\n",
       "       [2.0560622e-03, 9.9794394e-01]], dtype=float32)"
      ]
     },
     "execution_count": 13,
     "metadata": {},
     "output_type": "execute_result"
    }
   ],
   "source": [
    "probs[:5]"
   ]
  },
  {
   "cell_type": "code",
   "execution_count": 14,
   "id": "d0a801dc-01b7-4550-89b8-56e8cd22c70d",
   "metadata": {},
   "outputs": [
    {
     "data": {
      "text/plain": [
       "id\n",
       "1     True\n",
       "2    False\n",
       "3    False\n",
       "4     True\n",
       "5     True\n",
       "Name: label, dtype: bool"
      ]
     },
     "execution_count": 14,
     "metadata": {},
     "output_type": "execute_result"
    }
   ],
   "source": [
    "y = (test_data.label == \"real\")\n",
    "y.head()"
   ]
  },
  {
   "cell_type": "code",
   "execution_count": 15,
   "id": "3893244f-ffff-4541-9250-1e60fe0e8f48",
   "metadata": {},
   "outputs": [],
   "source": [
    "import metrics as mmetrics"
   ]
  },
  {
   "cell_type": "code",
   "execution_count": 16,
   "id": "c552d1b7-cdb4-4906-a629-975b531021d1",
   "metadata": {},
   "outputs": [
    {
     "data": {
      "text/html": [
       "<div>\n",
       "<style scoped>\n",
       "    .dataframe tbody tr th:only-of-type {\n",
       "        vertical-align: middle;\n",
       "    }\n",
       "\n",
       "    .dataframe tbody tr th {\n",
       "        vertical-align: top;\n",
       "    }\n",
       "\n",
       "    .dataframe thead th {\n",
       "        text-align: right;\n",
       "    }\n",
       "</style>\n",
       "<table border=\"1\" class=\"dataframe\">\n",
       "  <thead>\n",
       "    <tr style=\"text-align: right;\">\n",
       "      <th></th>\n",
       "      <th>TP</th>\n",
       "      <th>TN</th>\n",
       "      <th>FP</th>\n",
       "      <th>FN</th>\n",
       "      <th>Accuracy</th>\n",
       "      <th>Prevalence</th>\n",
       "      <th>Sensitivity</th>\n",
       "      <th>Specificity</th>\n",
       "      <th>PPV</th>\n",
       "      <th>NPV</th>\n",
       "      <th>AUC</th>\n",
       "      <th>F1</th>\n",
       "      <th>Threshold</th>\n",
       "    </tr>\n",
       "    <tr>\n",
       "      <th></th>\n",
       "      <th></th>\n",
       "      <th></th>\n",
       "      <th></th>\n",
       "      <th></th>\n",
       "      <th></th>\n",
       "      <th></th>\n",
       "      <th></th>\n",
       "      <th></th>\n",
       "      <th></th>\n",
       "      <th></th>\n",
       "      <th></th>\n",
       "      <th></th>\n",
       "      <th></th>\n",
       "    </tr>\n",
       "  </thead>\n",
       "  <tbody>\n",
       "    <tr>\n",
       "      <th>xgboost</th>\n",
       "      <td>1053</td>\n",
       "      <td>950</td>\n",
       "      <td>70</td>\n",
       "      <td>67</td>\n",
       "      <td>0.936</td>\n",
       "      <td>0.523</td>\n",
       "      <td>0.94</td>\n",
       "      <td>0.931</td>\n",
       "      <td>0.938</td>\n",
       "      <td>0.934</td>\n",
       "      <td>0.983</td>\n",
       "      <td>0.939</td>\n",
       "      <td>0.5</td>\n",
       "    </tr>\n",
       "  </tbody>\n",
       "</table>\n",
       "</div>"
      ],
      "text/plain": [
       "           TP   TN  FP  FN Accuracy Prevalence Sensitivity Specificity    PPV  \\\n",
       "                                                                                \n",
       "xgboost  1053  950  70  67    0.936      0.523        0.94       0.931  0.938   \n",
       "\n",
       "           NPV    AUC     F1 Threshold  \n",
       "                                        \n",
       "xgboost  0.934  0.983  0.939       0.5  "
      ]
     },
     "execution_count": 16,
     "metadata": {},
     "output_type": "execute_result"
    }
   ],
   "source": [
    "y = y.values.reshape((-1, 1))\n",
    "\n",
    "perfs = mmetrics.get_performance_metrics(y, probs[:, 1:], [\"xgboost\"])\n",
    "perfs"
   ]
  },
  {
   "cell_type": "code",
   "execution_count": null,
   "id": "e71d0844-b69d-4ed2-8dd4-b316e3418a80",
   "metadata": {},
   "outputs": [],
   "source": []
  }
 ],
 "metadata": {
  "kernelspec": {
   "display_name": "Python 3",
   "language": "python",
   "name": "python3"
  },
  "language_info": {
   "codemirror_mode": {
    "name": "ipython",
    "version": 3
   },
   "file_extension": ".py",
   "mimetype": "text/x-python",
   "name": "python",
   "nbconvert_exporter": "python",
   "pygments_lexer": "ipython3",
   "version": "3.8.8"
  }
 },
 "nbformat": 4,
 "nbformat_minor": 5
}
