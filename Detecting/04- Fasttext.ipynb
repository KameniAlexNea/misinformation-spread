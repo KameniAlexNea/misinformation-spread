{
 "cells": [
  {
   "cell_type": "code",
   "execution_count": 1,
   "id": "e8ed85d7-2f9c-4204-830c-b9e3eada386c",
   "metadata": {},
   "outputs": [],
   "source": [
    "%reload_ext autoreload\n",
    "%autoreload 2\n",
    "%matplotlib inline\n",
    "import os\n",
    "os.environ[\"CUDA_DEVICE_ORDER\"]=\"PCI_BUS_ID\";\n",
    "os.environ[\"CUDA_VISIBLE_DEVICES\"]=\"0\";"
   ]
  },
  {
   "cell_type": "code",
   "execution_count": 2,
   "id": "40a85a0e-088a-4573-8ceb-cc268a9d7ef2",
   "metadata": {},
   "outputs": [],
   "source": [
    "import ktrain\n",
    "from ktrain import text"
   ]
  },
  {
   "cell_type": "code",
   "execution_count": 3,
   "id": "c792db7a-e0b7-4af0-b7f9-55ce595f5d27",
   "metadata": {},
   "outputs": [],
   "source": [
    "import os\n",
    "import datetime\n",
    "\n",
    "import IPython\n",
    "import IPython.display\n",
    "import matplotlib as mpl\n",
    "import matplotlib.pyplot as plt\n",
    "import numpy as np\n",
    "import pandas as pd\n",
    "import seaborn as sns\n",
    "import warnings\n",
    "from IPython.display import Markdown\n",
    "from IPython.display import display\n",
    "\n",
    "mpl.rcParams['figure.figsize'] = (8, 6)\n",
    "mpl.rcParams['axes.grid'] = False\n",
    "warnings.filterwarnings(\"ignore\")\n",
    "\n",
    "pd.set_option('display.max_columns', None)"
   ]
  },
  {
   "cell_type": "code",
   "execution_count": 4,
   "id": "980c5db0-aeeb-4c4b-8d60-08926b86487f",
   "metadata": {},
   "outputs": [
    {
     "data": {
      "text/html": [
       "<div>\n",
       "<style scoped>\n",
       "    .dataframe tbody tr th:only-of-type {\n",
       "        vertical-align: middle;\n",
       "    }\n",
       "\n",
       "    .dataframe tbody tr th {\n",
       "        vertical-align: top;\n",
       "    }\n",
       "\n",
       "    .dataframe thead th {\n",
       "        text-align: right;\n",
       "    }\n",
       "</style>\n",
       "<table border=\"1\" class=\"dataframe\">\n",
       "  <thead>\n",
       "    <tr style=\"text-align: right;\">\n",
       "      <th></th>\n",
       "      <th>tweet</th>\n",
       "      <th>label</th>\n",
       "      <th>tweet_cleaned</th>\n",
       "      <th>tweet_len</th>\n",
       "    </tr>\n",
       "  </thead>\n",
       "  <tbody>\n",
       "    <tr>\n",
       "      <th>7468</th>\n",
       "      <td>Kalonji seeds (Nigella Seeds) contain hydroxyc...</td>\n",
       "      <td>fake</td>\n",
       "      <td>kalonji seed nigella seed contain hydroxychlor...</td>\n",
       "      <td>11</td>\n",
       "    </tr>\n",
       "    <tr>\n",
       "      <th>4437</th>\n",
       "      <td>@morris1_k @JMC_Starbug @andrewlawrence @Marti...</td>\n",
       "      <td>fake</td>\n",
       "      <td>eileen hot spot covid 19 also commonli 5g area</td>\n",
       "      <td>53</td>\n",
       "    </tr>\n",
       "    <tr>\n",
       "      <th>3982</th>\n",
       "      <td>Says the NIH ???15 years ago published a study...</td>\n",
       "      <td>fake</td>\n",
       "      <td>say nih 15 year ago publish studi chloroquin e...</td>\n",
       "      <td>16</td>\n",
       "    </tr>\n",
       "    <tr>\n",
       "      <th>835</th>\n",
       "      <td>5 death row inmates have died of #COVID19. htt...</td>\n",
       "      <td>real</td>\n",
       "      <td>5 death row inmat die covid 19</td>\n",
       "      <td>9</td>\n",
       "    </tr>\n",
       "    <tr>\n",
       "      <th>8545</th>\n",
       "      <td>Right now our model shows that: 📉4 states have...</td>\n",
       "      <td>real</td>\n",
       "      <td>right model show 📉 4 state reduc risk re-open ...</td>\n",
       "      <td>36</td>\n",
       "    </tr>\n",
       "    <tr>\n",
       "      <th>6648</th>\n",
       "      <td>Wearing a cloth face covering CORRECTLY can he...</td>\n",
       "      <td>real</td>\n",
       "      <td>wear cloth face cover correctli help prevent s...</td>\n",
       "      <td>44</td>\n",
       "    </tr>\n",
       "    <tr>\n",
       "      <th>512</th>\n",
       "      <td>Chinese scientists says COVID-19/coronavirus c...</td>\n",
       "      <td>fake</td>\n",
       "      <td>chines scientist say covid 19 coronaviru could...</td>\n",
       "      <td>23</td>\n",
       "    </tr>\n",
       "    <tr>\n",
       "      <th>144</th>\n",
       "      <td>India spraying pesticides at night to prevent ...</td>\n",
       "      <td>fake</td>\n",
       "      <td>india spray pesticid night prevent covid 19</td>\n",
       "      <td>8</td>\n",
       "    </tr>\n",
       "    <tr>\n",
       "      <th>3547</th>\n",
       "      <td>#COVID19 testing is free of cost in @ICMRDELHI...</td>\n",
       "      <td>real</td>\n",
       "      <td>covid 19 test free cost approv govt lab pvt la...</td>\n",
       "      <td>42</td>\n",
       "    </tr>\n",
       "    <tr>\n",
       "      <th>369</th>\n",
       "      <td>Some of the worst viral disease outbreaks in r...</td>\n",
       "      <td>fake</td>\n",
       "      <td>worst viral diseas outbreak recent year – sar ...</td>\n",
       "      <td>39</td>\n",
       "    </tr>\n",
       "  </tbody>\n",
       "</table>\n",
       "</div>"
      ],
      "text/plain": [
       "                                                  tweet label  \\\n",
       "7468  Kalonji seeds (Nigella Seeds) contain hydroxyc...  fake   \n",
       "4437  @morris1_k @JMC_Starbug @andrewlawrence @Marti...  fake   \n",
       "3982  Says the NIH ???15 years ago published a study...  fake   \n",
       "835   5 death row inmates have died of #COVID19. htt...  real   \n",
       "8545  Right now our model shows that: 📉4 states have...  real   \n",
       "6648  Wearing a cloth face covering CORRECTLY can he...  real   \n",
       "512   Chinese scientists says COVID-19/coronavirus c...  fake   \n",
       "144   India spraying pesticides at night to prevent ...  fake   \n",
       "3547  #COVID19 testing is free of cost in @ICMRDELHI...  real   \n",
       "369   Some of the worst viral disease outbreaks in r...  fake   \n",
       "\n",
       "                                          tweet_cleaned  tweet_len  \n",
       "7468  kalonji seed nigella seed contain hydroxychlor...         11  \n",
       "4437     eileen hot spot covid 19 also commonli 5g area         53  \n",
       "3982  say nih 15 year ago publish studi chloroquin e...         16  \n",
       "835                      5 death row inmat die covid 19          9  \n",
       "8545  right model show 📉 4 state reduc risk re-open ...         36  \n",
       "6648  wear cloth face cover correctli help prevent s...         44  \n",
       "512   chines scientist say covid 19 coronaviru could...         23  \n",
       "144         india spray pesticid night prevent covid 19          8  \n",
       "3547  covid 19 test free cost approv govt lab pvt la...         42  \n",
       "369   worst viral diseas outbreak recent year – sar ...         39  "
      ]
     },
     "execution_count": 4,
     "metadata": {},
     "output_type": "execute_result"
    }
   ],
   "source": [
    "data = pd.read_csv(\"./data/TrainVal.csv\")\n",
    "data.sample(10)"
   ]
  },
  {
   "cell_type": "code",
   "execution_count": 5,
   "id": "58a8ffa5-0c6f-4ec8-982f-08b97d1640ac",
   "metadata": {},
   "outputs": [
    {
     "data": {
      "text/plain": [
       "count    8560.00000\n",
       "mean       26.94778\n",
       "std        22.45087\n",
       "min         3.00000\n",
       "25%        15.00000\n",
       "50%        25.00000\n",
       "75%        37.00000\n",
       "90%        44.00000\n",
       "95%        47.00000\n",
       "max      1456.00000\n",
       "Name: tweet, dtype: float64"
      ]
     },
     "execution_count": 5,
     "metadata": {},
     "output_type": "execute_result"
    }
   ],
   "source": [
    "data.tweet.str.split().apply(len).describe(percentiles=[0.25, 0.5, 0.75, 0.9, 0.95])"
   ]
  },
  {
   "cell_type": "code",
   "execution_count": 6,
   "id": "aea1a563-ac0c-4b06-86fe-9e372a07a70a",
   "metadata": {},
   "outputs": [
    {
     "data": {
      "text/plain": [
       "real    4480\n",
       "fake    4080\n",
       "Name: label, dtype: int64"
      ]
     },
     "execution_count": 6,
     "metadata": {},
     "output_type": "execute_result"
    }
   ],
   "source": [
    "data.label.value_counts()"
   ]
  },
  {
   "cell_type": "code",
   "execution_count": 7,
   "id": "a5af6ab6-a6d8-4dc1-aa7a-81437327665e",
   "metadata": {},
   "outputs": [
    {
     "name": "stdout",
     "output_type": "stream",
     "text": [
      "['fake', 'real']\n",
      "      fake  real\n",
      "5065   1.0   0.0\n",
      "4761   0.0   1.0\n",
      "2623   1.0   0.0\n",
      "7367   1.0   0.0\n",
      "3498   1.0   0.0\n",
      "['fake', 'real']\n",
      "      fake  real\n",
      "1214   1.0   0.0\n",
      "6002   1.0   0.0\n",
      "3262   1.0   0.0\n",
      "5198   0.0   1.0\n",
      "2164   0.0   1.0\n",
      "language: en\n",
      "Word Counts: 22133\n",
      "Nrows: 7704\n",
      "7704 train sequences\n",
      "train sequence lengths:\n",
      "\tmean : 30\n",
      "\t95percentile : 51\n",
      "\t99percentile : 58\n",
      "x_train shape: (7704,50)\n",
      "y_train shape: (7704, 2)\n",
      "Is Multi-Label? False\n",
      "856 test sequences\n",
      "test sequence lengths:\n",
      "\tmean : 28\n",
      "\t95percentile : 49\n",
      "\t99percentile : 56\n",
      "x_test shape: (856,50)\n",
      "y_test shape: (856, 2)\n"
     ]
    }
   ],
   "source": [
    "trn, val, preproc = text.texts_from_df(\n",
    "    data,\n",
    "    text_column = \"tweet\",\n",
    "    label_columns=\"label\",\n",
    "    maxlen=50,\n",
    "    ngram_range=1,\n",
    "    random_state=41,\n",
    "    preprocess_mode=\"standard\"\n",
    ")"
   ]
  },
  {
   "cell_type": "code",
   "execution_count": 9,
   "id": "171fee3d-ffdd-4c95-8919-ff17804ef7ea",
   "metadata": {},
   "outputs": [
    {
     "name": "stdout",
     "output_type": "stream",
     "text": [
      "Is Multi-Label? False\n",
      "compiling word ID features...\n",
      "maxlen is 50\n",
      "done.\n"
     ]
    }
   ],
   "source": [
    "model = text.text_classifier('fasttext', trn , preproc=preproc)"
   ]
  },
  {
   "cell_type": "code",
   "execution_count": 10,
   "id": "8f4da6d3-0c2b-42ea-9f24-74ad44b0ad4c",
   "metadata": {
    "tags": []
   },
   "outputs": [
    {
     "name": "stdout",
     "output_type": "stream",
     "text": [
      "Model: \"sequential\"\n",
      "_________________________________________________________________\n",
      " Layer (type)                Output Shape              Param #   \n",
      "=================================================================\n",
      " embedding (Embedding)       (None, 50, 64)            1280000   \n",
      "                                                                 \n",
      " spatial_dropout1d (SpatialD  (None, 50, 64)           0         \n",
      " ropout1D)                                                       \n",
      "                                                                 \n",
      " global_max_pooling1d (Globa  (None, 64)               0         \n",
      " lMaxPooling1D)                                                  \n",
      "                                                                 \n",
      " batch_normalization (BatchN  (None, 64)               256       \n",
      " ormalization)                                                   \n",
      "                                                                 \n",
      " dense (Dense)               (None, 64)                4160      \n",
      "                                                                 \n",
      " dropout (Dropout)           (None, 64)                0         \n",
      "                                                                 \n",
      " dense_1 (Dense)             (None, 2)                 130       \n",
      "                                                                 \n",
      "=================================================================\n",
      "Total params: 1,284,546\n",
      "Trainable params: 1,284,418\n",
      "Non-trainable params: 128\n",
      "_________________________________________________________________\n"
     ]
    }
   ],
   "source": [
    "model.summary()"
   ]
  },
  {
   "cell_type": "code",
   "execution_count": 11,
   "id": "c6a54462-890d-4562-ae5d-dc109da0dd5b",
   "metadata": {},
   "outputs": [],
   "source": [
    "learner = ktrain.get_learner(model, \n",
    "                             train_data=trn, \n",
    "                             val_data=val, \n",
    "                             batch_size=64)"
   ]
  },
  {
   "cell_type": "code",
   "execution_count": 12,
   "id": "56da6128-a787-4d6c-af32-39d4e2087446",
   "metadata": {},
   "outputs": [
    {
     "name": "stdout",
     "output_type": "stream",
     "text": [
      "simulating training for different learning rates... this may take a few moments...\n",
      "Epoch 1/1024\n",
      "121/121 [==============================] - 2s 9ms/step - loss: 1.0151 - accuracy: 0.4940\n",
      "Epoch 2/1024\n",
      "121/121 [==============================] - 1s 10ms/step - loss: 1.0154 - accuracy: 0.4861\n",
      "Epoch 3/1024\n",
      "121/121 [==============================] - 1s 9ms/step - loss: 1.0086 - accuracy: 0.4844\n",
      "Epoch 4/1024\n",
      "121/121 [==============================] - 1s 9ms/step - loss: 1.0086 - accuracy: 0.4883\n",
      "Epoch 5/1024\n",
      "121/121 [==============================] - 1s 9ms/step - loss: 0.9856 - accuracy: 0.4925\n",
      "Epoch 6/1024\n",
      "121/121 [==============================] - 1s 9ms/step - loss: 0.9132 - accuracy: 0.5232\n",
      "Epoch 7/1024\n",
      "121/121 [==============================] - 1s 9ms/step - loss: 0.7681 - accuracy: 0.5911\n",
      "Epoch 8/1024\n",
      "121/121 [==============================] - 1s 9ms/step - loss: 0.5439 - accuracy: 0.7313\n",
      "Epoch 9/1024\n",
      "121/121 [==============================] - 1s 9ms/step - loss: 0.3220 - accuracy: 0.8603\n",
      "Epoch 10/1024\n",
      "121/121 [==============================] - 1s 9ms/step - loss: 0.2336 - accuracy: 0.9043\n",
      "Epoch 11/1024\n",
      "121/121 [==============================] - 1s 9ms/step - loss: 0.2652 - accuracy: 0.8978\n",
      "Epoch 12/1024\n",
      "121/121 [==============================] - 1s 9ms/step - loss: 0.5088 - accuracy: 0.7674\n",
      "Epoch 13/1024\n",
      "121/121 [==============================] - 1s 9ms/step - loss: 0.7119 - accuracy: 0.5129\n",
      "Epoch 14/1024\n",
      "121/121 [==============================] - 1s 10ms/step - loss: 0.7198 - accuracy: 0.5052\n",
      "Epoch 15/1024\n",
      "121/121 [==============================] - 1s 10ms/step - loss: 0.8259 - accuracy: 0.4922\n",
      "Epoch 16/1024\n",
      "121/121 [==============================] - 0s 1ms/step - loss: 1.4386 - accuracy: 0.4901\n",
      "\n",
      "\n",
      "done.\n",
      "Please invoke the Learner.lr_plot() method to visually inspect the loss plot to help identify the maximal learning rate associated with falling loss.\n"
     ]
    }
   ],
   "source": [
    "learner.lr_find()"
   ]
  },
  {
   "cell_type": "code",
   "execution_count": 13,
   "id": "0545e789-f5a4-4a88-876b-25df03bc8698",
   "metadata": {},
   "outputs": [
    {
     "name": "stdout",
     "output_type": "stream",
     "text": [
      "Three possible suggestions for LR from plot:\n",
      "\tLongest valley (red): 5.10E-04\n",
      "\tMin numerical gradient (purple): 3.33E-04\n",
      "\tMin loss divided by 10 (omitted from plot): 2.07E-03\n"
     ]
    },
    {
     "data": {
      "image/png": "[encoded data removed]",
      "text/plain": [
       "<Figure size 576x432 with 1 Axes>"
      ]
     },
     "metadata": {
      "needs_background": "light"
     },
     "output_type": "display_data"
    }
   ],
   "source": [
    "learner.lr_plot(suggest=True)"
   ]
  },
  {
   "cell_type": "code",
   "execution_count": 14,
   "id": "eb53b3ef-9c77-4b58-8652-39ff1b820d96",
   "metadata": {},
   "outputs": [
    {
     "data": {
      "text/plain": [
       "6328"
      ]
     },
     "execution_count": 14,
     "metadata": {},
     "output_type": "execute_result"
    }
   ],
   "source": [
    "import gc\n",
    "gc.collect()"
   ]
  },
  {
   "cell_type": "code",
   "execution_count": 15,
   "id": "9a7bc33e-33ba-4a33-899e-21723b1f25e9",
   "metadata": {},
   "outputs": [
    {
     "name": "stdout",
     "output_type": "stream",
     "text": [
      "\n",
      "\n",
      "begin training using onecycle policy with max lr of 0.00051...\n",
      "Epoch 1/10\n",
      "121/121 [==============================] - 2s 11ms/step - loss: 0.9617 - accuracy: 0.5065 - val_loss: 0.6877 - val_accuracy: 0.5199\n",
      "Epoch 2/10\n",
      "121/121 [==============================] - 1s 10ms/step - loss: 0.8008 - accuracy: 0.5658 - val_loss: 0.6668 - val_accuracy: 0.5315\n",
      "Epoch 3/10\n",
      "121/121 [==============================] - 1s 10ms/step - loss: 0.6439 - accuracy: 0.6676 - val_loss: 0.5917 - val_accuracy: 0.7944\n",
      "Epoch 4/10\n",
      "121/121 [==============================] - 1s 10ms/step - loss: 0.5094 - accuracy: 0.7600 - val_loss: 0.4221 - val_accuracy: 0.9124\n",
      "Epoch 5/10\n",
      "121/121 [==============================] - 1s 10ms/step - loss: 0.3905 - accuracy: 0.8231 - val_loss: 0.2669 - val_accuracy: 0.9252\n",
      "Epoch 6/10\n",
      "121/121 [==============================] - 1s 10ms/step - loss: 0.3019 - accuracy: 0.8679 - val_loss: 0.1960 - val_accuracy: 0.9287\n",
      "Epoch 7/10\n",
      "121/121 [==============================] - 1s 10ms/step - loss: 0.2489 - accuracy: 0.8940 - val_loss: 0.1686 - val_accuracy: 0.9322\n",
      "Epoch 8/10\n",
      "121/121 [==============================] - 1s 10ms/step - loss: 0.2070 - accuracy: 0.9154 - val_loss: 0.1567 - val_accuracy: 0.9322\n",
      "Epoch 9/10\n",
      "121/121 [==============================] - 1s 10ms/step - loss: 0.1855 - accuracy: 0.9290 - val_loss: 0.1500 - val_accuracy: 0.9357\n",
      "Epoch 10/10\n",
      "121/121 [==============================] - 1s 10ms/step - loss: 0.1743 - accuracy: 0.9330 - val_loss: 0.1485 - val_accuracy: 0.9346\n"
     ]
    },
    {
     "data": {
      "text/plain": [
       "<keras.callbacks.History at 0x7f8ed06731c0>"
      ]
     },
     "execution_count": 15,
     "metadata": {},
     "output_type": "execute_result"
    }
   ],
   "source": [
    "# 2e-5 is one of the LRs  recommended by Google and is consistent with the plot above.\n",
    "learner.fit_onecycle(5.10E-04, 10)"
   ]
  },
  {
   "cell_type": "code",
   "execution_count": 16,
   "id": "9d5f6df3-7f10-47bd-99de-bcf48a300ea3",
   "metadata": {},
   "outputs": [
    {
     "data": {
      "image/png": "[encoded data removed]",
      "text/plain": [
       "<Figure size 576x432 with 1 Axes>"
      ]
     },
     "metadata": {
      "needs_background": "light"
     },
     "output_type": "display_data"
    }
   ],
   "source": [
    "plt.plot(learner.history.history[\"accuracy\"])\n",
    "plt.plot(learner.history.history[\"val_accuracy\"])\n",
    "plt.legend([\"acc\", \"val-acc\"])\n",
    "plt.xlabel(\"epochs\")\n",
    "plt.ylabel(\"accuracy\")\n",
    "plt.show()"
   ]
  },
  {
   "cell_type": "code",
   "execution_count": 17,
   "id": "904da882-1d19-41ac-89ad-54d270619f6d",
   "metadata": {},
   "outputs": [
    {
     "data": {
      "image/png": "[encoded data removed]",
      "text/plain": [
       "<Figure size 576x432 with 1 Axes>"
      ]
     },
     "metadata": {
      "needs_background": "light"
     },
     "output_type": "display_data"
    }
   ],
   "source": [
    "plt.plot(learner.history.history[\"loss\"])\n",
    "plt.plot(learner.history.history[\"val_loss\"])\n",
    "plt.legend([\"loss\", \"val-loss\"])\n",
    "plt.xlabel(\"epochs\")\n",
    "plt.ylabel(\"loss\")\n",
    "plt.show()"
   ]
  },
  {
   "cell_type": "code",
   "execution_count": 18,
   "id": "1c03a40f-c452-450a-9040-9718c244f9ea",
   "metadata": {},
   "outputs": [],
   "source": [
    "predictor = ktrain.get_predictor(learner.model, preproc)"
   ]
  },
  {
   "cell_type": "code",
   "execution_count": 19,
   "id": "41e25d55-d4d4-42b7-8b27-fbc44b36de2d",
   "metadata": {},
   "outputs": [
    {
     "data": {
      "text/html": [
       "<div>\n",
       "<style scoped>\n",
       "    .dataframe tbody tr th:only-of-type {\n",
       "        vertical-align: middle;\n",
       "    }\n",
       "\n",
       "    .dataframe tbody tr th {\n",
       "        vertical-align: top;\n",
       "    }\n",
       "\n",
       "    .dataframe thead th {\n",
       "        text-align: right;\n",
       "    }\n",
       "</style>\n",
       "<table border=\"1\" class=\"dataframe\">\n",
       "  <thead>\n",
       "    <tr style=\"text-align: right;\">\n",
       "      <th></th>\n",
       "      <th>tweet</th>\n",
       "      <th>label</th>\n",
       "    </tr>\n",
       "    <tr>\n",
       "      <th>id</th>\n",
       "      <th></th>\n",
       "      <th></th>\n",
       "    </tr>\n",
       "  </thead>\n",
       "  <tbody>\n",
       "    <tr>\n",
       "      <th>2008</th>\n",
       "      <td>@GregoryIngle @flvickster @vivek_mutalik Yeah ...</td>\n",
       "      <td>real</td>\n",
       "    </tr>\n",
       "    <tr>\n",
       "      <th>1220</th>\n",
       "      <td>#IndiaFightsCorona: Active cases only 22% of t...</td>\n",
       "      <td>real</td>\n",
       "    </tr>\n",
       "    <tr>\n",
       "      <th>1079</th>\n",
       "      <td>Professor Clifford Stott says we should \"pay a...</td>\n",
       "      <td>real</td>\n",
       "    </tr>\n",
       "    <tr>\n",
       "      <th>104</th>\n",
       "      <td>Access the #COVID19 Management Assessment and ...</td>\n",
       "      <td>real</td>\n",
       "    </tr>\n",
       "    <tr>\n",
       "      <th>1334</th>\n",
       "      <td>China has successfully tested an anti-coronavi...</td>\n",
       "      <td>fake</td>\n",
       "    </tr>\n",
       "    <tr>\n",
       "      <th>87</th>\n",
       "      <td>One state situation worth highlighting is Mich...</td>\n",
       "      <td>real</td>\n",
       "    </tr>\n",
       "    <tr>\n",
       "      <th>530</th>\n",
       "      <td>Says Dr. Anthony Fauci ???stands to lose 100 m...</td>\n",
       "      <td>fake</td>\n",
       "    </tr>\n",
       "    <tr>\n",
       "      <th>50</th>\n",
       "      <td>Our daily update is published. States reported...</td>\n",
       "      <td>real</td>\n",
       "    </tr>\n",
       "    <tr>\n",
       "      <th>1172</th>\n",
       "      <td>A viral video post claiming that Myanmar peopl...</td>\n",
       "      <td>fake</td>\n",
       "    </tr>\n",
       "    <tr>\n",
       "      <th>458</th>\n",
       "      <td>President Trump has said that 99% of all COVID...</td>\n",
       "      <td>fake</td>\n",
       "    </tr>\n",
       "  </tbody>\n",
       "</table>\n",
       "</div>"
      ],
      "text/plain": [
       "                                                  tweet label\n",
       "id                                                           \n",
       "2008  @GregoryIngle @flvickster @vivek_mutalik Yeah ...  real\n",
       "1220  #IndiaFightsCorona: Active cases only 22% of t...  real\n",
       "1079  Professor Clifford Stott says we should \"pay a...  real\n",
       "104   Access the #COVID19 Management Assessment and ...  real\n",
       "1334  China has successfully tested an anti-coronavi...  fake\n",
       "87    One state situation worth highlighting is Mich...  real\n",
       "530   Says Dr. Anthony Fauci ???stands to lose 100 m...  fake\n",
       "50    Our daily update is published. States reported...  real\n",
       "1172  A viral video post claiming that Myanmar peopl...  fake\n",
       "458   President Trump has said that 99% of all COVID...  fake"
      ]
     },
     "execution_count": 19,
     "metadata": {},
     "output_type": "execute_result"
    }
   ],
   "source": [
    "test_data = pd.read_csv(\"./data/TestLabel.csv\", index_col=0)\n",
    "test_data.sample(10)"
   ]
  },
  {
   "cell_type": "code",
   "execution_count": 20,
   "id": "a319c9d0-d385-4e1e-a3c1-be407dfb9d64",
   "metadata": {},
   "outputs": [
    {
     "data": {
      "text/plain": [
       "array([[1.6317695e-03, 9.9836820e-01],\n",
       "       [9.9889201e-01, 1.1080439e-03],\n",
       "       [9.9959844e-01, 4.0161028e-04],\n",
       "       [2.9385400e-03, 9.9706143e-01],\n",
       "       [9.3980459e-03, 9.9060202e-01]], dtype=float32)"
      ]
     },
     "execution_count": 20,
     "metadata": {},
     "output_type": "execute_result"
    }
   ],
   "source": [
    "probs = predictor.predict_proba(test_data[\"tweet\"].values)\n",
    "probs[:5]"
   ]
  },
  {
   "cell_type": "code",
   "execution_count": 21,
   "id": "169052d4-d00b-473a-a4cb-4d30d9d383a4",
   "metadata": {},
   "outputs": [
    {
     "data": {
      "text/plain": [
       "id\n",
       "1     True\n",
       "2    False\n",
       "3    False\n",
       "4     True\n",
       "5     True\n",
       "Name: label, dtype: bool"
      ]
     },
     "execution_count": 21,
     "metadata": {},
     "output_type": "execute_result"
    }
   ],
   "source": [
    "y = (test_data.label == \"real\")\n",
    "y.head()"
   ]
  },
  {
   "cell_type": "code",
   "execution_count": 22,
   "id": "99f0de1c-1ef8-4c32-99d3-fcbbd9e97b8c",
   "metadata": {},
   "outputs": [],
   "source": [
    "import metrics as mmetrics"
   ]
  },
  {
   "cell_type": "code",
   "execution_count": 23,
   "id": "837e6430-da39-4f69-b298-d6a3f43fb348",
   "metadata": {},
   "outputs": [
    {
     "data": {
      "text/html": [
       "<div>\n",
       "<style scoped>\n",
       "    .dataframe tbody tr th:only-of-type {\n",
       "        vertical-align: middle;\n",
       "    }\n",
       "\n",
       "    .dataframe tbody tr th {\n",
       "        vertical-align: top;\n",
       "    }\n",
       "\n",
       "    .dataframe thead th {\n",
       "        text-align: right;\n",
       "    }\n",
       "</style>\n",
       "<table border=\"1\" class=\"dataframe\">\n",
       "  <thead>\n",
       "    <tr style=\"text-align: right;\">\n",
       "      <th></th>\n",
       "      <th>TP</th>\n",
       "      <th>TN</th>\n",
       "      <th>FP</th>\n",
       "      <th>FN</th>\n",
       "      <th>Accuracy</th>\n",
       "      <th>Prevalence</th>\n",
       "      <th>Sensitivity</th>\n",
       "      <th>Specificity</th>\n",
       "      <th>PPV</th>\n",
       "      <th>NPV</th>\n",
       "      <th>AUC</th>\n",
       "      <th>F1</th>\n",
       "      <th>Threshold</th>\n",
       "    </tr>\n",
       "    <tr>\n",
       "      <th></th>\n",
       "      <th></th>\n",
       "      <th></th>\n",
       "      <th></th>\n",
       "      <th></th>\n",
       "      <th></th>\n",
       "      <th></th>\n",
       "      <th></th>\n",
       "      <th></th>\n",
       "      <th></th>\n",
       "      <th></th>\n",
       "      <th></th>\n",
       "      <th></th>\n",
       "      <th></th>\n",
       "    </tr>\n",
       "  </thead>\n",
       "  <tbody>\n",
       "    <tr>\n",
       "      <th>fasttext</th>\n",
       "      <td>1043</td>\n",
       "      <td>957</td>\n",
       "      <td>63</td>\n",
       "      <td>77</td>\n",
       "      <td>0.935</td>\n",
       "      <td>0.523</td>\n",
       "      <td>0.931</td>\n",
       "      <td>0.938</td>\n",
       "      <td>0.943</td>\n",
       "      <td>0.926</td>\n",
       "      <td>0.985</td>\n",
       "      <td>0.937</td>\n",
       "      <td>0.5</td>\n",
       "    </tr>\n",
       "  </tbody>\n",
       "</table>\n",
       "</div>"
      ],
      "text/plain": [
       "            TP   TN  FP  FN Accuracy Prevalence Sensitivity Specificity  \\\n",
       "                                                                          \n",
       "fasttext  1043  957  63  77    0.935      0.523       0.931       0.938   \n",
       "\n",
       "            PPV    NPV    AUC     F1 Threshold  \n",
       "                                                \n",
       "fasttext  0.943  0.926  0.985  0.937       0.5  "
      ]
     },
     "execution_count": 23,
     "metadata": {},
     "output_type": "execute_result"
    }
   ],
   "source": [
    "y = y.values.reshape((-1, 1))\n",
    "\n",
    "perfs = mmetrics.get_performance_metrics(y, probs[:, 1:], [\"fasttext\"])\n",
    "perfs"
   ]
  },
  {
   "cell_type": "code",
   "execution_count": null,
   "id": "02a0aa4a-3e3e-4f64-b6ee-865611cc4068",
   "metadata": {},
   "outputs": [],
   "source": []
  }
 ],
 "metadata": {
  "kernelspec": {
   "display_name": "Python 3",
   "language": "python",
   "name": "python3"
  },
  "language_info": {
   "codemirror_mode": {
    "name": "ipython",
    "version": 3
   },
   "file_extension": ".py",
   "mimetype": "text/x-python",
   "name": "python",
   "nbconvert_exporter": "python",
   "pygments_lexer": "ipython3",
   "version": "3.8.8"
  }
 },
 "nbformat": 4,
 "nbformat_minor": 5
}
