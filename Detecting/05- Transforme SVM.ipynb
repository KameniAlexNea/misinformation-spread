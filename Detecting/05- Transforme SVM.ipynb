{
 "cells": [
  {
   "cell_type": "code",
   "execution_count": 1,
   "id": "8986d768-c881-46a9-bd64-23af5959612f",
   "metadata": {},
   "outputs": [],
   "source": [
    "import os\n",
    "import datetime\n",
    "\n",
    "import IPython\n",
    "import IPython.display\n",
    "import matplotlib as mpl\n",
    "import matplotlib.pyplot as plt\n",
    "import numpy as np\n",
    "import pandas as pd\n",
    "import seaborn as sns\n",
    "import warnings\n",
    "from IPython.display import Markdown\n",
    "from IPython.display import display\n",
    "\n",
    "mpl.rcParams['figure.figsize'] = (8, 6)\n",
    "mpl.rcParams['axes.grid'] = False\n",
    "warnings.filterwarnings(\"ignore\")\n",
    "# pd.set_option('display.max_columns', None)"
   ]
  },
  {
   "cell_type": "code",
   "execution_count": 2,
   "id": "dc87197f-308a-464c-a758-109b955d98fc",
   "metadata": {},
   "outputs": [
    {
     "data": {
      "text/html": [
       "<div>\n",
       "<style scoped>\n",
       "    .dataframe tbody tr th:only-of-type {\n",
       "        vertical-align: middle;\n",
       "    }\n",
       "\n",
       "    .dataframe tbody tr th {\n",
       "        vertical-align: top;\n",
       "    }\n",
       "\n",
       "    .dataframe thead th {\n",
       "        text-align: right;\n",
       "    }\n",
       "</style>\n",
       "<table border=\"1\" class=\"dataframe\">\n",
       "  <thead>\n",
       "    <tr style=\"text-align: right;\">\n",
       "      <th></th>\n",
       "      <th>tweet</th>\n",
       "      <th>label</th>\n",
       "      <th>tweet_cleaned</th>\n",
       "      <th>tweet_len</th>\n",
       "    </tr>\n",
       "  </thead>\n",
       "  <tbody>\n",
       "    <tr>\n",
       "      <th>5022</th>\n",
       "      <td>Cheb Khaled the king of Algerian Rai dies in a...</td>\n",
       "      <td>fake</td>\n",
       "      <td>cheb khale king algerian rai die pari hospit g...</td>\n",
       "      <td>18</td>\n",
       "    </tr>\n",
       "    <tr>\n",
       "      <th>4842</th>\n",
       "      <td>Shadow Health Secretary Jonathan Ashworth says...</td>\n",
       "      <td>real</td>\n",
       "      <td>shadow health secretari jonathan ashworth say ...</td>\n",
       "      <td>38</td>\n",
       "    </tr>\n",
       "    <tr>\n",
       "      <th>4042</th>\n",
       "      <td>University of Campinas' field hospital located...</td>\n",
       "      <td>fake</td>\n",
       "      <td>univers campina field hospit locat state são p...</td>\n",
       "      <td>20</td>\n",
       "    </tr>\n",
       "    <tr>\n",
       "      <th>5516</th>\n",
       "      <td>President of the Philippines Rodrigo Duterte o...</td>\n",
       "      <td>fake</td>\n",
       "      <td>presid philippin rodrigo dutert order mandator...</td>\n",
       "      <td>17</td>\n",
       "    </tr>\n",
       "    <tr>\n",
       "      <th>4601</th>\n",
       "      <td>The Netflix Korean drama \"My Secret Terrius\" p...</td>\n",
       "      <td>fake</td>\n",
       "      <td>netflix korean drama secret terriu predict cor...</td>\n",
       "      <td>13</td>\n",
       "    </tr>\n",
       "    <tr>\n",
       "      <th>6623</th>\n",
       "      <td>Yesterday our laboratories completed ​1043 tes...</td>\n",
       "      <td>real</td>\n",
       "      <td>yesterday laboratori complet ​ 1043 test bring...</td>\n",
       "      <td>29</td>\n",
       "    </tr>\n",
       "    <tr>\n",
       "      <th>6665</th>\n",
       "      <td>Image of food distributed in isolation centers...</td>\n",
       "      <td>fake</td>\n",
       "      <td>imag food distribut isol center state kerala i...</td>\n",
       "      <td>13</td>\n",
       "    </tr>\n",
       "    <tr>\n",
       "      <th>6678</th>\n",
       "      <td>📢#CoronaVirusUpdates: ✅India's #COVID19 recove...</td>\n",
       "      <td>real</td>\n",
       "      <td>📢 coronavirusupd ✅ india' covid 19 recoveri ra...</td>\n",
       "      <td>32</td>\n",
       "    </tr>\n",
       "    <tr>\n",
       "      <th>1810</th>\n",
       "      <td>If you get sick remember: #Antibiotics do NOT ...</td>\n",
       "      <td>real</td>\n",
       "      <td>get sick rememb antibiot work virus like caus ...</td>\n",
       "      <td>39</td>\n",
       "    </tr>\n",
       "    <tr>\n",
       "      <th>6598</th>\n",
       "      <td>Coronavirus: Social distancing rules relaxed f...</td>\n",
       "      <td>real</td>\n",
       "      <td>coronaviru social distanc rule relax coupl est...</td>\n",
       "      <td>11</td>\n",
       "    </tr>\n",
       "  </tbody>\n",
       "</table>\n",
       "</div>"
      ],
      "text/plain": [
       "                                                  tweet label  \\\n",
       "5022  Cheb Khaled the king of Algerian Rai dies in a...  fake   \n",
       "4842  Shadow Health Secretary Jonathan Ashworth says...  real   \n",
       "4042  University of Campinas' field hospital located...  fake   \n",
       "5516  President of the Philippines Rodrigo Duterte o...  fake   \n",
       "4601  The Netflix Korean drama \"My Secret Terrius\" p...  fake   \n",
       "6623  Yesterday our laboratories completed ​1043 tes...  real   \n",
       "6665  Image of food distributed in isolation centers...  fake   \n",
       "6678  📢#CoronaVirusUpdates: ✅India's #COVID19 recove...  real   \n",
       "1810  If you get sick remember: #Antibiotics do NOT ...  real   \n",
       "6598  Coronavirus: Social distancing rules relaxed f...  real   \n",
       "\n",
       "                                          tweet_cleaned  tweet_len  \n",
       "5022  cheb khale king algerian rai die pari hospit g...         18  \n",
       "4842  shadow health secretari jonathan ashworth say ...         38  \n",
       "4042  univers campina field hospit locat state são p...         20  \n",
       "5516  presid philippin rodrigo dutert order mandator...         17  \n",
       "4601  netflix korean drama secret terriu predict cor...         13  \n",
       "6623  yesterday laboratori complet ​ 1043 test bring...         29  \n",
       "6665  imag food distribut isol center state kerala i...         13  \n",
       "6678  📢 coronavirusupd ✅ india' covid 19 recoveri ra...         32  \n",
       "1810  get sick rememb antibiot work virus like caus ...         39  \n",
       "6598  coronaviru social distanc rule relax coupl est...         11  "
      ]
     },
     "execution_count": 2,
     "metadata": {},
     "output_type": "execute_result"
    }
   ],
   "source": [
    "data = pd.read_csv(\"./data/TrainVal.csv\")\n",
    "data.sample(10)"
   ]
  },
  {
   "cell_type": "code",
   "execution_count": 3,
   "id": "dcd5c9de-166a-4d47-8146-7f5079fa661a",
   "metadata": {},
   "outputs": [],
   "source": [
    "def print_tweets_per_label(df, n=5):\n",
    "    real = df[df.label == \"real\"][\"tweet_cleaned\"].sample(n)\n",
    "    display(Markdown(\"### Real Tweets\"))\n",
    "    real.apply(print)\n",
    "    \n",
    "    fake = df[df.label == \"fake\"][\"tweet_cleaned\"].sample(n)\n",
    "    display(Markdown(\"### Fake Tweets\"))\n",
    "    fake.apply(print)"
   ]
  },
  {
   "cell_type": "code",
   "execution_count": 4,
   "id": "9afff2a4-cc3c-4e05-824b-e2870560c147",
   "metadata": {},
   "outputs": [
    {
     "data": {
      "text/markdown": [
       "### Real Tweets"
      ],
      "text/plain": [
       "<IPython.core.display.Markdown object>"
      ]
     },
     "metadata": {},
     "output_type": "display_data"
    },
    {
     "name": "stdout",
     "output_type": "stream",
     "text": [
      "thank also individu essenti volunt go get data us everi day holiday without labor mani project organ would lack data need understand covid affect commun\n",
      "total number confirm case covid 19 1464 number report world health organ ​ ​ yesterday laboratori process 5417 test bring total number test complet date 910853\n",
      "📢 ncdcinthenew reopen societi mean viru longer us mean learn continu live safe requir sacrific area ” dg 📰\n",
      "daili 4 pm updat across 50 state dc we'v track 16502 total test 1953 posit 13419 neg 1130 pend tri interpret data pleas read note state report data differ\n",
      "nation taskforc covid 19 constitut review use hydroxychloroquin high-risk popul prophylaxi covid _19 base emerg evid safeti efficaci\n",
      "five new case covid 19 report nigeria 3 fct 2 oyo state 08:00 pm 27th march 70 case confirm covid 19 report nigeria 3 discharg 1 death\n"
     ]
    },
    {
     "data": {
      "text/markdown": [
       "### Fake Tweets"
      ],
      "text/plain": [
       "<IPython.core.display.Markdown object>"
      ]
     },
     "metadata": {},
     "output_type": "display_data"
    },
    {
     "name": "stdout",
     "output_type": "stream",
     "text": [
      "expert nanavati hospit give four common treatment patient\n",
      "there' 3 differ coronaviru vaccin undergo clinic trial russia 500th person who' test gam-covid-vac\n",
      "indian armi rajasthan prepar 1000 bed facil keep coronaviru patient facil icu ventil well\n",
      "tamilnadu dmk parti leader selva kumar kick ladi doctor duti forward video group punish\n",
      "go coronaviru test wait get cure within 2-3 hour without medicin use remedi\n",
      "liquid squeez tea brew siam weed chromolaena odorata cure novel coronaviru accord nigerian prophetess dupe oluwaniyi\n"
     ]
    }
   ],
   "source": [
    "print_tweets_per_label(data, n=6)"
   ]
  },
  {
   "cell_type": "code",
   "execution_count": 5,
   "id": "93d6f3ab-f117-4896-9b79-4f89446a02c1",
   "metadata": {},
   "outputs": [
    {
     "name": "stdout",
     "output_type": "stream",
     "text": [
      "Shape before removing duplicate (8560, 4)\n",
      "Shape after removing duplicate (8413, 4)\n"
     ]
    }
   ],
   "source": [
    "print(\"Shape before removing duplicate\", data.shape)\n",
    "data.dropna(inplace=True)\n",
    "data.drop_duplicates(subset=[\"tweet_cleaned\"], inplace=True)\n",
    "print(\"Shape after removing duplicate\", data.shape)"
   ]
  },
  {
   "cell_type": "code",
   "execution_count": 6,
   "id": "5189d5ca-c293-4140-bfd6-cf5f6dee7b88",
   "metadata": {},
   "outputs": [],
   "source": [
    "from sklearn.svm import SVC\n",
    "from sentence_transformers import SentenceTransformer"
   ]
  },
  {
   "cell_type": "code",
   "execution_count": 7,
   "id": "2528f20a-5197-4aaf-abad-7ad68285e4ff",
   "metadata": {},
   "outputs": [],
   "source": [
    "class Model:\n",
    "    def __init__(self, model=None):\n",
    "        self.emb = SentenceTransformer(\"all-MiniLM-L6-v2\", device=\"cuda\")\n",
    "        if model is None:\n",
    "            model = SVC(probability=True)\n",
    "        self.model = model\n",
    "    \n",
    "    def fit(self, X_train, y_train):\n",
    "        X_emb = self.emb.encode(X_train)\n",
    "        self.model.fit(X_emb, y_train)\n",
    "        return self\n",
    "    \n",
    "    def predict(self, X_test):\n",
    "        X_emb = self.emb.encode(X_test)\n",
    "        preds = self.model.predict(X_emb)\n",
    "        return preds\n",
    "    \n",
    "    def predict_proba(self, X_test):\n",
    "        X_emb = self.emb.encode(X_test)\n",
    "        preds = self.model.predict_proba(X_emb)\n",
    "        return preds"
   ]
  },
  {
   "cell_type": "code",
   "execution_count": 8,
   "id": "7bfcfa76-d6ab-47d4-9f73-99af43d841f2",
   "metadata": {},
   "outputs": [],
   "source": [
    "model = Model(SVC(probability=True))"
   ]
  },
  {
   "cell_type": "code",
   "execution_count": 9,
   "id": "ff5ea85c-b0ed-40a1-8bd3-83924e583f98",
   "metadata": {},
   "outputs": [
    {
     "data": {
      "text/plain": [
       "<__main__.Model at 0x7f6a8e41b520>"
      ]
     },
     "execution_count": 9,
     "metadata": {},
     "output_type": "execute_result"
    }
   ],
   "source": [
    "model.fit(data.tweet.values, data.label.values)"
   ]
  },
  {
   "cell_type": "code",
   "execution_count": 10,
   "id": "a49133fc-2287-4449-9263-1f4130fdb9e5",
   "metadata": {},
   "outputs": [
    {
     "data": {
      "text/html": [
       "<div>\n",
       "<style scoped>\n",
       "    .dataframe tbody tr th:only-of-type {\n",
       "        vertical-align: middle;\n",
       "    }\n",
       "\n",
       "    .dataframe tbody tr th {\n",
       "        vertical-align: top;\n",
       "    }\n",
       "\n",
       "    .dataframe thead th {\n",
       "        text-align: right;\n",
       "    }\n",
       "</style>\n",
       "<table border=\"1\" class=\"dataframe\">\n",
       "  <thead>\n",
       "    <tr style=\"text-align: right;\">\n",
       "      <th></th>\n",
       "      <th>tweet</th>\n",
       "      <th>label</th>\n",
       "    </tr>\n",
       "    <tr>\n",
       "      <th>id</th>\n",
       "      <th></th>\n",
       "      <th></th>\n",
       "    </tr>\n",
       "  </thead>\n",
       "  <tbody>\n",
       "    <tr>\n",
       "      <th>1393</th>\n",
       "      <td>COVID-19 Means 'Certificate of Identification ...</td>\n",
       "      <td>fake</td>\n",
       "    </tr>\n",
       "    <tr>\n",
       "      <th>790</th>\n",
       "      <td>Also (obvious typo) correction on the first tw...</td>\n",
       "      <td>real</td>\n",
       "    </tr>\n",
       "    <tr>\n",
       "      <th>2016</th>\n",
       "      <td>Due to COVID-19, Would-Be Robbers Have Trouble...</td>\n",
       "      <td>fake</td>\n",
       "    </tr>\n",
       "    <tr>\n",
       "      <th>339</th>\n",
       "      <td>If you get coronavirus from Chinese food the s...</td>\n",
       "      <td>fake</td>\n",
       "    </tr>\n",
       "    <tr>\n",
       "      <th>351</th>\n",
       "      <td>Today there are 10 people in hospital who have...</td>\n",
       "      <td>real</td>\n",
       "    </tr>\n",
       "    <tr>\n",
       "      <th>819</th>\n",
       "      <td>Sadly three people are in hospital with COVID-...</td>\n",
       "      <td>real</td>\n",
       "    </tr>\n",
       "    <tr>\n",
       "      <th>1094</th>\n",
       "      <td>Corona patients have started appearing in publ...</td>\n",
       "      <td>fake</td>\n",
       "    </tr>\n",
       "    <tr>\n",
       "      <th>1012</th>\n",
       "      <td>The South set a new record for deaths across t...</td>\n",
       "      <td>real</td>\n",
       "    </tr>\n",
       "    <tr>\n",
       "      <th>67</th>\n",
       "      <td>One hundred days after the 1st #COVID19 case w...</td>\n",
       "      <td>real</td>\n",
       "    </tr>\n",
       "    <tr>\n",
       "      <th>411</th>\n",
       "      <td>@asinine_net_nz Hi Derek all businesses and se...</td>\n",
       "      <td>real</td>\n",
       "    </tr>\n",
       "  </tbody>\n",
       "</table>\n",
       "</div>"
      ],
      "text/plain": [
       "                                                  tweet label\n",
       "id                                                           \n",
       "1393  COVID-19 Means 'Certificate of Identification ...  fake\n",
       "790   Also (obvious typo) correction on the first tw...  real\n",
       "2016  Due to COVID-19, Would-Be Robbers Have Trouble...  fake\n",
       "339   If you get coronavirus from Chinese food the s...  fake\n",
       "351   Today there are 10 people in hospital who have...  real\n",
       "819   Sadly three people are in hospital with COVID-...  real\n",
       "1094  Corona patients have started appearing in publ...  fake\n",
       "1012  The South set a new record for deaths across t...  real\n",
       "67    One hundred days after the 1st #COVID19 case w...  real\n",
       "411   @asinine_net_nz Hi Derek all businesses and se...  real"
      ]
     },
     "execution_count": 10,
     "metadata": {},
     "output_type": "execute_result"
    }
   ],
   "source": [
    "test_data = pd.read_csv(\"./data/TestLabel.csv\", index_col=0)\n",
    "test_data.sample(10)"
   ]
  },
  {
   "cell_type": "code",
   "execution_count": 11,
   "id": "a5378049-f8b1-42b0-90c5-ad4df06d584d",
   "metadata": {},
   "outputs": [],
   "source": [
    "probs = model.predict_proba(test_data.tweet.values)"
   ]
  },
  {
   "cell_type": "code",
   "execution_count": 12,
   "id": "56062cf7-88a3-493a-a0cd-453a1fb06151",
   "metadata": {},
   "outputs": [
    {
     "data": {
      "text/plain": [
       "array([[2.89689338e-07, 9.99999710e-01],\n",
       "       [9.99161078e-01, 8.38921608e-04],\n",
       "       [9.99966769e-01, 3.32314337e-05],\n",
       "       [2.28768682e-06, 9.99997712e-01],\n",
       "       [2.73023553e-06, 9.99997270e-01]])"
      ]
     },
     "execution_count": 12,
     "metadata": {},
     "output_type": "execute_result"
    }
   ],
   "source": [
    "probs[:5]"
   ]
  },
  {
   "cell_type": "code",
   "execution_count": 13,
   "id": "d0a801dc-01b7-4550-89b8-56e8cd22c70d",
   "metadata": {},
   "outputs": [
    {
     "data": {
      "text/plain": [
       "id\n",
       "1     True\n",
       "2    False\n",
       "3    False\n",
       "4     True\n",
       "5     True\n",
       "Name: label, dtype: bool"
      ]
     },
     "execution_count": 13,
     "metadata": {},
     "output_type": "execute_result"
    }
   ],
   "source": [
    "y = (test_data.label == \"real\")\n",
    "y.head()"
   ]
  },
  {
   "cell_type": "code",
   "execution_count": 14,
   "id": "3893244f-ffff-4541-9250-1e60fe0e8f48",
   "metadata": {},
   "outputs": [],
   "source": [
    "import metrics as mmetrics"
   ]
  },
  {
   "cell_type": "code",
   "execution_count": 15,
   "id": "c552d1b7-cdb4-4906-a629-975b531021d1",
   "metadata": {},
   "outputs": [
    {
     "data": {
      "text/html": [
       "<div>\n",
       "<style scoped>\n",
       "    .dataframe tbody tr th:only-of-type {\n",
       "        vertical-align: middle;\n",
       "    }\n",
       "\n",
       "    .dataframe tbody tr th {\n",
       "        vertical-align: top;\n",
       "    }\n",
       "\n",
       "    .dataframe thead th {\n",
       "        text-align: right;\n",
       "    }\n",
       "</style>\n",
       "<table border=\"1\" class=\"dataframe\">\n",
       "  <thead>\n",
       "    <tr style=\"text-align: right;\">\n",
       "      <th></th>\n",
       "      <th>TP</th>\n",
       "      <th>TN</th>\n",
       "      <th>FP</th>\n",
       "      <th>FN</th>\n",
       "      <th>Accuracy</th>\n",
       "      <th>Prevalence</th>\n",
       "      <th>Sensitivity</th>\n",
       "      <th>Specificity</th>\n",
       "      <th>PPV</th>\n",
       "      <th>NPV</th>\n",
       "      <th>AUC</th>\n",
       "      <th>F1</th>\n",
       "      <th>Threshold</th>\n",
       "    </tr>\n",
       "    <tr>\n",
       "      <th></th>\n",
       "      <th></th>\n",
       "      <th></th>\n",
       "      <th></th>\n",
       "      <th></th>\n",
       "      <th></th>\n",
       "      <th></th>\n",
       "      <th></th>\n",
       "      <th></th>\n",
       "      <th></th>\n",
       "      <th></th>\n",
       "      <th></th>\n",
       "      <th></th>\n",
       "      <th></th>\n",
       "    </tr>\n",
       "  </thead>\n",
       "  <tbody>\n",
       "    <tr>\n",
       "      <th>svc</th>\n",
       "      <td>1055</td>\n",
       "      <td>957</td>\n",
       "      <td>63</td>\n",
       "      <td>65</td>\n",
       "      <td>0.94</td>\n",
       "      <td>0.523</td>\n",
       "      <td>0.942</td>\n",
       "      <td>0.938</td>\n",
       "      <td>0.944</td>\n",
       "      <td>0.936</td>\n",
       "      <td>0.987</td>\n",
       "      <td>0.943</td>\n",
       "      <td>0.5</td>\n",
       "    </tr>\n",
       "  </tbody>\n",
       "</table>\n",
       "</div>"
      ],
      "text/plain": [
       "       TP   TN  FP  FN Accuracy Prevalence Sensitivity Specificity    PPV  \\\n",
       "                                                                            \n",
       "svc  1055  957  63  65     0.94      0.523       0.942       0.938  0.944   \n",
       "\n",
       "       NPV    AUC     F1 Threshold  \n",
       "                                    \n",
       "svc  0.936  0.987  0.943       0.5  "
      ]
     },
     "execution_count": 15,
     "metadata": {},
     "output_type": "execute_result"
    }
   ],
   "source": [
    "y = y.values.reshape((-1, 1))\n",
    "\n",
    "perfs = mmetrics.get_performance_metrics(y, probs[:, 1:], [\"svc\"])\n",
    "perfs"
   ]
  },
  {
   "cell_type": "code",
   "execution_count": null,
   "id": "e71d0844-b69d-4ed2-8dd4-b316e3418a80",
   "metadata": {},
   "outputs": [],
   "source": []
  }
 ],
 "metadata": {
  "kernelspec": {
   "display_name": "Python 3",
   "language": "python",
   "name": "python3"
  },
  "language_info": {
   "codemirror_mode": {
    "name": "ipython",
    "version": 3
   },
   "file_extension": ".py",
   "mimetype": "text/x-python",
   "name": "python",
   "nbconvert_exporter": "python",
   "pygments_lexer": "ipython3",
   "version": "3.8.8"
  }
 },
 "nbformat": 4,
 "nbformat_minor": 5
}
