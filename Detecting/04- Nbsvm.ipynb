{
 "cells": [
  {
   "cell_type": "code",
   "execution_count": 1,
   "id": "e8ed85d7-2f9c-4204-830c-b9e3eada386c",
   "metadata": {},
   "outputs": [],
   "source": [
    "%reload_ext autoreload\n",
    "%autoreload 2\n",
    "%matplotlib inline\n",
    "import os\n",
    "os.environ[\"CUDA_DEVICE_ORDER\"]=\"PCI_BUS_ID\";\n",
    "os.environ[\"CUDA_VISIBLE_DEVICES\"]=\"0\";"
   ]
  },
  {
   "cell_type": "code",
   "execution_count": 2,
   "id": "40a85a0e-088a-4573-8ceb-cc268a9d7ef2",
   "metadata": {},
   "outputs": [],
   "source": [
    "import ktrain\n",
    "from ktrain import text"
   ]
  },
  {
   "cell_type": "code",
   "execution_count": 3,
   "id": "c792db7a-e0b7-4af0-b7f9-55ce595f5d27",
   "metadata": {},
   "outputs": [],
   "source": [
    "import os\n",
    "import datetime\n",
    "\n",
    "import IPython\n",
    "import IPython.display\n",
    "import matplotlib as mpl\n",
    "import matplotlib.pyplot as plt\n",
    "import numpy as np\n",
    "import pandas as pd\n",
    "import seaborn as sns\n",
    "import warnings\n",
    "from IPython.display import Markdown\n",
    "from IPython.display import display\n",
    "\n",
    "mpl.rcParams['figure.figsize'] = (8, 6)\n",
    "mpl.rcParams['axes.grid'] = False\n",
    "warnings.filterwarnings(\"ignore\")\n",
    "\n",
    "pd.set_option('display.max_columns', None)"
   ]
  },
  {
   "cell_type": "code",
   "execution_count": 4,
   "id": "980c5db0-aeeb-4c4b-8d60-08926b86487f",
   "metadata": {},
   "outputs": [
    {
     "data": {
      "text/html": [
       "<div>\n",
       "<style scoped>\n",
       "    .dataframe tbody tr th:only-of-type {\n",
       "        vertical-align: middle;\n",
       "    }\n",
       "\n",
       "    .dataframe tbody tr th {\n",
       "        vertical-align: top;\n",
       "    }\n",
       "\n",
       "    .dataframe thead th {\n",
       "        text-align: right;\n",
       "    }\n",
       "</style>\n",
       "<table border=\"1\" class=\"dataframe\">\n",
       "  <thead>\n",
       "    <tr style=\"text-align: right;\">\n",
       "      <th></th>\n",
       "      <th>tweet</th>\n",
       "      <th>label</th>\n",
       "      <th>tweet_cleaned</th>\n",
       "      <th>tweet_len</th>\n",
       "    </tr>\n",
       "  </thead>\n",
       "  <tbody>\n",
       "    <tr>\n",
       "      <th>6296</th>\n",
       "      <td>Drinking alcohol will prevent coronavirus! If ...</td>\n",
       "      <td>fake</td>\n",
       "      <td>drink alcohol prevent coronaviru increas alcoh...</td>\n",
       "      <td>42</td>\n",
       "    </tr>\n",
       "    <tr>\n",
       "      <th>5974</th>\n",
       "      <td>Italy's #coronavirus tracing app had 2.2 milli...</td>\n",
       "      <td>real</td>\n",
       "      <td>italy' coronaviru trace app 2.2 million downlo...</td>\n",
       "      <td>13</td>\n",
       "    </tr>\n",
       "    <tr>\n",
       "      <th>5678</th>\n",
       "      <td>@FaheemYounus Aren't hospitals doing the busin...</td>\n",
       "      <td>fake</td>\n",
       "      <td>hospit busi huge respect doc manag ... charg l...</td>\n",
       "      <td>46</td>\n",
       "    </tr>\n",
       "    <tr>\n",
       "      <th>4296</th>\n",
       "      <td>Facebook posts shared hundreds of times claim ...</td>\n",
       "      <td>fake</td>\n",
       "      <td>facebook post share hundr time claim us presid...</td>\n",
       "      <td>33</td>\n",
       "    </tr>\n",
       "    <tr>\n",
       "      <th>4073</th>\n",
       "      <td>Dad would rather get coronavirus than fist-bum...</td>\n",
       "      <td>fake</td>\n",
       "      <td>dad would rather get coronaviru fist-bump</td>\n",
       "      <td>9</td>\n",
       "    </tr>\n",
       "    <tr>\n",
       "      <th>117</th>\n",
       "      <td>India has lost over 50000 individuals to coron...</td>\n",
       "      <td>fake</td>\n",
       "      <td>india lost 5000 individu coronaviru till date ...</td>\n",
       "      <td>42</td>\n",
       "    </tr>\n",
       "    <tr>\n",
       "      <th>4736</th>\n",
       "      <td>NEWS! Lockdown and social distancing isn’t nec...</td>\n",
       "      <td>fake</td>\n",
       "      <td>news lockdown social distanc necessari realli ...</td>\n",
       "      <td>18</td>\n",
       "    </tr>\n",
       "    <tr>\n",
       "      <th>382</th>\n",
       "      <td>U.S. pediatric COVID-19 cases have jumped 90% ...</td>\n",
       "      <td>real</td>\n",
       "      <td>u pediatr covid 19 case jump 90 4 week</td>\n",
       "      <td>11</td>\n",
       "    </tr>\n",
       "    <tr>\n",
       "      <th>6975</th>\n",
       "      <td>COVID-19 is a vaccine that is 'activated' and ...</td>\n",
       "      <td>fake</td>\n",
       "      <td>covid 19 vaccin activ spread 5g</td>\n",
       "      <td>12</td>\n",
       "    </tr>\n",
       "    <tr>\n",
       "      <th>768</th>\n",
       "      <td>Meeting at the chariot held in #Kalabari distr...</td>\n",
       "      <td>fake</td>\n",
       "      <td>meet chariot held kalabari district karnataka ...</td>\n",
       "      <td>30</td>\n",
       "    </tr>\n",
       "  </tbody>\n",
       "</table>\n",
       "</div>"
      ],
      "text/plain": [
       "                                                  tweet label  \\\n",
       "6296  Drinking alcohol will prevent coronavirus! If ...  fake   \n",
       "5974  Italy's #coronavirus tracing app had 2.2 milli...  real   \n",
       "5678  @FaheemYounus Aren't hospitals doing the busin...  fake   \n",
       "4296  Facebook posts shared hundreds of times claim ...  fake   \n",
       "4073  Dad would rather get coronavirus than fist-bum...  fake   \n",
       "117   India has lost over 50000 individuals to coron...  fake   \n",
       "4736  NEWS! Lockdown and social distancing isn’t nec...  fake   \n",
       "382   U.S. pediatric COVID-19 cases have jumped 90% ...  real   \n",
       "6975  COVID-19 is a vaccine that is 'activated' and ...  fake   \n",
       "768   Meeting at the chariot held in #Kalabari distr...  fake   \n",
       "\n",
       "                                          tweet_cleaned  tweet_len  \n",
       "6296  drink alcohol prevent coronaviru increas alcoh...         42  \n",
       "5974  italy' coronaviru trace app 2.2 million downlo...         13  \n",
       "5678  hospit busi huge respect doc manag ... charg l...         46  \n",
       "4296  facebook post share hundr time claim us presid...         33  \n",
       "4073          dad would rather get coronaviru fist-bump          9  \n",
       "117   india lost 5000 individu coronaviru till date ...         42  \n",
       "4736  news lockdown social distanc necessari realli ...         18  \n",
       "382              u pediatr covid 19 case jump 90 4 week         11  \n",
       "6975                    covid 19 vaccin activ spread 5g         12  \n",
       "768   meet chariot held kalabari district karnataka ...         30  "
      ]
     },
     "execution_count": 4,
     "metadata": {},
     "output_type": "execute_result"
    }
   ],
   "source": [
    "data = pd.read_csv(\"./data/TrainVal.csv\")\n",
    "data.sample(10)"
   ]
  },
  {
   "cell_type": "code",
   "execution_count": 5,
   "id": "58a8ffa5-0c6f-4ec8-982f-08b97d1640ac",
   "metadata": {},
   "outputs": [
    {
     "data": {
      "text/plain": [
       "count    8560.00000\n",
       "mean       26.94778\n",
       "std        22.45087\n",
       "min         3.00000\n",
       "25%        15.00000\n",
       "50%        25.00000\n",
       "75%        37.00000\n",
       "90%        44.00000\n",
       "95%        47.00000\n",
       "max      1456.00000\n",
       "Name: tweet, dtype: float64"
      ]
     },
     "execution_count": 5,
     "metadata": {},
     "output_type": "execute_result"
    }
   ],
   "source": [
    "data.tweet.str.split().apply(len).describe(percentiles=[0.25, 0.5, 0.75, 0.9, 0.95])"
   ]
  },
  {
   "cell_type": "code",
   "execution_count": 6,
   "id": "aea1a563-ac0c-4b06-86fe-9e372a07a70a",
   "metadata": {},
   "outputs": [
    {
     "data": {
      "text/plain": [
       "real    4480\n",
       "fake    4080\n",
       "Name: label, dtype: int64"
      ]
     },
     "execution_count": 6,
     "metadata": {},
     "output_type": "execute_result"
    }
   ],
   "source": [
    "data.label.value_counts()"
   ]
  },
  {
   "cell_type": "code",
   "execution_count": 7,
   "id": "a5af6ab6-a6d8-4dc1-aa7a-81437327665e",
   "metadata": {},
   "outputs": [
    {
     "name": "stdout",
     "output_type": "stream",
     "text": [
      "['fake', 'real']\n",
      "      fake  real\n",
      "5065   1.0   0.0\n",
      "4761   0.0   1.0\n",
      "2623   1.0   0.0\n",
      "7367   1.0   0.0\n",
      "3498   1.0   0.0\n",
      "['fake', 'real']\n",
      "      fake  real\n",
      "1214   1.0   0.0\n",
      "6002   1.0   0.0\n",
      "3262   1.0   0.0\n",
      "5198   0.0   1.0\n",
      "2164   0.0   1.0\n",
      "language: en\n",
      "Word Counts: 22133\n",
      "Nrows: 7704\n",
      "7704 train sequences\n",
      "train sequence lengths:\n",
      "\tmean : 30\n",
      "\t95percentile : 51\n",
      "\t99percentile : 58\n",
      "x_train shape: (7704,50)\n",
      "y_train shape: (7704, 2)\n",
      "Is Multi-Label? False\n",
      "856 test sequences\n",
      "test sequence lengths:\n",
      "\tmean : 28\n",
      "\t95percentile : 49\n",
      "\t99percentile : 56\n",
      "x_test shape: (856,50)\n",
      "y_test shape: (856, 2)\n"
     ]
    }
   ],
   "source": [
    "trn, val, preproc = text.texts_from_df(\n",
    "    data,\n",
    "    text_column = \"tweet\",\n",
    "    label_columns=\"label\",\n",
    "    maxlen=50,\n",
    "    ngram_range=1,\n",
    "    random_state=41,\n",
    "    preprocess_mode=\"standard\"\n",
    ")"
   ]
  },
  {
   "cell_type": "code",
   "execution_count": 8,
   "id": "171fee3d-ffdd-4c95-8919-ff17804ef7ea",
   "metadata": {},
   "outputs": [
    {
     "name": "stdout",
     "output_type": "stream",
     "text": [
      "Is Multi-Label? False\n",
      "compiling word ID features...\n",
      "maxlen is 50\n",
      "building document-term matrix... this may take a few moments...\n",
      "rows: 1-7704\n",
      "computing log-count ratios...\n",
      "done.\n"
     ]
    }
   ],
   "source": [
    "model = text.text_classifier('nbsvm', trn , preproc=preproc)"
   ]
  },
  {
   "cell_type": "code",
   "execution_count": 9,
   "id": "8f4da6d3-0c2b-42ea-9f24-74ad44b0ad4c",
   "metadata": {
    "tags": []
   },
   "outputs": [
    {
     "name": "stdout",
     "output_type": "stream",
     "text": [
      "Model: \"model\"\n",
      "__________________________________________________________________________________________________\n",
      " Layer (type)                   Output Shape         Param #     Connected to                     \n",
      "==================================================================================================\n",
      " input_1 (InputLayer)           [(None, 50)]         0           []                               \n",
      "                                                                                                  \n",
      " embedding (Embedding)          (None, 50, 2)        40000       ['input_1[0][0]']                \n",
      "                                                                                                  \n",
      " embedding_1 (Embedding)        (None, 50, 1)        20000       ['input_1[0][0]']                \n",
      "                                                                                                  \n",
      " dot (Dot)                      (None, 2, 1)         0           ['embedding[0][0]',              \n",
      "                                                                  'embedding_1[0][0]']            \n",
      "                                                                                                  \n",
      " flatten (Flatten)              (None, 2)            0           ['dot[0][0]']                    \n",
      "                                                                                                  \n",
      " activation (Activation)        (None, 2)            0           ['flatten[0][0]']                \n",
      "                                                                                                  \n",
      "==================================================================================================\n",
      "Total params: 60,000\n",
      "Trainable params: 20,000\n",
      "Non-trainable params: 40,000\n",
      "__________________________________________________________________________________________________\n"
     ]
    }
   ],
   "source": [
    "model.summary()"
   ]
  },
  {
   "cell_type": "code",
   "execution_count": 10,
   "id": "c6a54462-890d-4562-ae5d-dc109da0dd5b",
   "metadata": {},
   "outputs": [],
   "source": [
    "learner = ktrain.get_learner(model, \n",
    "                             train_data=trn, \n",
    "                             val_data=val, \n",
    "                             batch_size=64)"
   ]
  },
  {
   "cell_type": "code",
   "execution_count": 11,
   "id": "56da6128-a787-4d6c-af32-39d4e2087446",
   "metadata": {},
   "outputs": [
    {
     "name": "stdout",
     "output_type": "stream",
     "text": [
      "simulating training for different learning rates... this may take a few moments...\n",
      "Epoch 1/1024\n",
      "121/121 [==============================] - 0s 807us/step - loss: 0.6837 - accuracy: 0.5593\n",
      "Epoch 2/1024\n",
      "121/121 [==============================] - 0s 812us/step - loss: 0.6832 - accuracy: 0.5618\n",
      "Epoch 3/1024\n",
      "121/121 [==============================] - 0s 792us/step - loss: 0.6814 - accuracy: 0.5687\n",
      "Epoch 4/1024\n",
      "121/121 [==============================] - 0s 820us/step - loss: 0.6757 - accuracy: 0.5933\n",
      "Epoch 5/1024\n",
      "121/121 [==============================] - 0s 866us/step - loss: 0.6580 - accuracy: 0.6615\n",
      "Epoch 6/1024\n",
      "121/121 [==============================] - 0s 927us/step - loss: 0.6107 - accuracy: 0.7517\n",
      "Epoch 7/1024\n",
      "121/121 [==============================] - 0s 882us/step - loss: 0.5171 - accuracy: 0.8248\n",
      "Epoch 8/1024\n",
      "121/121 [==============================] - 0s 950us/step - loss: 0.3844 - accuracy: 0.8981\n",
      "Epoch 9/1024\n",
      "121/121 [==============================] - 0s 857us/step - loss: 0.2482 - accuracy: 0.9447\n",
      "Epoch 10/1024\n",
      "121/121 [==============================] - 0s 916us/step - loss: 0.1462 - accuracy: 0.9679\n",
      "Epoch 11/1024\n",
      "121/121 [==============================] - 0s 844us/step - loss: 0.0763 - accuracy: 0.9852\n",
      "Epoch 12/1024\n",
      "121/121 [==============================] - 0s 856us/step - loss: 0.0356 - accuracy: 0.9929\n",
      "Epoch 13/1024\n",
      "121/121 [==============================] - 0s 903us/step - loss: 0.0439 - accuracy: 0.9882\n",
      "Epoch 14/1024\n",
      "121/121 [==============================] - 0s 127us/step - loss: 0.2816 - accuracy: 0.9507\n",
      "\n",
      "\n",
      "done.\n",
      "Please invoke the Learner.lr_plot() method to visually inspect the loss plot to help identify the maximal learning rate associated with falling loss.\n"
     ]
    }
   ],
   "source": [
    "learner.lr_find()"
   ]
  },
  {
   "cell_type": "code",
   "execution_count": 12,
   "id": "0545e789-f5a4-4a88-876b-25df03bc8698",
   "metadata": {},
   "outputs": [
    {
     "name": "stdout",
     "output_type": "stream",
     "text": [
      "Three possible suggestions for LR from plot:\n",
      "\tLongest valley (red): 6.61E-04\n",
      "\tMin numerical gradient (purple): 1.11E-03\n",
      "\tMin loss divided by 10 (omitted from plot): 4.43E-02\n"
     ]
    },
    {
     "data": {
      "image/png": "[encoded data removed]",
      "text/plain": [
       "<Figure size 576x432 with 1 Axes>"
      ]
     },
     "metadata": {
      "needs_background": "light"
     },
     "output_type": "display_data"
    }
   ],
   "source": [
    "learner.lr_plot(suggest=True)"
   ]
  },
  {
   "cell_type": "code",
   "execution_count": 13,
   "id": "eb53b3ef-9c77-4b58-8652-39ff1b820d96",
   "metadata": {},
   "outputs": [
    {
     "data": {
      "text/plain": [
       "14720"
      ]
     },
     "execution_count": 13,
     "metadata": {},
     "output_type": "execute_result"
    }
   ],
   "source": [
    "import gc\n",
    "gc.collect()"
   ]
  },
  {
   "cell_type": "code",
   "execution_count": 14,
   "id": "9a7bc33e-33ba-4a33-899e-21723b1f25e9",
   "metadata": {},
   "outputs": [
    {
     "name": "stdout",
     "output_type": "stream",
     "text": [
      "\n",
      "\n",
      "begin training using onecycle policy with max lr of 0.000661...\n",
      "Epoch 1/10\n",
      "121/121 [==============================] - 0s 2ms/step - loss: 0.6241 - accuracy: 0.7040 - val_loss: 0.5577 - val_accuracy: 0.8037\n",
      "Epoch 2/10\n",
      "121/121 [==============================] - 0s 1ms/step - loss: 0.5006 - accuracy: 0.8300 - val_loss: 0.4554 - val_accuracy: 0.8540\n",
      "Epoch 3/10\n",
      "121/121 [==============================] - 0s 1ms/step - loss: 0.4042 - accuracy: 0.8851 - val_loss: 0.3786 - val_accuracy: 0.8937\n",
      "Epoch 4/10\n",
      "121/121 [==============================] - 0s 1ms/step - loss: 0.3306 - accuracy: 0.9242 - val_loss: 0.3212 - val_accuracy: 0.9206\n",
      "Epoch 5/10\n",
      "121/121 [==============================] - 0s 1ms/step - loss: 0.2753 - accuracy: 0.9403 - val_loss: 0.2788 - val_accuracy: 0.9299\n",
      "Epoch 6/10\n",
      "121/121 [==============================] - 0s 1ms/step - loss: 0.2348 - accuracy: 0.9499 - val_loss: 0.2515 - val_accuracy: 0.9322\n",
      "Epoch 7/10\n",
      "121/121 [==============================] - 0s 1ms/step - loss: 0.2095 - accuracy: 0.9557 - val_loss: 0.2357 - val_accuracy: 0.9381\n",
      "Epoch 8/10\n",
      "121/121 [==============================] - 0s 1ms/step - loss: 0.1942 - accuracy: 0.9605 - val_loss: 0.2263 - val_accuracy: 0.9428\n",
      "Epoch 9/10\n",
      "121/121 [==============================] - 0s 1ms/step - loss: 0.1849 - accuracy: 0.9624 - val_loss: 0.2211 - val_accuracy: 0.9463\n",
      "Epoch 10/10\n",
      "121/121 [==============================] - 0s 1ms/step - loss: 0.1803 - accuracy: 0.9635 - val_loss: 0.2194 - val_accuracy: 0.9451\n"
     ]
    },
    {
     "data": {
      "text/plain": [
       "<keras.callbacks.History at 0x7f258f69cc70>"
      ]
     },
     "execution_count": 14,
     "metadata": {},
     "output_type": "execute_result"
    }
   ],
   "source": [
    "# 2e-5 is one of the LRs  recommended by Google and is consistent with the plot above.\n",
    "learner.fit_onecycle(6.61E-04, 10)"
   ]
  },
  {
   "cell_type": "code",
   "execution_count": 15,
   "id": "9d5f6df3-7f10-47bd-99de-bcf48a300ea3",
   "metadata": {},
   "outputs": [
    {
     "data": {
      "image/png": "[encoded data removed]",
      "text/plain": [
       "<Figure size 576x432 with 1 Axes>"
      ]
     },
     "metadata": {
      "needs_background": "light"
     },
     "output_type": "display_data"
    }
   ],
   "source": [
    "plt.plot(learner.history.history[\"accuracy\"])\n",
    "plt.plot(learner.history.history[\"val_accuracy\"])\n",
    "plt.legend([\"acc\", \"val-acc\"])\n",
    "plt.xlabel(\"epochs\")\n",
    "plt.ylabel(\"accuracy\")\n",
    "plt.show()"
   ]
  },
  {
   "cell_type": "code",
   "execution_count": 16,
   "id": "904da882-1d19-41ac-89ad-54d270619f6d",
   "metadata": {},
   "outputs": [
    {
     "data": {
      "image/png": "[encoded data removed]",
      "text/plain": [
       "<Figure size 576x432 with 1 Axes>"
      ]
     },
     "metadata": {
      "needs_background": "light"
     },
     "output_type": "display_data"
    }
   ],
   "source": [
    "plt.plot(learner.history.history[\"loss\"])\n",
    "plt.plot(learner.history.history[\"val_loss\"])\n",
    "plt.legend([\"loss\", \"val-loss\"])\n",
    "plt.xlabel(\"epochs\")\n",
    "plt.ylabel(\"loss\")\n",
    "plt.show()"
   ]
  },
  {
   "cell_type": "code",
   "execution_count": 17,
   "id": "1c03a40f-c452-450a-9040-9718c244f9ea",
   "metadata": {},
   "outputs": [],
   "source": [
    "predictor = ktrain.get_predictor(learner.model, preproc)"
   ]
  },
  {
   "cell_type": "code",
   "execution_count": 18,
   "id": "41e25d55-d4d4-42b7-8b27-fbc44b36de2d",
   "metadata": {},
   "outputs": [
    {
     "data": {
      "text/html": [
       "<div>\n",
       "<style scoped>\n",
       "    .dataframe tbody tr th:only-of-type {\n",
       "        vertical-align: middle;\n",
       "    }\n",
       "\n",
       "    .dataframe tbody tr th {\n",
       "        vertical-align: top;\n",
       "    }\n",
       "\n",
       "    .dataframe thead th {\n",
       "        text-align: right;\n",
       "    }\n",
       "</style>\n",
       "<table border=\"1\" class=\"dataframe\">\n",
       "  <thead>\n",
       "    <tr style=\"text-align: right;\">\n",
       "      <th></th>\n",
       "      <th>tweet</th>\n",
       "      <th>label</th>\n",
       "    </tr>\n",
       "    <tr>\n",
       "      <th>id</th>\n",
       "      <th></th>\n",
       "      <th></th>\n",
       "    </tr>\n",
       "  </thead>\n",
       "  <tbody>\n",
       "    <tr>\n",
       "      <th>2034</th>\n",
       "      <td>Infamous Dubliner Janey Mac Tests Positive For...</td>\n",
       "      <td>fake</td>\n",
       "    </tr>\n",
       "    <tr>\n",
       "      <th>772</th>\n",
       "      <td>This year's list considered COVID-specific met...</td>\n",
       "      <td>real</td>\n",
       "    </tr>\n",
       "    <tr>\n",
       "      <th>1343</th>\n",
       "      <td>There have been no cases of infection in Beiji...</td>\n",
       "      <td>fake</td>\n",
       "    </tr>\n",
       "    <tr>\n",
       "      <th>1851</th>\n",
       "      <td>#IndiaFightsCorona: India's daily testing capa...</td>\n",
       "      <td>real</td>\n",
       "    </tr>\n",
       "    <tr>\n",
       "      <th>1061</th>\n",
       "      <td>Hundreds of doctors won’t start their residenc...</td>\n",
       "      <td>real</td>\n",
       "    </tr>\n",
       "    <tr>\n",
       "      <th>253</th>\n",
       "      <td>There is a Nipah Virus outbreak in India amids...</td>\n",
       "      <td>fake</td>\n",
       "    </tr>\n",
       "    <tr>\n",
       "      <th>277</th>\n",
       "      <td>Several social media users shared a picture of...</td>\n",
       "      <td>fake</td>\n",
       "    </tr>\n",
       "    <tr>\n",
       "      <th>752</th>\n",
       "      <td>Australia appears to be heading for its lowest...</td>\n",
       "      <td>real</td>\n",
       "    </tr>\n",
       "    <tr>\n",
       "      <th>1010</th>\n",
       "      <td>Together we have kept COVID out for 102 days -...</td>\n",
       "      <td>real</td>\n",
       "    </tr>\n",
       "    <tr>\n",
       "      <th>1475</th>\n",
       "      <td>Our national contact tracing system has record...</td>\n",
       "      <td>real</td>\n",
       "    </tr>\n",
       "  </tbody>\n",
       "</table>\n",
       "</div>"
      ],
      "text/plain": [
       "                                                  tweet label\n",
       "id                                                           \n",
       "2034  Infamous Dubliner Janey Mac Tests Positive For...  fake\n",
       "772   This year's list considered COVID-specific met...  real\n",
       "1343  There have been no cases of infection in Beiji...  fake\n",
       "1851  #IndiaFightsCorona: India's daily testing capa...  real\n",
       "1061  Hundreds of doctors won’t start their residenc...  real\n",
       "253   There is a Nipah Virus outbreak in India amids...  fake\n",
       "277   Several social media users shared a picture of...  fake\n",
       "752   Australia appears to be heading for its lowest...  real\n",
       "1010  Together we have kept COVID out for 102 days -...  real\n",
       "1475  Our national contact tracing system has record...  real"
      ]
     },
     "execution_count": 18,
     "metadata": {},
     "output_type": "execute_result"
    }
   ],
   "source": [
    "test_data = pd.read_csv(\"./data/TestLabel.csv\", index_col=0)\n",
    "test_data.sample(10)"
   ]
  },
  {
   "cell_type": "code",
   "execution_count": 19,
   "id": "a319c9d0-d385-4e1e-a3c1-be407dfb9d64",
   "metadata": {},
   "outputs": [
    {
     "data": {
      "text/plain": [
       "array([[0.01472371, 0.9852763 ],\n",
       "       [0.8122849 , 0.18771516],\n",
       "       [0.99606824, 0.00393174],\n",
       "       [0.01207142, 0.98792857],\n",
       "       [0.1140613 , 0.8859387 ]], dtype=float32)"
      ]
     },
     "execution_count": 19,
     "metadata": {},
     "output_type": "execute_result"
    }
   ],
   "source": [
    "probs = predictor.predict_proba(test_data[\"tweet\"].values)\n",
    "probs[:5]"
   ]
  },
  {
   "cell_type": "code",
   "execution_count": 24,
   "id": "169052d4-d00b-473a-a4cb-4d30d9d383a4",
   "metadata": {},
   "outputs": [
    {
     "data": {
      "text/plain": [
       "id\n",
       "1     True\n",
       "2    False\n",
       "3    False\n",
       "4     True\n",
       "5     True\n",
       "Name: label, dtype: bool"
      ]
     },
     "execution_count": 24,
     "metadata": {},
     "output_type": "execute_result"
    }
   ],
   "source": [
    "y = (test_data.label == \"real\")\n",
    "y.head()"
   ]
  },
  {
   "cell_type": "code",
   "execution_count": 21,
   "id": "99f0de1c-1ef8-4c32-99d3-fcbbd9e97b8c",
   "metadata": {},
   "outputs": [],
   "source": [
    "import metrics as mmetrics"
   ]
  },
  {
   "cell_type": "code",
   "execution_count": 25,
   "id": "837e6430-da39-4f69-b298-d6a3f43fb348",
   "metadata": {},
   "outputs": [
    {
     "data": {
      "text/html": [
       "<div>\n",
       "<style scoped>\n",
       "    .dataframe tbody tr th:only-of-type {\n",
       "        vertical-align: middle;\n",
       "    }\n",
       "\n",
       "    .dataframe tbody tr th {\n",
       "        vertical-align: top;\n",
       "    }\n",
       "\n",
       "    .dataframe thead th {\n",
       "        text-align: right;\n",
       "    }\n",
       "</style>\n",
       "<table border=\"1\" class=\"dataframe\">\n",
       "  <thead>\n",
       "    <tr style=\"text-align: right;\">\n",
       "      <th></th>\n",
       "      <th>TP</th>\n",
       "      <th>TN</th>\n",
       "      <th>FP</th>\n",
       "      <th>FN</th>\n",
       "      <th>Accuracy</th>\n",
       "      <th>Prevalence</th>\n",
       "      <th>Sensitivity</th>\n",
       "      <th>Specificity</th>\n",
       "      <th>PPV</th>\n",
       "      <th>NPV</th>\n",
       "      <th>AUC</th>\n",
       "      <th>F1</th>\n",
       "      <th>Threshold</th>\n",
       "    </tr>\n",
       "    <tr>\n",
       "      <th></th>\n",
       "      <th></th>\n",
       "      <th></th>\n",
       "      <th></th>\n",
       "      <th></th>\n",
       "      <th></th>\n",
       "      <th></th>\n",
       "      <th></th>\n",
       "      <th></th>\n",
       "      <th></th>\n",
       "      <th></th>\n",
       "      <th></th>\n",
       "      <th></th>\n",
       "      <th></th>\n",
       "    </tr>\n",
       "  </thead>\n",
       "  <tbody>\n",
       "    <tr>\n",
       "      <th>nbsvm</th>\n",
       "      <td>1070</td>\n",
       "      <td>923</td>\n",
       "      <td>97</td>\n",
       "      <td>50</td>\n",
       "      <td>0.931</td>\n",
       "      <td>0.523</td>\n",
       "      <td>0.955</td>\n",
       "      <td>0.905</td>\n",
       "      <td>0.917</td>\n",
       "      <td>0.949</td>\n",
       "      <td>0.986</td>\n",
       "      <td>0.936</td>\n",
       "      <td>0.5</td>\n",
       "    </tr>\n",
       "  </tbody>\n",
       "</table>\n",
       "</div>"
      ],
      "text/plain": [
       "         TP   TN  FP  FN Accuracy Prevalence Sensitivity Specificity    PPV  \\\n",
       "                                                                              \n",
       "nbsvm  1070  923  97  50    0.931      0.523       0.955       0.905  0.917   \n",
       "\n",
       "         NPV    AUC     F1 Threshold  \n",
       "                                      \n",
       "nbsvm  0.949  0.986  0.936       0.5  "
      ]
     },
     "execution_count": 25,
     "metadata": {},
     "output_type": "execute_result"
    }
   ],
   "source": [
    "y = y.values.reshape((-1, 1))\n",
    "\n",
    "perfs = mmetrics.get_performance_metrics(y, probs[:, 1:], [\"nbsvm\"])\n",
    "perfs"
   ]
  },
  {
   "cell_type": "code",
   "execution_count": null,
   "id": "02a0aa4a-3e3e-4f64-b6ee-865611cc4068",
   "metadata": {},
   "outputs": [],
   "source": []
  }
 ],
 "metadata": {
  "kernelspec": {
   "display_name": "Python 3",
   "language": "python",
   "name": "python3"
  },
  "language_info": {
   "codemirror_mode": {
    "name": "ipython",
    "version": 3
   },
   "file_extension": ".py",
   "mimetype": "text/x-python",
   "name": "python",
   "nbconvert_exporter": "python",
   "pygments_lexer": "ipython3",
   "version": "3.8.8"
  }
 },
 "nbformat": 4,
 "nbformat_minor": 5
}
