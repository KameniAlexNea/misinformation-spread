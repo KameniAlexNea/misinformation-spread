{
 "cells": [
  {
   "cell_type": "code",
   "execution_count": 1,
   "id": "e8ed85d7-2f9c-4204-830c-b9e3eada386c",
   "metadata": {},
   "outputs": [],
   "source": [
    "%reload_ext autoreload\n",
    "%autoreload 2\n",
    "%matplotlib inline\n",
    "import os\n",
    "os.environ[\"CUDA_DEVICE_ORDER\"]=\"PCI_BUS_ID\";\n",
    "os.environ[\"CUDA_VISIBLE_DEVICES\"]=\"0\";"
   ]
  },
  {
   "cell_type": "code",
   "execution_count": 2,
   "id": "40a85a0e-088a-4573-8ceb-cc268a9d7ef2",
   "metadata": {},
   "outputs": [],
   "source": [
    "import ktrain\n",
    "from ktrain import text"
   ]
  },
  {
   "cell_type": "code",
   "execution_count": 3,
   "id": "c792db7a-e0b7-4af0-b7f9-55ce595f5d27",
   "metadata": {},
   "outputs": [],
   "source": [
    "import os\n",
    "import datetime\n",
    "\n",
    "import IPython\n",
    "import IPython.display\n",
    "import matplotlib as mpl\n",
    "import matplotlib.pyplot as plt\n",
    "import numpy as np\n",
    "import pandas as pd\n",
    "import seaborn as sns\n",
    "import warnings\n",
    "from IPython.display import Markdown\n",
    "from IPython.display import display\n",
    "\n",
    "mpl.rcParams['figure.figsize'] = (8, 6)\n",
    "mpl.rcParams['axes.grid'] = False\n",
    "warnings.filterwarnings(\"ignore\")\n",
    "\n",
    "pd.set_option('display.max_columns', None)"
   ]
  },
  {
   "cell_type": "code",
   "execution_count": 4,
   "id": "980c5db0-aeeb-4c4b-8d60-08926b86487f",
   "metadata": {},
   "outputs": [
    {
     "data": {
      "text/html": [
       "<div>\n",
       "<style scoped>\n",
       "    .dataframe tbody tr th:only-of-type {\n",
       "        vertical-align: middle;\n",
       "    }\n",
       "\n",
       "    .dataframe tbody tr th {\n",
       "        vertical-align: top;\n",
       "    }\n",
       "\n",
       "    .dataframe thead th {\n",
       "        text-align: right;\n",
       "    }\n",
       "</style>\n",
       "<table border=\"1\" class=\"dataframe\">\n",
       "  <thead>\n",
       "    <tr style=\"text-align: right;\">\n",
       "      <th></th>\n",
       "      <th>tweet</th>\n",
       "      <th>label</th>\n",
       "      <th>tweet_cleaned</th>\n",
       "      <th>tweet_len</th>\n",
       "    </tr>\n",
       "  </thead>\n",
       "  <tbody>\n",
       "    <tr>\n",
       "      <th>886</th>\n",
       "      <td>After revision São Paulo state registers only ...</td>\n",
       "      <td>fake</td>\n",
       "      <td>revis são paulo state regist 26 death covid 19</td>\n",
       "      <td>11</td>\n",
       "    </tr>\n",
       "    <tr>\n",
       "      <th>2675</th>\n",
       "      <td>Between 500,000 and 3.5 million people attende...</td>\n",
       "      <td>fake</td>\n",
       "      <td>500,000 3.5 million peopl attend anti-corona p...</td>\n",
       "      <td>15</td>\n",
       "    </tr>\n",
       "    <tr>\n",
       "      <th>93</th>\n",
       "      <td>Pregnant women with COVID have a 25% higher ra...</td>\n",
       "      <td>real</td>\n",
       "      <td>pregnant women covid 25 higher rate prematur b...</td>\n",
       "      <td>13</td>\n",
       "    </tr>\n",
       "    <tr>\n",
       "      <th>5126</th>\n",
       "      <td>You can beat the virus with warm water, salt o...</td>\n",
       "      <td>fake</td>\n",
       "      <td>beat viru warm water salt vinegar</td>\n",
       "      <td>11</td>\n",
       "    </tr>\n",
       "    <tr>\n",
       "      <th>4531</th>\n",
       "      <td>An excerpt from a document from the Ministry o...</td>\n",
       "      <td>fake</td>\n",
       "      <td>excerpt document ministri health follow messag...</td>\n",
       "      <td>54</td>\n",
       "    </tr>\n",
       "    <tr>\n",
       "      <th>6413</th>\n",
       "      <td>States like New York Illinois and California h...</td>\n",
       "      <td>fake</td>\n",
       "      <td>state like new york illinoi california vocal d...</td>\n",
       "      <td>38</td>\n",
       "    </tr>\n",
       "    <tr>\n",
       "      <th>6721</th>\n",
       "      <td>The leader of the UK's six million trade union...</td>\n",
       "      <td>real</td>\n",
       "      <td>leader uk' six million trade union member dema...</td>\n",
       "      <td>27</td>\n",
       "    </tr>\n",
       "    <tr>\n",
       "      <th>7948</th>\n",
       "      <td>Our daily 4 pm update is out! Across 50 states...</td>\n",
       "      <td>real</td>\n",
       "      <td>daili 4 pm updat across 50 state dc we'v track...</td>\n",
       "      <td>43</td>\n",
       "    </tr>\n",
       "    <tr>\n",
       "      <th>5337</th>\n",
       "      <td>Says the U.S. is developing an ???antivirus??�...</td>\n",
       "      <td>fake</td>\n",
       "      <td>say u develop antiviru � includ chip track mov...</td>\n",
       "      <td>15</td>\n",
       "    </tr>\n",
       "    <tr>\n",
       "      <th>1624</th>\n",
       "      <td>Yesterday our laboratories completed 2057 test...</td>\n",
       "      <td>real</td>\n",
       "      <td>yesterday laboratori complet 2057 test bring t...</td>\n",
       "      <td>18</td>\n",
       "    </tr>\n",
       "  </tbody>\n",
       "</table>\n",
       "</div>"
      ],
      "text/plain": [
       "                                                  tweet label  \\\n",
       "886   After revision São Paulo state registers only ...  fake   \n",
       "2675  Between 500,000 and 3.5 million people attende...  fake   \n",
       "93    Pregnant women with COVID have a 25% higher ra...  real   \n",
       "5126  You can beat the virus with warm water, salt o...  fake   \n",
       "4531  An excerpt from a document from the Ministry o...  fake   \n",
       "6413  States like New York Illinois and California h...  fake   \n",
       "6721  The leader of the UK's six million trade union...  real   \n",
       "7948  Our daily 4 pm update is out! Across 50 states...  real   \n",
       "5337  Says the U.S. is developing an ???antivirus??�...  fake   \n",
       "1624  Yesterday our laboratories completed 2057 test...  real   \n",
       "\n",
       "                                          tweet_cleaned  tweet_len  \n",
       "886      revis são paulo state regist 26 death covid 19         11  \n",
       "2675  500,000 3.5 million peopl attend anti-corona p...         15  \n",
       "93    pregnant women covid 25 higher rate prematur b...         13  \n",
       "5126                  beat viru warm water salt vinegar         11  \n",
       "4531  excerpt document ministri health follow messag...         54  \n",
       "6413  state like new york illinoi california vocal d...         38  \n",
       "6721  leader uk' six million trade union member dema...         27  \n",
       "7948  daili 4 pm updat across 50 state dc we'v track...         43  \n",
       "5337  say u develop antiviru � includ chip track mov...         15  \n",
       "1624  yesterday laboratori complet 2057 test bring t...         18  "
      ]
     },
     "execution_count": 4,
     "metadata": {},
     "output_type": "execute_result"
    }
   ],
   "source": [
    "data = pd.read_csv(\"./data/TrainVal.csv\")\n",
    "data.sample(10)"
   ]
  },
  {
   "cell_type": "code",
   "execution_count": 5,
   "id": "58a8ffa5-0c6f-4ec8-982f-08b97d1640ac",
   "metadata": {},
   "outputs": [
    {
     "data": {
      "text/plain": [
       "count    8560.00000\n",
       "mean       26.94778\n",
       "std        22.45087\n",
       "min         3.00000\n",
       "25%        15.00000\n",
       "50%        25.00000\n",
       "75%        37.00000\n",
       "90%        44.00000\n",
       "95%        47.00000\n",
       "max      1456.00000\n",
       "Name: tweet, dtype: float64"
      ]
     },
     "execution_count": 5,
     "metadata": {},
     "output_type": "execute_result"
    }
   ],
   "source": [
    "data.tweet.str.split().apply(len).describe(percentiles=[0.25, 0.5, 0.75, 0.9, 0.95])"
   ]
  },
  {
   "cell_type": "code",
   "execution_count": 6,
   "id": "aea1a563-ac0c-4b06-86fe-9e372a07a70a",
   "metadata": {},
   "outputs": [
    {
     "data": {
      "text/plain": [
       "real    4480\n",
       "fake    4080\n",
       "Name: label, dtype: int64"
      ]
     },
     "execution_count": 6,
     "metadata": {},
     "output_type": "execute_result"
    }
   ],
   "source": [
    "data.label.value_counts()"
   ]
  },
  {
   "cell_type": "code",
   "execution_count": 7,
   "id": "a5af6ab6-a6d8-4dc1-aa7a-81437327665e",
   "metadata": {},
   "outputs": [
    {
     "name": "stdout",
     "output_type": "stream",
     "text": [
      "['fake', 'real']\n",
      "      fake  real\n",
      "5065   1.0   0.0\n",
      "4761   0.0   1.0\n",
      "2623   1.0   0.0\n",
      "7367   1.0   0.0\n",
      "3498   1.0   0.0\n",
      "['fake', 'real']\n",
      "      fake  real\n",
      "1214   1.0   0.0\n",
      "6002   1.0   0.0\n",
      "3262   1.0   0.0\n",
      "5198   0.0   1.0\n",
      "2164   0.0   1.0\n",
      "language: en\n",
      "Word Counts: 22133\n",
      "Nrows: 7704\n",
      "7704 train sequences\n",
      "train sequence lengths:\n",
      "\tmean : 30\n",
      "\t95percentile : 51\n",
      "\t99percentile : 58\n",
      "x_train shape: (7704,50)\n",
      "y_train shape: (7704, 2)\n",
      "Is Multi-Label? False\n",
      "856 test sequences\n",
      "test sequence lengths:\n",
      "\tmean : 28\n",
      "\t95percentile : 49\n",
      "\t99percentile : 56\n",
      "x_test shape: (856,50)\n",
      "y_test shape: (856, 2)\n"
     ]
    }
   ],
   "source": [
    "trn, val, preproc = text.texts_from_df(\n",
    "    data,\n",
    "    text_column = \"tweet\",\n",
    "    label_columns=\"label\",\n",
    "    maxlen=50,\n",
    "    ngram_range=1,\n",
    "    random_state=41,\n",
    "    preprocess_mode=\"standard\"\n",
    ")"
   ]
  },
  {
   "cell_type": "code",
   "execution_count": 8,
   "id": "171fee3d-ffdd-4c95-8919-ff17804ef7ea",
   "metadata": {},
   "outputs": [
    {
     "name": "stdout",
     "output_type": "stream",
     "text": [
      "Is Multi-Label? False\n",
      "compiling word ID features...\n",
      "maxlen is 50\n",
      "word vectors will be loaded from: https://dl.fbaipublicfiles.com/fasttext/vectors-crawl/cc.en.300.vec.gz\n",
      "processing pretrained word vectors...\n",
      "loading pretrained word vectors...this may take a few moments...\n"
     ]
    },
    {
     "data": {
      "text/html": [],
      "text/plain": [
       "<IPython.core.display.HTML object>"
      ]
     },
     "metadata": {},
     "output_type": "display_data"
    },
    {
     "name": "stdout",
     "output_type": "stream",
     "text": [
      "done.\n"
     ]
    }
   ],
   "source": [
    "model = text.text_classifier('bigru', trn , preproc=preproc)"
   ]
  },
  {
   "cell_type": "code",
   "execution_count": 9,
   "id": "8f4da6d3-0c2b-42ea-9f24-74ad44b0ad4c",
   "metadata": {
    "tags": []
   },
   "outputs": [
    {
     "name": "stdout",
     "output_type": "stream",
     "text": [
      "Model: \"model\"\n",
      "__________________________________________________________________________________________________\n",
      " Layer (type)                   Output Shape         Param #     Connected to                     \n",
      "==================================================================================================\n",
      " input_1 (InputLayer)           [(None, 50)]         0           []                               \n",
      "                                                                                                  \n",
      " embedding (Embedding)          (None, 50, 300)      6000000     ['input_1[0][0]']                \n",
      "                                                                                                  \n",
      " spatial_dropout1d (SpatialDrop  (None, 50, 300)     0           ['embedding[0][0]']              \n",
      " out1D)                                                                                           \n",
      "                                                                                                  \n",
      " bidirectional (Bidirectional)  (None, 50, 160)      183360      ['spatial_dropout1d[0][0]']      \n",
      "                                                                                                  \n",
      " global_average_pooling1d (Glob  (None, 160)         0           ['bidirectional[0][0]']          \n",
      " alAveragePooling1D)                                                                              \n",
      "                                                                                                  \n",
      " global_max_pooling1d (GlobalMa  (None, 160)         0           ['bidirectional[0][0]']          \n",
      " xPooling1D)                                                                                      \n",
      "                                                                                                  \n",
      " concatenate (Concatenate)      (None, 320)          0           ['global_average_pooling1d[0][0]'\n",
      "                                                                 , 'global_max_pooling1d[0][0]']  \n",
      "                                                                                                  \n",
      " dense (Dense)                  (None, 2)            642         ['concatenate[0][0]']            \n",
      "                                                                                                  \n",
      "==================================================================================================\n",
      "Total params: 6,184,002\n",
      "Trainable params: 6,184,002\n",
      "Non-trainable params: 0\n",
      "__________________________________________________________________________________________________\n"
     ]
    }
   ],
   "source": [
    "model.summary()"
   ]
  },
  {
   "cell_type": "code",
   "execution_count": 10,
   "id": "c6a54462-890d-4562-ae5d-dc109da0dd5b",
   "metadata": {},
   "outputs": [],
   "source": [
    "learner = ktrain.get_learner(model, \n",
    "                             train_data=trn, \n",
    "                             val_data=val, \n",
    "                             batch_size=64)"
   ]
  },
  {
   "cell_type": "code",
   "execution_count": 11,
   "id": "56da6128-a787-4d6c-af32-39d4e2087446",
   "metadata": {},
   "outputs": [
    {
     "name": "stdout",
     "output_type": "stream",
     "text": [
      "simulating training for different learning rates... this may take a few moments...\n",
      "Epoch 1/1024\n",
      "121/121 [==============================] - 10s 70ms/step - loss: 0.6829 - accuracy: 0.5553\n",
      "Epoch 2/1024\n",
      "121/121 [==============================] - 8s 69ms/step - loss: 0.6820 - accuracy: 0.5627\n",
      "Epoch 3/1024\n",
      "121/121 [==============================] - 8s 70ms/step - loss: 0.6799 - accuracy: 0.5742\n",
      "Epoch 4/1024\n",
      "121/121 [==============================] - 8s 70ms/step - loss: 0.6720 - accuracy: 0.5796\n",
      "Epoch 5/1024\n",
      "121/121 [==============================] - 8s 70ms/step - loss: 0.6507 - accuracy: 0.6297\n",
      "Epoch 6/1024\n",
      "121/121 [==============================] - 8s 70ms/step - loss: 0.5800 - accuracy: 0.7495\n",
      "Epoch 7/1024\n",
      "121/121 [==============================] - 8s 69ms/step - loss: 0.3038 - accuracy: 0.8662\n",
      "Epoch 8/1024\n",
      "121/121 [==============================] - 8s 69ms/step - loss: 0.1062 - accuracy: 0.9596\n",
      "Epoch 9/1024\n",
      "121/121 [==============================] - 8s 70ms/step - loss: 0.0500 - accuracy: 0.9820\n",
      "Epoch 10/1024\n",
      "121/121 [==============================] - 8s 69ms/step - loss: 0.0399 - accuracy: 0.9860\n",
      "Epoch 11/1024\n",
      "121/121 [==============================] - 8s 70ms/step - loss: 0.1829 - accuracy: 0.9651\n",
      "Epoch 12/1024\n",
      "121/121 [==============================] - 0s 5us/step - loss: 3.3850 - accuracy: 0.7031\n",
      "\n",
      "\n",
      "done.\n",
      "Please invoke the Learner.lr_plot() method to visually inspect the loss plot to help identify the maximal learning rate associated with falling loss.\n"
     ]
    }
   ],
   "source": [
    "learner.lr_find()"
   ]
  },
  {
   "cell_type": "code",
   "execution_count": 12,
   "id": "0545e789-f5a4-4a88-876b-25df03bc8698",
   "metadata": {},
   "outputs": [
    {
     "name": "stdout",
     "output_type": "stream",
     "text": [
      "Three possible suggestions for LR from plot:\n",
      "\tLongest valley (red): 1.89E-04\n",
      "\tMin numerical gradient (purple): 3.33E-04\n",
      "\tMin loss divided by 10 (omitted from plot): 2.47E-03\n"
     ]
    },
    {
     "data": {
      "image/png": "[encoded data removed]",
      "text/plain": [
       "<Figure size 576x432 with 1 Axes>"
      ]
     },
     "metadata": {
      "needs_background": "light"
     },
     "output_type": "display_data"
    }
   ],
   "source": [
    "learner.lr_plot(suggest=True)"
   ]
  },
  {
   "cell_type": "code",
   "execution_count": 13,
   "id": "eb53b3ef-9c77-4b58-8652-39ff1b820d96",
   "metadata": {},
   "outputs": [
    {
     "data": {
      "text/plain": [
       "24545"
      ]
     },
     "execution_count": 13,
     "metadata": {},
     "output_type": "execute_result"
    }
   ],
   "source": [
    "import gc\n",
    "gc.collect()"
   ]
  },
  {
   "cell_type": "code",
   "execution_count": 14,
   "id": "9a7bc33e-33ba-4a33-899e-21723b1f25e9",
   "metadata": {},
   "outputs": [
    {
     "name": "stdout",
     "output_type": "stream",
     "text": [
      "\n",
      "\n",
      "begin training using onecycle policy with max lr of 0.000189...\n",
      "Epoch 1/10\n",
      "121/121 [==============================] - 11s 75ms/step - loss: 0.6596 - accuracy: 0.5990 - val_loss: 0.6223 - val_accuracy: 0.7220\n",
      "Epoch 2/10\n",
      "121/121 [==============================] - 9s 71ms/step - loss: 0.5828 - accuracy: 0.7517 - val_loss: 0.5024 - val_accuracy: 0.7967\n",
      "Epoch 3/10\n",
      "121/121 [==============================] - 9s 71ms/step - loss: 0.4292 - accuracy: 0.8175 - val_loss: 0.2748 - val_accuracy: 0.8808\n",
      "Epoch 4/10\n",
      "121/121 [==============================] - 9s 72ms/step - loss: 0.2175 - accuracy: 0.9115 - val_loss: 0.1559 - val_accuracy: 0.9334\n",
      "Epoch 5/10\n",
      "121/121 [==============================] - 9s 71ms/step - loss: 0.1163 - accuracy: 0.9577 - val_loss: 0.1262 - val_accuracy: 0.9486\n",
      "Epoch 6/10\n",
      "121/121 [==============================] - 9s 71ms/step - loss: 0.0633 - accuracy: 0.9781 - val_loss: 0.1218 - val_accuracy: 0.9486\n",
      "Epoch 7/10\n",
      "121/121 [==============================] - 9s 71ms/step - loss: 0.0345 - accuracy: 0.9894 - val_loss: 0.1487 - val_accuracy: 0.9556\n",
      "Epoch 8/10\n",
      "121/121 [==============================] - 9s 71ms/step - loss: 0.0231 - accuracy: 0.9922 - val_loss: 0.1513 - val_accuracy: 0.9544\n",
      "Epoch 9/10\n",
      "121/121 [==============================] - 9s 71ms/step - loss: 0.0154 - accuracy: 0.9951 - val_loss: 0.1448 - val_accuracy: 0.9509\n",
      "Epoch 10/10\n",
      "121/121 [==============================] - 9s 71ms/step - loss: 0.0131 - accuracy: 0.9971 - val_loss: 0.1474 - val_accuracy: 0.9509\n"
     ]
    },
    {
     "data": {
      "text/plain": [
       "<keras.callbacks.History at 0x7f0ef12effa0>"
      ]
     },
     "execution_count": 14,
     "metadata": {},
     "output_type": "execute_result"
    }
   ],
   "source": [
    "# 2e-5 is one of the LRs  recommended by Google and is consistent with the plot above.\n",
    "learner.fit_onecycle(1.89E-04, 10)"
   ]
  },
  {
   "cell_type": "code",
   "execution_count": 15,
   "id": "9d5f6df3-7f10-47bd-99de-bcf48a300ea3",
   "metadata": {},
   "outputs": [
    {
     "data": {
      "image/png": "[encoded data removed]",
      "text/plain": [
       "<Figure size 576x432 with 1 Axes>"
      ]
     },
     "metadata": {
      "needs_background": "light"
     },
     "output_type": "display_data"
    }
   ],
   "source": [
    "plt.plot(learner.history.history[\"accuracy\"])\n",
    "plt.plot(learner.history.history[\"val_accuracy\"])\n",
    "plt.legend([\"acc\", \"val-acc\"])\n",
    "plt.xlabel(\"epochs\")\n",
    "plt.ylabel(\"accuracy\")\n",
    "plt.show()"
   ]
  },
  {
   "cell_type": "code",
   "execution_count": 16,
   "id": "904da882-1d19-41ac-89ad-54d270619f6d",
   "metadata": {},
   "outputs": [
    {
     "data": {
      "image/png": "[encoded data removed]",
      "text/plain": [
       "<Figure size 576x432 with 1 Axes>"
      ]
     },
     "metadata": {
      "needs_background": "light"
     },
     "output_type": "display_data"
    }
   ],
   "source": [
    "plt.plot(learner.history.history[\"loss\"])\n",
    "plt.plot(learner.history.history[\"val_loss\"])\n",
    "plt.legend([\"loss\", \"val-loss\"])\n",
    "plt.xlabel(\"epochs\")\n",
    "plt.ylabel(\"loss\")\n",
    "plt.show()"
   ]
  },
  {
   "cell_type": "code",
   "execution_count": 17,
   "id": "1c03a40f-c452-450a-9040-9718c244f9ea",
   "metadata": {},
   "outputs": [],
   "source": [
    "predictor = ktrain.get_predictor(learner.model, preproc)"
   ]
  },
  {
   "cell_type": "code",
   "execution_count": 18,
   "id": "41e25d55-d4d4-42b7-8b27-fbc44b36de2d",
   "metadata": {},
   "outputs": [
    {
     "data": {
      "text/html": [
       "<div>\n",
       "<style scoped>\n",
       "    .dataframe tbody tr th:only-of-type {\n",
       "        vertical-align: middle;\n",
       "    }\n",
       "\n",
       "    .dataframe tbody tr th {\n",
       "        vertical-align: top;\n",
       "    }\n",
       "\n",
       "    .dataframe thead th {\n",
       "        text-align: right;\n",
       "    }\n",
       "</style>\n",
       "<table border=\"1\" class=\"dataframe\">\n",
       "  <thead>\n",
       "    <tr style=\"text-align: right;\">\n",
       "      <th></th>\n",
       "      <th>tweet</th>\n",
       "      <th>label</th>\n",
       "    </tr>\n",
       "    <tr>\n",
       "      <th>id</th>\n",
       "      <th></th>\n",
       "      <th></th>\n",
       "    </tr>\n",
       "  </thead>\n",
       "  <tbody>\n",
       "    <tr>\n",
       "      <th>1389</th>\n",
       "      <td>Our total number of confirmed cases is 1220 wh...</td>\n",
       "      <td>real</td>\n",
       "    </tr>\n",
       "    <tr>\n",
       "      <th>1901</th>\n",
       "      <td>Nokia distributing free phones to students ami...</td>\n",
       "      <td>fake</td>\n",
       "    </tr>\n",
       "    <tr>\n",
       "      <th>224</th>\n",
       "      <td>Two more grim milestones too: * Over 1000 peop...</td>\n",
       "      <td>real</td>\n",
       "    </tr>\n",
       "    <tr>\n",
       "      <th>2054</th>\n",
       "      <td>BREAKING: The number of people in the UK who h...</td>\n",
       "      <td>real</td>\n",
       "    </tr>\n",
       "    <tr>\n",
       "      <th>1755</th>\n",
       "      <td>From random @Facebook posts to renowned #yoga ...</td>\n",
       "      <td>fake</td>\n",
       "    </tr>\n",
       "    <tr>\n",
       "      <th>1450</th>\n",
       "      <td>#IndiaFightsCorona: Five states account for ap...</td>\n",
       "      <td>real</td>\n",
       "    </tr>\n",
       "    <tr>\n",
       "      <th>869</th>\n",
       "      <td>Everyone who has left managed isolation since ...</td>\n",
       "      <td>real</td>\n",
       "    </tr>\n",
       "    <tr>\n",
       "      <th>1787</th>\n",
       "      <td>#IndiaFightsCorona: The trend of very high num...</td>\n",
       "      <td>real</td>\n",
       "    </tr>\n",
       "    <tr>\n",
       "      <th>1410</th>\n",
       "      <td>@HSELive Know another answer? Vitamin D supple...</td>\n",
       "      <td>fake</td>\n",
       "    </tr>\n",
       "    <tr>\n",
       "      <th>1691</th>\n",
       "      <td>#IndiaFightsCorona 12 States/UTs have Recovery...</td>\n",
       "      <td>real</td>\n",
       "    </tr>\n",
       "  </tbody>\n",
       "</table>\n",
       "</div>"
      ],
      "text/plain": [
       "                                                  tweet label\n",
       "id                                                           \n",
       "1389  Our total number of confirmed cases is 1220 wh...  real\n",
       "1901  Nokia distributing free phones to students ami...  fake\n",
       "224   Two more grim milestones too: * Over 1000 peop...  real\n",
       "2054  BREAKING: The number of people in the UK who h...  real\n",
       "1755  From random @Facebook posts to renowned #yoga ...  fake\n",
       "1450  #IndiaFightsCorona: Five states account for ap...  real\n",
       "869   Everyone who has left managed isolation since ...  real\n",
       "1787  #IndiaFightsCorona: The trend of very high num...  real\n",
       "1410  @HSELive Know another answer? Vitamin D supple...  fake\n",
       "1691  #IndiaFightsCorona 12 States/UTs have Recovery...  real"
      ]
     },
     "execution_count": 18,
     "metadata": {},
     "output_type": "execute_result"
    }
   ],
   "source": [
    "test_data = pd.read_csv(\"./data/TestLabel.csv\", index_col=0)\n",
    "test_data.sample(10)"
   ]
  },
  {
   "cell_type": "code",
   "execution_count": 19,
   "id": "a319c9d0-d385-4e1e-a3c1-be407dfb9d64",
   "metadata": {},
   "outputs": [
    {
     "data": {
      "text/plain": [
       "array([[5.2270544e-04, 9.9947733e-01],\n",
       "       [9.9866402e-01, 1.3359586e-03],\n",
       "       [9.9991560e-01, 8.4336178e-05],\n",
       "       [1.0820793e-04, 9.9989176e-01],\n",
       "       [7.7760423e-04, 9.9922240e-01]], dtype=float32)"
      ]
     },
     "execution_count": 19,
     "metadata": {},
     "output_type": "execute_result"
    }
   ],
   "source": [
    "probs = predictor.predict_proba(test_data[\"tweet\"].values)\n",
    "probs[:5]"
   ]
  },
  {
   "cell_type": "code",
   "execution_count": 20,
   "id": "169052d4-d00b-473a-a4cb-4d30d9d383a4",
   "metadata": {},
   "outputs": [
    {
     "data": {
      "text/plain": [
       "id\n",
       "1     True\n",
       "2    False\n",
       "3    False\n",
       "4     True\n",
       "5     True\n",
       "Name: label, dtype: bool"
      ]
     },
     "execution_count": 20,
     "metadata": {},
     "output_type": "execute_result"
    }
   ],
   "source": [
    "y = (test_data.label == \"real\")\n",
    "y.head()"
   ]
  },
  {
   "cell_type": "code",
   "execution_count": 21,
   "id": "99f0de1c-1ef8-4c32-99d3-fcbbd9e97b8c",
   "metadata": {},
   "outputs": [],
   "source": [
    "import metrics as mmetrics"
   ]
  },
  {
   "cell_type": "code",
   "execution_count": 22,
   "id": "837e6430-da39-4f69-b298-d6a3f43fb348",
   "metadata": {},
   "outputs": [
    {
     "data": {
      "text/html": [
       "<div>\n",
       "<style scoped>\n",
       "    .dataframe tbody tr th:only-of-type {\n",
       "        vertical-align: middle;\n",
       "    }\n",
       "\n",
       "    .dataframe tbody tr th {\n",
       "        vertical-align: top;\n",
       "    }\n",
       "\n",
       "    .dataframe thead th {\n",
       "        text-align: right;\n",
       "    }\n",
       "</style>\n",
       "<table border=\"1\" class=\"dataframe\">\n",
       "  <thead>\n",
       "    <tr style=\"text-align: right;\">\n",
       "      <th></th>\n",
       "      <th>TP</th>\n",
       "      <th>TN</th>\n",
       "      <th>FP</th>\n",
       "      <th>FN</th>\n",
       "      <th>Accuracy</th>\n",
       "      <th>Prevalence</th>\n",
       "      <th>Sensitivity</th>\n",
       "      <th>Specificity</th>\n",
       "      <th>PPV</th>\n",
       "      <th>NPV</th>\n",
       "      <th>AUC</th>\n",
       "      <th>F1</th>\n",
       "      <th>Threshold</th>\n",
       "    </tr>\n",
       "    <tr>\n",
       "      <th></th>\n",
       "      <th></th>\n",
       "      <th></th>\n",
       "      <th></th>\n",
       "      <th></th>\n",
       "      <th></th>\n",
       "      <th></th>\n",
       "      <th></th>\n",
       "      <th></th>\n",
       "      <th></th>\n",
       "      <th></th>\n",
       "      <th></th>\n",
       "      <th></th>\n",
       "      <th></th>\n",
       "    </tr>\n",
       "  </thead>\n",
       "  <tbody>\n",
       "    <tr>\n",
       "      <th>bigru</th>\n",
       "      <td>1078</td>\n",
       "      <td>955</td>\n",
       "      <td>65</td>\n",
       "      <td>42</td>\n",
       "      <td>0.95</td>\n",
       "      <td>0.523</td>\n",
       "      <td>0.962</td>\n",
       "      <td>0.936</td>\n",
       "      <td>0.943</td>\n",
       "      <td>0.958</td>\n",
       "      <td>0.99</td>\n",
       "      <td>0.953</td>\n",
       "      <td>0.5</td>\n",
       "    </tr>\n",
       "  </tbody>\n",
       "</table>\n",
       "</div>"
      ],
      "text/plain": [
       "         TP   TN  FP  FN Accuracy Prevalence Sensitivity Specificity    PPV  \\\n",
       "                                                                              \n",
       "bigru  1078  955  65  42     0.95      0.523       0.962       0.936  0.943   \n",
       "\n",
       "         NPV   AUC     F1 Threshold  \n",
       "                                     \n",
       "bigru  0.958  0.99  0.953       0.5  "
      ]
     },
     "execution_count": 22,
     "metadata": {},
     "output_type": "execute_result"
    }
   ],
   "source": [
    "y = y.values.reshape((-1, 1))\n",
    "\n",
    "perfs = mmetrics.get_performance_metrics(y, probs[:, 1:], [\"bigru\"])\n",
    "perfs"
   ]
  },
  {
   "cell_type": "code",
   "execution_count": null,
   "id": "02a0aa4a-3e3e-4f64-b6ee-865611cc4068",
   "metadata": {},
   "outputs": [],
   "source": []
  }
 ],
 "metadata": {
  "kernelspec": {
   "display_name": "Python 3",
   "language": "python",
   "name": "python3"
  },
  "language_info": {
   "codemirror_mode": {
    "name": "ipython",
    "version": 3
   },
   "file_extension": ".py",
   "mimetype": "text/x-python",
   "name": "python",
   "nbconvert_exporter": "python",
   "pygments_lexer": "ipython3",
   "version": "3.8.8"
  }
 },
 "nbformat": 4,
 "nbformat_minor": 5
}
